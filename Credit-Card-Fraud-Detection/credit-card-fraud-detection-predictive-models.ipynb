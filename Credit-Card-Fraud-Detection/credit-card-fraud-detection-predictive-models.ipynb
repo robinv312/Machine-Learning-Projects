{
 "cells": [
  {
   "cell_type": "markdown",
   "metadata": {
    "_uuid": "9027e4b0f8ddc737e1b9560eba4a4d97ef9ffcc6"
   },
   "source": [
    "<h1><center><font size=\"6\">Credit Card Fraud Detection Predictive Models</font></center></h1>\n",
    "\n",
    "\n",
    "<img src=\"https://kaggle2.blob.core.windows.net/datasets-images/310/684/3503c6c827ca269cc00ffa66f2a9c207/dataset-card.jpg\" width=\"400\"></img>\n",
    "\n",
    "\n",
    "# <a id='0'>Content</a>\n",
    "\n",
    "- <a href='#1'>Introduction</a>  \n",
    "- <a href='#2'>Load packages</a>  \n",
    "- <a href='#3'>Read the data</a>  \n",
    "- <a href='#4'>Check the data</a>  \n",
    "    - <a href='#41'>Glimpse the data</a>  \n",
    "    - <a href='#42'>Check missing data</a>\n",
    "    - <a href='#43'>Check data unbalance</a>\n",
    "- <a href='#5'>Data exploration</a>\n",
    "- <a href='#6'>Predictive models</a>  \n",
    "    - <a href='#61'>RandomForrestClassifier</a> \n",
    "    - <a href='#62'>AdaBoostClassifier</a>     \n",
    "    - <a href='#63'>CatBoostClassifier</a> \n",
    "    - <a href='#64'>XGBoost</a> \n",
    "    - <a href='#65'>LightGBM</a> \n",
    "- <a href='#7'>Conclusions</a>\n",
    "- <a href='#8'>References</a>\n"
   ]
  },
  {
   "cell_type": "markdown",
   "metadata": {
    "_uuid": "0b64f006df02ccee229320fef8063dc5a2933c1a"
   },
   "source": [
    "# <a id=\"1\">Introduction</a>  \n",
    "\n",
    "The datasets contains transactions made by credit cards in **September 2013** by european cardholders. This dataset presents transactions that occurred in two days, where we have **492 frauds** out of **284,807 transactions**. The dataset is **highly unbalanced**, the **positive class (frauds)** account for **0.172%** of all transactions.  \n",
    "\n",
    "It contains only numerical input variables which are the result of a **PCA transformation**.   \n",
    "\n",
    "Due to confidentiality issues, there are not provided the original features and more background information about the data.  \n",
    "\n",
    "* Features **V1**, **V2**, ... **V28** are the **principal components** obtained with **PCA**;  \n",
    "* The only features which have not been transformed with PCA are **Time** and **Amount**. Feature **Time** contains the seconds elapsed between each transaction and the first transaction in the dataset. The feature **Amount** is the transaction Amount, this feature can be used for example-dependant cost-senstive learning.   \n",
    "* Feature **Class** is the response variable and it takes value **1** in case of fraud and **0** otherwise.  \n",
    "\n"
   ]
  },
  {
   "cell_type": "markdown",
   "metadata": {
    "_uuid": "e94b258fe0c91fd5bb76107c509fc896db021f2b"
   },
   "source": [
    "# <a id=\"2\">Load packages</a>"
   ]
  },
  {
   "cell_type": "code",
   "execution_count": 8,
   "metadata": {
    "_uuid": "0f34e1e378b762166698b0136c57048a45e7858c"
   },
   "outputs": [
    {
     "data": {
      "text/html": [
       "        <script type=\"text/javascript\">\n",
       "        window.PlotlyConfig = {MathJaxConfig: 'local'};\n",
       "        if (window.MathJax) {MathJax.Hub.Config({SVG: {font: \"STIX-Web\"}});}\n",
       "        if (typeof require !== 'undefined') {\n",
       "        require.undef(\"plotly\");\n",
       "        requirejs.config({\n",
       "            paths: {\n",
       "                'plotly': ['https://cdn.plot.ly/plotly-latest.min']\n",
       "            }\n",
       "        });\n",
       "        require(['plotly'], function(Plotly) {\n",
       "            window._Plotly = Plotly;\n",
       "        });\n",
       "        }\n",
       "        </script>\n",
       "        "
      ]
     },
     "metadata": {},
     "output_type": "display_data"
    }
   ],
   "source": [
    "import pandas as pd \n",
    "import numpy as np\n",
    "import matplotlib\n",
    "import matplotlib.pyplot as plt\n",
    "import seaborn as sns\n",
    "%matplotlib inline \n",
    "import plotly.graph_objs as go\n",
    "import plotly.figure_factory as ff\n",
    "from plotly import tools\n",
    "from plotly.offline import download_plotlyjs, init_notebook_mode, plot, iplot\n",
    "init_notebook_mode(connected=True)\n",
    "\n",
    "\n",
    "import gc\n",
    "from datetime import datetime \n",
    "from sklearn.model_selection import train_test_split\n",
    "from sklearn.model_selection import KFold\n",
    "from sklearn.metrics import roc_auc_score\n",
    "from sklearn.ensemble import RandomForestClassifier\n",
    "from sklearn.ensemble import AdaBoostClassifier\n",
    "#from catboost import CatBoostClassifier\n",
    "from sklearn import svm\n",
    "# import lightgbm as lgb\n",
    "# from lightgbm import LGBMClassifier\n",
    "# import xgboost as xgb\n",
    "\n",
    "pd.set_option('display.max_columns', 100)\n",
    "\n",
    "\n",
    "RFC_METRIC = 'gini'  #metric used for RandomForrestClassifier\n",
    "NUM_ESTIMATORS = 100 #number of estimators used for RandomForrestClassifier\n",
    "NO_JOBS = 4 #number of parallel jobs used for RandomForrestClassifier\n",
    "\n",
    "\n",
    "#TRAIN/VALIDATION/TEST SPLIT\n",
    "#VALIDATION\n",
    "VALID_SIZE = 0.20 # simple validation using train_test_split\n",
    "TEST_SIZE = 0.20 # test size using_train_test_split\n",
    "\n",
    "#CROSS-VALIDATION\n",
    "NUMBER_KFOLDS = 5 #number of KFolds for cross-validation\n",
    "\n",
    "\n",
    "\n",
    "RANDOM_STATE = 2018\n",
    "\n",
    "MAX_ROUNDS = 1000 #lgb iterations\n",
    "EARLY_STOP = 50 #lgb early stop \n",
    "OPT_ROUNDS = 1000  #To be adjusted based on best validation rounds\n",
    "VERBOSE_EVAL = 50 #Print out metric result\n",
    "\n",
    "IS_LOCAL = False\n",
    "\n"
   ]
  },
  {
   "cell_type": "markdown",
   "metadata": {
    "_uuid": "9eb142be459775c38046265e3b27ccbfd63ed0f6"
   },
   "source": [
    "# <a id=\"3\">Read the data</a>"
   ]
  },
  {
   "cell_type": "code",
   "execution_count": 9,
   "metadata": {
    "_uuid": "42e4a9f9b53f6d46cabd00b64a0e9f52b7abcd82"
   },
   "outputs": [],
   "source": [
    "data_df = pd.read_csv(r\"C:\\Users\\Robin\\Desktop\\Statistics\\creditcard.csv\")"
   ]
  },
  {
   "cell_type": "markdown",
   "metadata": {
    "_uuid": "0148d5c242773fbe8a10ae54873b6e59b083398e"
   },
   "source": [
    "# <a id=\"4\">Check the data</a>"
   ]
  },
  {
   "cell_type": "code",
   "execution_count": 10,
   "metadata": {
    "_uuid": "ed93a290bcf10bcf817dc9489a308d489c0cfd40"
   },
   "outputs": [
    {
     "name": "stdout",
     "output_type": "stream",
     "text": [
      "Credit Card Fraud Detection data -  rows: 284807  columns: 31\n"
     ]
    }
   ],
   "source": [
    "print(\"Credit Card Fraud Detection data -  rows:\",data_df.shape[0],\" columns:\", data_df.shape[1])"
   ]
  },
  {
   "cell_type": "markdown",
   "metadata": {
    "_uuid": "91c1d7ca1b2e1a15d2dd83c3478df667d6ba6ace"
   },
   "source": [
    "## <a id=\"41\">Glimpse the data</a>\n",
    "\n",
    "We start by looking to the data features (first 5 rows)."
   ]
  },
  {
   "cell_type": "code",
   "execution_count": 7,
   "metadata": {
    "_uuid": "c426639fdeb77bea60513724c6c438a5e8a02f8a"
   },
   "outputs": [
    {
     "data": {
      "text/html": [
       "<div>\n",
       "<style scoped>\n",
       "    .dataframe tbody tr th:only-of-type {\n",
       "        vertical-align: middle;\n",
       "    }\n",
       "\n",
       "    .dataframe tbody tr th {\n",
       "        vertical-align: top;\n",
       "    }\n",
       "\n",
       "    .dataframe thead th {\n",
       "        text-align: right;\n",
       "    }\n",
       "</style>\n",
       "<table border=\"1\" class=\"dataframe\">\n",
       "  <thead>\n",
       "    <tr style=\"text-align: right;\">\n",
       "      <th></th>\n",
       "      <th>Time</th>\n",
       "      <th>V1</th>\n",
       "      <th>V2</th>\n",
       "      <th>V3</th>\n",
       "      <th>V4</th>\n",
       "      <th>V5</th>\n",
       "      <th>V6</th>\n",
       "      <th>V7</th>\n",
       "      <th>V8</th>\n",
       "      <th>V9</th>\n",
       "      <th>V10</th>\n",
       "      <th>V11</th>\n",
       "      <th>V12</th>\n",
       "      <th>V13</th>\n",
       "      <th>V14</th>\n",
       "      <th>V15</th>\n",
       "      <th>V16</th>\n",
       "      <th>V17</th>\n",
       "      <th>V18</th>\n",
       "      <th>V19</th>\n",
       "      <th>V20</th>\n",
       "      <th>V21</th>\n",
       "      <th>V22</th>\n",
       "      <th>V23</th>\n",
       "      <th>V24</th>\n",
       "      <th>V25</th>\n",
       "      <th>V26</th>\n",
       "      <th>V27</th>\n",
       "      <th>V28</th>\n",
       "      <th>Amount</th>\n",
       "      <th>Class</th>\n",
       "    </tr>\n",
       "  </thead>\n",
       "  <tbody>\n",
       "    <tr>\n",
       "      <th>0</th>\n",
       "      <td>0.0</td>\n",
       "      <td>-1.359807</td>\n",
       "      <td>-0.072781</td>\n",
       "      <td>2.536347</td>\n",
       "      <td>1.378155</td>\n",
       "      <td>-0.338321</td>\n",
       "      <td>0.462388</td>\n",
       "      <td>0.239599</td>\n",
       "      <td>0.098698</td>\n",
       "      <td>0.363787</td>\n",
       "      <td>0.090794</td>\n",
       "      <td>-0.551600</td>\n",
       "      <td>-0.617801</td>\n",
       "      <td>-0.991390</td>\n",
       "      <td>-0.311169</td>\n",
       "      <td>1.468177</td>\n",
       "      <td>-0.470401</td>\n",
       "      <td>0.207971</td>\n",
       "      <td>0.025791</td>\n",
       "      <td>0.403993</td>\n",
       "      <td>0.251412</td>\n",
       "      <td>-0.018307</td>\n",
       "      <td>0.277838</td>\n",
       "      <td>-0.110474</td>\n",
       "      <td>0.066928</td>\n",
       "      <td>0.128539</td>\n",
       "      <td>-0.189115</td>\n",
       "      <td>0.133558</td>\n",
       "      <td>-0.021053</td>\n",
       "      <td>149.62</td>\n",
       "      <td>0</td>\n",
       "    </tr>\n",
       "    <tr>\n",
       "      <th>1</th>\n",
       "      <td>0.0</td>\n",
       "      <td>1.191857</td>\n",
       "      <td>0.266151</td>\n",
       "      <td>0.166480</td>\n",
       "      <td>0.448154</td>\n",
       "      <td>0.060018</td>\n",
       "      <td>-0.082361</td>\n",
       "      <td>-0.078803</td>\n",
       "      <td>0.085102</td>\n",
       "      <td>-0.255425</td>\n",
       "      <td>-0.166974</td>\n",
       "      <td>1.612727</td>\n",
       "      <td>1.065235</td>\n",
       "      <td>0.489095</td>\n",
       "      <td>-0.143772</td>\n",
       "      <td>0.635558</td>\n",
       "      <td>0.463917</td>\n",
       "      <td>-0.114805</td>\n",
       "      <td>-0.183361</td>\n",
       "      <td>-0.145783</td>\n",
       "      <td>-0.069083</td>\n",
       "      <td>-0.225775</td>\n",
       "      <td>-0.638672</td>\n",
       "      <td>0.101288</td>\n",
       "      <td>-0.339846</td>\n",
       "      <td>0.167170</td>\n",
       "      <td>0.125895</td>\n",
       "      <td>-0.008983</td>\n",
       "      <td>0.014724</td>\n",
       "      <td>2.69</td>\n",
       "      <td>0</td>\n",
       "    </tr>\n",
       "    <tr>\n",
       "      <th>2</th>\n",
       "      <td>1.0</td>\n",
       "      <td>-1.358354</td>\n",
       "      <td>-1.340163</td>\n",
       "      <td>1.773209</td>\n",
       "      <td>0.379780</td>\n",
       "      <td>-0.503198</td>\n",
       "      <td>1.800499</td>\n",
       "      <td>0.791461</td>\n",
       "      <td>0.247676</td>\n",
       "      <td>-1.514654</td>\n",
       "      <td>0.207643</td>\n",
       "      <td>0.624501</td>\n",
       "      <td>0.066084</td>\n",
       "      <td>0.717293</td>\n",
       "      <td>-0.165946</td>\n",
       "      <td>2.345865</td>\n",
       "      <td>-2.890083</td>\n",
       "      <td>1.109969</td>\n",
       "      <td>-0.121359</td>\n",
       "      <td>-2.261857</td>\n",
       "      <td>0.524980</td>\n",
       "      <td>0.247998</td>\n",
       "      <td>0.771679</td>\n",
       "      <td>0.909412</td>\n",
       "      <td>-0.689281</td>\n",
       "      <td>-0.327642</td>\n",
       "      <td>-0.139097</td>\n",
       "      <td>-0.055353</td>\n",
       "      <td>-0.059752</td>\n",
       "      <td>378.66</td>\n",
       "      <td>0</td>\n",
       "    </tr>\n",
       "    <tr>\n",
       "      <th>3</th>\n",
       "      <td>1.0</td>\n",
       "      <td>-0.966272</td>\n",
       "      <td>-0.185226</td>\n",
       "      <td>1.792993</td>\n",
       "      <td>-0.863291</td>\n",
       "      <td>-0.010309</td>\n",
       "      <td>1.247203</td>\n",
       "      <td>0.237609</td>\n",
       "      <td>0.377436</td>\n",
       "      <td>-1.387024</td>\n",
       "      <td>-0.054952</td>\n",
       "      <td>-0.226487</td>\n",
       "      <td>0.178228</td>\n",
       "      <td>0.507757</td>\n",
       "      <td>-0.287924</td>\n",
       "      <td>-0.631418</td>\n",
       "      <td>-1.059647</td>\n",
       "      <td>-0.684093</td>\n",
       "      <td>1.965775</td>\n",
       "      <td>-1.232622</td>\n",
       "      <td>-0.208038</td>\n",
       "      <td>-0.108300</td>\n",
       "      <td>0.005274</td>\n",
       "      <td>-0.190321</td>\n",
       "      <td>-1.175575</td>\n",
       "      <td>0.647376</td>\n",
       "      <td>-0.221929</td>\n",
       "      <td>0.062723</td>\n",
       "      <td>0.061458</td>\n",
       "      <td>123.50</td>\n",
       "      <td>0</td>\n",
       "    </tr>\n",
       "    <tr>\n",
       "      <th>4</th>\n",
       "      <td>2.0</td>\n",
       "      <td>-1.158233</td>\n",
       "      <td>0.877737</td>\n",
       "      <td>1.548718</td>\n",
       "      <td>0.403034</td>\n",
       "      <td>-0.407193</td>\n",
       "      <td>0.095921</td>\n",
       "      <td>0.592941</td>\n",
       "      <td>-0.270533</td>\n",
       "      <td>0.817739</td>\n",
       "      <td>0.753074</td>\n",
       "      <td>-0.822843</td>\n",
       "      <td>0.538196</td>\n",
       "      <td>1.345852</td>\n",
       "      <td>-1.119670</td>\n",
       "      <td>0.175121</td>\n",
       "      <td>-0.451449</td>\n",
       "      <td>-0.237033</td>\n",
       "      <td>-0.038195</td>\n",
       "      <td>0.803487</td>\n",
       "      <td>0.408542</td>\n",
       "      <td>-0.009431</td>\n",
       "      <td>0.798278</td>\n",
       "      <td>-0.137458</td>\n",
       "      <td>0.141267</td>\n",
       "      <td>-0.206010</td>\n",
       "      <td>0.502292</td>\n",
       "      <td>0.219422</td>\n",
       "      <td>0.215153</td>\n",
       "      <td>69.99</td>\n",
       "      <td>0</td>\n",
       "    </tr>\n",
       "  </tbody>\n",
       "</table>\n",
       "</div>"
      ],
      "text/plain": [
       "   Time        V1        V2        V3        V4        V5        V6        V7  \\\n",
       "0   0.0 -1.359807 -0.072781  2.536347  1.378155 -0.338321  0.462388  0.239599   \n",
       "1   0.0  1.191857  0.266151  0.166480  0.448154  0.060018 -0.082361 -0.078803   \n",
       "2   1.0 -1.358354 -1.340163  1.773209  0.379780 -0.503198  1.800499  0.791461   \n",
       "3   1.0 -0.966272 -0.185226  1.792993 -0.863291 -0.010309  1.247203  0.237609   \n",
       "4   2.0 -1.158233  0.877737  1.548718  0.403034 -0.407193  0.095921  0.592941   \n",
       "\n",
       "         V8        V9       V10       V11       V12       V13       V14  \\\n",
       "0  0.098698  0.363787  0.090794 -0.551600 -0.617801 -0.991390 -0.311169   \n",
       "1  0.085102 -0.255425 -0.166974  1.612727  1.065235  0.489095 -0.143772   \n",
       "2  0.247676 -1.514654  0.207643  0.624501  0.066084  0.717293 -0.165946   \n",
       "3  0.377436 -1.387024 -0.054952 -0.226487  0.178228  0.507757 -0.287924   \n",
       "4 -0.270533  0.817739  0.753074 -0.822843  0.538196  1.345852 -1.119670   \n",
       "\n",
       "        V15       V16       V17       V18       V19       V20       V21  \\\n",
       "0  1.468177 -0.470401  0.207971  0.025791  0.403993  0.251412 -0.018307   \n",
       "1  0.635558  0.463917 -0.114805 -0.183361 -0.145783 -0.069083 -0.225775   \n",
       "2  2.345865 -2.890083  1.109969 -0.121359 -2.261857  0.524980  0.247998   \n",
       "3 -0.631418 -1.059647 -0.684093  1.965775 -1.232622 -0.208038 -0.108300   \n",
       "4  0.175121 -0.451449 -0.237033 -0.038195  0.803487  0.408542 -0.009431   \n",
       "\n",
       "        V22       V23       V24       V25       V26       V27       V28  \\\n",
       "0  0.277838 -0.110474  0.066928  0.128539 -0.189115  0.133558 -0.021053   \n",
       "1 -0.638672  0.101288 -0.339846  0.167170  0.125895 -0.008983  0.014724   \n",
       "2  0.771679  0.909412 -0.689281 -0.327642 -0.139097 -0.055353 -0.059752   \n",
       "3  0.005274 -0.190321 -1.175575  0.647376 -0.221929  0.062723  0.061458   \n",
       "4  0.798278 -0.137458  0.141267 -0.206010  0.502292  0.219422  0.215153   \n",
       "\n",
       "   Amount  Class  \n",
       "0  149.62      0  \n",
       "1    2.69      0  \n",
       "2  378.66      0  \n",
       "3  123.50      0  \n",
       "4   69.99      0  "
      ]
     },
     "execution_count": 7,
     "metadata": {},
     "output_type": "execute_result"
    }
   ],
   "source": [
    "data_df.head()"
   ]
  },
  {
   "cell_type": "markdown",
   "metadata": {
    "_uuid": "df10bc43389fb9e8159150a566bd52abd0dd2839"
   },
   "source": [
    "Let's look into more details to the data."
   ]
  },
  {
   "cell_type": "code",
   "execution_count": 11,
   "metadata": {
    "_uuid": "8705f721907820bfc8c720f2f5ac5e0f9f28fa42"
   },
   "outputs": [
    {
     "data": {
      "text/html": [
       "<div>\n",
       "<style scoped>\n",
       "    .dataframe tbody tr th:only-of-type {\n",
       "        vertical-align: middle;\n",
       "    }\n",
       "\n",
       "    .dataframe tbody tr th {\n",
       "        vertical-align: top;\n",
       "    }\n",
       "\n",
       "    .dataframe thead th {\n",
       "        text-align: right;\n",
       "    }\n",
       "</style>\n",
       "<table border=\"1\" class=\"dataframe\">\n",
       "  <thead>\n",
       "    <tr style=\"text-align: right;\">\n",
       "      <th></th>\n",
       "      <th>Time</th>\n",
       "      <th>V1</th>\n",
       "      <th>V2</th>\n",
       "      <th>V3</th>\n",
       "      <th>V4</th>\n",
       "      <th>V5</th>\n",
       "      <th>V6</th>\n",
       "      <th>V7</th>\n",
       "      <th>V8</th>\n",
       "      <th>V9</th>\n",
       "      <th>V10</th>\n",
       "      <th>V11</th>\n",
       "      <th>V12</th>\n",
       "      <th>V13</th>\n",
       "      <th>V14</th>\n",
       "      <th>V15</th>\n",
       "      <th>V16</th>\n",
       "      <th>V17</th>\n",
       "      <th>V18</th>\n",
       "      <th>V19</th>\n",
       "      <th>V20</th>\n",
       "      <th>V21</th>\n",
       "      <th>V22</th>\n",
       "      <th>V23</th>\n",
       "      <th>V24</th>\n",
       "      <th>V25</th>\n",
       "      <th>V26</th>\n",
       "      <th>V27</th>\n",
       "      <th>V28</th>\n",
       "      <th>Amount</th>\n",
       "      <th>Class</th>\n",
       "    </tr>\n",
       "  </thead>\n",
       "  <tbody>\n",
       "    <tr>\n",
       "      <th>count</th>\n",
       "      <td>284807.000000</td>\n",
       "      <td>2.848070e+05</td>\n",
       "      <td>2.848070e+05</td>\n",
       "      <td>2.848070e+05</td>\n",
       "      <td>2.848070e+05</td>\n",
       "      <td>2.848070e+05</td>\n",
       "      <td>2.848070e+05</td>\n",
       "      <td>2.848070e+05</td>\n",
       "      <td>2.848070e+05</td>\n",
       "      <td>2.848070e+05</td>\n",
       "      <td>2.848070e+05</td>\n",
       "      <td>2.848070e+05</td>\n",
       "      <td>2.848070e+05</td>\n",
       "      <td>2.848070e+05</td>\n",
       "      <td>2.848070e+05</td>\n",
       "      <td>2.848070e+05</td>\n",
       "      <td>2.848070e+05</td>\n",
       "      <td>2.848070e+05</td>\n",
       "      <td>2.848070e+05</td>\n",
       "      <td>2.848070e+05</td>\n",
       "      <td>2.848070e+05</td>\n",
       "      <td>2.848070e+05</td>\n",
       "      <td>2.848070e+05</td>\n",
       "      <td>2.848070e+05</td>\n",
       "      <td>2.848070e+05</td>\n",
       "      <td>2.848070e+05</td>\n",
       "      <td>2.848070e+05</td>\n",
       "      <td>2.848070e+05</td>\n",
       "      <td>2.848070e+05</td>\n",
       "      <td>284807.000000</td>\n",
       "      <td>284807.000000</td>\n",
       "    </tr>\n",
       "    <tr>\n",
       "      <th>mean</th>\n",
       "      <td>94813.859575</td>\n",
       "      <td>1.165980e-15</td>\n",
       "      <td>3.416908e-16</td>\n",
       "      <td>-1.373150e-15</td>\n",
       "      <td>2.086869e-15</td>\n",
       "      <td>9.604066e-16</td>\n",
       "      <td>1.490107e-15</td>\n",
       "      <td>-5.556467e-16</td>\n",
       "      <td>1.177556e-16</td>\n",
       "      <td>-2.406455e-15</td>\n",
       "      <td>2.239751e-15</td>\n",
       "      <td>1.673327e-15</td>\n",
       "      <td>-1.254995e-15</td>\n",
       "      <td>8.176030e-16</td>\n",
       "      <td>1.206296e-15</td>\n",
       "      <td>4.913003e-15</td>\n",
       "      <td>1.437666e-15</td>\n",
       "      <td>-3.800113e-16</td>\n",
       "      <td>9.572133e-16</td>\n",
       "      <td>1.039817e-15</td>\n",
       "      <td>6.406703e-16</td>\n",
       "      <td>1.656562e-16</td>\n",
       "      <td>-3.444850e-16</td>\n",
       "      <td>2.578648e-16</td>\n",
       "      <td>4.471968e-15</td>\n",
       "      <td>5.340915e-16</td>\n",
       "      <td>1.687098e-15</td>\n",
       "      <td>-3.666453e-16</td>\n",
       "      <td>-1.220404e-16</td>\n",
       "      <td>88.349619</td>\n",
       "      <td>0.001727</td>\n",
       "    </tr>\n",
       "    <tr>\n",
       "      <th>std</th>\n",
       "      <td>47488.145955</td>\n",
       "      <td>1.958696e+00</td>\n",
       "      <td>1.651309e+00</td>\n",
       "      <td>1.516255e+00</td>\n",
       "      <td>1.415869e+00</td>\n",
       "      <td>1.380247e+00</td>\n",
       "      <td>1.332271e+00</td>\n",
       "      <td>1.237094e+00</td>\n",
       "      <td>1.194353e+00</td>\n",
       "      <td>1.098632e+00</td>\n",
       "      <td>1.088850e+00</td>\n",
       "      <td>1.020713e+00</td>\n",
       "      <td>9.992014e-01</td>\n",
       "      <td>9.952742e-01</td>\n",
       "      <td>9.585956e-01</td>\n",
       "      <td>9.153160e-01</td>\n",
       "      <td>8.762529e-01</td>\n",
       "      <td>8.493371e-01</td>\n",
       "      <td>8.381762e-01</td>\n",
       "      <td>8.140405e-01</td>\n",
       "      <td>7.709250e-01</td>\n",
       "      <td>7.345240e-01</td>\n",
       "      <td>7.257016e-01</td>\n",
       "      <td>6.244603e-01</td>\n",
       "      <td>6.056471e-01</td>\n",
       "      <td>5.212781e-01</td>\n",
       "      <td>4.822270e-01</td>\n",
       "      <td>4.036325e-01</td>\n",
       "      <td>3.300833e-01</td>\n",
       "      <td>250.120109</td>\n",
       "      <td>0.041527</td>\n",
       "    </tr>\n",
       "    <tr>\n",
       "      <th>min</th>\n",
       "      <td>0.000000</td>\n",
       "      <td>-5.640751e+01</td>\n",
       "      <td>-7.271573e+01</td>\n",
       "      <td>-4.832559e+01</td>\n",
       "      <td>-5.683171e+00</td>\n",
       "      <td>-1.137433e+02</td>\n",
       "      <td>-2.616051e+01</td>\n",
       "      <td>-4.355724e+01</td>\n",
       "      <td>-7.321672e+01</td>\n",
       "      <td>-1.343407e+01</td>\n",
       "      <td>-2.458826e+01</td>\n",
       "      <td>-4.797473e+00</td>\n",
       "      <td>-1.868371e+01</td>\n",
       "      <td>-5.791881e+00</td>\n",
       "      <td>-1.921433e+01</td>\n",
       "      <td>-4.498945e+00</td>\n",
       "      <td>-1.412985e+01</td>\n",
       "      <td>-2.516280e+01</td>\n",
       "      <td>-9.498746e+00</td>\n",
       "      <td>-7.213527e+00</td>\n",
       "      <td>-5.449772e+01</td>\n",
       "      <td>-3.483038e+01</td>\n",
       "      <td>-1.093314e+01</td>\n",
       "      <td>-4.480774e+01</td>\n",
       "      <td>-2.836627e+00</td>\n",
       "      <td>-1.029540e+01</td>\n",
       "      <td>-2.604551e+00</td>\n",
       "      <td>-2.256568e+01</td>\n",
       "      <td>-1.543008e+01</td>\n",
       "      <td>0.000000</td>\n",
       "      <td>0.000000</td>\n",
       "    </tr>\n",
       "    <tr>\n",
       "      <th>25%</th>\n",
       "      <td>54201.500000</td>\n",
       "      <td>-9.203734e-01</td>\n",
       "      <td>-5.985499e-01</td>\n",
       "      <td>-8.903648e-01</td>\n",
       "      <td>-8.486401e-01</td>\n",
       "      <td>-6.915971e-01</td>\n",
       "      <td>-7.682956e-01</td>\n",
       "      <td>-5.540759e-01</td>\n",
       "      <td>-2.086297e-01</td>\n",
       "      <td>-6.430976e-01</td>\n",
       "      <td>-5.354257e-01</td>\n",
       "      <td>-7.624942e-01</td>\n",
       "      <td>-4.055715e-01</td>\n",
       "      <td>-6.485393e-01</td>\n",
       "      <td>-4.255740e-01</td>\n",
       "      <td>-5.828843e-01</td>\n",
       "      <td>-4.680368e-01</td>\n",
       "      <td>-4.837483e-01</td>\n",
       "      <td>-4.988498e-01</td>\n",
       "      <td>-4.562989e-01</td>\n",
       "      <td>-2.117214e-01</td>\n",
       "      <td>-2.283949e-01</td>\n",
       "      <td>-5.423504e-01</td>\n",
       "      <td>-1.618463e-01</td>\n",
       "      <td>-3.545861e-01</td>\n",
       "      <td>-3.171451e-01</td>\n",
       "      <td>-3.269839e-01</td>\n",
       "      <td>-7.083953e-02</td>\n",
       "      <td>-5.295979e-02</td>\n",
       "      <td>5.600000</td>\n",
       "      <td>0.000000</td>\n",
       "    </tr>\n",
       "    <tr>\n",
       "      <th>50%</th>\n",
       "      <td>84692.000000</td>\n",
       "      <td>1.810880e-02</td>\n",
       "      <td>6.548556e-02</td>\n",
       "      <td>1.798463e-01</td>\n",
       "      <td>-1.984653e-02</td>\n",
       "      <td>-5.433583e-02</td>\n",
       "      <td>-2.741871e-01</td>\n",
       "      <td>4.010308e-02</td>\n",
       "      <td>2.235804e-02</td>\n",
       "      <td>-5.142873e-02</td>\n",
       "      <td>-9.291738e-02</td>\n",
       "      <td>-3.275735e-02</td>\n",
       "      <td>1.400326e-01</td>\n",
       "      <td>-1.356806e-02</td>\n",
       "      <td>5.060132e-02</td>\n",
       "      <td>4.807155e-02</td>\n",
       "      <td>6.641332e-02</td>\n",
       "      <td>-6.567575e-02</td>\n",
       "      <td>-3.636312e-03</td>\n",
       "      <td>3.734823e-03</td>\n",
       "      <td>-6.248109e-02</td>\n",
       "      <td>-2.945017e-02</td>\n",
       "      <td>6.781943e-03</td>\n",
       "      <td>-1.119293e-02</td>\n",
       "      <td>4.097606e-02</td>\n",
       "      <td>1.659350e-02</td>\n",
       "      <td>-5.213911e-02</td>\n",
       "      <td>1.342146e-03</td>\n",
       "      <td>1.124383e-02</td>\n",
       "      <td>22.000000</td>\n",
       "      <td>0.000000</td>\n",
       "    </tr>\n",
       "    <tr>\n",
       "      <th>75%</th>\n",
       "      <td>139320.500000</td>\n",
       "      <td>1.315642e+00</td>\n",
       "      <td>8.037239e-01</td>\n",
       "      <td>1.027196e+00</td>\n",
       "      <td>7.433413e-01</td>\n",
       "      <td>6.119264e-01</td>\n",
       "      <td>3.985649e-01</td>\n",
       "      <td>5.704361e-01</td>\n",
       "      <td>3.273459e-01</td>\n",
       "      <td>5.971390e-01</td>\n",
       "      <td>4.539234e-01</td>\n",
       "      <td>7.395934e-01</td>\n",
       "      <td>6.182380e-01</td>\n",
       "      <td>6.625050e-01</td>\n",
       "      <td>4.931498e-01</td>\n",
       "      <td>6.488208e-01</td>\n",
       "      <td>5.232963e-01</td>\n",
       "      <td>3.996750e-01</td>\n",
       "      <td>5.008067e-01</td>\n",
       "      <td>4.589494e-01</td>\n",
       "      <td>1.330408e-01</td>\n",
       "      <td>1.863772e-01</td>\n",
       "      <td>5.285536e-01</td>\n",
       "      <td>1.476421e-01</td>\n",
       "      <td>4.395266e-01</td>\n",
       "      <td>3.507156e-01</td>\n",
       "      <td>2.409522e-01</td>\n",
       "      <td>9.104512e-02</td>\n",
       "      <td>7.827995e-02</td>\n",
       "      <td>77.165000</td>\n",
       "      <td>0.000000</td>\n",
       "    </tr>\n",
       "    <tr>\n",
       "      <th>max</th>\n",
       "      <td>172792.000000</td>\n",
       "      <td>2.454930e+00</td>\n",
       "      <td>2.205773e+01</td>\n",
       "      <td>9.382558e+00</td>\n",
       "      <td>1.687534e+01</td>\n",
       "      <td>3.480167e+01</td>\n",
       "      <td>7.330163e+01</td>\n",
       "      <td>1.205895e+02</td>\n",
       "      <td>2.000721e+01</td>\n",
       "      <td>1.559499e+01</td>\n",
       "      <td>2.374514e+01</td>\n",
       "      <td>1.201891e+01</td>\n",
       "      <td>7.848392e+00</td>\n",
       "      <td>7.126883e+00</td>\n",
       "      <td>1.052677e+01</td>\n",
       "      <td>8.877742e+00</td>\n",
       "      <td>1.731511e+01</td>\n",
       "      <td>9.253526e+00</td>\n",
       "      <td>5.041069e+00</td>\n",
       "      <td>5.591971e+00</td>\n",
       "      <td>3.942090e+01</td>\n",
       "      <td>2.720284e+01</td>\n",
       "      <td>1.050309e+01</td>\n",
       "      <td>2.252841e+01</td>\n",
       "      <td>4.584549e+00</td>\n",
       "      <td>7.519589e+00</td>\n",
       "      <td>3.517346e+00</td>\n",
       "      <td>3.161220e+01</td>\n",
       "      <td>3.384781e+01</td>\n",
       "      <td>25691.160000</td>\n",
       "      <td>1.000000</td>\n",
       "    </tr>\n",
       "  </tbody>\n",
       "</table>\n",
       "</div>"
      ],
      "text/plain": [
       "                Time            V1            V2            V3            V4  \\\n",
       "count  284807.000000  2.848070e+05  2.848070e+05  2.848070e+05  2.848070e+05   \n",
       "mean    94813.859575  1.165980e-15  3.416908e-16 -1.373150e-15  2.086869e-15   \n",
       "std     47488.145955  1.958696e+00  1.651309e+00  1.516255e+00  1.415869e+00   \n",
       "min         0.000000 -5.640751e+01 -7.271573e+01 -4.832559e+01 -5.683171e+00   \n",
       "25%     54201.500000 -9.203734e-01 -5.985499e-01 -8.903648e-01 -8.486401e-01   \n",
       "50%     84692.000000  1.810880e-02  6.548556e-02  1.798463e-01 -1.984653e-02   \n",
       "75%    139320.500000  1.315642e+00  8.037239e-01  1.027196e+00  7.433413e-01   \n",
       "max    172792.000000  2.454930e+00  2.205773e+01  9.382558e+00  1.687534e+01   \n",
       "\n",
       "                 V5            V6            V7            V8            V9  \\\n",
       "count  2.848070e+05  2.848070e+05  2.848070e+05  2.848070e+05  2.848070e+05   \n",
       "mean   9.604066e-16  1.490107e-15 -5.556467e-16  1.177556e-16 -2.406455e-15   \n",
       "std    1.380247e+00  1.332271e+00  1.237094e+00  1.194353e+00  1.098632e+00   \n",
       "min   -1.137433e+02 -2.616051e+01 -4.355724e+01 -7.321672e+01 -1.343407e+01   \n",
       "25%   -6.915971e-01 -7.682956e-01 -5.540759e-01 -2.086297e-01 -6.430976e-01   \n",
       "50%   -5.433583e-02 -2.741871e-01  4.010308e-02  2.235804e-02 -5.142873e-02   \n",
       "75%    6.119264e-01  3.985649e-01  5.704361e-01  3.273459e-01  5.971390e-01   \n",
       "max    3.480167e+01  7.330163e+01  1.205895e+02  2.000721e+01  1.559499e+01   \n",
       "\n",
       "                V10           V11           V12           V13           V14  \\\n",
       "count  2.848070e+05  2.848070e+05  2.848070e+05  2.848070e+05  2.848070e+05   \n",
       "mean   2.239751e-15  1.673327e-15 -1.254995e-15  8.176030e-16  1.206296e-15   \n",
       "std    1.088850e+00  1.020713e+00  9.992014e-01  9.952742e-01  9.585956e-01   \n",
       "min   -2.458826e+01 -4.797473e+00 -1.868371e+01 -5.791881e+00 -1.921433e+01   \n",
       "25%   -5.354257e-01 -7.624942e-01 -4.055715e-01 -6.485393e-01 -4.255740e-01   \n",
       "50%   -9.291738e-02 -3.275735e-02  1.400326e-01 -1.356806e-02  5.060132e-02   \n",
       "75%    4.539234e-01  7.395934e-01  6.182380e-01  6.625050e-01  4.931498e-01   \n",
       "max    2.374514e+01  1.201891e+01  7.848392e+00  7.126883e+00  1.052677e+01   \n",
       "\n",
       "                V15           V16           V17           V18           V19  \\\n",
       "count  2.848070e+05  2.848070e+05  2.848070e+05  2.848070e+05  2.848070e+05   \n",
       "mean   4.913003e-15  1.437666e-15 -3.800113e-16  9.572133e-16  1.039817e-15   \n",
       "std    9.153160e-01  8.762529e-01  8.493371e-01  8.381762e-01  8.140405e-01   \n",
       "min   -4.498945e+00 -1.412985e+01 -2.516280e+01 -9.498746e+00 -7.213527e+00   \n",
       "25%   -5.828843e-01 -4.680368e-01 -4.837483e-01 -4.988498e-01 -4.562989e-01   \n",
       "50%    4.807155e-02  6.641332e-02 -6.567575e-02 -3.636312e-03  3.734823e-03   \n",
       "75%    6.488208e-01  5.232963e-01  3.996750e-01  5.008067e-01  4.589494e-01   \n",
       "max    8.877742e+00  1.731511e+01  9.253526e+00  5.041069e+00  5.591971e+00   \n",
       "\n",
       "                V20           V21           V22           V23           V24  \\\n",
       "count  2.848070e+05  2.848070e+05  2.848070e+05  2.848070e+05  2.848070e+05   \n",
       "mean   6.406703e-16  1.656562e-16 -3.444850e-16  2.578648e-16  4.471968e-15   \n",
       "std    7.709250e-01  7.345240e-01  7.257016e-01  6.244603e-01  6.056471e-01   \n",
       "min   -5.449772e+01 -3.483038e+01 -1.093314e+01 -4.480774e+01 -2.836627e+00   \n",
       "25%   -2.117214e-01 -2.283949e-01 -5.423504e-01 -1.618463e-01 -3.545861e-01   \n",
       "50%   -6.248109e-02 -2.945017e-02  6.781943e-03 -1.119293e-02  4.097606e-02   \n",
       "75%    1.330408e-01  1.863772e-01  5.285536e-01  1.476421e-01  4.395266e-01   \n",
       "max    3.942090e+01  2.720284e+01  1.050309e+01  2.252841e+01  4.584549e+00   \n",
       "\n",
       "                V25           V26           V27           V28         Amount  \\\n",
       "count  2.848070e+05  2.848070e+05  2.848070e+05  2.848070e+05  284807.000000   \n",
       "mean   5.340915e-16  1.687098e-15 -3.666453e-16 -1.220404e-16      88.349619   \n",
       "std    5.212781e-01  4.822270e-01  4.036325e-01  3.300833e-01     250.120109   \n",
       "min   -1.029540e+01 -2.604551e+00 -2.256568e+01 -1.543008e+01       0.000000   \n",
       "25%   -3.171451e-01 -3.269839e-01 -7.083953e-02 -5.295979e-02       5.600000   \n",
       "50%    1.659350e-02 -5.213911e-02  1.342146e-03  1.124383e-02      22.000000   \n",
       "75%    3.507156e-01  2.409522e-01  9.104512e-02  7.827995e-02      77.165000   \n",
       "max    7.519589e+00  3.517346e+00  3.161220e+01  3.384781e+01   25691.160000   \n",
       "\n",
       "               Class  \n",
       "count  284807.000000  \n",
       "mean        0.001727  \n",
       "std         0.041527  \n",
       "min         0.000000  \n",
       "25%         0.000000  \n",
       "50%         0.000000  \n",
       "75%         0.000000  \n",
       "max         1.000000  "
      ]
     },
     "execution_count": 11,
     "metadata": {},
     "output_type": "execute_result"
    }
   ],
   "source": [
    "data_df.describe()"
   ]
  },
  {
   "cell_type": "markdown",
   "metadata": {
    "_uuid": "bf88e4180834a1bf7e76a583328094926fade824"
   },
   "source": [
    "Looking to the **Time** feature, we can confirm that the data contains **284,807** transactions, during 2 consecutive days (or **172792** seconds)."
   ]
  },
  {
   "cell_type": "markdown",
   "metadata": {
    "_uuid": "39299ca7dc0324113fcd854530cbe7a945cc94bb"
   },
   "source": [
    "## <a id=\"42\">Check missing data</a>  \n",
    "\n",
    "Let's check if there is any missing data."
   ]
  },
  {
   "cell_type": "code",
   "execution_count": 19,
   "metadata": {
    "_uuid": "51940c5cfb59bb4720d70157c310a339ce483eb6"
   },
   "outputs": [
    {
     "data": {
      "text/html": [
       "<div>\n",
       "<style scoped>\n",
       "    .dataframe tbody tr th:only-of-type {\n",
       "        vertical-align: middle;\n",
       "    }\n",
       "\n",
       "    .dataframe tbody tr th {\n",
       "        vertical-align: top;\n",
       "    }\n",
       "\n",
       "    .dataframe thead th {\n",
       "        text-align: right;\n",
       "    }\n",
       "</style>\n",
       "<table border=\"1\" class=\"dataframe\">\n",
       "  <thead>\n",
       "    <tr style=\"text-align: right;\">\n",
       "      <th></th>\n",
       "      <th>Class</th>\n",
       "      <th>V14</th>\n",
       "      <th>V1</th>\n",
       "      <th>V2</th>\n",
       "      <th>V3</th>\n",
       "      <th>V4</th>\n",
       "      <th>V5</th>\n",
       "      <th>V6</th>\n",
       "      <th>V7</th>\n",
       "      <th>V8</th>\n",
       "      <th>V9</th>\n",
       "      <th>V10</th>\n",
       "      <th>V11</th>\n",
       "      <th>V12</th>\n",
       "      <th>V13</th>\n",
       "      <th>V15</th>\n",
       "      <th>Amount</th>\n",
       "      <th>V16</th>\n",
       "      <th>V17</th>\n",
       "      <th>V18</th>\n",
       "      <th>V19</th>\n",
       "      <th>V20</th>\n",
       "      <th>V21</th>\n",
       "      <th>V22</th>\n",
       "      <th>V23</th>\n",
       "      <th>V24</th>\n",
       "      <th>V25</th>\n",
       "      <th>V26</th>\n",
       "      <th>V27</th>\n",
       "      <th>V28</th>\n",
       "      <th>Time</th>\n",
       "    </tr>\n",
       "  </thead>\n",
       "  <tbody>\n",
       "    <tr>\n",
       "      <th>Total</th>\n",
       "      <td>0.0</td>\n",
       "      <td>0.0</td>\n",
       "      <td>0.0</td>\n",
       "      <td>0.0</td>\n",
       "      <td>0.0</td>\n",
       "      <td>0.0</td>\n",
       "      <td>0.0</td>\n",
       "      <td>0.0</td>\n",
       "      <td>0.0</td>\n",
       "      <td>0.0</td>\n",
       "      <td>0.0</td>\n",
       "      <td>0.0</td>\n",
       "      <td>0.0</td>\n",
       "      <td>0.0</td>\n",
       "      <td>0.0</td>\n",
       "      <td>0.0</td>\n",
       "      <td>0.0</td>\n",
       "      <td>0.0</td>\n",
       "      <td>0.0</td>\n",
       "      <td>0.0</td>\n",
       "      <td>0.0</td>\n",
       "      <td>0.0</td>\n",
       "      <td>0.0</td>\n",
       "      <td>0.0</td>\n",
       "      <td>0.0</td>\n",
       "      <td>0.0</td>\n",
       "      <td>0.0</td>\n",
       "      <td>0.0</td>\n",
       "      <td>0.0</td>\n",
       "      <td>0.0</td>\n",
       "      <td>0.0</td>\n",
       "    </tr>\n",
       "    <tr>\n",
       "      <th>Percent</th>\n",
       "      <td>0.0</td>\n",
       "      <td>0.0</td>\n",
       "      <td>0.0</td>\n",
       "      <td>0.0</td>\n",
       "      <td>0.0</td>\n",
       "      <td>0.0</td>\n",
       "      <td>0.0</td>\n",
       "      <td>0.0</td>\n",
       "      <td>0.0</td>\n",
       "      <td>0.0</td>\n",
       "      <td>0.0</td>\n",
       "      <td>0.0</td>\n",
       "      <td>0.0</td>\n",
       "      <td>0.0</td>\n",
       "      <td>0.0</td>\n",
       "      <td>0.0</td>\n",
       "      <td>0.0</td>\n",
       "      <td>0.0</td>\n",
       "      <td>0.0</td>\n",
       "      <td>0.0</td>\n",
       "      <td>0.0</td>\n",
       "      <td>0.0</td>\n",
       "      <td>0.0</td>\n",
       "      <td>0.0</td>\n",
       "      <td>0.0</td>\n",
       "      <td>0.0</td>\n",
       "      <td>0.0</td>\n",
       "      <td>0.0</td>\n",
       "      <td>0.0</td>\n",
       "      <td>0.0</td>\n",
       "      <td>0.0</td>\n",
       "    </tr>\n",
       "  </tbody>\n",
       "</table>\n",
       "</div>"
      ],
      "text/plain": [
       "         Class  V14   V1   V2   V3   V4   V5   V6   V7   V8   V9  V10  V11  \\\n",
       "Total      0.0  0.0  0.0  0.0  0.0  0.0  0.0  0.0  0.0  0.0  0.0  0.0  0.0   \n",
       "Percent    0.0  0.0  0.0  0.0  0.0  0.0  0.0  0.0  0.0  0.0  0.0  0.0  0.0   \n",
       "\n",
       "         V12  V13  V15  Amount  V16  V17  V18  V19  V20  V21  V22  V23  V24  \\\n",
       "Total    0.0  0.0  0.0     0.0  0.0  0.0  0.0  0.0  0.0  0.0  0.0  0.0  0.0   \n",
       "Percent  0.0  0.0  0.0     0.0  0.0  0.0  0.0  0.0  0.0  0.0  0.0  0.0  0.0   \n",
       "\n",
       "         V25  V26  V27  V28  Time  \n",
       "Total    0.0  0.0  0.0  0.0   0.0  \n",
       "Percent  0.0  0.0  0.0  0.0   0.0  "
      ]
     },
     "execution_count": 19,
     "metadata": {},
     "output_type": "execute_result"
    }
   ],
   "source": [
    "total = data_df.isnull().sum().sort_values(ascending = False)\n",
    "percent = (data_df.isnull().sum()/data_df.isnull().count()*100).sort_values(ascending = False)\n",
    "pd.concat([total, percent], axis=1, keys=['Total', 'Percent']).transpose()\n"
   ]
  },
  {
   "cell_type": "markdown",
   "metadata": {
    "_uuid": "aa67814319f2b87367a7a675d956f1aa8f806363"
   },
   "source": [
    "There is no missing data in the entire dataset."
   ]
  },
  {
   "cell_type": "markdown",
   "metadata": {
    "_uuid": "5c17d77aaa693057767dc2a0a23efbcae8f9f34e"
   },
   "source": [
    "## <a id=\"43\">Data unbalance</a>"
   ]
  },
  {
   "cell_type": "markdown",
   "metadata": {
    "_uuid": "dc1ecb4caa03723aa3e3153fe1311ed532464b54"
   },
   "source": [
    "Let's check data unbalance with respect with *target* value, i.e. **Class**."
   ]
  },
  {
   "cell_type": "code",
   "execution_count": 44,
   "metadata": {
    "_uuid": "c07847fe84817c98455db7ad7e49c5d991ac58a9"
   },
   "outputs": [
    {
     "data": {
      "application/vnd.plotly.v1+json": {
       "config": {
        "linkText": "Export to plot.ly",
        "plotlyServerURL": "https://plot.ly",
        "showLink": false
       },
       "data": [
        {
         "marker": {
          "color": "Red"
         },
         "name": "Credit Card Fraud Class - data unbalance (Not fraud = 0, Fraud = 1)",
         "text": [
          284315,
          492
         ],
         "type": "bar",
         "x": [
          0,
          1
         ],
         "y": [
          284315,
          492
         ]
        }
       ],
       "layout": {
        "hovermode": "closest",
        "template": {
         "data": {
          "bar": [
           {
            "error_x": {
             "color": "#2a3f5f"
            },
            "error_y": {
             "color": "#2a3f5f"
            },
            "marker": {
             "line": {
              "color": "#E5ECF6",
              "width": 0.5
             }
            },
            "type": "bar"
           }
          ],
          "barpolar": [
           {
            "marker": {
             "line": {
              "color": "#E5ECF6",
              "width": 0.5
             }
            },
            "type": "barpolar"
           }
          ],
          "carpet": [
           {
            "aaxis": {
             "endlinecolor": "#2a3f5f",
             "gridcolor": "white",
             "linecolor": "white",
             "minorgridcolor": "white",
             "startlinecolor": "#2a3f5f"
            },
            "baxis": {
             "endlinecolor": "#2a3f5f",
             "gridcolor": "white",
             "linecolor": "white",
             "minorgridcolor": "white",
             "startlinecolor": "#2a3f5f"
            },
            "type": "carpet"
           }
          ],
          "choropleth": [
           {
            "colorbar": {
             "outlinewidth": 0,
             "ticks": ""
            },
            "type": "choropleth"
           }
          ],
          "contour": [
           {
            "colorbar": {
             "outlinewidth": 0,
             "ticks": ""
            },
            "colorscale": [
             [
              0,
              "#0d0887"
             ],
             [
              0.1111111111111111,
              "#46039f"
             ],
             [
              0.2222222222222222,
              "#7201a8"
             ],
             [
              0.3333333333333333,
              "#9c179e"
             ],
             [
              0.4444444444444444,
              "#bd3786"
             ],
             [
              0.5555555555555556,
              "#d8576b"
             ],
             [
              0.6666666666666666,
              "#ed7953"
             ],
             [
              0.7777777777777778,
              "#fb9f3a"
             ],
             [
              0.8888888888888888,
              "#fdca26"
             ],
             [
              1,
              "#f0f921"
             ]
            ],
            "type": "contour"
           }
          ],
          "contourcarpet": [
           {
            "colorbar": {
             "outlinewidth": 0,
             "ticks": ""
            },
            "type": "contourcarpet"
           }
          ],
          "heatmap": [
           {
            "colorbar": {
             "outlinewidth": 0,
             "ticks": ""
            },
            "colorscale": [
             [
              0,
              "#0d0887"
             ],
             [
              0.1111111111111111,
              "#46039f"
             ],
             [
              0.2222222222222222,
              "#7201a8"
             ],
             [
              0.3333333333333333,
              "#9c179e"
             ],
             [
              0.4444444444444444,
              "#bd3786"
             ],
             [
              0.5555555555555556,
              "#d8576b"
             ],
             [
              0.6666666666666666,
              "#ed7953"
             ],
             [
              0.7777777777777778,
              "#fb9f3a"
             ],
             [
              0.8888888888888888,
              "#fdca26"
             ],
             [
              1,
              "#f0f921"
             ]
            ],
            "type": "heatmap"
           }
          ],
          "heatmapgl": [
           {
            "colorbar": {
             "outlinewidth": 0,
             "ticks": ""
            },
            "colorscale": [
             [
              0,
              "#0d0887"
             ],
             [
              0.1111111111111111,
              "#46039f"
             ],
             [
              0.2222222222222222,
              "#7201a8"
             ],
             [
              0.3333333333333333,
              "#9c179e"
             ],
             [
              0.4444444444444444,
              "#bd3786"
             ],
             [
              0.5555555555555556,
              "#d8576b"
             ],
             [
              0.6666666666666666,
              "#ed7953"
             ],
             [
              0.7777777777777778,
              "#fb9f3a"
             ],
             [
              0.8888888888888888,
              "#fdca26"
             ],
             [
              1,
              "#f0f921"
             ]
            ],
            "type": "heatmapgl"
           }
          ],
          "histogram": [
           {
            "marker": {
             "colorbar": {
              "outlinewidth": 0,
              "ticks": ""
             }
            },
            "type": "histogram"
           }
          ],
          "histogram2d": [
           {
            "colorbar": {
             "outlinewidth": 0,
             "ticks": ""
            },
            "colorscale": [
             [
              0,
              "#0d0887"
             ],
             [
              0.1111111111111111,
              "#46039f"
             ],
             [
              0.2222222222222222,
              "#7201a8"
             ],
             [
              0.3333333333333333,
              "#9c179e"
             ],
             [
              0.4444444444444444,
              "#bd3786"
             ],
             [
              0.5555555555555556,
              "#d8576b"
             ],
             [
              0.6666666666666666,
              "#ed7953"
             ],
             [
              0.7777777777777778,
              "#fb9f3a"
             ],
             [
              0.8888888888888888,
              "#fdca26"
             ],
             [
              1,
              "#f0f921"
             ]
            ],
            "type": "histogram2d"
           }
          ],
          "histogram2dcontour": [
           {
            "colorbar": {
             "outlinewidth": 0,
             "ticks": ""
            },
            "colorscale": [
             [
              0,
              "#0d0887"
             ],
             [
              0.1111111111111111,
              "#46039f"
             ],
             [
              0.2222222222222222,
              "#7201a8"
             ],
             [
              0.3333333333333333,
              "#9c179e"
             ],
             [
              0.4444444444444444,
              "#bd3786"
             ],
             [
              0.5555555555555556,
              "#d8576b"
             ],
             [
              0.6666666666666666,
              "#ed7953"
             ],
             [
              0.7777777777777778,
              "#fb9f3a"
             ],
             [
              0.8888888888888888,
              "#fdca26"
             ],
             [
              1,
              "#f0f921"
             ]
            ],
            "type": "histogram2dcontour"
           }
          ],
          "mesh3d": [
           {
            "colorbar": {
             "outlinewidth": 0,
             "ticks": ""
            },
            "type": "mesh3d"
           }
          ],
          "parcoords": [
           {
            "line": {
             "colorbar": {
              "outlinewidth": 0,
              "ticks": ""
             }
            },
            "type": "parcoords"
           }
          ],
          "pie": [
           {
            "automargin": true,
            "type": "pie"
           }
          ],
          "scatter": [
           {
            "marker": {
             "colorbar": {
              "outlinewidth": 0,
              "ticks": ""
             }
            },
            "type": "scatter"
           }
          ],
          "scatter3d": [
           {
            "line": {
             "colorbar": {
              "outlinewidth": 0,
              "ticks": ""
             }
            },
            "marker": {
             "colorbar": {
              "outlinewidth": 0,
              "ticks": ""
             }
            },
            "type": "scatter3d"
           }
          ],
          "scattercarpet": [
           {
            "marker": {
             "colorbar": {
              "outlinewidth": 0,
              "ticks": ""
             }
            },
            "type": "scattercarpet"
           }
          ],
          "scattergeo": [
           {
            "marker": {
             "colorbar": {
              "outlinewidth": 0,
              "ticks": ""
             }
            },
            "type": "scattergeo"
           }
          ],
          "scattergl": [
           {
            "marker": {
             "colorbar": {
              "outlinewidth": 0,
              "ticks": ""
             }
            },
            "type": "scattergl"
           }
          ],
          "scattermapbox": [
           {
            "marker": {
             "colorbar": {
              "outlinewidth": 0,
              "ticks": ""
             }
            },
            "type": "scattermapbox"
           }
          ],
          "scatterpolar": [
           {
            "marker": {
             "colorbar": {
              "outlinewidth": 0,
              "ticks": ""
             }
            },
            "type": "scatterpolar"
           }
          ],
          "scatterpolargl": [
           {
            "marker": {
             "colorbar": {
              "outlinewidth": 0,
              "ticks": ""
             }
            },
            "type": "scatterpolargl"
           }
          ],
          "scatterternary": [
           {
            "marker": {
             "colorbar": {
              "outlinewidth": 0,
              "ticks": ""
             }
            },
            "type": "scatterternary"
           }
          ],
          "surface": [
           {
            "colorbar": {
             "outlinewidth": 0,
             "ticks": ""
            },
            "colorscale": [
             [
              0,
              "#0d0887"
             ],
             [
              0.1111111111111111,
              "#46039f"
             ],
             [
              0.2222222222222222,
              "#7201a8"
             ],
             [
              0.3333333333333333,
              "#9c179e"
             ],
             [
              0.4444444444444444,
              "#bd3786"
             ],
             [
              0.5555555555555556,
              "#d8576b"
             ],
             [
              0.6666666666666666,
              "#ed7953"
             ],
             [
              0.7777777777777778,
              "#fb9f3a"
             ],
             [
              0.8888888888888888,
              "#fdca26"
             ],
             [
              1,
              "#f0f921"
             ]
            ],
            "type": "surface"
           }
          ],
          "table": [
           {
            "cells": {
             "fill": {
              "color": "#EBF0F8"
             },
             "line": {
              "color": "white"
             }
            },
            "header": {
             "fill": {
              "color": "#C8D4E3"
             },
             "line": {
              "color": "white"
             }
            },
            "type": "table"
           }
          ]
         },
         "layout": {
          "annotationdefaults": {
           "arrowcolor": "#2a3f5f",
           "arrowhead": 0,
           "arrowwidth": 1
          },
          "coloraxis": {
           "colorbar": {
            "outlinewidth": 0,
            "ticks": ""
           }
          },
          "colorscale": {
           "diverging": [
            [
             0,
             "#8e0152"
            ],
            [
             0.1,
             "#c51b7d"
            ],
            [
             0.2,
             "#de77ae"
            ],
            [
             0.3,
             "#f1b6da"
            ],
            [
             0.4,
             "#fde0ef"
            ],
            [
             0.5,
             "#f7f7f7"
            ],
            [
             0.6,
             "#e6f5d0"
            ],
            [
             0.7,
             "#b8e186"
            ],
            [
             0.8,
             "#7fbc41"
            ],
            [
             0.9,
             "#4d9221"
            ],
            [
             1,
             "#276419"
            ]
           ],
           "sequential": [
            [
             0,
             "#0d0887"
            ],
            [
             0.1111111111111111,
             "#46039f"
            ],
            [
             0.2222222222222222,
             "#7201a8"
            ],
            [
             0.3333333333333333,
             "#9c179e"
            ],
            [
             0.4444444444444444,
             "#bd3786"
            ],
            [
             0.5555555555555556,
             "#d8576b"
            ],
            [
             0.6666666666666666,
             "#ed7953"
            ],
            [
             0.7777777777777778,
             "#fb9f3a"
            ],
            [
             0.8888888888888888,
             "#fdca26"
            ],
            [
             1,
             "#f0f921"
            ]
           ],
           "sequentialminus": [
            [
             0,
             "#0d0887"
            ],
            [
             0.1111111111111111,
             "#46039f"
            ],
            [
             0.2222222222222222,
             "#7201a8"
            ],
            [
             0.3333333333333333,
             "#9c179e"
            ],
            [
             0.4444444444444444,
             "#bd3786"
            ],
            [
             0.5555555555555556,
             "#d8576b"
            ],
            [
             0.6666666666666666,
             "#ed7953"
            ],
            [
             0.7777777777777778,
             "#fb9f3a"
            ],
            [
             0.8888888888888888,
             "#fdca26"
            ],
            [
             1,
             "#f0f921"
            ]
           ]
          },
          "colorway": [
           "#636efa",
           "#EF553B",
           "#00cc96",
           "#ab63fa",
           "#FFA15A",
           "#19d3f3",
           "#FF6692",
           "#B6E880",
           "#FF97FF",
           "#FECB52"
          ],
          "font": {
           "color": "#2a3f5f"
          },
          "geo": {
           "bgcolor": "white",
           "lakecolor": "white",
           "landcolor": "#E5ECF6",
           "showlakes": true,
           "showland": true,
           "subunitcolor": "white"
          },
          "hoverlabel": {
           "align": "left"
          },
          "hovermode": "closest",
          "mapbox": {
           "style": "light"
          },
          "paper_bgcolor": "white",
          "plot_bgcolor": "#E5ECF6",
          "polar": {
           "angularaxis": {
            "gridcolor": "white",
            "linecolor": "white",
            "ticks": ""
           },
           "bgcolor": "#E5ECF6",
           "radialaxis": {
            "gridcolor": "white",
            "linecolor": "white",
            "ticks": ""
           }
          },
          "scene": {
           "xaxis": {
            "backgroundcolor": "#E5ECF6",
            "gridcolor": "white",
            "gridwidth": 2,
            "linecolor": "white",
            "showbackground": true,
            "ticks": "",
            "zerolinecolor": "white"
           },
           "yaxis": {
            "backgroundcolor": "#E5ECF6",
            "gridcolor": "white",
            "gridwidth": 2,
            "linecolor": "white",
            "showbackground": true,
            "ticks": "",
            "zerolinecolor": "white"
           },
           "zaxis": {
            "backgroundcolor": "#E5ECF6",
            "gridcolor": "white",
            "gridwidth": 2,
            "linecolor": "white",
            "showbackground": true,
            "ticks": "",
            "zerolinecolor": "white"
           }
          },
          "shapedefaults": {
           "line": {
            "color": "#2a3f5f"
           }
          },
          "ternary": {
           "aaxis": {
            "gridcolor": "white",
            "linecolor": "white",
            "ticks": ""
           },
           "baxis": {
            "gridcolor": "white",
            "linecolor": "white",
            "ticks": ""
           },
           "bgcolor": "#E5ECF6",
           "caxis": {
            "gridcolor": "white",
            "linecolor": "white",
            "ticks": ""
           }
          },
          "title": {
           "x": 0.05
          },
          "xaxis": {
           "automargin": true,
           "gridcolor": "white",
           "linecolor": "white",
           "ticks": "",
           "title": {
            "standoff": 15
           },
           "zerolinecolor": "white",
           "zerolinewidth": 2
          },
          "yaxis": {
           "automargin": true,
           "gridcolor": "white",
           "linecolor": "white",
           "ticks": "",
           "title": {
            "standoff": 15
           },
           "zerolinecolor": "white",
           "zerolinewidth": 2
          }
         }
        },
        "title": {
         "text": "Credit Card Fraud Class - data unbalance (Not fraud = 0, Fraud = 1)"
        },
        "width": 600,
        "xaxis": {
         "showticklabels": true,
         "title": {
          "text": "Class"
         }
        },
        "yaxis": {
         "title": {
          "text": "Number of transactions"
         }
        }
       }
      },
      "text/html": [
       "<div>\n",
       "        \n",
       "        \n",
       "            <div id=\"0091a4e3-6aa1-4596-a05a-3f49fbf599af\" class=\"plotly-graph-div\" style=\"height:525px; width:600px;\"></div>\n",
       "            <script type=\"text/javascript\">\n",
       "                require([\"plotly\"], function(Plotly) {\n",
       "                    window.PLOTLYENV=window.PLOTLYENV || {};\n",
       "                    \n",
       "                if (document.getElementById(\"0091a4e3-6aa1-4596-a05a-3f49fbf599af\")) {\n",
       "                    Plotly.newPlot(\n",
       "                        '0091a4e3-6aa1-4596-a05a-3f49fbf599af',\n",
       "                        [{\"marker\": {\"color\": \"Red\"}, \"name\": \"Credit Card Fraud Class - data unbalance (Not fraud = 0, Fraud = 1)\", \"text\": [284315.0, 492.0], \"type\": \"bar\", \"x\": [0, 1], \"y\": [284315, 492]}],\n",
       "                        {\"hovermode\": \"closest\", \"template\": {\"data\": {\"bar\": [{\"error_x\": {\"color\": \"#2a3f5f\"}, \"error_y\": {\"color\": \"#2a3f5f\"}, \"marker\": {\"line\": {\"color\": \"#E5ECF6\", \"width\": 0.5}}, \"type\": \"bar\"}], \"barpolar\": [{\"marker\": {\"line\": {\"color\": \"#E5ECF6\", \"width\": 0.5}}, \"type\": \"barpolar\"}], \"carpet\": [{\"aaxis\": {\"endlinecolor\": \"#2a3f5f\", \"gridcolor\": \"white\", \"linecolor\": \"white\", \"minorgridcolor\": \"white\", \"startlinecolor\": \"#2a3f5f\"}, \"baxis\": {\"endlinecolor\": \"#2a3f5f\", \"gridcolor\": \"white\", \"linecolor\": \"white\", \"minorgridcolor\": \"white\", \"startlinecolor\": \"#2a3f5f\"}, \"type\": \"carpet\"}], \"choropleth\": [{\"colorbar\": {\"outlinewidth\": 0, \"ticks\": \"\"}, \"type\": \"choropleth\"}], \"contour\": [{\"colorbar\": {\"outlinewidth\": 0, \"ticks\": \"\"}, \"colorscale\": [[0.0, \"#0d0887\"], [0.1111111111111111, \"#46039f\"], [0.2222222222222222, \"#7201a8\"], [0.3333333333333333, \"#9c179e\"], [0.4444444444444444, \"#bd3786\"], [0.5555555555555556, \"#d8576b\"], [0.6666666666666666, \"#ed7953\"], [0.7777777777777778, \"#fb9f3a\"], [0.8888888888888888, \"#fdca26\"], [1.0, \"#f0f921\"]], \"type\": \"contour\"}], \"contourcarpet\": [{\"colorbar\": {\"outlinewidth\": 0, \"ticks\": \"\"}, \"type\": \"contourcarpet\"}], \"heatmap\": [{\"colorbar\": {\"outlinewidth\": 0, \"ticks\": \"\"}, \"colorscale\": [[0.0, \"#0d0887\"], [0.1111111111111111, \"#46039f\"], [0.2222222222222222, \"#7201a8\"], [0.3333333333333333, \"#9c179e\"], [0.4444444444444444, \"#bd3786\"], [0.5555555555555556, \"#d8576b\"], [0.6666666666666666, \"#ed7953\"], [0.7777777777777778, \"#fb9f3a\"], [0.8888888888888888, \"#fdca26\"], [1.0, \"#f0f921\"]], \"type\": \"heatmap\"}], \"heatmapgl\": [{\"colorbar\": {\"outlinewidth\": 0, \"ticks\": \"\"}, \"colorscale\": [[0.0, \"#0d0887\"], [0.1111111111111111, \"#46039f\"], [0.2222222222222222, \"#7201a8\"], [0.3333333333333333, \"#9c179e\"], [0.4444444444444444, \"#bd3786\"], [0.5555555555555556, \"#d8576b\"], [0.6666666666666666, \"#ed7953\"], [0.7777777777777778, \"#fb9f3a\"], [0.8888888888888888, \"#fdca26\"], [1.0, \"#f0f921\"]], \"type\": \"heatmapgl\"}], \"histogram\": [{\"marker\": {\"colorbar\": {\"outlinewidth\": 0, \"ticks\": \"\"}}, \"type\": \"histogram\"}], \"histogram2d\": [{\"colorbar\": {\"outlinewidth\": 0, \"ticks\": \"\"}, \"colorscale\": [[0.0, \"#0d0887\"], [0.1111111111111111, \"#46039f\"], [0.2222222222222222, \"#7201a8\"], [0.3333333333333333, \"#9c179e\"], [0.4444444444444444, \"#bd3786\"], [0.5555555555555556, \"#d8576b\"], [0.6666666666666666, \"#ed7953\"], [0.7777777777777778, \"#fb9f3a\"], [0.8888888888888888, \"#fdca26\"], [1.0, \"#f0f921\"]], \"type\": \"histogram2d\"}], \"histogram2dcontour\": [{\"colorbar\": {\"outlinewidth\": 0, \"ticks\": \"\"}, \"colorscale\": [[0.0, \"#0d0887\"], [0.1111111111111111, \"#46039f\"], [0.2222222222222222, \"#7201a8\"], [0.3333333333333333, \"#9c179e\"], [0.4444444444444444, \"#bd3786\"], [0.5555555555555556, \"#d8576b\"], [0.6666666666666666, \"#ed7953\"], [0.7777777777777778, \"#fb9f3a\"], [0.8888888888888888, \"#fdca26\"], [1.0, \"#f0f921\"]], \"type\": \"histogram2dcontour\"}], \"mesh3d\": [{\"colorbar\": {\"outlinewidth\": 0, \"ticks\": \"\"}, \"type\": \"mesh3d\"}], \"parcoords\": [{\"line\": {\"colorbar\": {\"outlinewidth\": 0, \"ticks\": \"\"}}, \"type\": \"parcoords\"}], \"pie\": [{\"automargin\": true, \"type\": \"pie\"}], \"scatter\": [{\"marker\": {\"colorbar\": {\"outlinewidth\": 0, \"ticks\": \"\"}}, \"type\": \"scatter\"}], \"scatter3d\": [{\"line\": {\"colorbar\": {\"outlinewidth\": 0, \"ticks\": \"\"}}, \"marker\": {\"colorbar\": {\"outlinewidth\": 0, \"ticks\": \"\"}}, \"type\": \"scatter3d\"}], \"scattercarpet\": [{\"marker\": {\"colorbar\": {\"outlinewidth\": 0, \"ticks\": \"\"}}, \"type\": \"scattercarpet\"}], \"scattergeo\": [{\"marker\": {\"colorbar\": {\"outlinewidth\": 0, \"ticks\": \"\"}}, \"type\": \"scattergeo\"}], \"scattergl\": [{\"marker\": {\"colorbar\": {\"outlinewidth\": 0, \"ticks\": \"\"}}, \"type\": \"scattergl\"}], \"scattermapbox\": [{\"marker\": {\"colorbar\": {\"outlinewidth\": 0, \"ticks\": \"\"}}, \"type\": \"scattermapbox\"}], \"scatterpolar\": [{\"marker\": {\"colorbar\": {\"outlinewidth\": 0, \"ticks\": \"\"}}, \"type\": \"scatterpolar\"}], \"scatterpolargl\": [{\"marker\": {\"colorbar\": {\"outlinewidth\": 0, \"ticks\": \"\"}}, \"type\": \"scatterpolargl\"}], \"scatterternary\": [{\"marker\": {\"colorbar\": {\"outlinewidth\": 0, \"ticks\": \"\"}}, \"type\": \"scatterternary\"}], \"surface\": [{\"colorbar\": {\"outlinewidth\": 0, \"ticks\": \"\"}, \"colorscale\": [[0.0, \"#0d0887\"], [0.1111111111111111, \"#46039f\"], [0.2222222222222222, \"#7201a8\"], [0.3333333333333333, \"#9c179e\"], [0.4444444444444444, \"#bd3786\"], [0.5555555555555556, \"#d8576b\"], [0.6666666666666666, \"#ed7953\"], [0.7777777777777778, \"#fb9f3a\"], [0.8888888888888888, \"#fdca26\"], [1.0, \"#f0f921\"]], \"type\": \"surface\"}], \"table\": [{\"cells\": {\"fill\": {\"color\": \"#EBF0F8\"}, \"line\": {\"color\": \"white\"}}, \"header\": {\"fill\": {\"color\": \"#C8D4E3\"}, \"line\": {\"color\": \"white\"}}, \"type\": \"table\"}]}, \"layout\": {\"annotationdefaults\": {\"arrowcolor\": \"#2a3f5f\", \"arrowhead\": 0, \"arrowwidth\": 1}, \"coloraxis\": {\"colorbar\": {\"outlinewidth\": 0, \"ticks\": \"\"}}, \"colorscale\": {\"diverging\": [[0, \"#8e0152\"], [0.1, \"#c51b7d\"], [0.2, \"#de77ae\"], [0.3, \"#f1b6da\"], [0.4, \"#fde0ef\"], [0.5, \"#f7f7f7\"], [0.6, \"#e6f5d0\"], [0.7, \"#b8e186\"], [0.8, \"#7fbc41\"], [0.9, \"#4d9221\"], [1, \"#276419\"]], \"sequential\": [[0.0, \"#0d0887\"], [0.1111111111111111, \"#46039f\"], [0.2222222222222222, \"#7201a8\"], [0.3333333333333333, \"#9c179e\"], [0.4444444444444444, \"#bd3786\"], [0.5555555555555556, \"#d8576b\"], [0.6666666666666666, \"#ed7953\"], [0.7777777777777778, \"#fb9f3a\"], [0.8888888888888888, \"#fdca26\"], [1.0, \"#f0f921\"]], \"sequentialminus\": [[0.0, \"#0d0887\"], [0.1111111111111111, \"#46039f\"], [0.2222222222222222, \"#7201a8\"], [0.3333333333333333, \"#9c179e\"], [0.4444444444444444, \"#bd3786\"], [0.5555555555555556, \"#d8576b\"], [0.6666666666666666, \"#ed7953\"], [0.7777777777777778, \"#fb9f3a\"], [0.8888888888888888, \"#fdca26\"], [1.0, \"#f0f921\"]]}, \"colorway\": [\"#636efa\", \"#EF553B\", \"#00cc96\", \"#ab63fa\", \"#FFA15A\", \"#19d3f3\", \"#FF6692\", \"#B6E880\", \"#FF97FF\", \"#FECB52\"], \"font\": {\"color\": \"#2a3f5f\"}, \"geo\": {\"bgcolor\": \"white\", \"lakecolor\": \"white\", \"landcolor\": \"#E5ECF6\", \"showlakes\": true, \"showland\": true, \"subunitcolor\": \"white\"}, \"hoverlabel\": {\"align\": \"left\"}, \"hovermode\": \"closest\", \"mapbox\": {\"style\": \"light\"}, \"paper_bgcolor\": \"white\", \"plot_bgcolor\": \"#E5ECF6\", \"polar\": {\"angularaxis\": {\"gridcolor\": \"white\", \"linecolor\": \"white\", \"ticks\": \"\"}, \"bgcolor\": \"#E5ECF6\", \"radialaxis\": {\"gridcolor\": \"white\", \"linecolor\": \"white\", \"ticks\": \"\"}}, \"scene\": {\"xaxis\": {\"backgroundcolor\": \"#E5ECF6\", \"gridcolor\": \"white\", \"gridwidth\": 2, \"linecolor\": \"white\", \"showbackground\": true, \"ticks\": \"\", \"zerolinecolor\": \"white\"}, \"yaxis\": {\"backgroundcolor\": \"#E5ECF6\", \"gridcolor\": \"white\", \"gridwidth\": 2, \"linecolor\": \"white\", \"showbackground\": true, \"ticks\": \"\", \"zerolinecolor\": \"white\"}, \"zaxis\": {\"backgroundcolor\": \"#E5ECF6\", \"gridcolor\": \"white\", \"gridwidth\": 2, \"linecolor\": \"white\", \"showbackground\": true, \"ticks\": \"\", \"zerolinecolor\": \"white\"}}, \"shapedefaults\": {\"line\": {\"color\": \"#2a3f5f\"}}, \"ternary\": {\"aaxis\": {\"gridcolor\": \"white\", \"linecolor\": \"white\", \"ticks\": \"\"}, \"baxis\": {\"gridcolor\": \"white\", \"linecolor\": \"white\", \"ticks\": \"\"}, \"bgcolor\": \"#E5ECF6\", \"caxis\": {\"gridcolor\": \"white\", \"linecolor\": \"white\", \"ticks\": \"\"}}, \"title\": {\"x\": 0.05}, \"xaxis\": {\"automargin\": true, \"gridcolor\": \"white\", \"linecolor\": \"white\", \"ticks\": \"\", \"title\": {\"standoff\": 15}, \"zerolinecolor\": \"white\", \"zerolinewidth\": 2}, \"yaxis\": {\"automargin\": true, \"gridcolor\": \"white\", \"linecolor\": \"white\", \"ticks\": \"\", \"title\": {\"standoff\": 15}, \"zerolinecolor\": \"white\", \"zerolinewidth\": 2}}}, \"title\": {\"text\": \"Credit Card Fraud Class - data unbalance (Not fraud = 0, Fraud = 1)\"}, \"width\": 600, \"xaxis\": {\"showticklabels\": true, \"title\": {\"text\": \"Class\"}}, \"yaxis\": {\"title\": {\"text\": \"Number of transactions\"}}},\n",
       "                        {\"responsive\": true}\n",
       "                    ).then(function(){\n",
       "                            \n",
       "var gd = document.getElementById('0091a4e3-6aa1-4596-a05a-3f49fbf599af');\n",
       "var x = new MutationObserver(function (mutations, observer) {{\n",
       "        var display = window.getComputedStyle(gd).display;\n",
       "        if (!display || display === 'none') {{\n",
       "            console.log([gd, 'removed!']);\n",
       "            Plotly.purge(gd);\n",
       "            observer.disconnect();\n",
       "        }}\n",
       "}});\n",
       "\n",
       "// Listen for the removal of the full notebook cells\n",
       "var notebookContainer = gd.closest('#notebook-container');\n",
       "if (notebookContainer) {{\n",
       "    x.observe(notebookContainer, {childList: true});\n",
       "}}\n",
       "\n",
       "// Listen for the clearing of the current output cell\n",
       "var outputEl = gd.closest('.output');\n",
       "if (outputEl) {{\n",
       "    x.observe(outputEl, {childList: true});\n",
       "}}\n",
       "\n",
       "                        })\n",
       "                };\n",
       "                });\n",
       "            </script>\n",
       "        </div>"
      ]
     },
     "metadata": {},
     "output_type": "display_data"
    }
   ],
   "source": [
    "temp = data_df[\"Class\"].value_counts()\n",
    "df = pd.DataFrame({'Class': temp.index,'values': temp.values})\n",
    "df.head()\n",
    "\n",
    "trace = go.Bar(\n",
    "    x = df['Class'],y = df['values'],\n",
    "    name=\"Credit Card Fraud Class - data unbalance (Not fraud = 0, Fraud = 1)\",\n",
    "    marker=dict(color=\"Red\"),\n",
    "    text=df['values']\n",
    ")\n",
    "data = [trace]\n",
    "layout = dict(title = 'Credit Card Fraud Class - data unbalance (Not fraud = 0, Fraud = 1)',\n",
    "          xaxis = dict(title = 'Class', showticklabels=True), \n",
    "          yaxis = dict(title = 'Number of transactions'),\n",
    "          hovermode = 'closest',width=600\n",
    "         )\n",
    "\n",
    "fig = dict(data=data, layout=layout)\n",
    "iplot(fig, filename='class')"
   ]
  },
  {
   "cell_type": "markdown",
   "metadata": {
    "_uuid": "77eddeb05f44c47ee4a1be98bb22bb3cb0345030"
   },
   "source": [
    "Only **492** (or **0.172%**) of transaction are fraudulent. That means the data is highly unbalanced with respect with target variable **Class**."
   ]
  },
  {
   "cell_type": "markdown",
   "metadata": {
    "_uuid": "88fc9ad3d2dde75457f3b8c5417e07cbd9564a30"
   },
   "source": [
    "# <a id=\"5\">Data exploration</a>"
   ]
  },
  {
   "cell_type": "markdown",
   "metadata": {
    "_uuid": "b3c42863cec8d34e87dc098b85b3c709ec2739c0"
   },
   "source": [
    "## Transactions in time"
   ]
  },
  {
   "cell_type": "code",
   "execution_count": 50,
   "metadata": {
    "_uuid": "b9521e8cc9f179887c5dc454ed84d0ba20e55946"
   },
   "outputs": [
    {
     "data": {
      "application/vnd.plotly.v1+json": {
       "config": {
        "linkText": "Export to plot.ly",
        "plotlyServerURL": "https://plot.ly",
        "showLink": false
       },
       "data": [
        {
         "legendgroup": "Not Fraud",
         "marker": {
          "color": "rgb(31, 119, 180)"
         },
         "mode": "lines",
         "name": "Not Fraud",
         "showlegend": true,
         "type": "scatter",
         "x": [
          0,
          345.584,
          691.168,
          1036.752,
          1382.336,
          1727.92,
          2073.504,
          2419.088,
          2764.672,
          3110.256,
          3455.84,
          3801.424,
          4147.008,
          4492.592,
          4838.176,
          5183.76,
          5529.344,
          5874.928,
          6220.512,
          6566.096,
          6911.68,
          7257.264,
          7602.848,
          7948.432,
          8294.016,
          8639.6,
          8985.184,
          9330.768,
          9676.352,
          10021.936,
          10367.52,
          10713.104,
          11058.688,
          11404.272,
          11749.856,
          12095.44,
          12441.024,
          12786.608,
          13132.192,
          13477.776,
          13823.36,
          14168.944,
          14514.528,
          14860.112,
          15205.696,
          15551.28,
          15896.864,
          16242.448,
          16588.032,
          16933.616,
          17279.2,
          17624.784,
          17970.368,
          18315.952,
          18661.536,
          19007.12,
          19352.704,
          19698.288,
          20043.872,
          20389.456,
          20735.04,
          21080.624,
          21426.208,
          21771.792,
          22117.376,
          22462.96,
          22808.544,
          23154.128,
          23499.712,
          23845.296,
          24190.88,
          24536.464,
          24882.048,
          25227.632,
          25573.216,
          25918.8,
          26264.384,
          26609.968,
          26955.552,
          27301.136,
          27646.72,
          27992.304,
          28337.888,
          28683.472,
          29029.056,
          29374.64,
          29720.224,
          30065.808,
          30411.392,
          30756.976,
          31102.56,
          31448.144,
          31793.728,
          32139.312,
          32484.896,
          32830.48,
          33176.064,
          33521.648,
          33867.232,
          34212.816,
          34558.4,
          34903.984,
          35249.568,
          35595.152,
          35940.736,
          36286.32,
          36631.904,
          36977.488,
          37323.072,
          37668.656,
          38014.24,
          38359.824,
          38705.408,
          39050.992,
          39396.576,
          39742.16,
          40087.744,
          40433.328,
          40778.912,
          41124.496,
          41470.08,
          41815.664,
          42161.248,
          42506.832,
          42852.416,
          43198,
          43543.584,
          43889.168,
          44234.752,
          44580.336,
          44925.92,
          45271.504,
          45617.088,
          45962.672,
          46308.256,
          46653.84,
          46999.424,
          47345.008,
          47690.592,
          48036.176,
          48381.76,
          48727.344,
          49072.928,
          49418.512,
          49764.096,
          50109.68,
          50455.264,
          50800.848,
          51146.432,
          51492.016,
          51837.6,
          52183.184,
          52528.768,
          52874.352,
          53219.936,
          53565.52,
          53911.104,
          54256.688,
          54602.272,
          54947.856,
          55293.44,
          55639.024,
          55984.608,
          56330.192,
          56675.776,
          57021.36,
          57366.944,
          57712.528,
          58058.112,
          58403.696,
          58749.28,
          59094.864,
          59440.448,
          59786.032,
          60131.616,
          60477.2,
          60822.784,
          61168.368,
          61513.952,
          61859.536,
          62205.12,
          62550.704,
          62896.288,
          63241.872,
          63587.456,
          63933.04,
          64278.624,
          64624.208,
          64969.792,
          65315.376,
          65660.96,
          66006.544,
          66352.128,
          66697.712,
          67043.296,
          67388.88,
          67734.464,
          68080.048,
          68425.632,
          68771.216,
          69116.8,
          69462.384,
          69807.968,
          70153.552,
          70499.136,
          70844.72,
          71190.304,
          71535.888,
          71881.472,
          72227.056,
          72572.64,
          72918.224,
          73263.808,
          73609.392,
          73954.976,
          74300.56,
          74646.144,
          74991.728,
          75337.312,
          75682.896,
          76028.48,
          76374.064,
          76719.648,
          77065.232,
          77410.816,
          77756.4,
          78101.984,
          78447.568,
          78793.152,
          79138.736,
          79484.32,
          79829.904,
          80175.488,
          80521.072,
          80866.656,
          81212.24,
          81557.824,
          81903.408,
          82248.992,
          82594.576,
          82940.16,
          83285.744,
          83631.328,
          83976.912,
          84322.496,
          84668.08,
          85013.664,
          85359.248,
          85704.832,
          86050.416,
          86396,
          86741.584,
          87087.168,
          87432.752,
          87778.336,
          88123.92,
          88469.504,
          88815.088,
          89160.672,
          89506.256,
          89851.84,
          90197.424,
          90543.008,
          90888.592,
          91234.176,
          91579.76,
          91925.344,
          92270.928,
          92616.512,
          92962.096,
          93307.68,
          93653.264,
          93998.848,
          94344.432,
          94690.016,
          95035.6,
          95381.184,
          95726.768,
          96072.352,
          96417.936,
          96763.52,
          97109.104,
          97454.688,
          97800.272,
          98145.856,
          98491.44,
          98837.024,
          99182.608,
          99528.192,
          99873.776,
          100219.36,
          100564.944,
          100910.528,
          101256.112,
          101601.696,
          101947.28,
          102292.864,
          102638.448,
          102984.032,
          103329.616,
          103675.2,
          104020.784,
          104366.368,
          104711.952,
          105057.536,
          105403.12,
          105748.704,
          106094.288,
          106439.872,
          106785.456,
          107131.04,
          107476.624,
          107822.208,
          108167.792,
          108513.376,
          108858.96,
          109204.544,
          109550.128,
          109895.712,
          110241.296,
          110586.88,
          110932.464,
          111278.048,
          111623.632,
          111969.216,
          112314.8,
          112660.384,
          113005.968,
          113351.552,
          113697.136,
          114042.72,
          114388.304,
          114733.888,
          115079.472,
          115425.056,
          115770.64,
          116116.224,
          116461.808,
          116807.392,
          117152.976,
          117498.56,
          117844.144,
          118189.728,
          118535.312,
          118880.896,
          119226.48,
          119572.064,
          119917.648,
          120263.232,
          120608.816,
          120954.4,
          121299.984,
          121645.568,
          121991.152,
          122336.736,
          122682.32,
          123027.904,
          123373.488,
          123719.072,
          124064.656,
          124410.24,
          124755.824,
          125101.408,
          125446.992,
          125792.576,
          126138.16,
          126483.744,
          126829.328,
          127174.912,
          127520.496,
          127866.08,
          128211.664,
          128557.248,
          128902.832,
          129248.416,
          129594,
          129939.584,
          130285.168,
          130630.752,
          130976.336,
          131321.92,
          131667.504,
          132013.088,
          132358.672,
          132704.256,
          133049.84,
          133395.424,
          133741.008,
          134086.592,
          134432.176,
          134777.76,
          135123.344,
          135468.928,
          135814.512,
          136160.096,
          136505.68,
          136851.264,
          137196.848,
          137542.432,
          137888.016,
          138233.6,
          138579.184,
          138924.768,
          139270.352,
          139615.936,
          139961.52,
          140307.104,
          140652.688,
          140998.272,
          141343.856,
          141689.44,
          142035.024,
          142380.608,
          142726.192,
          143071.776,
          143417.36,
          143762.944,
          144108.528,
          144454.112,
          144799.696,
          145145.28,
          145490.864,
          145836.448,
          146182.032,
          146527.616,
          146873.2,
          147218.784,
          147564.368,
          147909.952,
          148255.536,
          148601.12,
          148946.704,
          149292.288,
          149637.872,
          149983.456,
          150329.04,
          150674.624,
          151020.208,
          151365.792,
          151711.376,
          152056.96,
          152402.544,
          152748.128,
          153093.712,
          153439.296,
          153784.88,
          154130.464,
          154476.048,
          154821.632,
          155167.216,
          155512.8,
          155858.384,
          156203.968,
          156549.552,
          156895.136,
          157240.72,
          157586.304,
          157931.888,
          158277.472,
          158623.056,
          158968.64,
          159314.224,
          159659.808,
          160005.392,
          160350.976,
          160696.56,
          161042.144,
          161387.728,
          161733.312,
          162078.896,
          162424.48,
          162770.064,
          163115.648,
          163461.232,
          163806.816,
          164152.4,
          164497.984,
          164843.568,
          165189.152,
          165534.736,
          165880.32,
          166225.904,
          166571.488,
          166917.072,
          167262.656,
          167608.24,
          167953.824,
          168299.408,
          168644.992,
          168990.576,
          169336.16,
          169681.744,
          170027.328,
          170372.912,
          170718.496,
          171064.08,
          171409.664,
          171755.248,
          172100.832,
          172446.416
         ],
         "xaxis": "x",
         "y": [
          1.69734745608626e-06,
          1.7892406860838496e-06,
          1.8751066622895464e-06,
          1.953924021131705e-06,
          2.024814787484307e-06,
          2.087070000172907e-06,
          2.140169352315925e-06,
          2.1837939471418097e-06,
          2.2178316034667433e-06,
          2.242374511761459e-06,
          2.2577094196195842e-06,
          2.2643008918189907e-06,
          2.2627685234052456e-06,
          2.253859265166437e-06,
          2.238416234077647e-06,
          2.2173455159804076e-06,
          2.1915825183282717e-06,
          2.162059397021283e-06,
          2.1296749680388292e-06,
          2.09526833119356e-06,
          2.059597193031919e-06,
          2.0233215945720555e-06,
          1.9869934446535072e-06,
          1.9510519490666987e-06,
          1.9158247265703086e-06,
          1.8815341310019928e-06,
          1.8483080671293393e-06,
          1.8161944068401388e-06,
          1.7851779885079824e-06,
          1.7551991191213955e-06,
          1.7261724957826228e-06,
          1.6980055169884531e-06,
          1.6706150584079206e-06,
          1.643941934097274e-06,
          1.6179624420038266e-06,
          1.5926965909611322e-06,
          1.5682128135696685e-06,
          1.5446291740590165e-06,
          1.5221112719307157e-06,
          1.5008672116659753e-06,
          1.4811401484837609e-06,
          1.463199024397816e-06,
          1.447328174052504e-06,
          1.4338165045344431e-06,
          1.4229469381476596e-06,
          1.4149867545429903e-06,
          1.410179382909237e-06,
          1.4087380819814257e-06,
          1.410841812435419e-06,
          1.4166334607268734e-06,
          1.42622042399624e-06,
          1.4396774207780328e-06,
          1.4570512600449137e-06,
          1.478367188917494e-06,
          1.5036363533036477e-06,
          1.5328638503406768e-06,
          1.5660568294638432e-06,
          1.6032321108016605e-06,
          1.6444228338375733e-06,
          1.6896837222362099e-06,
          1.7390946469102115e-06,
          1.792762281809443e-06,
          1.8508197675565938e-06,
          1.9134244185216944e-06,
          1.9807536210244902e-06,
          2.052999166716875e-06,
          2.130360339872841e-06,
          2.2130361262112244e-06,
          2.30121693207926e-06,
          2.395076196709519e-06,
          2.4947622494236706e-06,
          2.600390712632574e-06,
          2.712037686308707e-06,
          2.8297338772312685e-06,
          2.9534597639184154e-06,
          3.0831418225125223e-06,
          3.2186497856326007e-06,
          3.359794869388726e-06,
          3.5063288854051637e-06,
          3.6579441546932673e-06,
          3.8142741563073403e-06,
          3.974894871817853e-06,
          4.139326821282088e-06,
          4.3070378213577e-06,
          4.477446525210388e-06,
          4.649926821293436e-06,
          4.823813169618672e-06,
          4.998406937320885e-06,
          5.172983759820998e-06,
          5.346801901645625e-06,
          5.519111525987053e-06,
          5.689164710128994e-06,
          5.856225971804477e-06,
          6.019583006720736e-06,
          6.178557286897192e-06,
          6.332514139091251e-06,
          6.4808719167415175e-06,
          6.623109899730121e-06,
          6.7587746036855816e-06,
          6.887484251984144e-06,
          7.008931254393489e-06,
          7.122882640062258e-06,
          7.2291785017877e-06,
          7.327728615222161e-06,
          7.418507493160883e-06,
          7.501548214399741e-06,
          7.576935423367311e-06,
          7.644797927106252e-06,
          7.705301318490687e-06,
          7.758641029150757e-06,
          7.80503616469559e-06,
          7.844724402421186e-06,
          7.877958143024659e-06,
          7.90500200908914e-06,
          7.92613168088142e-06,
          7.941633960960514e-06,
          7.951807869480459e-06,
          7.956966497383937e-06,
          7.957439289377039e-06,
          7.95357439583307e-06,
          7.94574072436004e-06,
          7.934329337960161e-06,
          7.919753886307512e-06,
          7.902449817071931e-06,
          7.88287219158698e-06,
          7.861492018652474e-06,
          7.838791116317862e-06,
          7.815255608176148e-06,
          7.79136825206977e-06,
          7.767599879606216e-06,
          7.744400289672019e-06,
          7.722188984437916e-06,
          7.701346159669774e-06,
          7.682204361437302e-06,
          7.66504119895186e-06,
          7.650073460068547e-06,
          7.637452914971322e-06,
          7.627264018690252e-06,
          7.619523638962204e-06,
          7.61418284739371e-06,
          7.611130723686736e-06,
          7.610200039221984e-06,
          7.611174611301135e-06,
          7.613798055773855e-06,
          7.617783615694085e-06,
          7.622824708288295e-06,
          7.628605812331322e-06,
          7.634813312831894e-06,
          7.64114592906242e-06,
          7.647324374416423e-06,
          7.653099931107249e-06,
          7.658261667942256e-06,
          7.662642083794293e-06,
          7.666121021266819e-06,
          7.668627762522526e-06,
          7.670141290160721e-06,
          7.670688767914656e-06,
          7.67034236600751e-06,
          7.66921462120061e-06,
          7.667452578693216e-06,
          7.665231008940167e-06,
          7.662745024281446e-06,
          7.660202435731148e-06,
          7.657816187892733e-06,
          7.655797189369246e-06,
          7.654347818074227e-06,
          7.653656327679865e-06,
          7.653892316465873e-06,
          7.655203347519694e-06,
          7.657712734803939e-06,
          7.66151843861663e-06,
          7.666692951868892e-06,
          7.673284010222965e-06,
          7.681315928222697e-06,
          7.690791352390224e-06,
          7.701693231398903e-06,
          7.713986831544128e-06,
          7.727621669694495e-06,
          7.742533291007433e-06,
          7.758644879036352e-06,
          7.775868744871325e-06,
          7.794107793011708e-06,
          7.81325709872021e-06,
          7.833205749804814e-06,
          7.853839101993525e-06,
          7.875041570289569e-06,
          7.896700030201781e-06,
          7.918707836091386e-06,
          7.94096938463972e-06,
          7.963405066766208e-06,
          7.985956369289423e-06,
          8.00859081649447e-06,
          8.031306389214013e-06,
          8.054135031363672e-06,
          8.077144855419446e-06,
          8.100440690962982e-06,
          8.124162683360497e-06,
          8.148482739462218e-06,
          8.173598728158165e-06,
          8.199726468139169e-06,
          8.227089664610622e-06,
          8.255908081986859e-06,
          8.286384352227574e-06,
          8.318689911131519e-06,
          8.352950622010653e-06,
          8.389232684289282e-06,
          8.42752943251731e-06,
          8.467749609998034e-06,
          8.50970765346795e-06,
          8.55311645512851e-06,
          8.597582980706166e-06,
          8.64260702222722e-06,
          8.687583256706684e-06,
          8.731806671224796e-06,
          8.774481304367378e-06,
          8.814732146393724e-06,
          8.851619937765452e-06,
          8.884158509418405e-06,
          8.911334219900077e-06,
          8.932126965959529e-06,
          8.945532176540025e-06,
          8.950583148096191e-06,
          8.94637304491086e-06,
          8.93207587501781e-06,
          8.906965763680996e-06,
          8.870433884729296e-06,
          8.822002476834189e-06,
          8.761335466861041e-06,
          8.688245343573508e-06,
          8.602696067955177e-06,
          8.504801964908313e-06,
          8.3948227070276e-06,
          8.273154665238406e-06,
          8.140319053533606e-06,
          7.996947426325233e-06,
          7.843765188648266e-06,
          7.681573845069888e-06,
          7.511232738581458e-06,
          7.333641014717409e-06,
          7.1497204903279575e-06,
          6.96040001528435e-06,
          6.766601795742133e-06,
          6.569230008025215e-06,
          6.3691618823449435e-06,
          6.16724128529688e-06,
          5.964274688715334e-06,
          5.761029288153199e-06,
          5.558232933420994e-06,
          5.356575460667352e-06,
          5.15671097265771e-06,
          4.95926060136908e-06,
          4.764815303057904e-06,
          4.573938277349226e-06,
          4.387166664291062e-06,
          4.205012251684118e-06,
          4.027961014003791e-06,
          3.856471398599814e-06,
          3.690971369618532e-06,
          3.5318543107641204e-06,
          3.379473970704144e-06,
          3.2341387063644127e-06,
          3.0961053368943395e-06,
          2.965572962655081e-06,
          2.842677127687257e-06,
          2.7274847098052705e-06,
          2.619989909358003e-06,
          2.5201116760152485e-06,
          2.4276928635699915e-06,
          2.342501337296574e-06,
          2.264233179246787e-06,
          2.1925180471488983e-06,
          2.126926646176664e-06,
          2.0669801742747272e-06,
          2.0121615058943927e-06,
          1.961927791024628e-06,
          1.915724071283638e-06,
          1.8729974570884776e-06,
          1.8332113732541475e-06,
          1.7958593673803118e-06,
          1.7604779872841777e-06,
          1.7266582702357457e-06,
          1.6940554459928813e-06,
          1.6623965343017225e-06,
          1.6314856110537766e-06,
          1.6012066201757908e-06,
          1.5715237145408002e-06,
          1.5424792126084126e-06,
          1.5141893523612138e-06,
          1.486838105392467e-06,
          1.4606693777951698e-06,
          1.435977968199225e-06,
          1.4130996757282462e-06,
          1.3924009520550424e-06,
          1.3742684736944622e-06,
          1.3590989758663358e-06,
          1.34728964121618e-06,
          1.3392292794638834e-06,
          1.3352904719534277e-06,
          1.3358227923196159e-06,
          1.3411471549520425e-06,
          1.3515512899464553e-06,
          1.3672862993905313e-06,
          1.3885642169033671e-06,
          1.4155564712148196e-06,
          1.4483931452167248e-06,
          1.487162923474224e-06,
          1.5319136320144061e-06,
          1.582653292030298e-06,
          1.6393516311860316e-06,
          1.7019420194298106e-06,
          1.7703238174882022e-06,
          1.844365142565681e-06,
          1.9239060646458684e-06,
          2.0087622462565703e-06,
          2.098729027519743e-06,
          2.1935859366462254e-06,
          2.2931015747104405e-06,
          2.3970387845925416e-06,
          2.505159970443064e-06,
          2.617232389775143e-06,
          2.7330331997488785e-06,
          2.8523540070368334e-06,
          2.975004651334474e-06,
          3.100815950010069e-06,
          3.2296411484897538e-06,
          3.3613558593166245e-06,
          3.4958563323565664e-06,
          3.6330559775249426e-06,
          3.7728801560599e-06,
          3.915259361504743e-06,
          4.0601210205604604e-06,
          4.207380249287825e-06,
          4.3569299938607155e-06,
          4.508631059529608e-06,
          4.662302579861579e-06,
          4.8177134953873244e-06,
          4.974575593216106e-06,
          5.132538606064981e-06,
          5.2911877821499225e-06,
          5.450044220727604e-06,
          5.6085681283201475e-06,
          5.766164996283536e-06,
          5.922194541198657e-06,
          6.0759820959883205e-06,
          6.226832001934224e-06,
          6.374042439170281e-06,
          6.516921053371185e-06,
          6.654800694582375e-06,
          6.787054583110175e-06,
          6.913110256889377e-06,
          7.032461731691242e-06,
          7.1446794142481455e-06,
          7.249417441024094e-06,
          7.3464182626036355e-06,
          7.435514445358393e-06,
          7.5166278080254e-06,
          7.5897661416848715e-06,
          7.655017869382303e-06,
          7.71254508030586e-06,
          7.762575419365503e-06,
          7.805393325112296e-06,
          7.841331088566695e-06,
          7.870760156337698e-06,
          7.894083028920378e-06,
          7.911726016106725e-06,
          7.92413301361931e-06,
          7.931760366075835e-06,
          7.935072788426299e-06,
          7.934540237283305e-06,
          7.9306355598967e-06,
          7.923832705051493e-06,
          7.914605258270882e-06,
          7.903425063041958e-06,
          7.890760708467008e-06,
          7.877075698646474e-06,
          7.862826166203133e-06,
          7.848458047159101e-06,
          7.834403692291265e-06,
          7.82107794680554e-06,
          7.808873781946292e-06,
          7.798157606036477e-06,
          7.789264416364607e-06,
          7.782492976152236e-06,
          7.778101212259762e-06,
          7.776302029754439e-06,
          7.77725972996335e-06,
          7.781087200522933e-06,
          7.787844020760795e-06,
          7.79753559508473e-06,
          7.810113392412086e-06,
          7.825476332419113e-06,
          7.84347332074367e-06,
          7.863906896333803e-06,
          7.886537915928921e-06,
          7.91109116421336e-06,
          7.937261744566768e-06,
          7.964722075704143e-06,
          7.993129295077425e-06,
          8.022132851959118e-06,
          8.051382062852075e-06,
          8.080533400310434e-06,
          8.109257294160324e-06,
          8.137244241794651e-06,
          8.164210051466289e-06,
          8.189900078482716e-06,
          8.214092357438945e-06,
          8.236599582027274e-06,
          8.257269934936004e-06,
          8.275986820935818e-06,
          8.292667603341732e-06,
          8.30726148460067e-06,
          8.319746703096739e-06,
          8.330127238270503e-06,
          8.338429223485539e-06,
          8.344697260357184e-06,
          8.348990810121478e-06,
          8.351380808722873e-06,
          8.351946615215518e-06,
          8.350773361117268e-06,
          8.34794972530452e-06,
          8.3435661188024e-06,
          8.33771323009382e-06,
          8.330480857437756e-06,
          8.321956942328881e-06,
          8.312226718653716e-06,
          8.301371904983935e-06,
          8.28946989113108e-06,
          8.276592901670687e-06,
          8.262807154750894e-06,
          8.248172069642864e-06,
          8.232739606528155e-06,
          8.216553842656545e-06,
          8.199650896786128e-06,
          8.182059306530546e-06,
          8.163800940243871e-06,
          8.144892487442291e-06,
          8.125347522247991e-06,
          8.105179077168561e-06,
          8.084402605008365e-06,
          8.063039150736888e-06,
          8.041118508591712e-06,
          8.018682107832048e-06,
          7.99578535747785e-06,
          7.97249918855473e-06,
          7.948910562417517e-06,
          7.925121764270976e-06,
          7.901248368810613e-06,
          7.877415845168673e-06,
          7.853754855151633e-06,
          7.830395385603233e-06,
          7.807459936140092e-06,
          7.785056051576914e-06,
          7.763268539232035e-06,
          7.742151741544827e-06,
          7.721722242233079e-06,
          7.701952369437037e-06,
          7.682764823383501e-06,
          7.664028701862125e-06,
          7.645557128088653e-06,
          7.627106606879663e-06,
          7.608378151350893e-06,
          7.589020138440534e-06,
          7.568632772026083e-06,
          7.546773961324244e-06,
          7.5229663630704315e-06,
          7.496705291375266e-06,
          7.467467171099382e-06,
          7.434718200257081e-06,
          7.397922894775443e-06,
          7.356552214556275e-06,
          7.310091012100822e-06,
          7.25804460205891e-06,
          7.199944319248184e-06,
          7.135352010448113e-06,
          7.06386348734273e-06,
          6.985111049446786e-06,
          6.898765261309032e-06,
          6.804536232138978e-06,
          6.702174692783622e-06,
          6.59147318977305e-06,
          6.472267715052254e-06,
          6.344440060579453e-06,
          6.20792112863042e-06,
          6.062695343022774e-06,
          5.9088061975280145e-06,
          5.746362851759776e-06,
          5.575547550174964e-06,
          5.396623506475848e-06,
          5.209942774562228e-06,
          5.015953529263181e-06,
          4.815206115540927e-06,
          4.6083572020724e-06,
          4.39617139975707e-06,
          4.179519780059283e-06,
          3.959374850598434e-06,
          3.7368017104920503e-06,
          3.5129453063020965e-06,
          3.2890139285170656e-06,
          3.066259313514752e-06,
          2.8459539309658385e-06
         ],
         "yaxis": "y"
        },
        {
         "legendgroup": "Fraud",
         "marker": {
          "color": "rgb(255, 127, 14)"
         },
         "mode": "lines",
         "name": "Fraud",
         "showlegend": true,
         "type": "scatter",
         "x": [
          406,
          745.884,
          1085.768,
          1425.652,
          1765.536,
          2105.42,
          2445.304,
          2785.188,
          3125.072,
          3464.956,
          3804.84,
          4144.724,
          4484.608,
          4824.492,
          5164.376,
          5504.26,
          5844.144,
          6184.028,
          6523.912,
          6863.796,
          7203.68,
          7543.564,
          7883.448,
          8223.332,
          8563.216,
          8903.1,
          9242.984,
          9582.868,
          9922.752,
          10262.636,
          10602.52,
          10942.404,
          11282.288,
          11622.172,
          11962.056,
          12301.94,
          12641.824,
          12981.708,
          13321.592,
          13661.476,
          14001.36,
          14341.244,
          14681.128,
          15021.012,
          15360.896,
          15700.78,
          16040.664,
          16380.548,
          16720.432,
          17060.316,
          17400.2,
          17740.084,
          18079.968,
          18419.852,
          18759.736,
          19099.62,
          19439.504,
          19779.388,
          20119.272,
          20459.156,
          20799.04,
          21138.924,
          21478.808,
          21818.692,
          22158.576,
          22498.46,
          22838.344,
          23178.228,
          23518.112,
          23857.996,
          24197.88,
          24537.764,
          24877.648,
          25217.532,
          25557.416,
          25897.3,
          26237.184,
          26577.068,
          26916.952,
          27256.836,
          27596.72,
          27936.604,
          28276.488,
          28616.372,
          28956.256,
          29296.14,
          29636.024,
          29975.908,
          30315.792,
          30655.676,
          30995.56,
          31335.444,
          31675.328,
          32015.212,
          32355.096,
          32694.98,
          33034.864,
          33374.748,
          33714.632,
          34054.516,
          34394.4,
          34734.284,
          35074.168,
          35414.052,
          35753.936,
          36093.82,
          36433.704,
          36773.588,
          37113.472,
          37453.356,
          37793.24,
          38133.124,
          38473.008,
          38812.892,
          39152.776,
          39492.66,
          39832.544,
          40172.428,
          40512.312,
          40852.196,
          41192.08,
          41531.964,
          41871.848,
          42211.732,
          42551.616,
          42891.5,
          43231.384,
          43571.268,
          43911.152,
          44251.036,
          44590.92,
          44930.804,
          45270.688,
          45610.572,
          45950.456,
          46290.34,
          46630.224,
          46970.108,
          47309.992,
          47649.876,
          47989.76,
          48329.644,
          48669.528,
          49009.412,
          49349.296,
          49689.18,
          50029.064,
          50368.948,
          50708.832,
          51048.716,
          51388.6,
          51728.484,
          52068.368,
          52408.252,
          52748.136,
          53088.02,
          53427.904,
          53767.788,
          54107.672,
          54447.556,
          54787.44,
          55127.324,
          55467.208,
          55807.092,
          56146.976,
          56486.86,
          56826.744,
          57166.628,
          57506.512,
          57846.396,
          58186.28,
          58526.164,
          58866.048,
          59205.932,
          59545.816,
          59885.7,
          60225.584,
          60565.468,
          60905.352,
          61245.236,
          61585.12,
          61925.004,
          62264.888,
          62604.772,
          62944.656,
          63284.54,
          63624.424,
          63964.308,
          64304.192,
          64644.076,
          64983.96,
          65323.844,
          65663.728,
          66003.612,
          66343.496,
          66683.38,
          67023.264,
          67363.148,
          67703.032,
          68042.916,
          68382.8,
          68722.684,
          69062.568,
          69402.452,
          69742.336,
          70082.22,
          70422.104,
          70761.988,
          71101.872,
          71441.756,
          71781.64,
          72121.524,
          72461.408,
          72801.292,
          73141.176,
          73481.06,
          73820.944,
          74160.828,
          74500.712,
          74840.596,
          75180.48,
          75520.364,
          75860.248,
          76200.132,
          76540.016,
          76879.9,
          77219.784,
          77559.668,
          77899.552,
          78239.436,
          78579.32,
          78919.204,
          79259.088,
          79598.972,
          79938.856,
          80278.74,
          80618.624,
          80958.508,
          81298.392,
          81638.276,
          81978.16,
          82318.044,
          82657.928,
          82997.812,
          83337.696,
          83677.58,
          84017.464,
          84357.348,
          84697.232,
          85037.116,
          85377,
          85716.884,
          86056.768,
          86396.652,
          86736.536,
          87076.42,
          87416.304,
          87756.188,
          88096.072,
          88435.956,
          88775.84,
          89115.724,
          89455.608,
          89795.492,
          90135.376,
          90475.26,
          90815.144,
          91155.028,
          91494.912,
          91834.796,
          92174.68,
          92514.564,
          92854.448,
          93194.332,
          93534.216,
          93874.1,
          94213.984,
          94553.868,
          94893.752,
          95233.636,
          95573.52,
          95913.404,
          96253.288,
          96593.172,
          96933.056,
          97272.94,
          97612.824,
          97952.708,
          98292.592,
          98632.476,
          98972.36,
          99312.244,
          99652.128,
          99992.012,
          100331.896,
          100671.78,
          101011.664,
          101351.548,
          101691.432,
          102031.316,
          102371.2,
          102711.084,
          103050.968,
          103390.852,
          103730.736,
          104070.62,
          104410.504,
          104750.388,
          105090.272,
          105430.156,
          105770.04,
          106109.924,
          106449.808,
          106789.692,
          107129.576,
          107469.46,
          107809.344,
          108149.228,
          108489.112,
          108828.996,
          109168.88,
          109508.764,
          109848.648,
          110188.532,
          110528.416,
          110868.3,
          111208.184,
          111548.068,
          111887.952,
          112227.836,
          112567.72,
          112907.604,
          113247.488,
          113587.372,
          113927.256,
          114267.14,
          114607.024,
          114946.908,
          115286.792,
          115626.676,
          115966.56,
          116306.444,
          116646.328,
          116986.212,
          117326.096,
          117665.98,
          118005.864,
          118345.748,
          118685.632,
          119025.516,
          119365.4,
          119705.284,
          120045.168,
          120385.052,
          120724.936,
          121064.82,
          121404.704,
          121744.588,
          122084.472,
          122424.356,
          122764.24,
          123104.124,
          123444.008,
          123783.892,
          124123.776,
          124463.66,
          124803.544,
          125143.428,
          125483.312,
          125823.196,
          126163.08,
          126502.964,
          126842.848,
          127182.732,
          127522.616,
          127862.5,
          128202.384,
          128542.268,
          128882.152,
          129222.036,
          129561.92,
          129901.804,
          130241.688,
          130581.572,
          130921.456,
          131261.34,
          131601.224,
          131941.108,
          132280.992,
          132620.876,
          132960.76,
          133300.644,
          133640.528,
          133980.412,
          134320.296,
          134660.18,
          135000.064,
          135339.948,
          135679.832,
          136019.716,
          136359.6,
          136699.484,
          137039.368,
          137379.252,
          137719.136,
          138059.02,
          138398.904,
          138738.788,
          139078.672,
          139418.556,
          139758.44,
          140098.324,
          140438.208,
          140778.092,
          141117.976,
          141457.86,
          141797.744,
          142137.628,
          142477.512,
          142817.396,
          143157.28,
          143497.164,
          143837.048,
          144176.932,
          144516.816,
          144856.7,
          145196.584,
          145536.468,
          145876.352,
          146216.236,
          146556.12,
          146896.004,
          147235.888,
          147575.772,
          147915.656,
          148255.54,
          148595.424,
          148935.308,
          149275.192,
          149615.076,
          149954.96,
          150294.844,
          150634.728,
          150974.612,
          151314.496,
          151654.38,
          151994.264,
          152334.148,
          152674.032,
          153013.916,
          153353.8,
          153693.684,
          154033.568,
          154373.452,
          154713.336,
          155053.22,
          155393.104,
          155732.988,
          156072.872,
          156412.756,
          156752.64,
          157092.524,
          157432.408,
          157772.292,
          158112.176,
          158452.06,
          158791.944,
          159131.828,
          159471.712,
          159811.596,
          160151.48,
          160491.364,
          160831.248,
          161171.132,
          161511.016,
          161850.9,
          162190.784,
          162530.668,
          162870.552,
          163210.436,
          163550.32,
          163890.204,
          164230.088,
          164569.972,
          164909.856,
          165249.74,
          165589.624,
          165929.508,
          166269.392,
          166609.276,
          166949.16,
          167289.044,
          167628.928,
          167968.812,
          168308.696,
          168648.58,
          168988.464,
          169328.348,
          169668.232,
          170008.116
         ],
         "xaxis": "x",
         "y": [
          2.572527019918418e-06,
          2.631005805812937e-06,
          2.6897686304363096e-06,
          2.748786647363215e-06,
          2.8080309928186186e-06,
          2.8674728524427253e-06,
          2.9270835279276315e-06,
          2.9868345032672442e-06,
          3.0466975103604744e-06,
          3.1066445937077387e-06,
          3.1666481739421264e-06,
          3.226681109938762e-06,
          3.2867167592497503e-06,
          3.3467290366169317e-06,
          3.406692470320781e-06,
          3.466582256131253e-06,
          3.526374308634662e-06,
          3.586045309720732e-06,
          3.645572754024378e-06,
          3.7049349911288056e-06,
          3.7641112643496267e-06,
          3.823081745932923e-06,
          3.881827568515628e-06,
          3.9403308527116626e-06,
          3.998574730703815e-06,
          4.0565433657381914e-06,
          4.114221967435879e-06,
          4.171596802854261e-06,
          4.228655203249314e-06,
          4.285385566508666e-06,
          4.341777355244732e-06,
          4.397821090555953e-06,
          4.45350834148429e-06,
          4.508831710215102e-06,
          4.563784813086289e-06,
          4.618362257490828e-06,
          4.672559614776588e-06,
          4.726373389264866e-06,
          4.7798009835267675e-06,
          4.83284066007392e-06,
          4.885491499635645e-06,
          4.937753356211278e-06,
          4.9896268091001775e-06,
          5.041113112126349e-06,
          5.0922141402872045e-06,
          5.142932334068035e-06,
          5.193270641674171e-06,
          5.243232459442749e-06,
          5.292821570703962e-06,
          5.342042083369242e-06,
          5.390898366529332e-06,
          5.439394986349828e-06,
          5.487536641555422e-06,
          5.535328098794979e-06,
          5.582774128181612e-06,
          5.629879439299512e-06,
          5.676648617968548e-06,
          5.723086064053026e-06,
          5.769195930597316e-06,
          5.8149820645638296e-06,
          5.860447949442464e-06,
          5.905596649991411e-06,
          5.9504307593597765e-06,
          5.9949523488313964e-06,
          6.039162920417344e-06,
          6.083063362511555e-06,
          6.126653908809837e-06,
          6.169934100677945e-06,
          6.212902753138355e-06,
          6.255557924628919e-06,
          6.297896890669667e-06,
          6.339916121555684e-06,
          6.381611264176304e-06,
          6.422977128041528e-06,
          6.464007675577933e-06,
          6.50469601673676e-06,
          6.545034407937361e-06,
          6.585014255349518e-06,
          6.624626122499018e-06,
          6.663859742160647e-06,
          6.702704032484239e-06,
          6.741147117280052e-06,
          6.779176350371275e-06,
          6.816778343903151e-06,
          6.853939000481316e-06,
          6.890643548994118e-06,
          6.9268765839581e-06,
          6.9626221082105396e-06,
          6.997863578757835e-06,
          7.032583955575573e-06,
          7.066765753143316e-06,
          7.100391094485447e-06,
          7.133441767479521e-06,
          7.165899283183912e-06,
          7.197744935928862e-06,
          7.228959864908304e-06,
          7.259525117004093e-06,
          7.289421710570792e-06,
          7.318630699905549e-06,
          7.3471332401269065e-06,
          7.374910652185979e-06,
          7.401944487734295e-06,
          7.428216593576152e-06,
          7.4537091754361816e-06,
          7.478404860778615e-06,
          7.502286760421189e-06,
          7.5253385286939815e-06,
          7.547544421902768e-06,
          7.5688893548659665e-06,
          7.589358955305959e-06,
          7.608939615886934e-06,
          7.6276185437049725e-06,
          7.645383807049709e-06,
          7.662224379271767e-06,
          7.67813017960505e-06,
          7.693092110809925e-06,
          7.707102093518343e-06,
          7.720153097180753e-06,
          7.732239167530264e-06,
          7.743355450497756e-06,
          7.753498212529603e-06,
          7.762664857276423e-06,
          7.770853938639618e-06,
          7.778065170179887e-06,
          7.784299430908168e-06,
          7.789558767497574e-06,
          7.79384639297004e-06,
          7.79716668192795e-06,
          7.799525162415756e-06,
          7.800928504511131e-06,
          7.801384505758742e-06,
          7.800902073572762e-06,
          7.799491204745427e-06,
          7.797162962210424e-06,
          7.793929449219107e-06,
          7.78980378109638e-06,
          7.784800054750643e-06,
          7.778933316118128e-06,
          7.7722195257276e-06,
          7.764675522574627e-06,
          7.75631898649778e-06,
          7.747168399250406e-06,
          7.737243004461257e-06,
          7.726562766677164e-06,
          7.715148329678096e-06,
          7.703020974251553e-06,
          7.690202575608846e-06,
          7.676715560620796e-06,
          7.662582865042429e-06,
          7.647827890890538e-06,
          7.632474464127662e-06,
          7.616546792798236e-06,
          7.60006942575189e-06,
          7.583067212077946e-06,
          7.565565261365005e-06,
          7.5475889048861955e-06,
          7.5291636577997275e-06,
          7.510315182441238e-06,
          7.491069252771455e-06,
          7.471451720031e-06,
          7.4514884796393176e-06,
          7.431205439363608e-06,
          7.410628488770467e-06,
          7.389783469959165e-06,
          7.368696149565697e-06,
          7.3473921920127426e-06,
          7.325897133970936e-06,
          7.304236359985544e-06,
          7.282435079212536e-06,
          7.260518303199252e-06,
          7.238510824635931e-06,
          7.2164371969967705e-06,
          7.1943217149825935e-06,
          7.172188395671032e-06,
          7.150060960275756e-06,
          7.1279628164118875e-06,
          7.105917040762365e-06,
          7.08394636203787e-06,
          7.0620731441226695e-06,
          7.040319369298788e-06,
          7.018706621442342e-06,
          6.997256069088544e-06,
          6.975988448265329e-06,
          6.954924045000059e-06,
          6.934082677409289e-06,
          6.91348367728811e-06,
          6.893145871122813e-06,
          6.873087560459105e-06,
          6.85332650156659e-06,
          6.833879884350605e-06,
          6.814764310472566e-06,
          6.795995770650809e-06,
          6.77758962112589e-06,
          6.759560559286028e-06,
          6.741922598460664e-06,
          6.724689041902921e-06,
          6.707872455994459e-06,
          6.6914846427192845e-06,
          6.675536611465738e-06,
          6.660038550229453e-06,
          6.644999796301862e-06,
          6.630428806542273e-06,
          6.616333127343148e-06,
          6.60271936441016e-06,
          6.589593152489995e-06,
          6.576959125189144e-06,
          6.564820885037662e-06,
          6.553180973960312e-06,
          6.542040844326766e-06,
          6.531400830759606e-06,
          6.52126012288577e-06,
          6.5116167392228665e-06,
          6.50246750239599e-06,
          6.493808015884779e-06,
          6.485632642502064e-06,
          6.4779344848076e-06,
          6.470705367659415e-06,
          6.463935823104725e-06,
          6.45761507780952e-06,
          6.451731043222334e-06,
          6.446270308662619e-06,
          6.441218137517923e-06,
          6.436558466726342e-06,
          6.432273909712515e-06,
          6.428345762934637e-06,
          6.42475401618952e-06,
          6.4214773668104815e-06,
          6.418493237878817e-06,
          6.415777800556122e-06,
          6.4133060006287515e-06,
          6.411051589339756e-06,
          6.408987158566514e-06,
          6.407084180384327e-06,
          6.405313051037881e-06,
          6.403643139323297e-06,
          6.402042839363781e-06,
          6.400479627742134e-06,
          6.398920124932853e-06,
          6.397330160956046e-06,
          6.395674845154968e-06,
          6.393918639978058e-06,
          6.3920254386263285e-06,
          6.389958646405971e-06,
          6.387681265607025e-06,
          6.385155983708639e-06,
          6.38234526469288e-06,
          6.379211443230835e-06,
          6.375716821486895e-06,
          6.3718237682706325e-06,
          6.367494820249902e-06,
          6.36269278492403e-06,
          6.357380845042466e-06,
          6.3515226641418e-06,
          6.345082492863208e-06,
          6.338025275702308e-06,
          6.330316757835684e-06,
          6.321923591660977e-06,
          6.312813442682558e-06,
          6.302955094371118e-06,
          6.292318551623303e-06,
          6.280875142447136e-06,
          6.268597617500541e-06,
          6.255460247112568e-06,
          6.241438915422391e-06,
          6.226511211276383e-06,
          6.210656515532499e-06,
          6.193856084429973e-06,
          6.17609312869381e-06,
          6.157352888056185e-06,
          6.137622700890797e-06,
          6.116892068672295e-06,
          6.095152714989146e-06,
          6.072398638857379e-06,
          6.048626162101342e-06,
          6.0238339705888565e-06,
          5.998023149129177e-06,
          5.971197209865402e-06,
          5.943362114015653e-06,
          5.914526286842001e-06,
          5.8847006257506395e-06,
          5.853898501451924e-06,
          5.822135752134668e-06,
          5.7894306706348805e-06,
          5.7558039846049595e-06,
          5.7212788297156276e-06,
          5.685880715948569e-06,
          5.6496374870633735e-06,
          5.612579273347972e-06,
          5.574738437786229e-06,
          5.536149515800895e-06,
          5.4968491487535515e-06,
          5.456876011406088e-06,
          5.4162707335700055e-06,
          5.37507581619075e-06,
          5.33333554213421e-06,
          5.291095881960872e-06,
          5.248404394990801e-06,
          5.205310125978368e-06,
          5.1618634977305e-06,
          5.11811620001525e-06,
          5.074121075119356e-06,
          5.029932000423425e-06,
          4.9856037683720875e-06,
          4.941191964223308e-06,
          4.896752841966401e-06,
          4.8523431988021575e-06,
          4.808020248580183e-06,
          4.763841494589366e-06,
          4.719864602095876e-06,
          4.676147271020589e-06,
          4.632747109143132e-06,
          4.589721506214109e-06,
          4.547127509349563e-06,
          4.505021700072849e-06,
          4.4634600733590005e-06,
          4.422497919024834e-06,
          4.382189705795715e-06,
          4.3425889683652545e-06,
          4.30374819774975e-06,
          4.2657187352226015e-06,
          4.228550670097033e-06,
          4.192292741607471e-06,
          4.156992245121317e-06,
          4.122694942893465e-06,
          4.089444979555855e-06,
          4.057284802514104e-06,
          4.026255087402535e-06,
          3.9963946687275235e-06,
          3.9677404758083995e-06,
          3.940327474103147e-06,
          3.914188611985553e-06,
          3.889354773018635e-06,
          3.865854733748636e-06,
          3.843715127022965e-06,
          3.8229604108152885e-06,
          3.803612842520981e-06,
          3.7856924586670503e-06,
          3.769217059961994e-06,
          3.7542022015929186e-06,
          3.7406611886604264e-06,
          3.7286050766251518e-06,
          3.718042676624742e-06,
          3.70898056550533e-06,
          3.701423100398435e-06,
          3.695372437661672e-06,
          3.6908285559905303e-06,
          3.6877892834982047e-06,
          3.6862503285517056e-06,
          3.686205314144644e-06,
          3.687645815580386e-06,
          3.690561401234203e-06,
          3.6949396761586598e-06,
          3.700766328293753e-06,
          3.7080251770415652e-06,
          3.7166982239646557e-06,
          3.726765705368289e-06,
          3.738206146528155e-06,
          3.7509964173285537e-06,
          3.7651117890798206e-06,
          3.7805259922891007e-06,
          3.7972112751645677e-06,
          3.815138462640423e-06,
          3.834277015717929e-06,
          3.8545950909266296e-06,
          3.876059599719653e-06,
          3.898636267627166e-06,
          3.922289693003299e-06,
          3.94698340521336e-06,
          3.972679922120383e-06,
          3.9993408067424625e-06,
          4.026926722965422e-06,
          4.0553974902085626e-06,
          4.084712136954442e-06,
          4.114828953067467e-06,
          4.145705540839353e-06,
          4.177298864713323e-06,
          4.209565299651933e-06,
          4.242460678127159e-06,
          4.275940335723664e-06,
          4.309959155359333e-06,
          4.344471610138979e-06,
          4.3794318048687506e-06,
          4.414793516270268e-06,
          4.450510231943431e-06,
          4.486535188137171e-06,
          4.5228214063960735e-06,
          4.559321729159451e-06,
          4.595988854396516e-06,
          4.63277536936818e-06,
          4.669633783611574e-06,
          4.7065165612480985e-06,
          4.743376152719507e-06,
          4.780165026059656e-06,
          4.816835697810889e-06,
          4.8533407636952975e-06,
          4.889632929150577e-06,
          4.9256650398392945e-06,
          4.961390112238061e-06,
          4.996761364410147e-06,
          5.031732247060992e-06,
          5.066256474971185e-06,
          5.100288058895631e-06,
          5.133781338011258e-06,
          5.166691012987884e-06,
          5.19897217974911e-06,
          5.230580363981216e-06,
          5.26147155643864e-06,
          5.291602249084775e-06,
          5.320929472096579e-06,
          5.34941083175043e-06,
          5.377004549195872e-06,
          5.4036695001124245e-06,
          5.4293652552331135e-06,
          5.4540521217067536e-06,
          5.477691185259584e-06,
          5.500244353104931e-06,
          5.521674397538641e-06,
          5.541945000146363e-06,
          5.561020796538232e-06,
          5.578867421515785e-06,
          5.595451554565909e-06,
          5.610740965567119e-06,
          5.6247045605843495e-06,
          5.637312427620307e-06,
          5.648535882183493e-06,
          5.65834751252651e-06,
          5.666721224401679e-06,
          5.6736322851763365e-06,
          5.679057367145258e-06,
          5.682974589874616e-06,
          5.6853635614091865e-06,
          5.686205418173046e-06,
          5.6854828633933666e-06,
          5.6831802038774935e-06,
          5.6792833849747315e-06,
          5.673780023556718e-06,
          5.66665943885375e-06,
          5.65791268098852e-06,
          5.6475325570542406e-06,
          5.63551365459e-06,
          5.621852362313586e-06,
          5.606546887979505e-06,
          5.589597273238925e-06,
          5.571005405387344e-06,
          5.550775025896205e-06,
          5.528911735635076e-06,
          5.505422996702588e-06,
          5.480318130795817e-06,
          5.453608314060395e-06,
          5.42530656837587e-06,
          5.395427749044038e-06,
          5.363988528860968e-06,
          5.331007378566766e-06,
          5.296504543680575e-06,
          5.260502017741648e-06,
          5.223023511990746e-06,
          5.184094421539272e-06,
          5.1437417880866455e-06,
          5.101994259259248e-06,
          5.058882044656459e-06,
          5.014436868701737e-06,
          4.9686919204079945e-06,
          4.921681800177756e-06,
          4.873442463769114e-06,
          4.824011163568484e-06,
          4.773426387320356e-06,
          4.721727794472901e-06,
          4.668956150306307e-06,
          4.6151532580175615e-06,
          4.560361888942082e-06,
          4.504625711097862e-06,
          4.4479892162428285e-06,
          4.390497645639761e-06,
          4.332196914726352e-06,
          4.27313353689029e-06,
          4.213354546550484e-06,
          4.152907421746281e-06,
          4.091840006436425e-06,
          4.0302004327081e-06,
          3.968037043095127e-06,
          3.905398313201443e-06,
          3.842332774823001e-06,
          3.7788889397569994e-06,
          3.7151152244830637e-06,
          3.6510598758955174e-06,
          3.586770898260024e-06,
          3.522295981561827e-06,
          3.457682431405477e-06,
          3.3929771006189366e-06,
          3.328226322707071e-06,
          3.2634758472913725e-06,
          3.1987707776643122e-06,
          3.134155510578029e-06,
          3.0696736783780283e-06,
          3.00536809358335e-06,
          2.9412806960054663e-06,
          2.877452502488681e-06,
          2.8139235593453064e-06,
          2.7507328975493906e-06,
          2.6879184907434155e-06
         ],
         "yaxis": "y"
        }
       ],
       "layout": {
        "barmode": "overlay",
        "hovermode": "closest",
        "legend": {
         "traceorder": "reversed"
        },
        "template": {
         "data": {
          "bar": [
           {
            "error_x": {
             "color": "#2a3f5f"
            },
            "error_y": {
             "color": "#2a3f5f"
            },
            "marker": {
             "line": {
              "color": "#E5ECF6",
              "width": 0.5
             }
            },
            "type": "bar"
           }
          ],
          "barpolar": [
           {
            "marker": {
             "line": {
              "color": "#E5ECF6",
              "width": 0.5
             }
            },
            "type": "barpolar"
           }
          ],
          "carpet": [
           {
            "aaxis": {
             "endlinecolor": "#2a3f5f",
             "gridcolor": "white",
             "linecolor": "white",
             "minorgridcolor": "white",
             "startlinecolor": "#2a3f5f"
            },
            "baxis": {
             "endlinecolor": "#2a3f5f",
             "gridcolor": "white",
             "linecolor": "white",
             "minorgridcolor": "white",
             "startlinecolor": "#2a3f5f"
            },
            "type": "carpet"
           }
          ],
          "choropleth": [
           {
            "colorbar": {
             "outlinewidth": 0,
             "ticks": ""
            },
            "type": "choropleth"
           }
          ],
          "contour": [
           {
            "colorbar": {
             "outlinewidth": 0,
             "ticks": ""
            },
            "colorscale": [
             [
              0,
              "#0d0887"
             ],
             [
              0.1111111111111111,
              "#46039f"
             ],
             [
              0.2222222222222222,
              "#7201a8"
             ],
             [
              0.3333333333333333,
              "#9c179e"
             ],
             [
              0.4444444444444444,
              "#bd3786"
             ],
             [
              0.5555555555555556,
              "#d8576b"
             ],
             [
              0.6666666666666666,
              "#ed7953"
             ],
             [
              0.7777777777777778,
              "#fb9f3a"
             ],
             [
              0.8888888888888888,
              "#fdca26"
             ],
             [
              1,
              "#f0f921"
             ]
            ],
            "type": "contour"
           }
          ],
          "contourcarpet": [
           {
            "colorbar": {
             "outlinewidth": 0,
             "ticks": ""
            },
            "type": "contourcarpet"
           }
          ],
          "heatmap": [
           {
            "colorbar": {
             "outlinewidth": 0,
             "ticks": ""
            },
            "colorscale": [
             [
              0,
              "#0d0887"
             ],
             [
              0.1111111111111111,
              "#46039f"
             ],
             [
              0.2222222222222222,
              "#7201a8"
             ],
             [
              0.3333333333333333,
              "#9c179e"
             ],
             [
              0.4444444444444444,
              "#bd3786"
             ],
             [
              0.5555555555555556,
              "#d8576b"
             ],
             [
              0.6666666666666666,
              "#ed7953"
             ],
             [
              0.7777777777777778,
              "#fb9f3a"
             ],
             [
              0.8888888888888888,
              "#fdca26"
             ],
             [
              1,
              "#f0f921"
             ]
            ],
            "type": "heatmap"
           }
          ],
          "heatmapgl": [
           {
            "colorbar": {
             "outlinewidth": 0,
             "ticks": ""
            },
            "colorscale": [
             [
              0,
              "#0d0887"
             ],
             [
              0.1111111111111111,
              "#46039f"
             ],
             [
              0.2222222222222222,
              "#7201a8"
             ],
             [
              0.3333333333333333,
              "#9c179e"
             ],
             [
              0.4444444444444444,
              "#bd3786"
             ],
             [
              0.5555555555555556,
              "#d8576b"
             ],
             [
              0.6666666666666666,
              "#ed7953"
             ],
             [
              0.7777777777777778,
              "#fb9f3a"
             ],
             [
              0.8888888888888888,
              "#fdca26"
             ],
             [
              1,
              "#f0f921"
             ]
            ],
            "type": "heatmapgl"
           }
          ],
          "histogram": [
           {
            "marker": {
             "colorbar": {
              "outlinewidth": 0,
              "ticks": ""
             }
            },
            "type": "histogram"
           }
          ],
          "histogram2d": [
           {
            "colorbar": {
             "outlinewidth": 0,
             "ticks": ""
            },
            "colorscale": [
             [
              0,
              "#0d0887"
             ],
             [
              0.1111111111111111,
              "#46039f"
             ],
             [
              0.2222222222222222,
              "#7201a8"
             ],
             [
              0.3333333333333333,
              "#9c179e"
             ],
             [
              0.4444444444444444,
              "#bd3786"
             ],
             [
              0.5555555555555556,
              "#d8576b"
             ],
             [
              0.6666666666666666,
              "#ed7953"
             ],
             [
              0.7777777777777778,
              "#fb9f3a"
             ],
             [
              0.8888888888888888,
              "#fdca26"
             ],
             [
              1,
              "#f0f921"
             ]
            ],
            "type": "histogram2d"
           }
          ],
          "histogram2dcontour": [
           {
            "colorbar": {
             "outlinewidth": 0,
             "ticks": ""
            },
            "colorscale": [
             [
              0,
              "#0d0887"
             ],
             [
              0.1111111111111111,
              "#46039f"
             ],
             [
              0.2222222222222222,
              "#7201a8"
             ],
             [
              0.3333333333333333,
              "#9c179e"
             ],
             [
              0.4444444444444444,
              "#bd3786"
             ],
             [
              0.5555555555555556,
              "#d8576b"
             ],
             [
              0.6666666666666666,
              "#ed7953"
             ],
             [
              0.7777777777777778,
              "#fb9f3a"
             ],
             [
              0.8888888888888888,
              "#fdca26"
             ],
             [
              1,
              "#f0f921"
             ]
            ],
            "type": "histogram2dcontour"
           }
          ],
          "mesh3d": [
           {
            "colorbar": {
             "outlinewidth": 0,
             "ticks": ""
            },
            "type": "mesh3d"
           }
          ],
          "parcoords": [
           {
            "line": {
             "colorbar": {
              "outlinewidth": 0,
              "ticks": ""
             }
            },
            "type": "parcoords"
           }
          ],
          "pie": [
           {
            "automargin": true,
            "type": "pie"
           }
          ],
          "scatter": [
           {
            "marker": {
             "colorbar": {
              "outlinewidth": 0,
              "ticks": ""
             }
            },
            "type": "scatter"
           }
          ],
          "scatter3d": [
           {
            "line": {
             "colorbar": {
              "outlinewidth": 0,
              "ticks": ""
             }
            },
            "marker": {
             "colorbar": {
              "outlinewidth": 0,
              "ticks": ""
             }
            },
            "type": "scatter3d"
           }
          ],
          "scattercarpet": [
           {
            "marker": {
             "colorbar": {
              "outlinewidth": 0,
              "ticks": ""
             }
            },
            "type": "scattercarpet"
           }
          ],
          "scattergeo": [
           {
            "marker": {
             "colorbar": {
              "outlinewidth": 0,
              "ticks": ""
             }
            },
            "type": "scattergeo"
           }
          ],
          "scattergl": [
           {
            "marker": {
             "colorbar": {
              "outlinewidth": 0,
              "ticks": ""
             }
            },
            "type": "scattergl"
           }
          ],
          "scattermapbox": [
           {
            "marker": {
             "colorbar": {
              "outlinewidth": 0,
              "ticks": ""
             }
            },
            "type": "scattermapbox"
           }
          ],
          "scatterpolar": [
           {
            "marker": {
             "colorbar": {
              "outlinewidth": 0,
              "ticks": ""
             }
            },
            "type": "scatterpolar"
           }
          ],
          "scatterpolargl": [
           {
            "marker": {
             "colorbar": {
              "outlinewidth": 0,
              "ticks": ""
             }
            },
            "type": "scatterpolargl"
           }
          ],
          "scatterternary": [
           {
            "marker": {
             "colorbar": {
              "outlinewidth": 0,
              "ticks": ""
             }
            },
            "type": "scatterternary"
           }
          ],
          "surface": [
           {
            "colorbar": {
             "outlinewidth": 0,
             "ticks": ""
            },
            "colorscale": [
             [
              0,
              "#0d0887"
             ],
             [
              0.1111111111111111,
              "#46039f"
             ],
             [
              0.2222222222222222,
              "#7201a8"
             ],
             [
              0.3333333333333333,
              "#9c179e"
             ],
             [
              0.4444444444444444,
              "#bd3786"
             ],
             [
              0.5555555555555556,
              "#d8576b"
             ],
             [
              0.6666666666666666,
              "#ed7953"
             ],
             [
              0.7777777777777778,
              "#fb9f3a"
             ],
             [
              0.8888888888888888,
              "#fdca26"
             ],
             [
              1,
              "#f0f921"
             ]
            ],
            "type": "surface"
           }
          ],
          "table": [
           {
            "cells": {
             "fill": {
              "color": "#EBF0F8"
             },
             "line": {
              "color": "white"
             }
            },
            "header": {
             "fill": {
              "color": "#C8D4E3"
             },
             "line": {
              "color": "white"
             }
            },
            "type": "table"
           }
          ]
         },
         "layout": {
          "annotationdefaults": {
           "arrowcolor": "#2a3f5f",
           "arrowhead": 0,
           "arrowwidth": 1
          },
          "coloraxis": {
           "colorbar": {
            "outlinewidth": 0,
            "ticks": ""
           }
          },
          "colorscale": {
           "diverging": [
            [
             0,
             "#8e0152"
            ],
            [
             0.1,
             "#c51b7d"
            ],
            [
             0.2,
             "#de77ae"
            ],
            [
             0.3,
             "#f1b6da"
            ],
            [
             0.4,
             "#fde0ef"
            ],
            [
             0.5,
             "#f7f7f7"
            ],
            [
             0.6,
             "#e6f5d0"
            ],
            [
             0.7,
             "#b8e186"
            ],
            [
             0.8,
             "#7fbc41"
            ],
            [
             0.9,
             "#4d9221"
            ],
            [
             1,
             "#276419"
            ]
           ],
           "sequential": [
            [
             0,
             "#0d0887"
            ],
            [
             0.1111111111111111,
             "#46039f"
            ],
            [
             0.2222222222222222,
             "#7201a8"
            ],
            [
             0.3333333333333333,
             "#9c179e"
            ],
            [
             0.4444444444444444,
             "#bd3786"
            ],
            [
             0.5555555555555556,
             "#d8576b"
            ],
            [
             0.6666666666666666,
             "#ed7953"
            ],
            [
             0.7777777777777778,
             "#fb9f3a"
            ],
            [
             0.8888888888888888,
             "#fdca26"
            ],
            [
             1,
             "#f0f921"
            ]
           ],
           "sequentialminus": [
            [
             0,
             "#0d0887"
            ],
            [
             0.1111111111111111,
             "#46039f"
            ],
            [
             0.2222222222222222,
             "#7201a8"
            ],
            [
             0.3333333333333333,
             "#9c179e"
            ],
            [
             0.4444444444444444,
             "#bd3786"
            ],
            [
             0.5555555555555556,
             "#d8576b"
            ],
            [
             0.6666666666666666,
             "#ed7953"
            ],
            [
             0.7777777777777778,
             "#fb9f3a"
            ],
            [
             0.8888888888888888,
             "#fdca26"
            ],
            [
             1,
             "#f0f921"
            ]
           ]
          },
          "colorway": [
           "#636efa",
           "#EF553B",
           "#00cc96",
           "#ab63fa",
           "#FFA15A",
           "#19d3f3",
           "#FF6692",
           "#B6E880",
           "#FF97FF",
           "#FECB52"
          ],
          "font": {
           "color": "#2a3f5f"
          },
          "geo": {
           "bgcolor": "white",
           "lakecolor": "white",
           "landcolor": "#E5ECF6",
           "showlakes": true,
           "showland": true,
           "subunitcolor": "white"
          },
          "hoverlabel": {
           "align": "left"
          },
          "hovermode": "closest",
          "mapbox": {
           "style": "light"
          },
          "paper_bgcolor": "white",
          "plot_bgcolor": "#E5ECF6",
          "polar": {
           "angularaxis": {
            "gridcolor": "white",
            "linecolor": "white",
            "ticks": ""
           },
           "bgcolor": "#E5ECF6",
           "radialaxis": {
            "gridcolor": "white",
            "linecolor": "white",
            "ticks": ""
           }
          },
          "scene": {
           "xaxis": {
            "backgroundcolor": "#E5ECF6",
            "gridcolor": "white",
            "gridwidth": 2,
            "linecolor": "white",
            "showbackground": true,
            "ticks": "",
            "zerolinecolor": "white"
           },
           "yaxis": {
            "backgroundcolor": "#E5ECF6",
            "gridcolor": "white",
            "gridwidth": 2,
            "linecolor": "white",
            "showbackground": true,
            "ticks": "",
            "zerolinecolor": "white"
           },
           "zaxis": {
            "backgroundcolor": "#E5ECF6",
            "gridcolor": "white",
            "gridwidth": 2,
            "linecolor": "white",
            "showbackground": true,
            "ticks": "",
            "zerolinecolor": "white"
           }
          },
          "shapedefaults": {
           "line": {
            "color": "#2a3f5f"
           }
          },
          "ternary": {
           "aaxis": {
            "gridcolor": "white",
            "linecolor": "white",
            "ticks": ""
           },
           "baxis": {
            "gridcolor": "white",
            "linecolor": "white",
            "ticks": ""
           },
           "bgcolor": "#E5ECF6",
           "caxis": {
            "gridcolor": "white",
            "linecolor": "white",
            "ticks": ""
           }
          },
          "title": {
           "x": 0.05
          },
          "xaxis": {
           "automargin": true,
           "gridcolor": "white",
           "linecolor": "white",
           "ticks": "",
           "title": {
            "standoff": 15
           },
           "zerolinecolor": "white",
           "zerolinewidth": 2
          },
          "yaxis": {
           "automargin": true,
           "gridcolor": "white",
           "linecolor": "white",
           "ticks": "",
           "title": {
            "standoff": 15
           },
           "zerolinecolor": "white",
           "zerolinewidth": 2
          }
         }
        },
        "title": {
         "text": "Credit Card Transactions Time Density Plot"
        },
        "xaxis": {
         "anchor": "y2",
         "domain": [
          0,
          1
         ],
         "title": {
          "text": "Time [s]"
         },
         "zeroline": false
        },
        "yaxis": {
         "anchor": "free",
         "domain": [
          0,
          1
         ],
         "position": 0
        }
       }
      },
      "text/html": [
       "<div>\n",
       "        \n",
       "        \n",
       "            <div id=\"0626b87a-6c2d-452a-b1e0-27063cf0f2c4\" class=\"plotly-graph-div\" style=\"height:525px; width:100%;\"></div>\n",
       "            <script type=\"text/javascript\">\n",
       "                require([\"plotly\"], function(Plotly) {\n",
       "                    window.PLOTLYENV=window.PLOTLYENV || {};\n",
       "                    \n",
       "                if (document.getElementById(\"0626b87a-6c2d-452a-b1e0-27063cf0f2c4\")) {\n",
       "                    Plotly.newPlot(\n",
       "                        '0626b87a-6c2d-452a-b1e0-27063cf0f2c4',\n",
       "                        [{\"legendgroup\": \"Not Fraud\", \"marker\": {\"color\": \"rgb(31, 119, 180)\"}, \"mode\": \"lines\", \"name\": \"Not Fraud\", \"showlegend\": true, \"type\": \"scatter\", \"x\": [0.0, 345.584, 691.168, 1036.752, 1382.336, 1727.92, 2073.504, 2419.088, 2764.672, 3110.256, 3455.84, 3801.424, 4147.008, 4492.592, 4838.176, 5183.76, 5529.344, 5874.928, 6220.512, 6566.096, 6911.68, 7257.264, 7602.848, 7948.432, 8294.016, 8639.6, 8985.184, 9330.768, 9676.352, 10021.936, 10367.52, 10713.104, 11058.688, 11404.272, 11749.856, 12095.44, 12441.024, 12786.608, 13132.192, 13477.776, 13823.36, 14168.944, 14514.528, 14860.112, 15205.696, 15551.28, 15896.864, 16242.448, 16588.032, 16933.616, 17279.2, 17624.784, 17970.368, 18315.952, 18661.536, 19007.12, 19352.704, 19698.288, 20043.872, 20389.456, 20735.04, 21080.624, 21426.208, 21771.792, 22117.376, 22462.96, 22808.544, 23154.128, 23499.712, 23845.296, 24190.88, 24536.464, 24882.048, 25227.632, 25573.216, 25918.8, 26264.384, 26609.968, 26955.552, 27301.136, 27646.72, 27992.304, 28337.888, 28683.472, 29029.056, 29374.64, 29720.224, 30065.808, 30411.392, 30756.976, 31102.56, 31448.144, 31793.728, 32139.312, 32484.896, 32830.48, 33176.064, 33521.648, 33867.232, 34212.816, 34558.4, 34903.984, 35249.568, 35595.152, 35940.736, 36286.32, 36631.904, 36977.488, 37323.072, 37668.656, 38014.24, 38359.824, 38705.408, 39050.992, 39396.576, 39742.16, 40087.744, 40433.328, 40778.912, 41124.496, 41470.08, 41815.664, 42161.248, 42506.832, 42852.416, 43198.0, 43543.584, 43889.168, 44234.752, 44580.336, 44925.92, 45271.504, 45617.088, 45962.672, 46308.256, 46653.84, 46999.424, 47345.008, 47690.592, 48036.176, 48381.76, 48727.344, 49072.928, 49418.512, 49764.096, 50109.68, 50455.264, 50800.848, 51146.432, 51492.016, 51837.6, 52183.184, 52528.768, 52874.352, 53219.936, 53565.52, 53911.104, 54256.688, 54602.272, 54947.856, 55293.44, 55639.024, 55984.608, 56330.192, 56675.776, 57021.36, 57366.944, 57712.528, 58058.112, 58403.696, 58749.28, 59094.864, 59440.448, 59786.032, 60131.616, 60477.2, 60822.784, 61168.368, 61513.952, 61859.536, 62205.12, 62550.704, 62896.288, 63241.872, 63587.456, 63933.04, 64278.624, 64624.208, 64969.792, 65315.376, 65660.96, 66006.544, 66352.128, 66697.712, 67043.296, 67388.88, 67734.464, 68080.048, 68425.632, 68771.216, 69116.8, 69462.384, 69807.968, 70153.552, 70499.136, 70844.72, 71190.304, 71535.888, 71881.472, 72227.056, 72572.64, 72918.224, 73263.808, 73609.392, 73954.976, 74300.56, 74646.144, 74991.728, 75337.312, 75682.896, 76028.48, 76374.064, 76719.648, 77065.232, 77410.816, 77756.4, 78101.984, 78447.568, 78793.152, 79138.736, 79484.32, 79829.904, 80175.488, 80521.072, 80866.656, 81212.24, 81557.824, 81903.408, 82248.992, 82594.576, 82940.16, 83285.744, 83631.328, 83976.912, 84322.496, 84668.08, 85013.664, 85359.248, 85704.832, 86050.416, 86396.0, 86741.584, 87087.168, 87432.752, 87778.336, 88123.92, 88469.504, 88815.088, 89160.672, 89506.256, 89851.84, 90197.424, 90543.008, 90888.592, 91234.176, 91579.76, 91925.344, 92270.928, 92616.512, 92962.096, 93307.68, 93653.264, 93998.848, 94344.432, 94690.016, 95035.6, 95381.184, 95726.768, 96072.352, 96417.936, 96763.52, 97109.104, 97454.688, 97800.272, 98145.856, 98491.44, 98837.024, 99182.608, 99528.192, 99873.776, 100219.36, 100564.944, 100910.528, 101256.112, 101601.696, 101947.28, 102292.864, 102638.448, 102984.032, 103329.616, 103675.2, 104020.784, 104366.368, 104711.952, 105057.536, 105403.12, 105748.704, 106094.288, 106439.872, 106785.456, 107131.04, 107476.624, 107822.208, 108167.792, 108513.376, 108858.96, 109204.544, 109550.128, 109895.712, 110241.296, 110586.88, 110932.464, 111278.048, 111623.632, 111969.216, 112314.8, 112660.384, 113005.968, 113351.552, 113697.136, 114042.72, 114388.304, 114733.888, 115079.472, 115425.056, 115770.64, 116116.224, 116461.808, 116807.392, 117152.976, 117498.56, 117844.144, 118189.728, 118535.312, 118880.896, 119226.48, 119572.064, 119917.648, 120263.232, 120608.816, 120954.4, 121299.984, 121645.568, 121991.152, 122336.736, 122682.32, 123027.904, 123373.488, 123719.072, 124064.656, 124410.24, 124755.824, 125101.408, 125446.992, 125792.576, 126138.16, 126483.744, 126829.328, 127174.912, 127520.496, 127866.08, 128211.664, 128557.248, 128902.832, 129248.416, 129594.0, 129939.584, 130285.168, 130630.752, 130976.336, 131321.92, 131667.504, 132013.088, 132358.672, 132704.256, 133049.84, 133395.424, 133741.008, 134086.592, 134432.176, 134777.76, 135123.344, 135468.928, 135814.512, 136160.096, 136505.68, 136851.264, 137196.848, 137542.432, 137888.016, 138233.6, 138579.184, 138924.768, 139270.352, 139615.936, 139961.52, 140307.104, 140652.688, 140998.272, 141343.856, 141689.44, 142035.024, 142380.608, 142726.192, 143071.776, 143417.36, 143762.944, 144108.528, 144454.112, 144799.696, 145145.28, 145490.864, 145836.448, 146182.032, 146527.616, 146873.2, 147218.784, 147564.368, 147909.952, 148255.536, 148601.12, 148946.704, 149292.288, 149637.872, 149983.456, 150329.04, 150674.624, 151020.208, 151365.792, 151711.376, 152056.96, 152402.544, 152748.128, 153093.712, 153439.296, 153784.88, 154130.464, 154476.048, 154821.632, 155167.216, 155512.8, 155858.384, 156203.968, 156549.552, 156895.136, 157240.72, 157586.304, 157931.888, 158277.472, 158623.056, 158968.64, 159314.224, 159659.808, 160005.392, 160350.976, 160696.56, 161042.144, 161387.728, 161733.312, 162078.896, 162424.48, 162770.064, 163115.648, 163461.232, 163806.816, 164152.4, 164497.984, 164843.568, 165189.152, 165534.736, 165880.32, 166225.904, 166571.488, 166917.072, 167262.656, 167608.24, 167953.824, 168299.408, 168644.992, 168990.576, 169336.16, 169681.744, 170027.328, 170372.912, 170718.496, 171064.08, 171409.664, 171755.248, 172100.832, 172446.416], \"xaxis\": \"x\", \"y\": [1.69734745608626e-06, 1.7892406860838496e-06, 1.8751066622895464e-06, 1.953924021131705e-06, 2.024814787484307e-06, 2.087070000172907e-06, 2.140169352315925e-06, 2.1837939471418097e-06, 2.2178316034667433e-06, 2.242374511761459e-06, 2.2577094196195842e-06, 2.2643008918189907e-06, 2.2627685234052456e-06, 2.253859265166437e-06, 2.238416234077647e-06, 2.2173455159804076e-06, 2.1915825183282717e-06, 2.162059397021283e-06, 2.1296749680388292e-06, 2.09526833119356e-06, 2.059597193031919e-06, 2.0233215945720555e-06, 1.9869934446535072e-06, 1.9510519490666987e-06, 1.9158247265703086e-06, 1.8815341310019928e-06, 1.8483080671293393e-06, 1.8161944068401388e-06, 1.7851779885079824e-06, 1.7551991191213955e-06, 1.7261724957826228e-06, 1.6980055169884531e-06, 1.6706150584079206e-06, 1.643941934097274e-06, 1.6179624420038266e-06, 1.5926965909611322e-06, 1.5682128135696685e-06, 1.5446291740590165e-06, 1.5221112719307157e-06, 1.5008672116659753e-06, 1.4811401484837609e-06, 1.463199024397816e-06, 1.447328174052504e-06, 1.4338165045344431e-06, 1.4229469381476596e-06, 1.4149867545429903e-06, 1.410179382909237e-06, 1.4087380819814257e-06, 1.410841812435419e-06, 1.4166334607268734e-06, 1.42622042399624e-06, 1.4396774207780328e-06, 1.4570512600449137e-06, 1.478367188917494e-06, 1.5036363533036477e-06, 1.5328638503406768e-06, 1.5660568294638432e-06, 1.6032321108016605e-06, 1.6444228338375733e-06, 1.6896837222362099e-06, 1.7390946469102115e-06, 1.792762281809443e-06, 1.8508197675565938e-06, 1.9134244185216944e-06, 1.9807536210244902e-06, 2.052999166716875e-06, 2.130360339872841e-06, 2.2130361262112244e-06, 2.30121693207926e-06, 2.395076196709519e-06, 2.4947622494236706e-06, 2.600390712632574e-06, 2.712037686308707e-06, 2.8297338772312685e-06, 2.9534597639184154e-06, 3.0831418225125223e-06, 3.2186497856326007e-06, 3.359794869388726e-06, 3.5063288854051637e-06, 3.6579441546932673e-06, 3.8142741563073403e-06, 3.974894871817853e-06, 4.139326821282088e-06, 4.3070378213577e-06, 4.477446525210388e-06, 4.649926821293436e-06, 4.823813169618672e-06, 4.998406937320885e-06, 5.172983759820998e-06, 5.346801901645625e-06, 5.519111525987053e-06, 5.689164710128994e-06, 5.856225971804477e-06, 6.019583006720736e-06, 6.178557286897192e-06, 6.332514139091251e-06, 6.4808719167415175e-06, 6.623109899730121e-06, 6.7587746036855816e-06, 6.887484251984144e-06, 7.008931254393489e-06, 7.122882640062258e-06, 7.2291785017877e-06, 7.327728615222161e-06, 7.418507493160883e-06, 7.501548214399741e-06, 7.576935423367311e-06, 7.644797927106252e-06, 7.705301318490687e-06, 7.758641029150757e-06, 7.80503616469559e-06, 7.844724402421186e-06, 7.877958143024659e-06, 7.90500200908914e-06, 7.92613168088142e-06, 7.941633960960514e-06, 7.951807869480459e-06, 7.956966497383937e-06, 7.957439289377039e-06, 7.95357439583307e-06, 7.94574072436004e-06, 7.934329337960161e-06, 7.919753886307512e-06, 7.902449817071931e-06, 7.88287219158698e-06, 7.861492018652474e-06, 7.838791116317862e-06, 7.815255608176148e-06, 7.79136825206977e-06, 7.767599879606216e-06, 7.744400289672019e-06, 7.722188984437916e-06, 7.701346159669774e-06, 7.682204361437302e-06, 7.66504119895186e-06, 7.650073460068547e-06, 7.637452914971322e-06, 7.627264018690252e-06, 7.619523638962204e-06, 7.61418284739371e-06, 7.611130723686736e-06, 7.610200039221984e-06, 7.611174611301135e-06, 7.613798055773855e-06, 7.617783615694085e-06, 7.622824708288295e-06, 7.628605812331322e-06, 7.634813312831894e-06, 7.64114592906242e-06, 7.647324374416423e-06, 7.653099931107249e-06, 7.658261667942256e-06, 7.662642083794293e-06, 7.666121021266819e-06, 7.668627762522526e-06, 7.670141290160721e-06, 7.670688767914656e-06, 7.67034236600751e-06, 7.66921462120061e-06, 7.667452578693216e-06, 7.665231008940167e-06, 7.662745024281446e-06, 7.660202435731148e-06, 7.657816187892733e-06, 7.655797189369246e-06, 7.654347818074227e-06, 7.653656327679865e-06, 7.653892316465873e-06, 7.655203347519694e-06, 7.657712734803939e-06, 7.66151843861663e-06, 7.666692951868892e-06, 7.673284010222965e-06, 7.681315928222697e-06, 7.690791352390224e-06, 7.701693231398903e-06, 7.713986831544128e-06, 7.727621669694495e-06, 7.742533291007433e-06, 7.758644879036352e-06, 7.775868744871325e-06, 7.794107793011708e-06, 7.81325709872021e-06, 7.833205749804814e-06, 7.853839101993525e-06, 7.875041570289569e-06, 7.896700030201781e-06, 7.918707836091386e-06, 7.94096938463972e-06, 7.963405066766208e-06, 7.985956369289423e-06, 8.00859081649447e-06, 8.031306389214013e-06, 8.054135031363672e-06, 8.077144855419446e-06, 8.100440690962982e-06, 8.124162683360497e-06, 8.148482739462218e-06, 8.173598728158165e-06, 8.199726468139169e-06, 8.227089664610622e-06, 8.255908081986859e-06, 8.286384352227574e-06, 8.318689911131519e-06, 8.352950622010653e-06, 8.389232684289282e-06, 8.42752943251731e-06, 8.467749609998034e-06, 8.50970765346795e-06, 8.55311645512851e-06, 8.597582980706166e-06, 8.64260702222722e-06, 8.687583256706684e-06, 8.731806671224796e-06, 8.774481304367378e-06, 8.814732146393724e-06, 8.851619937765452e-06, 8.884158509418405e-06, 8.911334219900077e-06, 8.932126965959529e-06, 8.945532176540025e-06, 8.950583148096191e-06, 8.94637304491086e-06, 8.93207587501781e-06, 8.906965763680996e-06, 8.870433884729296e-06, 8.822002476834189e-06, 8.761335466861041e-06, 8.688245343573508e-06, 8.602696067955177e-06, 8.504801964908313e-06, 8.3948227070276e-06, 8.273154665238406e-06, 8.140319053533606e-06, 7.996947426325233e-06, 7.843765188648266e-06, 7.681573845069888e-06, 7.511232738581458e-06, 7.333641014717409e-06, 7.1497204903279575e-06, 6.96040001528435e-06, 6.766601795742133e-06, 6.569230008025215e-06, 6.3691618823449435e-06, 6.16724128529688e-06, 5.964274688715334e-06, 5.761029288153199e-06, 5.558232933420994e-06, 5.356575460667352e-06, 5.15671097265771e-06, 4.95926060136908e-06, 4.764815303057904e-06, 4.573938277349226e-06, 4.387166664291062e-06, 4.205012251684118e-06, 4.027961014003791e-06, 3.856471398599814e-06, 3.690971369618532e-06, 3.5318543107641204e-06, 3.379473970704144e-06, 3.2341387063644127e-06, 3.0961053368943395e-06, 2.965572962655081e-06, 2.842677127687257e-06, 2.7274847098052705e-06, 2.619989909358003e-06, 2.5201116760152485e-06, 2.4276928635699915e-06, 2.342501337296574e-06, 2.264233179246787e-06, 2.1925180471488983e-06, 2.126926646176664e-06, 2.0669801742747272e-06, 2.0121615058943927e-06, 1.961927791024628e-06, 1.915724071283638e-06, 1.8729974570884776e-06, 1.8332113732541475e-06, 1.7958593673803118e-06, 1.7604779872841777e-06, 1.7266582702357457e-06, 1.6940554459928813e-06, 1.6623965343017225e-06, 1.6314856110537766e-06, 1.6012066201757908e-06, 1.5715237145408002e-06, 1.5424792126084126e-06, 1.5141893523612138e-06, 1.486838105392467e-06, 1.4606693777951698e-06, 1.435977968199225e-06, 1.4130996757282462e-06, 1.3924009520550424e-06, 1.3742684736944622e-06, 1.3590989758663358e-06, 1.34728964121618e-06, 1.3392292794638834e-06, 1.3352904719534277e-06, 1.3358227923196159e-06, 1.3411471549520425e-06, 1.3515512899464553e-06, 1.3672862993905313e-06, 1.3885642169033671e-06, 1.4155564712148196e-06, 1.4483931452167248e-06, 1.487162923474224e-06, 1.5319136320144061e-06, 1.582653292030298e-06, 1.6393516311860316e-06, 1.7019420194298106e-06, 1.7703238174882022e-06, 1.844365142565681e-06, 1.9239060646458684e-06, 2.0087622462565703e-06, 2.098729027519743e-06, 2.1935859366462254e-06, 2.2931015747104405e-06, 2.3970387845925416e-06, 2.505159970443064e-06, 2.617232389775143e-06, 2.7330331997488785e-06, 2.8523540070368334e-06, 2.975004651334474e-06, 3.100815950010069e-06, 3.2296411484897538e-06, 3.3613558593166245e-06, 3.4958563323565664e-06, 3.6330559775249426e-06, 3.7728801560599e-06, 3.915259361504743e-06, 4.0601210205604604e-06, 4.207380249287825e-06, 4.3569299938607155e-06, 4.508631059529608e-06, 4.662302579861579e-06, 4.8177134953873244e-06, 4.974575593216106e-06, 5.132538606064981e-06, 5.2911877821499225e-06, 5.450044220727604e-06, 5.6085681283201475e-06, 5.766164996283536e-06, 5.922194541198657e-06, 6.0759820959883205e-06, 6.226832001934224e-06, 6.374042439170281e-06, 6.516921053371185e-06, 6.654800694582375e-06, 6.787054583110175e-06, 6.913110256889377e-06, 7.032461731691242e-06, 7.1446794142481455e-06, 7.249417441024094e-06, 7.3464182626036355e-06, 7.435514445358393e-06, 7.5166278080254e-06, 7.5897661416848715e-06, 7.655017869382303e-06, 7.71254508030586e-06, 7.762575419365503e-06, 7.805393325112296e-06, 7.841331088566695e-06, 7.870760156337698e-06, 7.894083028920378e-06, 7.911726016106725e-06, 7.92413301361931e-06, 7.931760366075835e-06, 7.935072788426299e-06, 7.934540237283305e-06, 7.9306355598967e-06, 7.923832705051493e-06, 7.914605258270882e-06, 7.903425063041958e-06, 7.890760708467008e-06, 7.877075698646474e-06, 7.862826166203133e-06, 7.848458047159101e-06, 7.834403692291265e-06, 7.82107794680554e-06, 7.808873781946292e-06, 7.798157606036477e-06, 7.789264416364607e-06, 7.782492976152236e-06, 7.778101212259762e-06, 7.776302029754439e-06, 7.77725972996335e-06, 7.781087200522933e-06, 7.787844020760795e-06, 7.79753559508473e-06, 7.810113392412086e-06, 7.825476332419113e-06, 7.84347332074367e-06, 7.863906896333803e-06, 7.886537915928921e-06, 7.91109116421336e-06, 7.937261744566768e-06, 7.964722075704143e-06, 7.993129295077425e-06, 8.022132851959118e-06, 8.051382062852075e-06, 8.080533400310434e-06, 8.109257294160324e-06, 8.137244241794651e-06, 8.164210051466289e-06, 8.189900078482716e-06, 8.214092357438945e-06, 8.236599582027274e-06, 8.257269934936004e-06, 8.275986820935818e-06, 8.292667603341732e-06, 8.30726148460067e-06, 8.319746703096739e-06, 8.330127238270503e-06, 8.338429223485539e-06, 8.344697260357184e-06, 8.348990810121478e-06, 8.351380808722873e-06, 8.351946615215518e-06, 8.350773361117268e-06, 8.34794972530452e-06, 8.3435661188024e-06, 8.33771323009382e-06, 8.330480857437756e-06, 8.321956942328881e-06, 8.312226718653716e-06, 8.301371904983935e-06, 8.28946989113108e-06, 8.276592901670687e-06, 8.262807154750894e-06, 8.248172069642864e-06, 8.232739606528155e-06, 8.216553842656545e-06, 8.199650896786128e-06, 8.182059306530546e-06, 8.163800940243871e-06, 8.144892487442291e-06, 8.125347522247991e-06, 8.105179077168561e-06, 8.084402605008365e-06, 8.063039150736888e-06, 8.041118508591712e-06, 8.018682107832048e-06, 7.99578535747785e-06, 7.97249918855473e-06, 7.948910562417517e-06, 7.925121764270976e-06, 7.901248368810613e-06, 7.877415845168673e-06, 7.853754855151633e-06, 7.830395385603233e-06, 7.807459936140092e-06, 7.785056051576914e-06, 7.763268539232035e-06, 7.742151741544827e-06, 7.721722242233079e-06, 7.701952369437037e-06, 7.682764823383501e-06, 7.664028701862125e-06, 7.645557128088653e-06, 7.627106606879663e-06, 7.608378151350893e-06, 7.589020138440534e-06, 7.568632772026083e-06, 7.546773961324244e-06, 7.5229663630704315e-06, 7.496705291375266e-06, 7.467467171099382e-06, 7.434718200257081e-06, 7.397922894775443e-06, 7.356552214556275e-06, 7.310091012100822e-06, 7.25804460205891e-06, 7.199944319248184e-06, 7.135352010448113e-06, 7.06386348734273e-06, 6.985111049446786e-06, 6.898765261309032e-06, 6.804536232138978e-06, 6.702174692783622e-06, 6.59147318977305e-06, 6.472267715052254e-06, 6.344440060579453e-06, 6.20792112863042e-06, 6.062695343022774e-06, 5.9088061975280145e-06, 5.746362851759776e-06, 5.575547550174964e-06, 5.396623506475848e-06, 5.209942774562228e-06, 5.015953529263181e-06, 4.815206115540927e-06, 4.6083572020724e-06, 4.39617139975707e-06, 4.179519780059283e-06, 3.959374850598434e-06, 3.7368017104920503e-06, 3.5129453063020965e-06, 3.2890139285170656e-06, 3.066259313514752e-06, 2.8459539309658385e-06], \"yaxis\": \"y\"}, {\"legendgroup\": \"Fraud\", \"marker\": {\"color\": \"rgb(255, 127, 14)\"}, \"mode\": \"lines\", \"name\": \"Fraud\", \"showlegend\": true, \"type\": \"scatter\", \"x\": [406.0, 745.884, 1085.768, 1425.652, 1765.536, 2105.42, 2445.304, 2785.188, 3125.072, 3464.956, 3804.84, 4144.724, 4484.608, 4824.492, 5164.376, 5504.26, 5844.144, 6184.028, 6523.912, 6863.796, 7203.68, 7543.564, 7883.448, 8223.332, 8563.216, 8903.1, 9242.984, 9582.868, 9922.752, 10262.636, 10602.52, 10942.404, 11282.288, 11622.172, 11962.056, 12301.94, 12641.824, 12981.708, 13321.592, 13661.476, 14001.36, 14341.244, 14681.128, 15021.012, 15360.896, 15700.78, 16040.664, 16380.548, 16720.432, 17060.316, 17400.2, 17740.084, 18079.968, 18419.852, 18759.736, 19099.62, 19439.504, 19779.388, 20119.272, 20459.156, 20799.04, 21138.924, 21478.808, 21818.692, 22158.576, 22498.46, 22838.344, 23178.228, 23518.112, 23857.996, 24197.88, 24537.764, 24877.648, 25217.532, 25557.416, 25897.3, 26237.184, 26577.068, 26916.952, 27256.836, 27596.72, 27936.604, 28276.488, 28616.372, 28956.256, 29296.14, 29636.024, 29975.908, 30315.792, 30655.676, 30995.56, 31335.444, 31675.328, 32015.212, 32355.096, 32694.98, 33034.864, 33374.748, 33714.632, 34054.516, 34394.4, 34734.284, 35074.168, 35414.052, 35753.936, 36093.82, 36433.704, 36773.588, 37113.472, 37453.356, 37793.24, 38133.124, 38473.008, 38812.892, 39152.776, 39492.66, 39832.544, 40172.428, 40512.312, 40852.196, 41192.08, 41531.964, 41871.848, 42211.732, 42551.616, 42891.5, 43231.384, 43571.268, 43911.152, 44251.036, 44590.92, 44930.804, 45270.688, 45610.572, 45950.456, 46290.34, 46630.224, 46970.108, 47309.992, 47649.876, 47989.76, 48329.644, 48669.528, 49009.412, 49349.296, 49689.18, 50029.064, 50368.948, 50708.832, 51048.716, 51388.6, 51728.484, 52068.368, 52408.252, 52748.136, 53088.02, 53427.904, 53767.788, 54107.672, 54447.556, 54787.44, 55127.324, 55467.208, 55807.092, 56146.976, 56486.86, 56826.744, 57166.628, 57506.512, 57846.396, 58186.28, 58526.164, 58866.048, 59205.932, 59545.816, 59885.7, 60225.584, 60565.468, 60905.352, 61245.236, 61585.12, 61925.004, 62264.888, 62604.772, 62944.656, 63284.54, 63624.424, 63964.308, 64304.192, 64644.076, 64983.96, 65323.844, 65663.728, 66003.612, 66343.496, 66683.38, 67023.264, 67363.148, 67703.032, 68042.916, 68382.8, 68722.684, 69062.568, 69402.452, 69742.336, 70082.22, 70422.104, 70761.988, 71101.872, 71441.756, 71781.64, 72121.524, 72461.408, 72801.292, 73141.176, 73481.06, 73820.944, 74160.828, 74500.712, 74840.596, 75180.48, 75520.364, 75860.248, 76200.132, 76540.016, 76879.9, 77219.784, 77559.668, 77899.552, 78239.436, 78579.32, 78919.204, 79259.088, 79598.972, 79938.856, 80278.74, 80618.624, 80958.508, 81298.392, 81638.276, 81978.16, 82318.044, 82657.928, 82997.812, 83337.696, 83677.58, 84017.464, 84357.348, 84697.232, 85037.116, 85377.0, 85716.884, 86056.768, 86396.652, 86736.536, 87076.42, 87416.304, 87756.188, 88096.072, 88435.956, 88775.84, 89115.724, 89455.608, 89795.492, 90135.376, 90475.26, 90815.144, 91155.028, 91494.912, 91834.796, 92174.68, 92514.564, 92854.448, 93194.332, 93534.216, 93874.1, 94213.984, 94553.868, 94893.752, 95233.636, 95573.52, 95913.404, 96253.288, 96593.172, 96933.056, 97272.94, 97612.824, 97952.708, 98292.592, 98632.476, 98972.36, 99312.244, 99652.128, 99992.012, 100331.896, 100671.78, 101011.664, 101351.548, 101691.432, 102031.316, 102371.2, 102711.084, 103050.968, 103390.852, 103730.736, 104070.62, 104410.504, 104750.388, 105090.272, 105430.156, 105770.04, 106109.924, 106449.808, 106789.692, 107129.576, 107469.46, 107809.344, 108149.228, 108489.112, 108828.996, 109168.88, 109508.764, 109848.648, 110188.532, 110528.416, 110868.3, 111208.184, 111548.068, 111887.952, 112227.836, 112567.72, 112907.604, 113247.488, 113587.372, 113927.256, 114267.14, 114607.024, 114946.908, 115286.792, 115626.676, 115966.56, 116306.444, 116646.328, 116986.212, 117326.096, 117665.98, 118005.864, 118345.748, 118685.632, 119025.516, 119365.4, 119705.284, 120045.168, 120385.052, 120724.936, 121064.82, 121404.704, 121744.588, 122084.472, 122424.356, 122764.24, 123104.124, 123444.008, 123783.892, 124123.776, 124463.66, 124803.544, 125143.428, 125483.312, 125823.196, 126163.08, 126502.964, 126842.848, 127182.732, 127522.616, 127862.5, 128202.384, 128542.268, 128882.152, 129222.036, 129561.92, 129901.804, 130241.688, 130581.572, 130921.456, 131261.34, 131601.224, 131941.108, 132280.992, 132620.876, 132960.76, 133300.644, 133640.528, 133980.412, 134320.296, 134660.18, 135000.064, 135339.948, 135679.832, 136019.716, 136359.6, 136699.484, 137039.368, 137379.252, 137719.136, 138059.02, 138398.904, 138738.788, 139078.672, 139418.556, 139758.44, 140098.324, 140438.208, 140778.092, 141117.976, 141457.86, 141797.744, 142137.628, 142477.512, 142817.396, 143157.28, 143497.164, 143837.048, 144176.932, 144516.816, 144856.7, 145196.584, 145536.468, 145876.352, 146216.236, 146556.12, 146896.004, 147235.888, 147575.772, 147915.656, 148255.54, 148595.424, 148935.308, 149275.192, 149615.076, 149954.96, 150294.844, 150634.728, 150974.612, 151314.496, 151654.38, 151994.264, 152334.148, 152674.032, 153013.916, 153353.8, 153693.684, 154033.568, 154373.452, 154713.336, 155053.22, 155393.104, 155732.988, 156072.872, 156412.756, 156752.64, 157092.524, 157432.408, 157772.292, 158112.176, 158452.06, 158791.944, 159131.828, 159471.712, 159811.596, 160151.48, 160491.364, 160831.248, 161171.132, 161511.016, 161850.9, 162190.784, 162530.668, 162870.552, 163210.436, 163550.32, 163890.204, 164230.088, 164569.972, 164909.856, 165249.74, 165589.624, 165929.508, 166269.392, 166609.276, 166949.16, 167289.044, 167628.928, 167968.812, 168308.696, 168648.58, 168988.464, 169328.348, 169668.232, 170008.116], \"xaxis\": \"x\", \"y\": [2.572527019918418e-06, 2.631005805812937e-06, 2.6897686304363096e-06, 2.748786647363215e-06, 2.8080309928186186e-06, 2.8674728524427253e-06, 2.9270835279276315e-06, 2.9868345032672442e-06, 3.0466975103604744e-06, 3.1066445937077387e-06, 3.1666481739421264e-06, 3.226681109938762e-06, 3.2867167592497503e-06, 3.3467290366169317e-06, 3.406692470320781e-06, 3.466582256131253e-06, 3.526374308634662e-06, 3.586045309720732e-06, 3.645572754024378e-06, 3.7049349911288056e-06, 3.7641112643496267e-06, 3.823081745932923e-06, 3.881827568515628e-06, 3.9403308527116626e-06, 3.998574730703815e-06, 4.0565433657381914e-06, 4.114221967435879e-06, 4.171596802854261e-06, 4.228655203249314e-06, 4.285385566508666e-06, 4.341777355244732e-06, 4.397821090555953e-06, 4.45350834148429e-06, 4.508831710215102e-06, 4.563784813086289e-06, 4.618362257490828e-06, 4.672559614776588e-06, 4.726373389264866e-06, 4.7798009835267675e-06, 4.83284066007392e-06, 4.885491499635645e-06, 4.937753356211278e-06, 4.9896268091001775e-06, 5.041113112126349e-06, 5.0922141402872045e-06, 5.142932334068035e-06, 5.193270641674171e-06, 5.243232459442749e-06, 5.292821570703962e-06, 5.342042083369242e-06, 5.390898366529332e-06, 5.439394986349828e-06, 5.487536641555422e-06, 5.535328098794979e-06, 5.582774128181612e-06, 5.629879439299512e-06, 5.676648617968548e-06, 5.723086064053026e-06, 5.769195930597316e-06, 5.8149820645638296e-06, 5.860447949442464e-06, 5.905596649991411e-06, 5.9504307593597765e-06, 5.9949523488313964e-06, 6.039162920417344e-06, 6.083063362511555e-06, 6.126653908809837e-06, 6.169934100677945e-06, 6.212902753138355e-06, 6.255557924628919e-06, 6.297896890669667e-06, 6.339916121555684e-06, 6.381611264176304e-06, 6.422977128041528e-06, 6.464007675577933e-06, 6.50469601673676e-06, 6.545034407937361e-06, 6.585014255349518e-06, 6.624626122499018e-06, 6.663859742160647e-06, 6.702704032484239e-06, 6.741147117280052e-06, 6.779176350371275e-06, 6.816778343903151e-06, 6.853939000481316e-06, 6.890643548994118e-06, 6.9268765839581e-06, 6.9626221082105396e-06, 6.997863578757835e-06, 7.032583955575573e-06, 7.066765753143316e-06, 7.100391094485447e-06, 7.133441767479521e-06, 7.165899283183912e-06, 7.197744935928862e-06, 7.228959864908304e-06, 7.259525117004093e-06, 7.289421710570792e-06, 7.318630699905549e-06, 7.3471332401269065e-06, 7.374910652185979e-06, 7.401944487734295e-06, 7.428216593576152e-06, 7.4537091754361816e-06, 7.478404860778615e-06, 7.502286760421189e-06, 7.5253385286939815e-06, 7.547544421902768e-06, 7.5688893548659665e-06, 7.589358955305959e-06, 7.608939615886934e-06, 7.6276185437049725e-06, 7.645383807049709e-06, 7.662224379271767e-06, 7.67813017960505e-06, 7.693092110809925e-06, 7.707102093518343e-06, 7.720153097180753e-06, 7.732239167530264e-06, 7.743355450497756e-06, 7.753498212529603e-06, 7.762664857276423e-06, 7.770853938639618e-06, 7.778065170179887e-06, 7.784299430908168e-06, 7.789558767497574e-06, 7.79384639297004e-06, 7.79716668192795e-06, 7.799525162415756e-06, 7.800928504511131e-06, 7.801384505758742e-06, 7.800902073572762e-06, 7.799491204745427e-06, 7.797162962210424e-06, 7.793929449219107e-06, 7.78980378109638e-06, 7.784800054750643e-06, 7.778933316118128e-06, 7.7722195257276e-06, 7.764675522574627e-06, 7.75631898649778e-06, 7.747168399250406e-06, 7.737243004461257e-06, 7.726562766677164e-06, 7.715148329678096e-06, 7.703020974251553e-06, 7.690202575608846e-06, 7.676715560620796e-06, 7.662582865042429e-06, 7.647827890890538e-06, 7.632474464127662e-06, 7.616546792798236e-06, 7.60006942575189e-06, 7.583067212077946e-06, 7.565565261365005e-06, 7.5475889048861955e-06, 7.5291636577997275e-06, 7.510315182441238e-06, 7.491069252771455e-06, 7.471451720031e-06, 7.4514884796393176e-06, 7.431205439363608e-06, 7.410628488770467e-06, 7.389783469959165e-06, 7.368696149565697e-06, 7.3473921920127426e-06, 7.325897133970936e-06, 7.304236359985544e-06, 7.282435079212536e-06, 7.260518303199252e-06, 7.238510824635931e-06, 7.2164371969967705e-06, 7.1943217149825935e-06, 7.172188395671032e-06, 7.150060960275756e-06, 7.1279628164118875e-06, 7.105917040762365e-06, 7.08394636203787e-06, 7.0620731441226695e-06, 7.040319369298788e-06, 7.018706621442342e-06, 6.997256069088544e-06, 6.975988448265329e-06, 6.954924045000059e-06, 6.934082677409289e-06, 6.91348367728811e-06, 6.893145871122813e-06, 6.873087560459105e-06, 6.85332650156659e-06, 6.833879884350605e-06, 6.814764310472566e-06, 6.795995770650809e-06, 6.77758962112589e-06, 6.759560559286028e-06, 6.741922598460664e-06, 6.724689041902921e-06, 6.707872455994459e-06, 6.6914846427192845e-06, 6.675536611465738e-06, 6.660038550229453e-06, 6.644999796301862e-06, 6.630428806542273e-06, 6.616333127343148e-06, 6.60271936441016e-06, 6.589593152489995e-06, 6.576959125189144e-06, 6.564820885037662e-06, 6.553180973960312e-06, 6.542040844326766e-06, 6.531400830759606e-06, 6.52126012288577e-06, 6.5116167392228665e-06, 6.50246750239599e-06, 6.493808015884779e-06, 6.485632642502064e-06, 6.4779344848076e-06, 6.470705367659415e-06, 6.463935823104725e-06, 6.45761507780952e-06, 6.451731043222334e-06, 6.446270308662619e-06, 6.441218137517923e-06, 6.436558466726342e-06, 6.432273909712515e-06, 6.428345762934637e-06, 6.42475401618952e-06, 6.4214773668104815e-06, 6.418493237878817e-06, 6.415777800556122e-06, 6.4133060006287515e-06, 6.411051589339756e-06, 6.408987158566514e-06, 6.407084180384327e-06, 6.405313051037881e-06, 6.403643139323297e-06, 6.402042839363781e-06, 6.400479627742134e-06, 6.398920124932853e-06, 6.397330160956046e-06, 6.395674845154968e-06, 6.393918639978058e-06, 6.3920254386263285e-06, 6.389958646405971e-06, 6.387681265607025e-06, 6.385155983708639e-06, 6.38234526469288e-06, 6.379211443230835e-06, 6.375716821486895e-06, 6.3718237682706325e-06, 6.367494820249902e-06, 6.36269278492403e-06, 6.357380845042466e-06, 6.3515226641418e-06, 6.345082492863208e-06, 6.338025275702308e-06, 6.330316757835684e-06, 6.321923591660977e-06, 6.312813442682558e-06, 6.302955094371118e-06, 6.292318551623303e-06, 6.280875142447136e-06, 6.268597617500541e-06, 6.255460247112568e-06, 6.241438915422391e-06, 6.226511211276383e-06, 6.210656515532499e-06, 6.193856084429973e-06, 6.17609312869381e-06, 6.157352888056185e-06, 6.137622700890797e-06, 6.116892068672295e-06, 6.095152714989146e-06, 6.072398638857379e-06, 6.048626162101342e-06, 6.0238339705888565e-06, 5.998023149129177e-06, 5.971197209865402e-06, 5.943362114015653e-06, 5.914526286842001e-06, 5.8847006257506395e-06, 5.853898501451924e-06, 5.822135752134668e-06, 5.7894306706348805e-06, 5.7558039846049595e-06, 5.7212788297156276e-06, 5.685880715948569e-06, 5.6496374870633735e-06, 5.612579273347972e-06, 5.574738437786229e-06, 5.536149515800895e-06, 5.4968491487535515e-06, 5.456876011406088e-06, 5.4162707335700055e-06, 5.37507581619075e-06, 5.33333554213421e-06, 5.291095881960872e-06, 5.248404394990801e-06, 5.205310125978368e-06, 5.1618634977305e-06, 5.11811620001525e-06, 5.074121075119356e-06, 5.029932000423425e-06, 4.9856037683720875e-06, 4.941191964223308e-06, 4.896752841966401e-06, 4.8523431988021575e-06, 4.808020248580183e-06, 4.763841494589366e-06, 4.719864602095876e-06, 4.676147271020589e-06, 4.632747109143132e-06, 4.589721506214109e-06, 4.547127509349563e-06, 4.505021700072849e-06, 4.4634600733590005e-06, 4.422497919024834e-06, 4.382189705795715e-06, 4.3425889683652545e-06, 4.30374819774975e-06, 4.2657187352226015e-06, 4.228550670097033e-06, 4.192292741607471e-06, 4.156992245121317e-06, 4.122694942893465e-06, 4.089444979555855e-06, 4.057284802514104e-06, 4.026255087402535e-06, 3.9963946687275235e-06, 3.9677404758083995e-06, 3.940327474103147e-06, 3.914188611985553e-06, 3.889354773018635e-06, 3.865854733748636e-06, 3.843715127022965e-06, 3.8229604108152885e-06, 3.803612842520981e-06, 3.7856924586670503e-06, 3.769217059961994e-06, 3.7542022015929186e-06, 3.7406611886604264e-06, 3.7286050766251518e-06, 3.718042676624742e-06, 3.70898056550533e-06, 3.701423100398435e-06, 3.695372437661672e-06, 3.6908285559905303e-06, 3.6877892834982047e-06, 3.6862503285517056e-06, 3.686205314144644e-06, 3.687645815580386e-06, 3.690561401234203e-06, 3.6949396761586598e-06, 3.700766328293753e-06, 3.7080251770415652e-06, 3.7166982239646557e-06, 3.726765705368289e-06, 3.738206146528155e-06, 3.7509964173285537e-06, 3.7651117890798206e-06, 3.7805259922891007e-06, 3.7972112751645677e-06, 3.815138462640423e-06, 3.834277015717929e-06, 3.8545950909266296e-06, 3.876059599719653e-06, 3.898636267627166e-06, 3.922289693003299e-06, 3.94698340521336e-06, 3.972679922120383e-06, 3.9993408067424625e-06, 4.026926722965422e-06, 4.0553974902085626e-06, 4.084712136954442e-06, 4.114828953067467e-06, 4.145705540839353e-06, 4.177298864713323e-06, 4.209565299651933e-06, 4.242460678127159e-06, 4.275940335723664e-06, 4.309959155359333e-06, 4.344471610138979e-06, 4.3794318048687506e-06, 4.414793516270268e-06, 4.450510231943431e-06, 4.486535188137171e-06, 4.5228214063960735e-06, 4.559321729159451e-06, 4.595988854396516e-06, 4.63277536936818e-06, 4.669633783611574e-06, 4.7065165612480985e-06, 4.743376152719507e-06, 4.780165026059656e-06, 4.816835697810889e-06, 4.8533407636952975e-06, 4.889632929150577e-06, 4.9256650398392945e-06, 4.961390112238061e-06, 4.996761364410147e-06, 5.031732247060992e-06, 5.066256474971185e-06, 5.100288058895631e-06, 5.133781338011258e-06, 5.166691012987884e-06, 5.19897217974911e-06, 5.230580363981216e-06, 5.26147155643864e-06, 5.291602249084775e-06, 5.320929472096579e-06, 5.34941083175043e-06, 5.377004549195872e-06, 5.4036695001124245e-06, 5.4293652552331135e-06, 5.4540521217067536e-06, 5.477691185259584e-06, 5.500244353104931e-06, 5.521674397538641e-06, 5.541945000146363e-06, 5.561020796538232e-06, 5.578867421515785e-06, 5.595451554565909e-06, 5.610740965567119e-06, 5.6247045605843495e-06, 5.637312427620307e-06, 5.648535882183493e-06, 5.65834751252651e-06, 5.666721224401679e-06, 5.6736322851763365e-06, 5.679057367145258e-06, 5.682974589874616e-06, 5.6853635614091865e-06, 5.686205418173046e-06, 5.6854828633933666e-06, 5.6831802038774935e-06, 5.6792833849747315e-06, 5.673780023556718e-06, 5.66665943885375e-06, 5.65791268098852e-06, 5.6475325570542406e-06, 5.63551365459e-06, 5.621852362313586e-06, 5.606546887979505e-06, 5.589597273238925e-06, 5.571005405387344e-06, 5.550775025896205e-06, 5.528911735635076e-06, 5.505422996702588e-06, 5.480318130795817e-06, 5.453608314060395e-06, 5.42530656837587e-06, 5.395427749044038e-06, 5.363988528860968e-06, 5.331007378566766e-06, 5.296504543680575e-06, 5.260502017741648e-06, 5.223023511990746e-06, 5.184094421539272e-06, 5.1437417880866455e-06, 5.101994259259248e-06, 5.058882044656459e-06, 5.014436868701737e-06, 4.9686919204079945e-06, 4.921681800177756e-06, 4.873442463769114e-06, 4.824011163568484e-06, 4.773426387320356e-06, 4.721727794472901e-06, 4.668956150306307e-06, 4.6151532580175615e-06, 4.560361888942082e-06, 4.504625711097862e-06, 4.4479892162428285e-06, 4.390497645639761e-06, 4.332196914726352e-06, 4.27313353689029e-06, 4.213354546550484e-06, 4.152907421746281e-06, 4.091840006436425e-06, 4.0302004327081e-06, 3.968037043095127e-06, 3.905398313201443e-06, 3.842332774823001e-06, 3.7788889397569994e-06, 3.7151152244830637e-06, 3.6510598758955174e-06, 3.586770898260024e-06, 3.522295981561827e-06, 3.457682431405477e-06, 3.3929771006189366e-06, 3.328226322707071e-06, 3.2634758472913725e-06, 3.1987707776643122e-06, 3.134155510578029e-06, 3.0696736783780283e-06, 3.00536809358335e-06, 2.9412806960054663e-06, 2.877452502488681e-06, 2.8139235593453064e-06, 2.7507328975493906e-06, 2.6879184907434155e-06], \"yaxis\": \"y\"}],\n",
       "                        {\"barmode\": \"overlay\", \"hovermode\": \"closest\", \"legend\": {\"traceorder\": \"reversed\"}, \"template\": {\"data\": {\"bar\": [{\"error_x\": {\"color\": \"#2a3f5f\"}, \"error_y\": {\"color\": \"#2a3f5f\"}, \"marker\": {\"line\": {\"color\": \"#E5ECF6\", \"width\": 0.5}}, \"type\": \"bar\"}], \"barpolar\": [{\"marker\": {\"line\": {\"color\": \"#E5ECF6\", \"width\": 0.5}}, \"type\": \"barpolar\"}], \"carpet\": [{\"aaxis\": {\"endlinecolor\": \"#2a3f5f\", \"gridcolor\": \"white\", \"linecolor\": \"white\", \"minorgridcolor\": \"white\", \"startlinecolor\": \"#2a3f5f\"}, \"baxis\": {\"endlinecolor\": \"#2a3f5f\", \"gridcolor\": \"white\", \"linecolor\": \"white\", \"minorgridcolor\": \"white\", \"startlinecolor\": \"#2a3f5f\"}, \"type\": \"carpet\"}], \"choropleth\": [{\"colorbar\": {\"outlinewidth\": 0, \"ticks\": \"\"}, \"type\": \"choropleth\"}], \"contour\": [{\"colorbar\": {\"outlinewidth\": 0, \"ticks\": \"\"}, \"colorscale\": [[0.0, \"#0d0887\"], [0.1111111111111111, \"#46039f\"], [0.2222222222222222, \"#7201a8\"], [0.3333333333333333, \"#9c179e\"], [0.4444444444444444, \"#bd3786\"], [0.5555555555555556, \"#d8576b\"], [0.6666666666666666, \"#ed7953\"], [0.7777777777777778, \"#fb9f3a\"], [0.8888888888888888, \"#fdca26\"], [1.0, \"#f0f921\"]], \"type\": \"contour\"}], \"contourcarpet\": [{\"colorbar\": {\"outlinewidth\": 0, \"ticks\": \"\"}, \"type\": \"contourcarpet\"}], \"heatmap\": [{\"colorbar\": {\"outlinewidth\": 0, \"ticks\": \"\"}, \"colorscale\": [[0.0, \"#0d0887\"], [0.1111111111111111, \"#46039f\"], [0.2222222222222222, \"#7201a8\"], [0.3333333333333333, \"#9c179e\"], [0.4444444444444444, \"#bd3786\"], [0.5555555555555556, \"#d8576b\"], [0.6666666666666666, \"#ed7953\"], [0.7777777777777778, \"#fb9f3a\"], [0.8888888888888888, \"#fdca26\"], [1.0, \"#f0f921\"]], \"type\": \"heatmap\"}], \"heatmapgl\": [{\"colorbar\": {\"outlinewidth\": 0, \"ticks\": \"\"}, \"colorscale\": [[0.0, \"#0d0887\"], [0.1111111111111111, \"#46039f\"], [0.2222222222222222, \"#7201a8\"], [0.3333333333333333, \"#9c179e\"], [0.4444444444444444, \"#bd3786\"], [0.5555555555555556, \"#d8576b\"], [0.6666666666666666, \"#ed7953\"], [0.7777777777777778, \"#fb9f3a\"], [0.8888888888888888, \"#fdca26\"], [1.0, \"#f0f921\"]], \"type\": \"heatmapgl\"}], \"histogram\": [{\"marker\": {\"colorbar\": {\"outlinewidth\": 0, \"ticks\": \"\"}}, \"type\": \"histogram\"}], \"histogram2d\": [{\"colorbar\": {\"outlinewidth\": 0, \"ticks\": \"\"}, \"colorscale\": [[0.0, \"#0d0887\"], [0.1111111111111111, \"#46039f\"], [0.2222222222222222, \"#7201a8\"], [0.3333333333333333, \"#9c179e\"], [0.4444444444444444, \"#bd3786\"], [0.5555555555555556, \"#d8576b\"], [0.6666666666666666, \"#ed7953\"], [0.7777777777777778, \"#fb9f3a\"], [0.8888888888888888, \"#fdca26\"], [1.0, \"#f0f921\"]], \"type\": \"histogram2d\"}], \"histogram2dcontour\": [{\"colorbar\": {\"outlinewidth\": 0, \"ticks\": \"\"}, \"colorscale\": [[0.0, \"#0d0887\"], [0.1111111111111111, \"#46039f\"], [0.2222222222222222, \"#7201a8\"], [0.3333333333333333, \"#9c179e\"], [0.4444444444444444, \"#bd3786\"], [0.5555555555555556, \"#d8576b\"], [0.6666666666666666, \"#ed7953\"], [0.7777777777777778, \"#fb9f3a\"], [0.8888888888888888, \"#fdca26\"], [1.0, \"#f0f921\"]], \"type\": \"histogram2dcontour\"}], \"mesh3d\": [{\"colorbar\": {\"outlinewidth\": 0, \"ticks\": \"\"}, \"type\": \"mesh3d\"}], \"parcoords\": [{\"line\": {\"colorbar\": {\"outlinewidth\": 0, \"ticks\": \"\"}}, \"type\": \"parcoords\"}], \"pie\": [{\"automargin\": true, \"type\": \"pie\"}], \"scatter\": [{\"marker\": {\"colorbar\": {\"outlinewidth\": 0, \"ticks\": \"\"}}, \"type\": \"scatter\"}], \"scatter3d\": [{\"line\": {\"colorbar\": {\"outlinewidth\": 0, \"ticks\": \"\"}}, \"marker\": {\"colorbar\": {\"outlinewidth\": 0, \"ticks\": \"\"}}, \"type\": \"scatter3d\"}], \"scattercarpet\": [{\"marker\": {\"colorbar\": {\"outlinewidth\": 0, \"ticks\": \"\"}}, \"type\": \"scattercarpet\"}], \"scattergeo\": [{\"marker\": {\"colorbar\": {\"outlinewidth\": 0, \"ticks\": \"\"}}, \"type\": \"scattergeo\"}], \"scattergl\": [{\"marker\": {\"colorbar\": {\"outlinewidth\": 0, \"ticks\": \"\"}}, \"type\": \"scattergl\"}], \"scattermapbox\": [{\"marker\": {\"colorbar\": {\"outlinewidth\": 0, \"ticks\": \"\"}}, \"type\": \"scattermapbox\"}], \"scatterpolar\": [{\"marker\": {\"colorbar\": {\"outlinewidth\": 0, \"ticks\": \"\"}}, \"type\": \"scatterpolar\"}], \"scatterpolargl\": [{\"marker\": {\"colorbar\": {\"outlinewidth\": 0, \"ticks\": \"\"}}, \"type\": \"scatterpolargl\"}], \"scatterternary\": [{\"marker\": {\"colorbar\": {\"outlinewidth\": 0, \"ticks\": \"\"}}, \"type\": \"scatterternary\"}], \"surface\": [{\"colorbar\": {\"outlinewidth\": 0, \"ticks\": \"\"}, \"colorscale\": [[0.0, \"#0d0887\"], [0.1111111111111111, \"#46039f\"], [0.2222222222222222, \"#7201a8\"], [0.3333333333333333, \"#9c179e\"], [0.4444444444444444, \"#bd3786\"], [0.5555555555555556, \"#d8576b\"], [0.6666666666666666, \"#ed7953\"], [0.7777777777777778, \"#fb9f3a\"], [0.8888888888888888, \"#fdca26\"], [1.0, \"#f0f921\"]], \"type\": \"surface\"}], \"table\": [{\"cells\": {\"fill\": {\"color\": \"#EBF0F8\"}, \"line\": {\"color\": \"white\"}}, \"header\": {\"fill\": {\"color\": \"#C8D4E3\"}, \"line\": {\"color\": \"white\"}}, \"type\": \"table\"}]}, \"layout\": {\"annotationdefaults\": {\"arrowcolor\": \"#2a3f5f\", \"arrowhead\": 0, \"arrowwidth\": 1}, \"coloraxis\": {\"colorbar\": {\"outlinewidth\": 0, \"ticks\": \"\"}}, \"colorscale\": {\"diverging\": [[0, \"#8e0152\"], [0.1, \"#c51b7d\"], [0.2, \"#de77ae\"], [0.3, \"#f1b6da\"], [0.4, \"#fde0ef\"], [0.5, \"#f7f7f7\"], [0.6, \"#e6f5d0\"], [0.7, \"#b8e186\"], [0.8, \"#7fbc41\"], [0.9, \"#4d9221\"], [1, \"#276419\"]], \"sequential\": [[0.0, \"#0d0887\"], [0.1111111111111111, \"#46039f\"], [0.2222222222222222, \"#7201a8\"], [0.3333333333333333, \"#9c179e\"], [0.4444444444444444, \"#bd3786\"], [0.5555555555555556, \"#d8576b\"], [0.6666666666666666, \"#ed7953\"], [0.7777777777777778, \"#fb9f3a\"], [0.8888888888888888, \"#fdca26\"], [1.0, \"#f0f921\"]], \"sequentialminus\": [[0.0, \"#0d0887\"], [0.1111111111111111, \"#46039f\"], [0.2222222222222222, \"#7201a8\"], [0.3333333333333333, \"#9c179e\"], [0.4444444444444444, \"#bd3786\"], [0.5555555555555556, \"#d8576b\"], [0.6666666666666666, \"#ed7953\"], [0.7777777777777778, \"#fb9f3a\"], [0.8888888888888888, \"#fdca26\"], [1.0, \"#f0f921\"]]}, \"colorway\": [\"#636efa\", \"#EF553B\", \"#00cc96\", \"#ab63fa\", \"#FFA15A\", \"#19d3f3\", \"#FF6692\", \"#B6E880\", \"#FF97FF\", \"#FECB52\"], \"font\": {\"color\": \"#2a3f5f\"}, \"geo\": {\"bgcolor\": \"white\", \"lakecolor\": \"white\", \"landcolor\": \"#E5ECF6\", \"showlakes\": true, \"showland\": true, \"subunitcolor\": \"white\"}, \"hoverlabel\": {\"align\": \"left\"}, \"hovermode\": \"closest\", \"mapbox\": {\"style\": \"light\"}, \"paper_bgcolor\": \"white\", \"plot_bgcolor\": \"#E5ECF6\", \"polar\": {\"angularaxis\": {\"gridcolor\": \"white\", \"linecolor\": \"white\", \"ticks\": \"\"}, \"bgcolor\": \"#E5ECF6\", \"radialaxis\": {\"gridcolor\": \"white\", \"linecolor\": \"white\", \"ticks\": \"\"}}, \"scene\": {\"xaxis\": {\"backgroundcolor\": \"#E5ECF6\", \"gridcolor\": \"white\", \"gridwidth\": 2, \"linecolor\": \"white\", \"showbackground\": true, \"ticks\": \"\", \"zerolinecolor\": \"white\"}, \"yaxis\": {\"backgroundcolor\": \"#E5ECF6\", \"gridcolor\": \"white\", \"gridwidth\": 2, \"linecolor\": \"white\", \"showbackground\": true, \"ticks\": \"\", \"zerolinecolor\": \"white\"}, \"zaxis\": {\"backgroundcolor\": \"#E5ECF6\", \"gridcolor\": \"white\", \"gridwidth\": 2, \"linecolor\": \"white\", \"showbackground\": true, \"ticks\": \"\", \"zerolinecolor\": \"white\"}}, \"shapedefaults\": {\"line\": {\"color\": \"#2a3f5f\"}}, \"ternary\": {\"aaxis\": {\"gridcolor\": \"white\", \"linecolor\": \"white\", \"ticks\": \"\"}, \"baxis\": {\"gridcolor\": \"white\", \"linecolor\": \"white\", \"ticks\": \"\"}, \"bgcolor\": \"#E5ECF6\", \"caxis\": {\"gridcolor\": \"white\", \"linecolor\": \"white\", \"ticks\": \"\"}}, \"title\": {\"x\": 0.05}, \"xaxis\": {\"automargin\": true, \"gridcolor\": \"white\", \"linecolor\": \"white\", \"ticks\": \"\", \"title\": {\"standoff\": 15}, \"zerolinecolor\": \"white\", \"zerolinewidth\": 2}, \"yaxis\": {\"automargin\": true, \"gridcolor\": \"white\", \"linecolor\": \"white\", \"ticks\": \"\", \"title\": {\"standoff\": 15}, \"zerolinecolor\": \"white\", \"zerolinewidth\": 2}}}, \"title\": {\"text\": \"Credit Card Transactions Time Density Plot\"}, \"xaxis\": {\"anchor\": \"y2\", \"domain\": [0.0, 1.0], \"title\": {\"text\": \"Time [s]\"}, \"zeroline\": false}, \"yaxis\": {\"anchor\": \"free\", \"domain\": [0.0, 1], \"position\": 0.0}},\n",
       "                        {\"responsive\": true}\n",
       "                    ).then(function(){\n",
       "                            \n",
       "var gd = document.getElementById('0626b87a-6c2d-452a-b1e0-27063cf0f2c4');\n",
       "var x = new MutationObserver(function (mutations, observer) {{\n",
       "        var display = window.getComputedStyle(gd).display;\n",
       "        if (!display || display === 'none') {{\n",
       "            console.log([gd, 'removed!']);\n",
       "            Plotly.purge(gd);\n",
       "            observer.disconnect();\n",
       "        }}\n",
       "}});\n",
       "\n",
       "// Listen for the removal of the full notebook cells\n",
       "var notebookContainer = gd.closest('#notebook-container');\n",
       "if (notebookContainer) {{\n",
       "    x.observe(notebookContainer, {childList: true});\n",
       "}}\n",
       "\n",
       "// Listen for the clearing of the current output cell\n",
       "var outputEl = gd.closest('.output');\n",
       "if (outputEl) {{\n",
       "    x.observe(outputEl, {childList: true});\n",
       "}}\n",
       "\n",
       "                        })\n",
       "                };\n",
       "                });\n",
       "            </script>\n",
       "        </div>"
      ]
     },
     "metadata": {},
     "output_type": "display_data"
    }
   ],
   "source": [
    "class_0 = data_df.loc[data_df['Class'] == 0][\"Time\"]\n",
    "# print(class_0)\n",
    "class_1 = data_df.loc[data_df['Class'] == 1][\"Time\"]\n",
    "# print(class_1)\n",
    "#plt.figure(figsize = (14,4))\n",
    "#plt.title('Credit Card Transactions Time Density Plot')\n",
    "#sns.set_color_codes(\"pastel\")\n",
    "#sns.distplot(class_0,kde=True,bins=480)\n",
    "#sns.distplot(class_1,kde=True,bins=480)\n",
    "#plt.show()\n",
    "hist_data = [class_0, class_1]\n",
    "group_labels = ['Not Fraud', 'Fraud']\n",
    "\n",
    "fig = ff.create_distplot(hist_data, group_labels, show_hist=False, show_rug=False)\n",
    "fig['layout'].update(title='Credit Card Transactions Time Density Plot', xaxis=dict(title='Time [s]'))\n",
    "iplot(fig, filename='dist_only')"
   ]
  },
  {
   "cell_type": "markdown",
   "metadata": {
    "_uuid": "64cd713602c33ce4491492088279f26adc209674"
   },
   "source": [
    "Fraudulent transactions have a distribution more even than valid transactions - are equaly distributed in time, including the low real transaction times, during night in Europe timezone."
   ]
  },
  {
   "cell_type": "markdown",
   "metadata": {
    "_uuid": "c4393be5698f192c6839e8d372b453ed247d40d5"
   },
   "source": [
    "## Transactions amount"
   ]
  },
  {
   "cell_type": "code",
   "execution_count": 51,
   "metadata": {
    "_uuid": "639b6fec6066d52f91c6766ef372df39a39c2fe1"
   },
   "outputs": [
    {
     "data": {
      "image/png": "[encoded data removed]",
      "text/plain": [
       "<Figure size 864x432 with 2 Axes>"
      ]
     },
     "metadata": {
      "needs_background": "light"
     },
     "output_type": "display_data"
    }
   ],
   "source": [
    "fig, (ax1, ax2) = plt.subplots(ncols=2, figsize=(12,6))\n",
    "s = sns.boxplot(ax = ax1, x=\"Class\", y=\"Amount\", hue=\"Class\",data=data_df, palette=\"PRGn\",showfliers=True)\n",
    "s = sns.boxplot(ax = ax2, x=\"Class\", y=\"Amount\", hue=\"Class\",data=data_df, palette=\"PRGn\",showfliers=False)\n",
    "plt.show();"
   ]
  },
  {
   "cell_type": "code",
   "execution_count": 58,
   "metadata": {
    "_uuid": "2a797b1b01b66a3171197cbfc1a1a37bf36b0d57"
   },
   "outputs": [
    {
     "data": {
      "text/plain": [
       "count    284315.000000\n",
       "mean         88.291022\n",
       "std         250.105092\n",
       "min           0.000000\n",
       "25%           5.650000\n",
       "50%          22.000000\n",
       "75%          77.050000\n",
       "max       25691.160000\n",
       "Name: Amount, dtype: float64"
      ]
     },
     "execution_count": 58,
     "metadata": {},
     "output_type": "execute_result"
    }
   ],
   "source": [
    "tmp = data_df[['Amount','Class']].copy()\n",
    "\n",
    "class_0 = tmp.loc[tmp['Class'] == 0]['Amount']\n",
    "class_1 = tmp.loc[tmp['Class'] == 1]['Amount']\n",
    "class_0.describe()"
   ]
  },
  {
   "cell_type": "code",
   "execution_count": 53,
   "metadata": {
    "_uuid": "90705320eb4f147ec29f13620e010501217b981d"
   },
   "outputs": [
    {
     "data": {
      "text/plain": [
       "count     492.000000\n",
       "mean      122.211321\n",
       "std       256.683288\n",
       "min         0.000000\n",
       "25%         1.000000\n",
       "50%         9.250000\n",
       "75%       105.890000\n",
       "max      2125.870000\n",
       "Name: Amount, dtype: float64"
      ]
     },
     "execution_count": 53,
     "metadata": {},
     "output_type": "execute_result"
    }
   ],
   "source": [
    "class_1.describe()"
   ]
  },
  {
   "cell_type": "markdown",
   "metadata": {
    "_uuid": "a6aedd49dc678f1a022ddc98901b0a53758bc7f6"
   },
   "source": [
    "The real transaction have a larger mean value, larger Q1, smaller Q3 and Q4 and larger outliers; fraudulent transactions have a smaller Q1 and mean, larger Q4 and smaller outliers.\n",
    "\n",
    "Let's plot the fraudulent transactions (amount) against time. The time is shown is seconds from the start of the time period (totaly 48h, over 2 days)."
   ]
  },
  {
   "cell_type": "code",
   "execution_count": 59,
   "metadata": {
    "_uuid": "29575f5187154024c911642bd329289199253a90"
   },
   "outputs": [
    {
     "data": {
      "application/vnd.plotly.v1+json": {
       "config": {
        "linkText": "Export to plot.ly",
        "plotlyServerURL": "https://plot.ly",
        "showLink": false
       },
       "data": [
        {
         "marker": {
          "color": "rgb(238,23,11)",
          "line": {
           "color": "red",
           "width": 1
          },
          "opacity": 0.5
         },
         "mode": "markers",
         "name": "Amount",
         "text": [
          0,
          529,
          239.93,
          59,
          1,
          1,
          1,
          1,
          1,
          1,
          1,
          1,
          1,
          1,
          1,
          1,
          1,
          1,
          1,
          1,
          1,
          1.1,
          1,
          1,
          1809.68,
          1,
          1,
          1,
          1,
          1,
          0,
          30.39,
          179.66,
          1,
          1,
          1,
          1,
          1,
          11.39,
          3.79,
          3.79,
          3.93,
          1,
          766.36,
          1218.89,
          1,
          188.78,
          1,
          1,
          1,
          1,
          1,
          1,
          1,
          1,
          1,
          3.12,
          99.99,
          99.99,
          99.99,
          3.76,
          99.99,
          99.99,
          99.99,
          99.99,
          99.99,
          99.99,
          99.99,
          99.99,
          99.99,
          99.99,
          99.99,
          99.99,
          23.36,
          99.99,
          730.86,
          99.99,
          99.99,
          99.99,
          99.99,
          99.99,
          0.68,
          0.68,
          0.68,
          30.3,
          104.81,
          0,
          717.15,
          19.02,
          1.52,
          18.96,
          125.3,
          19.02,
          0.76,
          60.6,
          7.61,
          1,
          9.13,
          4.56,
          14.46,
          111.7,
          111.7,
          12.31,
          776.83,
          1,
          1,
          1,
          1,
          0.76,
          0.76,
          112.33,
          3.79,
          340.11,
          88.23,
          5.3,
          83.38,
          11.38,
          1.52,
          88.23,
          30.26,
          459.07,
          0,
          118.3,
          45.49,
          173.07,
          37.32,
          59.68,
          0.76,
          9.99,
          34.12,
          273.01,
          106.55,
          364.19,
          39.45,
          53.95,
          172.32,
          802.52,
          99.99,
          139.9,
          1,
          1,
          1,
          1,
          1,
          648,
          204.27,
          88,
          24.9,
          1,
          1,
          1,
          105.99,
          1,
          1,
          1,
          1,
          0.76,
          7.58,
          0.76,
          0.76,
          208.58,
          1,
          19.73,
          360,
          99.99,
          99.99,
          99.99,
          99.99,
          99.99,
          519.9,
          0.76,
          0.76,
          1.18,
          8,
          0,
          112.45,
          261.87,
          1.79,
          1,
          0.83,
          0.83,
          130.44,
          311.91,
          170.92,
          153.46,
          7.52,
          1,
          5,
          0.01,
          444.17,
          1,
          1,
          1,
          1.75,
          5.09,
          270,
          113.92,
          45.64,
          1389.56,
          18.98,
          6.27,
          319.2,
          5.91,
          454.82,
          101.5,
          19.04,
          6.62,
          180,
          1,
          1.1,
          1402.16,
          290.18,
          294.9,
          1,
          0,
          0,
          720.38,
          31.91,
          1354.25,
          98.01,
          101.5,
          7.53,
          489.71,
          549.06,
          320,
          1,
          1,
          1,
          1,
          1,
          1,
          19.59,
          1,
          227.3,
          3.79,
          318.11,
          824.83,
          0.76,
          426.4,
          238.9,
          45.03,
          16.48,
          76.94,
          311.28,
          30.14,
          29.95,
          124.53,
          99.85,
          99.9,
          219.8,
          254.76,
          1,
          1,
          1,
          1,
          129,
          1,
          1,
          1,
          106.9,
          60,
          0.2,
          7.57,
          1,
          1,
          0,
          0,
          512.25,
          512.25,
          12.31,
          354.33,
          2,
          0,
          0,
          252.92,
          252.92,
          1,
          240.77,
          1,
          310.42,
          323.77,
          451.27,
          829.41,
          1.18,
          9.21,
          6.99,
          38.76,
          52.69,
          1,
          1,
          261.22,
          18,
          600.73,
          1,
          75.86,
          8.54,
          0.01,
          44.9,
          44.9,
          316.06,
          316.06,
          209.65,
          78,
          78,
          188.52,
          188.52,
          30.31,
          30.31,
          104.03,
          104.03,
          1,
          1,
          37.93,
          97,
          11.4,
          45.48,
          1,
          1,
          1,
          1,
          1,
          33.76,
          571.48,
          1.63,
          1.63,
          18.96,
          33.59,
          1,
          8.64,
          9.82,
          2.28,
          1,
          0.76,
          1,
          0.92,
          2.28,
          147.87,
          0,
          22.04,
          0,
          104,
          2.28,
          0.01,
          1,
          346.94,
          7.59,
          0,
          0,
          119.74,
          2.27,
          0,
          186.13,
          1,
          0.76,
          80.22,
          635.1,
          17.06,
          65,
          105.89,
          105.89,
          144.62,
          2125.87,
          11,
          45.51,
          40,
          3.22,
          0,
          25,
          67.9,
          93.35,
          1,
          175.9,
          720.8,
          7.18,
          4.87,
          80.9,
          0,
          2,
          1,
          362.55,
          276.17,
          723.21,
          480.72,
          1,
          1335,
          0,
          130.21,
          1,
          925.31,
          0,
          345,
          108.51,
          84.28,
          39.45,
          0.01,
          727.91,
          22.47,
          8.3,
          120.54,
          0.69,
          723.21,
          0.77,
          592.9,
          195.66,
          4.49,
          0.76,
          324.59,
          320.01,
          2,
          144.8,
          0,
          1,
          1,
          8.9,
          1,
          667.55,
          0,
          1.18,
          2.22,
          0.77,
          94.82,
          8,
          996.27,
          0,
          1.59,
          1.59,
          0,
          0.76,
          0.76,
          122.68,
          0,
          1,
          1.1,
          2,
          17.39,
          50,
          237.26,
          1,
          9.29,
          10.7,
          0.01,
          57.73,
          1,
          1,
          1,
          1,
          1,
          2.47,
          357.95,
          247.86,
          51.37,
          0,
          0.76,
          1504.93,
          1096.99,
          35,
          6.74,
          0.77,
          0.77,
          0.77,
          3.9,
          3.14,
          7.06,
          94.82,
          0.77,
          0.77,
          187.11,
          7.59,
          4.97,
          0.77,
          296,
          45.51,
          4.9,
          156,
          4.69,
          0.77,
          1,
          0.77,
          127.14,
          0.38,
          39.98,
          12.31,
          0,
          39.9,
          634.3,
          19.95,
          349.08,
          390,
          0.76,
          77.89,
          245,
          42.53
         ],
         "type": "scatter",
         "x": [
          406,
          472,
          4462,
          6986,
          7519,
          7526,
          7535,
          7543,
          7551,
          7610,
          7672,
          7740,
          7891,
          8090,
          8169,
          8408,
          8415,
          8451,
          8528,
          8614,
          8757,
          8808,
          8878,
          8886,
          9064,
          11080,
          11092,
          11131,
          11629,
          11635,
          12093,
          12095,
          12393,
          12597,
          13126,
          13323,
          14073,
          14152,
          15817,
          17187,
          17220,
          17230,
          17520,
          17838,
          18088,
          18399,
          18675,
          18690,
          19762,
          20011,
          20332,
          20451,
          20931,
          21046,
          21419,
          21662,
          25095,
          25198,
          25231,
          25254,
          25426,
          26523,
          26556,
          26585,
          26833,
          26863,
          26899,
          26931,
          26961,
          27163,
          27187,
          27219,
          27252,
          27784,
          28143,
          28242,
          28625,
          28658,
          28692,
          28726,
          28755,
          29526,
          29531,
          29753,
          29785,
          30852,
          32686,
          32745,
          34256,
          34521,
          34634,
          34684,
          34687,
          35585,
          35771,
          35866,
          35899,
          35906,
          35926,
          35942,
          35953,
          36170,
          37167,
          39729,
          40086,
          40276,
          40662,
          40742,
          40892,
          40918,
          40919,
          41116,
          41138,
          41147,
          41164,
          41170,
          41181,
          41194,
          41203,
          41204,
          41227,
          41233,
          41237,
          41243,
          41273,
          41285,
          41305,
          41308,
          41313,
          41353,
          41397,
          41413,
          41505,
          41582,
          41607,
          41646,
          41743,
          41791,
          41851,
          41870,
          41991,
          42247,
          42474,
          42985,
          42988,
          43028,
          43369,
          43494,
          44393,
          44532,
          45463,
          45501,
          45541,
          46057,
          46149,
          46925,
          47545,
          47826,
          47923,
          47982,
          48380,
          48533,
          48884,
          49985,
          50706,
          50808,
          51112,
          51135,
          51155,
          52814,
          52934,
          53031,
          53076,
          53451,
          53658,
          53727,
          53937,
          54846,
          55279,
          55311,
          55614,
          55618,
          55760,
          56098,
          56624,
          56650,
          56806,
          56887,
          57007,
          57027,
          57163,
          58060,
          58067,
          58199,
          58217,
          58222,
          58642,
          58822,
          59011,
          59385,
          59669,
          59777,
          59840,
          60353,
          61108,
          61646,
          62059,
          62080,
          62330,
          62341,
          62467,
          63578,
          64093,
          64412,
          64443,
          64585,
          64785,
          65358,
          65385,
          65728,
          65936,
          66037,
          67150,
          67571,
          67857,
          68207,
          68207,
          68207,
          68207,
          68207,
          68207,
          68357,
          69394,
          70071,
          70229,
          70270,
          70536,
          70828,
          71033,
          72327,
          72824,
          73408,
          74159,
          74262,
          75033,
          75556,
          75581,
          75851,
          75978,
          76575,
          76826,
          76845,
          76857,
          76867,
          76876,
          77154,
          77171,
          77182,
          77202,
          77627,
          78725,
          79540,
          81372,
          82289,
          83934,
          84204,
          84204,
          84204,
          84204,
          84694,
          84789,
          85181,
          85285,
          85285,
          85285,
          85285,
          85573,
          85576,
          85864,
          85867,
          86376,
          87202,
          87883,
          88672,
          88737,
          90676,
          91075,
          91407,
          91502,
          91524,
          91554,
          92092,
          92102,
          93742,
          93823,
          93824,
          93834,
          93853,
          93853,
          93853,
          93853,
          93856,
          93860,
          93860,
          93860,
          93860,
          93879,
          93879,
          93879,
          93879,
          93888,
          93897,
          93904,
          93920,
          93965,
          94141,
          94362,
          94362,
          94362,
          94362,
          94364,
          94625,
          94952,
          95559,
          95628,
          96135,
          96291,
          96717,
          97121,
          97235,
          100223,
          100298,
          100501,
          100924,
          101051,
          101313,
          101597,
          102114,
          102318,
          102480,
          102489,
          102542,
          102572,
          102619,
          102622,
          102625,
          102669,
          102671,
          102676,
          103808,
          109297,
          109298,
          110087,
          110547,
          110552,
          110617,
          115691,
          116067,
          118532,
          118603,
          121238,
          122608,
          123078,
          123525,
          125200,
          125612,
          125658,
          126219,
          128471,
          128519,
          128595,
          128803,
          129095,
          129186,
          129222,
          129308,
          129371,
          129668,
          129741,
          129764,
          129808,
          131024,
          132086,
          132688,
          133184,
          133731,
          133958,
          134766,
          134769,
          134928,
          135095,
          135102,
          135314,
          137211,
          138894,
          138942,
          139107,
          139117,
          139767,
          139816,
          139951,
          140293,
          140308,
          141320,
          141565,
          141925,
          142280,
          142394,
          142409,
          142840,
          142961,
          143354,
          143434,
          143438,
          143456,
          144808,
          144839,
          146022,
          146026,
          146179,
          146344,
          146998,
          147501,
          148028,
          148053,
          148053,
          148074,
          148468,
          148476,
          148479,
          149096,
          149236,
          149582,
          149640,
          149676,
          150138,
          150139,
          150494,
          150949,
          151029,
          151916,
          151972,
          152036,
          152058,
          152098,
          152165,
          152307,
          152710,
          152802,
          153653,
          153761,
          153875,
          154181,
          154278,
          154309,
          154493,
          154599,
          154657,
          155054,
          155359,
          155535,
          155542,
          155548,
          155554,
          155662,
          155965,
          156685,
          156710,
          157207,
          157284,
          158638,
          159844,
          160034,
          160243,
          160537,
          160665,
          160791,
          160870,
          160895,
          161154,
          163181,
          165132,
          165981,
          166028,
          166831,
          166883,
          167338,
          169142,
          169347,
          169351,
          169966,
          170348
         ],
         "y": [
          0,
          529,
          239.93,
          59,
          1,
          1,
          1,
          1,
          1,
          1,
          1,
          1,
          1,
          1,
          1,
          1,
          1,
          1,
          1,
          1,
          1,
          1.1,
          1,
          1,
          1809.68,
          1,
          1,
          1,
          1,
          1,
          0,
          30.39,
          179.66,
          1,
          1,
          1,
          1,
          1,
          11.39,
          3.79,
          3.79,
          3.93,
          1,
          766.36,
          1218.89,
          1,
          188.78,
          1,
          1,
          1,
          1,
          1,
          1,
          1,
          1,
          1,
          3.12,
          99.99,
          99.99,
          99.99,
          3.76,
          99.99,
          99.99,
          99.99,
          99.99,
          99.99,
          99.99,
          99.99,
          99.99,
          99.99,
          99.99,
          99.99,
          99.99,
          23.36,
          99.99,
          730.86,
          99.99,
          99.99,
          99.99,
          99.99,
          99.99,
          0.68,
          0.68,
          0.68,
          30.3,
          104.81,
          0,
          717.15,
          19.02,
          1.52,
          18.96,
          125.3,
          19.02,
          0.76,
          60.6,
          7.61,
          1,
          9.13,
          4.56,
          14.46,
          111.7,
          111.7,
          12.31,
          776.83,
          1,
          1,
          1,
          1,
          0.76,
          0.76,
          112.33,
          3.79,
          340.11,
          88.23,
          5.3,
          83.38,
          11.38,
          1.52,
          88.23,
          30.26,
          459.07,
          0,
          118.3,
          45.49,
          173.07,
          37.32,
          59.68,
          0.76,
          9.99,
          34.12,
          273.01,
          106.55,
          364.19,
          39.45,
          53.95,
          172.32,
          802.52,
          99.99,
          139.9,
          1,
          1,
          1,
          1,
          1,
          648,
          204.27,
          88,
          24.9,
          1,
          1,
          1,
          105.99,
          1,
          1,
          1,
          1,
          0.76,
          7.58,
          0.76,
          0.76,
          208.58,
          1,
          19.73,
          360,
          99.99,
          99.99,
          99.99,
          99.99,
          99.99,
          519.9,
          0.76,
          0.76,
          1.18,
          8,
          0,
          112.45,
          261.87,
          1.79,
          1,
          0.83,
          0.83,
          130.44,
          311.91,
          170.92,
          153.46,
          7.52,
          1,
          5,
          0.01,
          444.17,
          1,
          1,
          1,
          1.75,
          5.09,
          270,
          113.92,
          45.64,
          1389.56,
          18.98,
          6.27,
          319.2,
          5.91,
          454.82,
          101.5,
          19.04,
          6.62,
          180,
          1,
          1.1,
          1402.16,
          290.18,
          294.9,
          1,
          0,
          0,
          720.38,
          31.91,
          1354.25,
          98.01,
          101.5,
          7.53,
          489.71,
          549.06,
          320,
          1,
          1,
          1,
          1,
          1,
          1,
          19.59,
          1,
          227.3,
          3.79,
          318.11,
          824.83,
          0.76,
          426.4,
          238.9,
          45.03,
          16.48,
          76.94,
          311.28,
          30.14,
          29.95,
          124.53,
          99.85,
          99.9,
          219.8,
          254.76,
          1,
          1,
          1,
          1,
          129,
          1,
          1,
          1,
          106.9,
          60,
          0.2,
          7.57,
          1,
          1,
          0,
          0,
          512.25,
          512.25,
          12.31,
          354.33,
          2,
          0,
          0,
          252.92,
          252.92,
          1,
          240.77,
          1,
          310.42,
          323.77,
          451.27,
          829.41,
          1.18,
          9.21,
          6.99,
          38.76,
          52.69,
          1,
          1,
          261.22,
          18,
          600.73,
          1,
          75.86,
          8.54,
          0.01,
          44.9,
          44.9,
          316.06,
          316.06,
          209.65,
          78,
          78,
          188.52,
          188.52,
          30.31,
          30.31,
          104.03,
          104.03,
          1,
          1,
          37.93,
          97,
          11.4,
          45.48,
          1,
          1,
          1,
          1,
          1,
          33.76,
          571.48,
          1.63,
          1.63,
          18.96,
          33.59,
          1,
          8.64,
          9.82,
          2.28,
          1,
          0.76,
          1,
          0.92,
          2.28,
          147.87,
          0,
          22.04,
          0,
          104,
          2.28,
          0.01,
          1,
          346.94,
          7.59,
          0,
          0,
          119.74,
          2.27,
          0,
          186.13,
          1,
          0.76,
          80.22,
          635.1,
          17.06,
          65,
          105.89,
          105.89,
          144.62,
          2125.87,
          11,
          45.51,
          40,
          3.22,
          0,
          25,
          67.9,
          93.35,
          1,
          175.9,
          720.8,
          7.18,
          4.87,
          80.9,
          0,
          2,
          1,
          362.55,
          276.17,
          723.21,
          480.72,
          1,
          1335,
          0,
          130.21,
          1,
          925.31,
          0,
          345,
          108.51,
          84.28,
          39.45,
          0.01,
          727.91,
          22.47,
          8.3,
          120.54,
          0.69,
          723.21,
          0.77,
          592.9,
          195.66,
          4.49,
          0.76,
          324.59,
          320.01,
          2,
          144.8,
          0,
          1,
          1,
          8.9,
          1,
          667.55,
          0,
          1.18,
          2.22,
          0.77,
          94.82,
          8,
          996.27,
          0,
          1.59,
          1.59,
          0,
          0.76,
          0.76,
          122.68,
          0,
          1,
          1.1,
          2,
          17.39,
          50,
          237.26,
          1,
          9.29,
          10.7,
          0.01,
          57.73,
          1,
          1,
          1,
          1,
          1,
          2.47,
          357.95,
          247.86,
          51.37,
          0,
          0.76,
          1504.93,
          1096.99,
          35,
          6.74,
          0.77,
          0.77,
          0.77,
          3.9,
          3.14,
          7.06,
          94.82,
          0.77,
          0.77,
          187.11,
          7.59,
          4.97,
          0.77,
          296,
          45.51,
          4.9,
          156,
          4.69,
          0.77,
          1,
          0.77,
          127.14,
          0.38,
          39.98,
          12.31,
          0,
          39.9,
          634.3,
          19.95,
          349.08,
          390,
          0.76,
          77.89,
          245,
          42.53
         ]
        }
       ],
       "layout": {
        "hovermode": "closest",
        "template": {
         "data": {
          "bar": [
           {
            "error_x": {
             "color": "#2a3f5f"
            },
            "error_y": {
             "color": "#2a3f5f"
            },
            "marker": {
             "line": {
              "color": "#E5ECF6",
              "width": 0.5
             }
            },
            "type": "bar"
           }
          ],
          "barpolar": [
           {
            "marker": {
             "line": {
              "color": "#E5ECF6",
              "width": 0.5
             }
            },
            "type": "barpolar"
           }
          ],
          "carpet": [
           {
            "aaxis": {
             "endlinecolor": "#2a3f5f",
             "gridcolor": "white",
             "linecolor": "white",
             "minorgridcolor": "white",
             "startlinecolor": "#2a3f5f"
            },
            "baxis": {
             "endlinecolor": "#2a3f5f",
             "gridcolor": "white",
             "linecolor": "white",
             "minorgridcolor": "white",
             "startlinecolor": "#2a3f5f"
            },
            "type": "carpet"
           }
          ],
          "choropleth": [
           {
            "colorbar": {
             "outlinewidth": 0,
             "ticks": ""
            },
            "type": "choropleth"
           }
          ],
          "contour": [
           {
            "colorbar": {
             "outlinewidth": 0,
             "ticks": ""
            },
            "colorscale": [
             [
              0,
              "#0d0887"
             ],
             [
              0.1111111111111111,
              "#46039f"
             ],
             [
              0.2222222222222222,
              "#7201a8"
             ],
             [
              0.3333333333333333,
              "#9c179e"
             ],
             [
              0.4444444444444444,
              "#bd3786"
             ],
             [
              0.5555555555555556,
              "#d8576b"
             ],
             [
              0.6666666666666666,
              "#ed7953"
             ],
             [
              0.7777777777777778,
              "#fb9f3a"
             ],
             [
              0.8888888888888888,
              "#fdca26"
             ],
             [
              1,
              "#f0f921"
             ]
            ],
            "type": "contour"
           }
          ],
          "contourcarpet": [
           {
            "colorbar": {
             "outlinewidth": 0,
             "ticks": ""
            },
            "type": "contourcarpet"
           }
          ],
          "heatmap": [
           {
            "colorbar": {
             "outlinewidth": 0,
             "ticks": ""
            },
            "colorscale": [
             [
              0,
              "#0d0887"
             ],
             [
              0.1111111111111111,
              "#46039f"
             ],
             [
              0.2222222222222222,
              "#7201a8"
             ],
             [
              0.3333333333333333,
              "#9c179e"
             ],
             [
              0.4444444444444444,
              "#bd3786"
             ],
             [
              0.5555555555555556,
              "#d8576b"
             ],
             [
              0.6666666666666666,
              "#ed7953"
             ],
             [
              0.7777777777777778,
              "#fb9f3a"
             ],
             [
              0.8888888888888888,
              "#fdca26"
             ],
             [
              1,
              "#f0f921"
             ]
            ],
            "type": "heatmap"
           }
          ],
          "heatmapgl": [
           {
            "colorbar": {
             "outlinewidth": 0,
             "ticks": ""
            },
            "colorscale": [
             [
              0,
              "#0d0887"
             ],
             [
              0.1111111111111111,
              "#46039f"
             ],
             [
              0.2222222222222222,
              "#7201a8"
             ],
             [
              0.3333333333333333,
              "#9c179e"
             ],
             [
              0.4444444444444444,
              "#bd3786"
             ],
             [
              0.5555555555555556,
              "#d8576b"
             ],
             [
              0.6666666666666666,
              "#ed7953"
             ],
             [
              0.7777777777777778,
              "#fb9f3a"
             ],
             [
              0.8888888888888888,
              "#fdca26"
             ],
             [
              1,
              "#f0f921"
             ]
            ],
            "type": "heatmapgl"
           }
          ],
          "histogram": [
           {
            "marker": {
             "colorbar": {
              "outlinewidth": 0,
              "ticks": ""
             }
            },
            "type": "histogram"
           }
          ],
          "histogram2d": [
           {
            "colorbar": {
             "outlinewidth": 0,
             "ticks": ""
            },
            "colorscale": [
             [
              0,
              "#0d0887"
             ],
             [
              0.1111111111111111,
              "#46039f"
             ],
             [
              0.2222222222222222,
              "#7201a8"
             ],
             [
              0.3333333333333333,
              "#9c179e"
             ],
             [
              0.4444444444444444,
              "#bd3786"
             ],
             [
              0.5555555555555556,
              "#d8576b"
             ],
             [
              0.6666666666666666,
              "#ed7953"
             ],
             [
              0.7777777777777778,
              "#fb9f3a"
             ],
             [
              0.8888888888888888,
              "#fdca26"
             ],
             [
              1,
              "#f0f921"
             ]
            ],
            "type": "histogram2d"
           }
          ],
          "histogram2dcontour": [
           {
            "colorbar": {
             "outlinewidth": 0,
             "ticks": ""
            },
            "colorscale": [
             [
              0,
              "#0d0887"
             ],
             [
              0.1111111111111111,
              "#46039f"
             ],
             [
              0.2222222222222222,
              "#7201a8"
             ],
             [
              0.3333333333333333,
              "#9c179e"
             ],
             [
              0.4444444444444444,
              "#bd3786"
             ],
             [
              0.5555555555555556,
              "#d8576b"
             ],
             [
              0.6666666666666666,
              "#ed7953"
             ],
             [
              0.7777777777777778,
              "#fb9f3a"
             ],
             [
              0.8888888888888888,
              "#fdca26"
             ],
             [
              1,
              "#f0f921"
             ]
            ],
            "type": "histogram2dcontour"
           }
          ],
          "mesh3d": [
           {
            "colorbar": {
             "outlinewidth": 0,
             "ticks": ""
            },
            "type": "mesh3d"
           }
          ],
          "parcoords": [
           {
            "line": {
             "colorbar": {
              "outlinewidth": 0,
              "ticks": ""
             }
            },
            "type": "parcoords"
           }
          ],
          "pie": [
           {
            "automargin": true,
            "type": "pie"
           }
          ],
          "scatter": [
           {
            "marker": {
             "colorbar": {
              "outlinewidth": 0,
              "ticks": ""
             }
            },
            "type": "scatter"
           }
          ],
          "scatter3d": [
           {
            "line": {
             "colorbar": {
              "outlinewidth": 0,
              "ticks": ""
             }
            },
            "marker": {
             "colorbar": {
              "outlinewidth": 0,
              "ticks": ""
             }
            },
            "type": "scatter3d"
           }
          ],
          "scattercarpet": [
           {
            "marker": {
             "colorbar": {
              "outlinewidth": 0,
              "ticks": ""
             }
            },
            "type": "scattercarpet"
           }
          ],
          "scattergeo": [
           {
            "marker": {
             "colorbar": {
              "outlinewidth": 0,
              "ticks": ""
             }
            },
            "type": "scattergeo"
           }
          ],
          "scattergl": [
           {
            "marker": {
             "colorbar": {
              "outlinewidth": 0,
              "ticks": ""
             }
            },
            "type": "scattergl"
           }
          ],
          "scattermapbox": [
           {
            "marker": {
             "colorbar": {
              "outlinewidth": 0,
              "ticks": ""
             }
            },
            "type": "scattermapbox"
           }
          ],
          "scatterpolar": [
           {
            "marker": {
             "colorbar": {
              "outlinewidth": 0,
              "ticks": ""
             }
            },
            "type": "scatterpolar"
           }
          ],
          "scatterpolargl": [
           {
            "marker": {
             "colorbar": {
              "outlinewidth": 0,
              "ticks": ""
             }
            },
            "type": "scatterpolargl"
           }
          ],
          "scatterternary": [
           {
            "marker": {
             "colorbar": {
              "outlinewidth": 0,
              "ticks": ""
             }
            },
            "type": "scatterternary"
           }
          ],
          "surface": [
           {
            "colorbar": {
             "outlinewidth": 0,
             "ticks": ""
            },
            "colorscale": [
             [
              0,
              "#0d0887"
             ],
             [
              0.1111111111111111,
              "#46039f"
             ],
             [
              0.2222222222222222,
              "#7201a8"
             ],
             [
              0.3333333333333333,
              "#9c179e"
             ],
             [
              0.4444444444444444,
              "#bd3786"
             ],
             [
              0.5555555555555556,
              "#d8576b"
             ],
             [
              0.6666666666666666,
              "#ed7953"
             ],
             [
              0.7777777777777778,
              "#fb9f3a"
             ],
             [
              0.8888888888888888,
              "#fdca26"
             ],
             [
              1,
              "#f0f921"
             ]
            ],
            "type": "surface"
           }
          ],
          "table": [
           {
            "cells": {
             "fill": {
              "color": "#EBF0F8"
             },
             "line": {
              "color": "white"
             }
            },
            "header": {
             "fill": {
              "color": "#C8D4E3"
             },
             "line": {
              "color": "white"
             }
            },
            "type": "table"
           }
          ]
         },
         "layout": {
          "annotationdefaults": {
           "arrowcolor": "#2a3f5f",
           "arrowhead": 0,
           "arrowwidth": 1
          },
          "coloraxis": {
           "colorbar": {
            "outlinewidth": 0,
            "ticks": ""
           }
          },
          "colorscale": {
           "diverging": [
            [
             0,
             "#8e0152"
            ],
            [
             0.1,
             "#c51b7d"
            ],
            [
             0.2,
             "#de77ae"
            ],
            [
             0.3,
             "#f1b6da"
            ],
            [
             0.4,
             "#fde0ef"
            ],
            [
             0.5,
             "#f7f7f7"
            ],
            [
             0.6,
             "#e6f5d0"
            ],
            [
             0.7,
             "#b8e186"
            ],
            [
             0.8,
             "#7fbc41"
            ],
            [
             0.9,
             "#4d9221"
            ],
            [
             1,
             "#276419"
            ]
           ],
           "sequential": [
            [
             0,
             "#0d0887"
            ],
            [
             0.1111111111111111,
             "#46039f"
            ],
            [
             0.2222222222222222,
             "#7201a8"
            ],
            [
             0.3333333333333333,
             "#9c179e"
            ],
            [
             0.4444444444444444,
             "#bd3786"
            ],
            [
             0.5555555555555556,
             "#d8576b"
            ],
            [
             0.6666666666666666,
             "#ed7953"
            ],
            [
             0.7777777777777778,
             "#fb9f3a"
            ],
            [
             0.8888888888888888,
             "#fdca26"
            ],
            [
             1,
             "#f0f921"
            ]
           ],
           "sequentialminus": [
            [
             0,
             "#0d0887"
            ],
            [
             0.1111111111111111,
             "#46039f"
            ],
            [
             0.2222222222222222,
             "#7201a8"
            ],
            [
             0.3333333333333333,
             "#9c179e"
            ],
            [
             0.4444444444444444,
             "#bd3786"
            ],
            [
             0.5555555555555556,
             "#d8576b"
            ],
            [
             0.6666666666666666,
             "#ed7953"
            ],
            [
             0.7777777777777778,
             "#fb9f3a"
            ],
            [
             0.8888888888888888,
             "#fdca26"
            ],
            [
             1,
             "#f0f921"
            ]
           ]
          },
          "colorway": [
           "#636efa",
           "#EF553B",
           "#00cc96",
           "#ab63fa",
           "#FFA15A",
           "#19d3f3",
           "#FF6692",
           "#B6E880",
           "#FF97FF",
           "#FECB52"
          ],
          "font": {
           "color": "#2a3f5f"
          },
          "geo": {
           "bgcolor": "white",
           "lakecolor": "white",
           "landcolor": "#E5ECF6",
           "showlakes": true,
           "showland": true,
           "subunitcolor": "white"
          },
          "hoverlabel": {
           "align": "left"
          },
          "hovermode": "closest",
          "mapbox": {
           "style": "light"
          },
          "paper_bgcolor": "white",
          "plot_bgcolor": "#E5ECF6",
          "polar": {
           "angularaxis": {
            "gridcolor": "white",
            "linecolor": "white",
            "ticks": ""
           },
           "bgcolor": "#E5ECF6",
           "radialaxis": {
            "gridcolor": "white",
            "linecolor": "white",
            "ticks": ""
           }
          },
          "scene": {
           "xaxis": {
            "backgroundcolor": "#E5ECF6",
            "gridcolor": "white",
            "gridwidth": 2,
            "linecolor": "white",
            "showbackground": true,
            "ticks": "",
            "zerolinecolor": "white"
           },
           "yaxis": {
            "backgroundcolor": "#E5ECF6",
            "gridcolor": "white",
            "gridwidth": 2,
            "linecolor": "white",
            "showbackground": true,
            "ticks": "",
            "zerolinecolor": "white"
           },
           "zaxis": {
            "backgroundcolor": "#E5ECF6",
            "gridcolor": "white",
            "gridwidth": 2,
            "linecolor": "white",
            "showbackground": true,
            "ticks": "",
            "zerolinecolor": "white"
           }
          },
          "shapedefaults": {
           "line": {
            "color": "#2a3f5f"
           }
          },
          "ternary": {
           "aaxis": {
            "gridcolor": "white",
            "linecolor": "white",
            "ticks": ""
           },
           "baxis": {
            "gridcolor": "white",
            "linecolor": "white",
            "ticks": ""
           },
           "bgcolor": "#E5ECF6",
           "caxis": {
            "gridcolor": "white",
            "linecolor": "white",
            "ticks": ""
           }
          },
          "title": {
           "x": 0.05
          },
          "xaxis": {
           "automargin": true,
           "gridcolor": "white",
           "linecolor": "white",
           "ticks": "",
           "title": {
            "standoff": 15
           },
           "zerolinecolor": "white",
           "zerolinewidth": 2
          },
          "yaxis": {
           "automargin": true,
           "gridcolor": "white",
           "linecolor": "white",
           "ticks": "",
           "title": {
            "standoff": 15
           },
           "zerolinecolor": "white",
           "zerolinewidth": 2
          }
         }
        },
        "title": {
         "text": "Amount of fraudulent transactions"
        },
        "xaxis": {
         "showticklabels": true,
         "title": {
          "text": "Time [s]"
         }
        },
        "yaxis": {
         "title": {
          "text": "Amount"
         }
        }
       }
      },
      "text/html": [
       "<div>\n",
       "        \n",
       "        \n",
       "            <div id=\"76ea73ee-7754-42b3-b18e-cc32da8c3cdb\" class=\"plotly-graph-div\" style=\"height:525px; width:100%;\"></div>\n",
       "            <script type=\"text/javascript\">\n",
       "                require([\"plotly\"], function(Plotly) {\n",
       "                    window.PLOTLYENV=window.PLOTLYENV || {};\n",
       "                    \n",
       "                if (document.getElementById(\"76ea73ee-7754-42b3-b18e-cc32da8c3cdb\")) {\n",
       "                    Plotly.newPlot(\n",
       "                        '76ea73ee-7754-42b3-b18e-cc32da8c3cdb',\n",
       "                        [{\"marker\": {\"color\": \"rgb(238,23,11)\", \"line\": {\"color\": \"red\", \"width\": 1}, \"opacity\": 0.5}, \"mode\": \"markers\", \"name\": \"Amount\", \"text\": [0.0, 529.0, 239.93, 59.0, 1.0, 1.0, 1.0, 1.0, 1.0, 1.0, 1.0, 1.0, 1.0, 1.0, 1.0, 1.0, 1.0, 1.0, 1.0, 1.0, 1.0, 1.1, 1.0, 1.0, 1809.68, 1.0, 1.0, 1.0, 1.0, 1.0, 0.0, 30.39, 179.66, 1.0, 1.0, 1.0, 1.0, 1.0, 11.39, 3.79, 3.79, 3.93, 1.0, 766.36, 1218.89, 1.0, 188.78, 1.0, 1.0, 1.0, 1.0, 1.0, 1.0, 1.0, 1.0, 1.0, 3.12, 99.99, 99.99, 99.99, 3.76, 99.99, 99.99, 99.99, 99.99, 99.99, 99.99, 99.99, 99.99, 99.99, 99.99, 99.99, 99.99, 23.36, 99.99, 730.86, 99.99, 99.99, 99.99, 99.99, 99.99, 0.68, 0.68, 0.68, 30.3, 104.81, 0.0, 717.15, 19.02, 1.52, 18.96, 125.3, 19.02, 0.76, 60.6, 7.61, 1.0, 9.13, 4.56, 14.46, 111.7, 111.7, 12.31, 776.83, 1.0, 1.0, 1.0, 1.0, 0.76, 0.76, 112.33, 3.79, 340.11, 88.23, 5.3, 83.38, 11.38, 1.52, 88.23, 30.26, 459.07, 0.0, 118.3, 45.49, 173.07, 37.32, 59.68, 0.76, 9.99, 34.12, 273.01, 106.55, 364.19, 39.45, 53.95, 172.32, 802.52, 99.99, 139.9, 1.0, 1.0, 1.0, 1.0, 1.0, 648.0, 204.27, 88.0, 24.9, 1.0, 1.0, 1.0, 105.99, 1.0, 1.0, 1.0, 1.0, 0.76, 7.58, 0.76, 0.76, 208.58, 1.0, 19.73, 360.0, 99.99, 99.99, 99.99, 99.99, 99.99, 519.9, 0.76, 0.76, 1.18, 8.0, 0.0, 112.45, 261.87, 1.79, 1.0, 0.83, 0.83, 130.44, 311.91, 170.92, 153.46, 7.52, 1.0, 5.0, 0.01, 444.17, 1.0, 1.0, 1.0, 1.75, 5.09, 270.0, 113.92, 45.64, 1389.56, 18.98, 6.27, 319.2, 5.91, 454.82, 101.5, 19.04, 6.62, 180.0, 1.0, 1.1, 1402.16, 290.18, 294.9, 1.0, 0.0, 0.0, 720.38, 31.91, 1354.25, 98.01, 101.5, 7.53, 489.71, 549.06, 320.0, 1.0, 1.0, 1.0, 1.0, 1.0, 1.0, 19.59, 1.0, 227.3, 3.79, 318.11, 824.83, 0.76, 426.4, 238.9, 45.03, 16.48, 76.94, 311.28, 30.14, 29.95, 124.53, 99.85, 99.9, 219.8, 254.76, 1.0, 1.0, 1.0, 1.0, 129.0, 1.0, 1.0, 1.0, 106.9, 60.0, 0.2, 7.57, 1.0, 1.0, 0.0, 0.0, 512.25, 512.25, 12.31, 354.33, 2.0, 0.0, 0.0, 252.92, 252.92, 1.0, 240.77, 1.0, 310.42, 323.77, 451.27, 829.41, 1.18, 9.21, 6.99, 38.76, 52.69, 1.0, 1.0, 261.22, 18.0, 600.73, 1.0, 75.86, 8.54, 0.01, 44.9, 44.9, 316.06, 316.06, 209.65, 78.0, 78.0, 188.52, 188.52, 30.31, 30.31, 104.03, 104.03, 1.0, 1.0, 37.93, 97.0, 11.4, 45.48, 1.0, 1.0, 1.0, 1.0, 1.0, 33.76, 571.48, 1.63, 1.63, 18.96, 33.59, 1.0, 8.64, 9.82, 2.28, 1.0, 0.76, 1.0, 0.92, 2.28, 147.87, 0.0, 22.04, 0.0, 104.0, 2.28, 0.01, 1.0, 346.94, 7.59, 0.0, 0.0, 119.74, 2.27, 0.0, 186.13, 1.0, 0.76, 80.22, 635.1, 17.06, 65.0, 105.89, 105.89, 144.62, 2125.87, 11.0, 45.51, 40.0, 3.22, 0.0, 25.0, 67.9, 93.35, 1.0, 175.9, 720.8, 7.18, 4.87, 80.9, 0.0, 2.0, 1.0, 362.55, 276.17, 723.21, 480.72, 1.0, 1335.0, 0.0, 130.21, 1.0, 925.31, 0.0, 345.0, 108.51, 84.28, 39.45, 0.01, 727.91, 22.47, 8.3, 120.54, 0.69, 723.21, 0.77, 592.9, 195.66, 4.49, 0.76, 324.59, 320.01, 2.0, 144.8, 0.0, 1.0, 1.0, 8.9, 1.0, 667.55, 0.0, 1.18, 2.22, 0.77, 94.82, 8.0, 996.27, 0.0, 1.59, 1.59, 0.0, 0.76, 0.76, 122.68, 0.0, 1.0, 1.1, 2.0, 17.39, 50.0, 237.26, 1.0, 9.29, 10.7, 0.01, 57.73, 1.0, 1.0, 1.0, 1.0, 1.0, 2.47, 357.95, 247.86, 51.37, 0.0, 0.76, 1504.93, 1096.99, 35.0, 6.74, 0.77, 0.77, 0.77, 3.9, 3.14, 7.06, 94.82, 0.77, 0.77, 187.11, 7.59, 4.97, 0.77, 296.0, 45.51, 4.9, 156.0, 4.69, 0.77, 1.0, 0.77, 127.14, 0.38, 39.98, 12.31, 0.0, 39.9, 634.3, 19.95, 349.08, 390.0, 0.76, 77.89, 245.0, 42.53], \"type\": \"scatter\", \"x\": [406.0, 472.0, 4462.0, 6986.0, 7519.0, 7526.0, 7535.0, 7543.0, 7551.0, 7610.0, 7672.0, 7740.0, 7891.0, 8090.0, 8169.0, 8408.0, 8415.0, 8451.0, 8528.0, 8614.0, 8757.0, 8808.0, 8878.0, 8886.0, 9064.0, 11080.0, 11092.0, 11131.0, 11629.0, 11635.0, 12093.0, 12095.0, 12393.0, 12597.0, 13126.0, 13323.0, 14073.0, 14152.0, 15817.0, 17187.0, 17220.0, 17230.0, 17520.0, 17838.0, 18088.0, 18399.0, 18675.0, 18690.0, 19762.0, 20011.0, 20332.0, 20451.0, 20931.0, 21046.0, 21419.0, 21662.0, 25095.0, 25198.0, 25231.0, 25254.0, 25426.0, 26523.0, 26556.0, 26585.0, 26833.0, 26863.0, 26899.0, 26931.0, 26961.0, 27163.0, 27187.0, 27219.0, 27252.0, 27784.0, 28143.0, 28242.0, 28625.0, 28658.0, 28692.0, 28726.0, 28755.0, 29526.0, 29531.0, 29753.0, 29785.0, 30852.0, 32686.0, 32745.0, 34256.0, 34521.0, 34634.0, 34684.0, 34687.0, 35585.0, 35771.0, 35866.0, 35899.0, 35906.0, 35926.0, 35942.0, 35953.0, 36170.0, 37167.0, 39729.0, 40086.0, 40276.0, 40662.0, 40742.0, 40892.0, 40918.0, 40919.0, 41116.0, 41138.0, 41147.0, 41164.0, 41170.0, 41181.0, 41194.0, 41203.0, 41204.0, 41227.0, 41233.0, 41237.0, 41243.0, 41273.0, 41285.0, 41305.0, 41308.0, 41313.0, 41353.0, 41397.0, 41413.0, 41505.0, 41582.0, 41607.0, 41646.0, 41743.0, 41791.0, 41851.0, 41870.0, 41991.0, 42247.0, 42474.0, 42985.0, 42988.0, 43028.0, 43369.0, 43494.0, 44393.0, 44532.0, 45463.0, 45501.0, 45541.0, 46057.0, 46149.0, 46925.0, 47545.0, 47826.0, 47923.0, 47982.0, 48380.0, 48533.0, 48884.0, 49985.0, 50706.0, 50808.0, 51112.0, 51135.0, 51155.0, 52814.0, 52934.0, 53031.0, 53076.0, 53451.0, 53658.0, 53727.0, 53937.0, 54846.0, 55279.0, 55311.0, 55614.0, 55618.0, 55760.0, 56098.0, 56624.0, 56650.0, 56806.0, 56887.0, 57007.0, 57027.0, 57163.0, 58060.0, 58067.0, 58199.0, 58217.0, 58222.0, 58642.0, 58822.0, 59011.0, 59385.0, 59669.0, 59777.0, 59840.0, 60353.0, 61108.0, 61646.0, 62059.0, 62080.0, 62330.0, 62341.0, 62467.0, 63578.0, 64093.0, 64412.0, 64443.0, 64585.0, 64785.0, 65358.0, 65385.0, 65728.0, 65936.0, 66037.0, 67150.0, 67571.0, 67857.0, 68207.0, 68207.0, 68207.0, 68207.0, 68207.0, 68207.0, 68357.0, 69394.0, 70071.0, 70229.0, 70270.0, 70536.0, 70828.0, 71033.0, 72327.0, 72824.0, 73408.0, 74159.0, 74262.0, 75033.0, 75556.0, 75581.0, 75851.0, 75978.0, 76575.0, 76826.0, 76845.0, 76857.0, 76867.0, 76876.0, 77154.0, 77171.0, 77182.0, 77202.0, 77627.0, 78725.0, 79540.0, 81372.0, 82289.0, 83934.0, 84204.0, 84204.0, 84204.0, 84204.0, 84694.0, 84789.0, 85181.0, 85285.0, 85285.0, 85285.0, 85285.0, 85573.0, 85576.0, 85864.0, 85867.0, 86376.0, 87202.0, 87883.0, 88672.0, 88737.0, 90676.0, 91075.0, 91407.0, 91502.0, 91524.0, 91554.0, 92092.0, 92102.0, 93742.0, 93823.0, 93824.0, 93834.0, 93853.0, 93853.0, 93853.0, 93853.0, 93856.0, 93860.0, 93860.0, 93860.0, 93860.0, 93879.0, 93879.0, 93879.0, 93879.0, 93888.0, 93897.0, 93904.0, 93920.0, 93965.0, 94141.0, 94362.0, 94362.0, 94362.0, 94362.0, 94364.0, 94625.0, 94952.0, 95559.0, 95628.0, 96135.0, 96291.0, 96717.0, 97121.0, 97235.0, 100223.0, 100298.0, 100501.0, 100924.0, 101051.0, 101313.0, 101597.0, 102114.0, 102318.0, 102480.0, 102489.0, 102542.0, 102572.0, 102619.0, 102622.0, 102625.0, 102669.0, 102671.0, 102676.0, 103808.0, 109297.0, 109298.0, 110087.0, 110547.0, 110552.0, 110617.0, 115691.0, 116067.0, 118532.0, 118603.0, 121238.0, 122608.0, 123078.0, 123525.0, 125200.0, 125612.0, 125658.0, 126219.0, 128471.0, 128519.0, 128595.0, 128803.0, 129095.0, 129186.0, 129222.0, 129308.0, 129371.0, 129668.0, 129741.0, 129764.0, 129808.0, 131024.0, 132086.0, 132688.0, 133184.0, 133731.0, 133958.0, 134766.0, 134769.0, 134928.0, 135095.0, 135102.0, 135314.0, 137211.0, 138894.0, 138942.0, 139107.0, 139117.0, 139767.0, 139816.0, 139951.0, 140293.0, 140308.0, 141320.0, 141565.0, 141925.0, 142280.0, 142394.0, 142409.0, 142840.0, 142961.0, 143354.0, 143434.0, 143438.0, 143456.0, 144808.0, 144839.0, 146022.0, 146026.0, 146179.0, 146344.0, 146998.0, 147501.0, 148028.0, 148053.0, 148053.0, 148074.0, 148468.0, 148476.0, 148479.0, 149096.0, 149236.0, 149582.0, 149640.0, 149676.0, 150138.0, 150139.0, 150494.0, 150949.0, 151029.0, 151916.0, 151972.0, 152036.0, 152058.0, 152098.0, 152165.0, 152307.0, 152710.0, 152802.0, 153653.0, 153761.0, 153875.0, 154181.0, 154278.0, 154309.0, 154493.0, 154599.0, 154657.0, 155054.0, 155359.0, 155535.0, 155542.0, 155548.0, 155554.0, 155662.0, 155965.0, 156685.0, 156710.0, 157207.0, 157284.0, 158638.0, 159844.0, 160034.0, 160243.0, 160537.0, 160665.0, 160791.0, 160870.0, 160895.0, 161154.0, 163181.0, 165132.0, 165981.0, 166028.0, 166831.0, 166883.0, 167338.0, 169142.0, 169347.0, 169351.0, 169966.0, 170348.0], \"y\": [0.0, 529.0, 239.93, 59.0, 1.0, 1.0, 1.0, 1.0, 1.0, 1.0, 1.0, 1.0, 1.0, 1.0, 1.0, 1.0, 1.0, 1.0, 1.0, 1.0, 1.0, 1.1, 1.0, 1.0, 1809.68, 1.0, 1.0, 1.0, 1.0, 1.0, 0.0, 30.39, 179.66, 1.0, 1.0, 1.0, 1.0, 1.0, 11.39, 3.79, 3.79, 3.93, 1.0, 766.36, 1218.89, 1.0, 188.78, 1.0, 1.0, 1.0, 1.0, 1.0, 1.0, 1.0, 1.0, 1.0, 3.12, 99.99, 99.99, 99.99, 3.76, 99.99, 99.99, 99.99, 99.99, 99.99, 99.99, 99.99, 99.99, 99.99, 99.99, 99.99, 99.99, 23.36, 99.99, 730.86, 99.99, 99.99, 99.99, 99.99, 99.99, 0.68, 0.68, 0.68, 30.3, 104.81, 0.0, 717.15, 19.02, 1.52, 18.96, 125.3, 19.02, 0.76, 60.6, 7.61, 1.0, 9.13, 4.56, 14.46, 111.7, 111.7, 12.31, 776.83, 1.0, 1.0, 1.0, 1.0, 0.76, 0.76, 112.33, 3.79, 340.11, 88.23, 5.3, 83.38, 11.38, 1.52, 88.23, 30.26, 459.07, 0.0, 118.3, 45.49, 173.07, 37.32, 59.68, 0.76, 9.99, 34.12, 273.01, 106.55, 364.19, 39.45, 53.95, 172.32, 802.52, 99.99, 139.9, 1.0, 1.0, 1.0, 1.0, 1.0, 648.0, 204.27, 88.0, 24.9, 1.0, 1.0, 1.0, 105.99, 1.0, 1.0, 1.0, 1.0, 0.76, 7.58, 0.76, 0.76, 208.58, 1.0, 19.73, 360.0, 99.99, 99.99, 99.99, 99.99, 99.99, 519.9, 0.76, 0.76, 1.18, 8.0, 0.0, 112.45, 261.87, 1.79, 1.0, 0.83, 0.83, 130.44, 311.91, 170.92, 153.46, 7.52, 1.0, 5.0, 0.01, 444.17, 1.0, 1.0, 1.0, 1.75, 5.09, 270.0, 113.92, 45.64, 1389.56, 18.98, 6.27, 319.2, 5.91, 454.82, 101.5, 19.04, 6.62, 180.0, 1.0, 1.1, 1402.16, 290.18, 294.9, 1.0, 0.0, 0.0, 720.38, 31.91, 1354.25, 98.01, 101.5, 7.53, 489.71, 549.06, 320.0, 1.0, 1.0, 1.0, 1.0, 1.0, 1.0, 19.59, 1.0, 227.3, 3.79, 318.11, 824.83, 0.76, 426.4, 238.9, 45.03, 16.48, 76.94, 311.28, 30.14, 29.95, 124.53, 99.85, 99.9, 219.8, 254.76, 1.0, 1.0, 1.0, 1.0, 129.0, 1.0, 1.0, 1.0, 106.9, 60.0, 0.2, 7.57, 1.0, 1.0, 0.0, 0.0, 512.25, 512.25, 12.31, 354.33, 2.0, 0.0, 0.0, 252.92, 252.92, 1.0, 240.77, 1.0, 310.42, 323.77, 451.27, 829.41, 1.18, 9.21, 6.99, 38.76, 52.69, 1.0, 1.0, 261.22, 18.0, 600.73, 1.0, 75.86, 8.54, 0.01, 44.9, 44.9, 316.06, 316.06, 209.65, 78.0, 78.0, 188.52, 188.52, 30.31, 30.31, 104.03, 104.03, 1.0, 1.0, 37.93, 97.0, 11.4, 45.48, 1.0, 1.0, 1.0, 1.0, 1.0, 33.76, 571.48, 1.63, 1.63, 18.96, 33.59, 1.0, 8.64, 9.82, 2.28, 1.0, 0.76, 1.0, 0.92, 2.28, 147.87, 0.0, 22.04, 0.0, 104.0, 2.28, 0.01, 1.0, 346.94, 7.59, 0.0, 0.0, 119.74, 2.27, 0.0, 186.13, 1.0, 0.76, 80.22, 635.1, 17.06, 65.0, 105.89, 105.89, 144.62, 2125.87, 11.0, 45.51, 40.0, 3.22, 0.0, 25.0, 67.9, 93.35, 1.0, 175.9, 720.8, 7.18, 4.87, 80.9, 0.0, 2.0, 1.0, 362.55, 276.17, 723.21, 480.72, 1.0, 1335.0, 0.0, 130.21, 1.0, 925.31, 0.0, 345.0, 108.51, 84.28, 39.45, 0.01, 727.91, 22.47, 8.3, 120.54, 0.69, 723.21, 0.77, 592.9, 195.66, 4.49, 0.76, 324.59, 320.01, 2.0, 144.8, 0.0, 1.0, 1.0, 8.9, 1.0, 667.55, 0.0, 1.18, 2.22, 0.77, 94.82, 8.0, 996.27, 0.0, 1.59, 1.59, 0.0, 0.76, 0.76, 122.68, 0.0, 1.0, 1.1, 2.0, 17.39, 50.0, 237.26, 1.0, 9.29, 10.7, 0.01, 57.73, 1.0, 1.0, 1.0, 1.0, 1.0, 2.47, 357.95, 247.86, 51.37, 0.0, 0.76, 1504.93, 1096.99, 35.0, 6.74, 0.77, 0.77, 0.77, 3.9, 3.14, 7.06, 94.82, 0.77, 0.77, 187.11, 7.59, 4.97, 0.77, 296.0, 45.51, 4.9, 156.0, 4.69, 0.77, 1.0, 0.77, 127.14, 0.38, 39.98, 12.31, 0.0, 39.9, 634.3, 19.95, 349.08, 390.0, 0.76, 77.89, 245.0, 42.53]}],\n",
       "                        {\"hovermode\": \"closest\", \"template\": {\"data\": {\"bar\": [{\"error_x\": {\"color\": \"#2a3f5f\"}, \"error_y\": {\"color\": \"#2a3f5f\"}, \"marker\": {\"line\": {\"color\": \"#E5ECF6\", \"width\": 0.5}}, \"type\": \"bar\"}], \"barpolar\": [{\"marker\": {\"line\": {\"color\": \"#E5ECF6\", \"width\": 0.5}}, \"type\": \"barpolar\"}], \"carpet\": [{\"aaxis\": {\"endlinecolor\": \"#2a3f5f\", \"gridcolor\": \"white\", \"linecolor\": \"white\", \"minorgridcolor\": \"white\", \"startlinecolor\": \"#2a3f5f\"}, \"baxis\": {\"endlinecolor\": \"#2a3f5f\", \"gridcolor\": \"white\", \"linecolor\": \"white\", \"minorgridcolor\": \"white\", \"startlinecolor\": \"#2a3f5f\"}, \"type\": \"carpet\"}], \"choropleth\": [{\"colorbar\": {\"outlinewidth\": 0, \"ticks\": \"\"}, \"type\": \"choropleth\"}], \"contour\": [{\"colorbar\": {\"outlinewidth\": 0, \"ticks\": \"\"}, \"colorscale\": [[0.0, \"#0d0887\"], [0.1111111111111111, \"#46039f\"], [0.2222222222222222, \"#7201a8\"], [0.3333333333333333, \"#9c179e\"], [0.4444444444444444, \"#bd3786\"], [0.5555555555555556, \"#d8576b\"], [0.6666666666666666, \"#ed7953\"], [0.7777777777777778, \"#fb9f3a\"], [0.8888888888888888, \"#fdca26\"], [1.0, \"#f0f921\"]], \"type\": \"contour\"}], \"contourcarpet\": [{\"colorbar\": {\"outlinewidth\": 0, \"ticks\": \"\"}, \"type\": \"contourcarpet\"}], \"heatmap\": [{\"colorbar\": {\"outlinewidth\": 0, \"ticks\": \"\"}, \"colorscale\": [[0.0, \"#0d0887\"], [0.1111111111111111, \"#46039f\"], [0.2222222222222222, \"#7201a8\"], [0.3333333333333333, \"#9c179e\"], [0.4444444444444444, \"#bd3786\"], [0.5555555555555556, \"#d8576b\"], [0.6666666666666666, \"#ed7953\"], [0.7777777777777778, \"#fb9f3a\"], [0.8888888888888888, \"#fdca26\"], [1.0, \"#f0f921\"]], \"type\": \"heatmap\"}], \"heatmapgl\": [{\"colorbar\": {\"outlinewidth\": 0, \"ticks\": \"\"}, \"colorscale\": [[0.0, \"#0d0887\"], [0.1111111111111111, \"#46039f\"], [0.2222222222222222, \"#7201a8\"], [0.3333333333333333, \"#9c179e\"], [0.4444444444444444, \"#bd3786\"], [0.5555555555555556, \"#d8576b\"], [0.6666666666666666, \"#ed7953\"], [0.7777777777777778, \"#fb9f3a\"], [0.8888888888888888, \"#fdca26\"], [1.0, \"#f0f921\"]], \"type\": \"heatmapgl\"}], \"histogram\": [{\"marker\": {\"colorbar\": {\"outlinewidth\": 0, \"ticks\": \"\"}}, \"type\": \"histogram\"}], \"histogram2d\": [{\"colorbar\": {\"outlinewidth\": 0, \"ticks\": \"\"}, \"colorscale\": [[0.0, \"#0d0887\"], [0.1111111111111111, \"#46039f\"], [0.2222222222222222, \"#7201a8\"], [0.3333333333333333, \"#9c179e\"], [0.4444444444444444, \"#bd3786\"], [0.5555555555555556, \"#d8576b\"], [0.6666666666666666, \"#ed7953\"], [0.7777777777777778, \"#fb9f3a\"], [0.8888888888888888, \"#fdca26\"], [1.0, \"#f0f921\"]], \"type\": \"histogram2d\"}], \"histogram2dcontour\": [{\"colorbar\": {\"outlinewidth\": 0, \"ticks\": \"\"}, \"colorscale\": [[0.0, \"#0d0887\"], [0.1111111111111111, \"#46039f\"], [0.2222222222222222, \"#7201a8\"], [0.3333333333333333, \"#9c179e\"], [0.4444444444444444, \"#bd3786\"], [0.5555555555555556, \"#d8576b\"], [0.6666666666666666, \"#ed7953\"], [0.7777777777777778, \"#fb9f3a\"], [0.8888888888888888, \"#fdca26\"], [1.0, \"#f0f921\"]], \"type\": \"histogram2dcontour\"}], \"mesh3d\": [{\"colorbar\": {\"outlinewidth\": 0, \"ticks\": \"\"}, \"type\": \"mesh3d\"}], \"parcoords\": [{\"line\": {\"colorbar\": {\"outlinewidth\": 0, \"ticks\": \"\"}}, \"type\": \"parcoords\"}], \"pie\": [{\"automargin\": true, \"type\": \"pie\"}], \"scatter\": [{\"marker\": {\"colorbar\": {\"outlinewidth\": 0, \"ticks\": \"\"}}, \"type\": \"scatter\"}], \"scatter3d\": [{\"line\": {\"colorbar\": {\"outlinewidth\": 0, \"ticks\": \"\"}}, \"marker\": {\"colorbar\": {\"outlinewidth\": 0, \"ticks\": \"\"}}, \"type\": \"scatter3d\"}], \"scattercarpet\": [{\"marker\": {\"colorbar\": {\"outlinewidth\": 0, \"ticks\": \"\"}}, \"type\": \"scattercarpet\"}], \"scattergeo\": [{\"marker\": {\"colorbar\": {\"outlinewidth\": 0, \"ticks\": \"\"}}, \"type\": \"scattergeo\"}], \"scattergl\": [{\"marker\": {\"colorbar\": {\"outlinewidth\": 0, \"ticks\": \"\"}}, \"type\": \"scattergl\"}], \"scattermapbox\": [{\"marker\": {\"colorbar\": {\"outlinewidth\": 0, \"ticks\": \"\"}}, \"type\": \"scattermapbox\"}], \"scatterpolar\": [{\"marker\": {\"colorbar\": {\"outlinewidth\": 0, \"ticks\": \"\"}}, \"type\": \"scatterpolar\"}], \"scatterpolargl\": [{\"marker\": {\"colorbar\": {\"outlinewidth\": 0, \"ticks\": \"\"}}, \"type\": \"scatterpolargl\"}], \"scatterternary\": [{\"marker\": {\"colorbar\": {\"outlinewidth\": 0, \"ticks\": \"\"}}, \"type\": \"scatterternary\"}], \"surface\": [{\"colorbar\": {\"outlinewidth\": 0, \"ticks\": \"\"}, \"colorscale\": [[0.0, \"#0d0887\"], [0.1111111111111111, \"#46039f\"], [0.2222222222222222, \"#7201a8\"], [0.3333333333333333, \"#9c179e\"], [0.4444444444444444, \"#bd3786\"], [0.5555555555555556, \"#d8576b\"], [0.6666666666666666, \"#ed7953\"], [0.7777777777777778, \"#fb9f3a\"], [0.8888888888888888, \"#fdca26\"], [1.0, \"#f0f921\"]], \"type\": \"surface\"}], \"table\": [{\"cells\": {\"fill\": {\"color\": \"#EBF0F8\"}, \"line\": {\"color\": \"white\"}}, \"header\": {\"fill\": {\"color\": \"#C8D4E3\"}, \"line\": {\"color\": \"white\"}}, \"type\": \"table\"}]}, \"layout\": {\"annotationdefaults\": {\"arrowcolor\": \"#2a3f5f\", \"arrowhead\": 0, \"arrowwidth\": 1}, \"coloraxis\": {\"colorbar\": {\"outlinewidth\": 0, \"ticks\": \"\"}}, \"colorscale\": {\"diverging\": [[0, \"#8e0152\"], [0.1, \"#c51b7d\"], [0.2, \"#de77ae\"], [0.3, \"#f1b6da\"], [0.4, \"#fde0ef\"], [0.5, \"#f7f7f7\"], [0.6, \"#e6f5d0\"], [0.7, \"#b8e186\"], [0.8, \"#7fbc41\"], [0.9, \"#4d9221\"], [1, \"#276419\"]], \"sequential\": [[0.0, \"#0d0887\"], [0.1111111111111111, \"#46039f\"], [0.2222222222222222, \"#7201a8\"], [0.3333333333333333, \"#9c179e\"], [0.4444444444444444, \"#bd3786\"], [0.5555555555555556, \"#d8576b\"], [0.6666666666666666, \"#ed7953\"], [0.7777777777777778, \"#fb9f3a\"], [0.8888888888888888, \"#fdca26\"], [1.0, \"#f0f921\"]], \"sequentialminus\": [[0.0, \"#0d0887\"], [0.1111111111111111, \"#46039f\"], [0.2222222222222222, \"#7201a8\"], [0.3333333333333333, \"#9c179e\"], [0.4444444444444444, \"#bd3786\"], [0.5555555555555556, \"#d8576b\"], [0.6666666666666666, \"#ed7953\"], [0.7777777777777778, \"#fb9f3a\"], [0.8888888888888888, \"#fdca26\"], [1.0, \"#f0f921\"]]}, \"colorway\": [\"#636efa\", \"#EF553B\", \"#00cc96\", \"#ab63fa\", \"#FFA15A\", \"#19d3f3\", \"#FF6692\", \"#B6E880\", \"#FF97FF\", \"#FECB52\"], \"font\": {\"color\": \"#2a3f5f\"}, \"geo\": {\"bgcolor\": \"white\", \"lakecolor\": \"white\", \"landcolor\": \"#E5ECF6\", \"showlakes\": true, \"showland\": true, \"subunitcolor\": \"white\"}, \"hoverlabel\": {\"align\": \"left\"}, \"hovermode\": \"closest\", \"mapbox\": {\"style\": \"light\"}, \"paper_bgcolor\": \"white\", \"plot_bgcolor\": \"#E5ECF6\", \"polar\": {\"angularaxis\": {\"gridcolor\": \"white\", \"linecolor\": \"white\", \"ticks\": \"\"}, \"bgcolor\": \"#E5ECF6\", \"radialaxis\": {\"gridcolor\": \"white\", \"linecolor\": \"white\", \"ticks\": \"\"}}, \"scene\": {\"xaxis\": {\"backgroundcolor\": \"#E5ECF6\", \"gridcolor\": \"white\", \"gridwidth\": 2, \"linecolor\": \"white\", \"showbackground\": true, \"ticks\": \"\", \"zerolinecolor\": \"white\"}, \"yaxis\": {\"backgroundcolor\": \"#E5ECF6\", \"gridcolor\": \"white\", \"gridwidth\": 2, \"linecolor\": \"white\", \"showbackground\": true, \"ticks\": \"\", \"zerolinecolor\": \"white\"}, \"zaxis\": {\"backgroundcolor\": \"#E5ECF6\", \"gridcolor\": \"white\", \"gridwidth\": 2, \"linecolor\": \"white\", \"showbackground\": true, \"ticks\": \"\", \"zerolinecolor\": \"white\"}}, \"shapedefaults\": {\"line\": {\"color\": \"#2a3f5f\"}}, \"ternary\": {\"aaxis\": {\"gridcolor\": \"white\", \"linecolor\": \"white\", \"ticks\": \"\"}, \"baxis\": {\"gridcolor\": \"white\", \"linecolor\": \"white\", \"ticks\": \"\"}, \"bgcolor\": \"#E5ECF6\", \"caxis\": {\"gridcolor\": \"white\", \"linecolor\": \"white\", \"ticks\": \"\"}}, \"title\": {\"x\": 0.05}, \"xaxis\": {\"automargin\": true, \"gridcolor\": \"white\", \"linecolor\": \"white\", \"ticks\": \"\", \"title\": {\"standoff\": 15}, \"zerolinecolor\": \"white\", \"zerolinewidth\": 2}, \"yaxis\": {\"automargin\": true, \"gridcolor\": \"white\", \"linecolor\": \"white\", \"ticks\": \"\", \"title\": {\"standoff\": 15}, \"zerolinecolor\": \"white\", \"zerolinewidth\": 2}}}, \"title\": {\"text\": \"Amount of fraudulent transactions\"}, \"xaxis\": {\"showticklabels\": true, \"title\": {\"text\": \"Time [s]\"}}, \"yaxis\": {\"title\": {\"text\": \"Amount\"}}},\n",
       "                        {\"responsive\": true}\n",
       "                    ).then(function(){\n",
       "                            \n",
       "var gd = document.getElementById('76ea73ee-7754-42b3-b18e-cc32da8c3cdb');\n",
       "var x = new MutationObserver(function (mutations, observer) {{\n",
       "        var display = window.getComputedStyle(gd).display;\n",
       "        if (!display || display === 'none') {{\n",
       "            console.log([gd, 'removed!']);\n",
       "            Plotly.purge(gd);\n",
       "            observer.disconnect();\n",
       "        }}\n",
       "}});\n",
       "\n",
       "// Listen for the removal of the full notebook cells\n",
       "var notebookContainer = gd.closest('#notebook-container');\n",
       "if (notebookContainer) {{\n",
       "    x.observe(notebookContainer, {childList: true});\n",
       "}}\n",
       "\n",
       "// Listen for the clearing of the current output cell\n",
       "var outputEl = gd.closest('.output');\n",
       "if (outputEl) {{\n",
       "    x.observe(outputEl, {childList: true});\n",
       "}}\n",
       "\n",
       "                        })\n",
       "                };\n",
       "                });\n",
       "            </script>\n",
       "        </div>"
      ]
     },
     "metadata": {},
     "output_type": "display_data"
    }
   ],
   "source": [
    "fraud = data_df.loc[data_df['Class'] == 1]\n",
    "\n",
    "trace = go.Scatter(\n",
    "    x = fraud['Time'],y = fraud['Amount'],\n",
    "    name=\"Amount\",\n",
    "     marker=dict(\n",
    "                color='rgb(238,23,11)',\n",
    "                line=dict(\n",
    "                    color='red',\n",
    "                    width=1),\n",
    "                opacity=0.5,\n",
    "            ),\n",
    "    text= fraud['Amount'],\n",
    "    mode = \"markers\"\n",
    ")\n",
    "data = [trace]\n",
    "layout = dict(title = 'Amount of fraudulent transactions',\n",
    "          xaxis = dict(title = 'Time [s]', showticklabels=True), \n",
    "          yaxis = dict(title = 'Amount'),\n",
    "          hovermode='closest'\n",
    "         )\n",
    "fig = dict(data=data, layout=layout)\n",
    "iplot(fig, filename='fraud-amount')"
   ]
  },
  {
   "cell_type": "markdown",
   "metadata": {
    "_uuid": "1f144ed18c23667fde41f190c060a8bd4990b7be"
   },
   "source": [
    "## Features correlation"
   ]
  },
  {
   "cell_type": "code",
   "execution_count": 54,
   "metadata": {
    "_uuid": "2a35594b8bf2ec37febec7570d4d3a25872b648b"
   },
   "outputs": [
    {
     "data": {
      "image/png": "[encoded data removed]",
      "text/plain": [
       "<Figure size 1008x1008 with 2 Axes>"
      ]
     },
     "metadata": {
      "needs_background": "light"
     },
     "output_type": "display_data"
    }
   ],
   "source": [
    "plt.figure(figsize = (14,14))\n",
    "plt.title('Credit Card Transactions features correlation plot (Pearson)')\n",
    "corr = data_df.corr()\n",
    "sns.heatmap(corr,xticklabels=corr.columns,yticklabels=corr.columns,linewidths=.1,cmap=\"Reds\")\n",
    "plt.show()"
   ]
  },
  {
   "cell_type": "markdown",
   "metadata": {
    "_uuid": "8db97792d1f815582f037455e9ead600f8c9433c"
   },
   "source": [
    "As expected, there is no notable correlation between features **V1**-**V28**. There are certain correlations between some of these features and **Time** (inverse correlation with **V3**) and **Amount** (direct correlation with **V7** and **V20**, inverse correlation with **V1** and **V5**).\n",
    "\n",
    "\n",
    "Let's plot the correlated and inverse correlated values on the same graph.\n",
    "\n",
    "Let's start with the direct correlated values: {V20;Amount} and {V7;Amount}."
   ]
  },
  {
   "cell_type": "code",
   "execution_count": 60,
   "metadata": {
    "_uuid": "fd8f8bd03486fe3f2d7c89d00a5c0575a153d969"
   },
   "outputs": [
    {
     "data": {
      "image/png": "[encoded data removed]",
      "text/plain": [
       "<Figure size 402.375x360 with 1 Axes>"
      ]
     },
     "metadata": {
      "needs_background": "light"
     },
     "output_type": "display_data"
    },
    {
     "data": {
      "image/png": "[encoded data removed]",
      "text/plain": [
       "<Figure size 402.375x360 with 1 Axes>"
      ]
     },
     "metadata": {
      "needs_background": "light"
     },
     "output_type": "display_data"
    }
   ],
   "source": [
    "s = sns.lmplot(x='V20', y='Amount',data=data_df, hue='Class', fit_reg=True,scatter_kws={'s':2})\n",
    "s = sns.lmplot(x='V7', y='Amount',data=data_df, hue='Class', fit_reg=True,scatter_kws={'s':2})\n",
    "plt.show()"
   ]
  },
  {
   "cell_type": "markdown",
   "metadata": {
    "_uuid": "7430c8631e2a7b34b7d4b0dabf2fb006f88d6f8a"
   },
   "source": [
    "We can confirm that the two couples of features are correlated (the regression lines for **Class = 0** have a positive slope, whilst the regression line for **Class = 1** have a smaller positive slope).\n",
    "\n",
    "Let's plot now the inverse correlated values."
   ]
  },
  {
   "cell_type": "code",
   "execution_count": 61,
   "metadata": {
    "_uuid": "4ae4211f20ba8db85b7f8f61ade2d24788be9aa4"
   },
   "outputs": [
    {
     "data": {
      "image/png": "[encoded data removed]",
      "text/plain": [
       "<Figure size 402.375x360 with 1 Axes>"
      ]
     },
     "metadata": {
      "needs_background": "light"
     },
     "output_type": "display_data"
    },
    {
     "data": {
      "image/png": "[encoded data removed]",
      "text/plain": [
       "<Figure size 402.375x360 with 1 Axes>"
      ]
     },
     "metadata": {
      "needs_background": "light"
     },
     "output_type": "display_data"
    }
   ],
   "source": [
    "s = sns.lmplot(x='V2', y='Amount',data=data_df, hue='Class', fit_reg=True,scatter_kws={'s':2})\n",
    "s = sns.lmplot(x='V5', y='Amount',data=data_df, hue='Class', fit_reg=True,scatter_kws={'s':2})\n",
    "plt.show()"
   ]
  },
  {
   "cell_type": "markdown",
   "metadata": {
    "_uuid": "b5e0440e0cd0c950190fffc539ddeb63de13b7fb"
   },
   "source": [
    "We can confirm that the two couples of features are inverse correlated (the regression lines for **Class = 0** have a negative slope while the regression lines for **Class = 1** have a very small negative slope).\n"
   ]
  },
  {
   "cell_type": "markdown",
   "metadata": {
    "_uuid": "5bdb7deecd32fd919f5431e8b5b02b6392ccd5bc"
   },
   "source": [
    "## Features density plot"
   ]
  },
  {
   "cell_type": "code",
   "execution_count": 63,
   "metadata": {
    "_uuid": "b041d9877768c687ab4d2b314dbef5f4f3738176"
   },
   "outputs": [
    {
     "name": "stdout",
     "output_type": "stream",
     "text": [
      "['Time' 'V1' 'V2' 'V3' 'V4' 'V5' 'V6' 'V7' 'V8' 'V9' 'V10' 'V11' 'V12'\n",
      " 'V13' 'V14' 'V15' 'V16' 'V17' 'V18' 'V19' 'V20' 'V21' 'V22' 'V23' 'V24'\n",
      " 'V25' 'V26' 'V27' 'V28' 'Amount' 'Class']\n"
     ]
    },
    {
     "data": {
      "text/plain": [
       "<Figure size 432x288 with 0 Axes>"
      ]
     },
     "metadata": {},
     "output_type": "display_data"
    },
    {
     "data": {
      "image/png": "[encoded data removed]",
      "text/plain": [
       "<Figure size 1152x2016 with 32 Axes>"
      ]
     },
     "metadata": {},
     "output_type": "display_data"
    }
   ],
   "source": [
    "var = data_df.columns.values\n",
    "print(var)\n",
    "i = 0\n",
    "t0 = data_df.loc[data_df['Class'] == 0]\n",
    "t1 = data_df.loc[data_df['Class'] == 1]\n",
    "\n",
    "sns.set_style('whitegrid')\n",
    "plt.figure()\n",
    "fig, ax = plt.subplots(8,4,figsize=(16,28))\n",
    "\n",
    "for feature in var:\n",
    "    i += 1\n",
    "    plt.subplot(8,4,i)\n",
    "    sns.kdeplot(t0[feature], bw=0.5,label=\"Class = 0\")\n",
    "    sns.kdeplot(t1[feature], bw=0.5,label=\"Class = 1\")\n",
    "    plt.xlabel(feature, fontsize=12)\n",
    "    locs, labels = plt.xticks()\n",
    "    plt.tick_params(axis='both', which='major', labelsize=12)\n",
    "plt.show();"
   ]
  },
  {
   "cell_type": "markdown",
   "metadata": {
    "_uuid": "ae5a78aaff7b694c209af05a0d12cbfd131000b7"
   },
   "source": [
    "For some of the features we can observe a good selectivity in terms of distribution for the two values of **Class**: **V4**, **V11** have clearly separated distributions for **Class** values 0 and 1, **V12**, **V14**, **V18** are partially separated, **V1**, **V2**, **V3**, **V10** have a quite distinct profile, whilst **V25**, **V26**, **V28** have similar profiles for the two values of **Class**.  \n",
    "\n",
    "In general, with just few exceptions (**Time** and **Amount**), the features distribution for legitimate transactions (values of **Class = 0**)  is centered around 0, sometime with a long queue at one of the extremities. In the same time, the fraudulent transactions (values of **Class = 1**) have a skewed (asymmetric) distribution."
   ]
  },
  {
   "cell_type": "markdown",
   "metadata": {
    "_uuid": "86636e53408b574ac5f7c84d73a5d8cff5c6e23f"
   },
   "source": [
    "# <a id=\"6\">Predictive models</a>  \n",
    "\n"
   ]
  },
  {
   "cell_type": "markdown",
   "metadata": {
    "_uuid": "3de9724f89804b1e82c2b30c9767bbc0be6ac0dc"
   },
   "source": [
    "### Define predictors and target values\n",
    "\n",
    "Let's define the predictor features and the target features. Categorical features, if any, are also defined. In our case, there are no categorical feature."
   ]
  },
  {
   "cell_type": "code",
   "execution_count": 65,
   "metadata": {
    "_uuid": "05466e1862ba4f872dc05faa4b4dc84430660639"
   },
   "outputs": [],
   "source": [
    "target = 'Class'\n",
    "predictors = ['Time', 'V1', 'V2', 'V3', 'V4', 'V5', 'V6', 'V7', 'V8', 'V9', 'V10',\\\n",
    "       'V11', 'V12', 'V13', 'V14', 'V15', 'V16', 'V17', 'V18', 'V19',\\\n",
    "       'V20', 'V21', 'V22', 'V23', 'V24', 'V25', 'V26', 'V27', 'V28',\\\n",
    "       'Amount']"
   ]
  },
  {
   "cell_type": "markdown",
   "metadata": {
    "_uuid": "574f8a166087bc8e95f27a9b152ffc4c1f83c4ce"
   },
   "source": [
    "### Split data in train, test and validation set\n",
    "\n",
    "Let's define train, validation and test sets."
   ]
  },
  {
   "cell_type": "code",
   "execution_count": 66,
   "metadata": {
    "_uuid": "c27f7166f9a0d96a0a7135df30ae5201d5a2bb3a"
   },
   "outputs": [],
   "source": [
    "train_df, test_df = train_test_split(data_df, test_size=TEST_SIZE, random_state=RANDOM_STATE, shuffle=True )\n",
    "train_df, valid_df = train_test_split(train_df, test_size=VALID_SIZE, random_state=RANDOM_STATE, shuffle=True )"
   ]
  },
  {
   "cell_type": "markdown",
   "metadata": {
    "_uuid": "477275d990dc322046f8d16a0c0d6b942acaac4b"
   },
   "source": [
    "Let's start with a RandomForrestClassifier <a href='#8'>[3]</a>   model."
   ]
  },
  {
   "cell_type": "markdown",
   "metadata": {
    "_uuid": "046490acb18502c24c8197a4f2d1833f71ce7366"
   },
   "source": [
    "## <a id=\"61\">RandomForestClassifier</a>\n",
    "\n",
    "\n",
    "### Define model parameters\n",
    "\n",
    "Let's set the parameters for the model."
   ]
  },
  {
   "cell_type": "markdown",
   "metadata": {
    "_uuid": "13b7a22599e96474dbb275bc6658bcf87a92b774"
   },
   "source": [
    "Let's run a model using the training set for training. Then, we will use the validation set for validation. \n",
    "\n",
    "We will use as validation criterion **GINI**, which formula is **GINI = 2 * (AUC) - 1**, where **AUC** is the **Receiver Operating Characteristic - Area Under Curve (ROC-AUC)** <a href='#8'>[4]</a>.  Number of estimators is set to **100** and number of parallel jobs is set to **4**.\n",
    "\n",
    "We start by initializing the RandomForestClassifier."
   ]
  },
  {
   "cell_type": "code",
   "execution_count": 67,
   "metadata": {
    "_uuid": "88cfc485083044018748f977b8e9cb13bf91a4a8"
   },
   "outputs": [],
   "source": [
    "clf = RandomForestClassifier(n_jobs=NO_JOBS, \n",
    "                             random_state=RANDOM_STATE,\n",
    "                             criterion=RFC_METRIC,\n",
    "                             n_estimators=NUM_ESTIMATORS,\n",
    "                             verbose=False)"
   ]
  },
  {
   "cell_type": "markdown",
   "metadata": {
    "_uuid": "cfcf4074dfe96da0ac2489303ab3d7d8899f4175"
   },
   "source": [
    "Let's train the **RandonForestClassifier** using the **train_df** data and **fit** function."
   ]
  },
  {
   "cell_type": "code",
   "execution_count": 68,
   "metadata": {
    "_uuid": "5042efd869d672392cb81437a03719d07ae684f1"
   },
   "outputs": [
    {
     "data": {
      "text/plain": [
       "RandomForestClassifier(bootstrap=True, ccp_alpha=0.0, class_weight=None,\n",
       "                       criterion='gini', max_depth=None, max_features='auto',\n",
       "                       max_leaf_nodes=None, max_samples=None,\n",
       "                       min_impurity_decrease=0.0, min_impurity_split=None,\n",
       "                       min_samples_leaf=1, min_samples_split=2,\n",
       "                       min_weight_fraction_leaf=0.0, n_estimators=100, n_jobs=4,\n",
       "                       oob_score=False, random_state=2018, verbose=False,\n",
       "                       warm_start=False)"
      ]
     },
     "execution_count": 68,
     "metadata": {},
     "output_type": "execute_result"
    }
   ],
   "source": [
    "clf.fit(train_df[predictors], train_df[target].values)"
   ]
  },
  {
   "cell_type": "markdown",
   "metadata": {
    "_uuid": "fa2d70ec9136bdf46339fb3ad408f1179015a214"
   },
   "source": [
    "Let's now predict the **target** values for the **valid_df** data, using **predict** function."
   ]
  },
  {
   "cell_type": "code",
   "execution_count": 69,
   "metadata": {
    "_uuid": "976e7e8d9adec49369b81c8a14e4e676e15709c9"
   },
   "outputs": [],
   "source": [
    "preds = clf.predict(valid_df[predictors])"
   ]
  },
  {
   "cell_type": "markdown",
   "metadata": {
    "_uuid": "c2e26b3c0dc5498196784292bb7c71337291fd15"
   },
   "source": [
    "Let's also visualize the features importance.\n",
    "\n",
    "### Features importance"
   ]
  },
  {
   "cell_type": "code",
   "execution_count": 80,
   "metadata": {
    "_uuid": "149ae586de1a7318f4063f2497d16b6457c5f478"
   },
   "outputs": [
    {
     "data": {
      "image/png": "[encoded data removed]",
      "text/plain": [
       "<Figure size 504x288 with 1 Axes>"
      ]
     },
     "metadata": {},
     "output_type": "display_data"
    }
   ],
   "source": [
    "tmp = pd.DataFrame({'Feature': predictors, 'Feature importance': clf.feature_importances_})\n",
    "# tmp.head()\n",
    "tmp = tmp.sort_values(by='Feature importance',ascending=False)\n",
    "plt.figure(figsize = (7,4))\n",
    "plt.title('Features importance',fontsize=14)\n",
    "s = sns.barplot(x='Feature',y='Feature importance',data=tmp)\n",
    "s.set_xticklabels(s.get_xticklabels(),rotation=90)\n",
    "plt.show()   \n"
   ]
  },
  {
   "cell_type": "markdown",
   "metadata": {
    "_uuid": "588e3a996a7108a4f1e66cda53d225e6e236bfd6"
   },
   "source": [
    "The most important features are **V17**, **V12**, **V14**, **V10**, **V11**, **V16**.\n",
    "\n",
    "\n",
    "### Confusion matrix\n",
    "\n",
    "Let's show a confusion matrix for the results we obtained. "
   ]
  },
  {
   "cell_type": "code",
   "execution_count": 71,
   "metadata": {
    "_uuid": "acdc37e14e96287ea2f96c4530bfde388d8af2f2"
   },
   "outputs": [
    {
     "data": {
      "image/png": "[encoded data removed]",
      "text/plain": [
       "<Figure size 360x360 with 2 Axes>"
      ]
     },
     "metadata": {},
     "output_type": "display_data"
    }
   ],
   "source": [
    "cm = pd.crosstab(valid_df[target].values, preds, rownames=['Actual'], colnames=['Predicted'])\n",
    "fig, (ax1) = plt.subplots(ncols=1, figsize=(5,5))\n",
    "sns.heatmap(cm, \n",
    "            xticklabels=['Not Fraud', 'Fraud'],\n",
    "            yticklabels=['Not Fraud', 'Fraud'],\n",
    "            annot=True,ax=ax1,\n",
    "            linewidths=.2,linecolor=\"Darkblue\", cmap=\"Blues\")\n",
    "plt.title('Confusion Matrix', fontsize=14)\n",
    "plt.show()"
   ]
  },
  {
   "cell_type": "markdown",
   "metadata": {
    "_uuid": "5795d41b1b0922db8121601d3b5e5702043efd50"
   },
   "source": [
    "### Type I error and Type II error\n",
    "\n",
    "We need to clarify that confussion matrix are not a very good tool to represent the results in the case of largely unbalanced data, because we will actually need a different metrics that accounts in the same time for the **selectivity** and **specificity** of the method we are using, so that we minimize in the same time both **Type I errors** and **Type II errors**.\n",
    "\n",
    "\n",
    "**Null Hypothesis** (**H0**) - The transaction is not a fraud.  \n",
    "**Alternative Hypothesis** (**H1**) - The transaction is a fraud.  \n",
    "\n",
    "**Type I error** - You reject the null hypothesis when the null hypothesis is actually true.  \n",
    "**Type II error** - You fail to reject the null hypothesis when the the alternative hypothesis is true.  \n",
    "\n",
    "**Cost of Type I error** - You erroneously presume that the the transaction is a fraud, and a true transaction is rejected.  \n",
    "**Cost of Type II error** - You erroneously presume that the transaction is not a fraud and a ffraudulent transaction is accepted.  \n",
    "\n",
    "The following image explains what **Type I error** and **Type II error** are:    \n",
    "\n",
    "\n",
    "<img src=\"https://i.stack.imgur.com/x1GQ1.png\" width=\"600\"/>\n",
    "\n",
    "And this alternative image explains even better:  \n",
    "\n",
    "<img src=\"https://i2.wp.com/flowingdata.com/wp-content/uploads/2014/05/Type-I-and-II-errors1.jpg\" width=\"600\"/>\n",
    "\n",
    "\n",
    "\n",
    "Let's calculate the ROC-AUC score <a href='#8'>[4]</a>.\n",
    "\n",
    "### Area under curve"
   ]
  },
  {
   "cell_type": "code",
   "execution_count": 72,
   "metadata": {
    "_uuid": "b67d0d3a695ccd69fba3b9ea576e7019d6091257"
   },
   "outputs": [
    {
     "data": {
      "text/plain": [
       "0.8528641975628091"
      ]
     },
     "execution_count": 72,
     "metadata": {},
     "output_type": "execute_result"
    }
   ],
   "source": [
    "roc_auc_score(valid_df[target].values, preds)"
   ]
  },
  {
   "cell_type": "markdown",
   "metadata": {
    "_uuid": "8b6d28b9ac4316545572d91b351f2c15bed671ba"
   },
   "source": [
    "The **ROC-AUC** score obtained with **RandomForrestClassifier** is **0.85**.\n",
    "\n",
    "\n",
    "\n"
   ]
  },
  {
   "cell_type": "markdown",
   "metadata": {
    "_uuid": "8e1fb8633dc75828f659b6d4d6b3e61d87379cb7"
   },
   "source": [
    "## <a id=\"62\">AdaBoostClassifier</a>\n",
    "\n",
    "\n",
    "AdaBoostClassifier stands for Adaptive Boosting Classifier <a href='#8'>[5]</a>.\n",
    "\n",
    "### Prepare the model\n",
    "\n",
    "Let's set the parameters for the model and initialize the model."
   ]
  },
  {
   "cell_type": "code",
   "execution_count": 73,
   "metadata": {
    "_uuid": "17c5211f4f1f5f4bb406ab17d45abdc5b46c087f"
   },
   "outputs": [],
   "source": [
    "clf = AdaBoostClassifier(random_state=RANDOM_STATE,\n",
    "                         algorithm='SAMME.R',\n",
    "                         learning_rate=0.8,\n",
    "                             n_estimators=NUM_ESTIMATORS)"
   ]
  },
  {
   "cell_type": "markdown",
   "metadata": {
    "_uuid": "24263fd86b09447c3c413bf438cb262823daf338"
   },
   "source": [
    "### Fit the model\n",
    "\n",
    "Let's fit the model."
   ]
  },
  {
   "cell_type": "code",
   "execution_count": 74,
   "metadata": {
    "_uuid": "1bdbe7616f0c2ab48932705e0a143c6a0a9b8049"
   },
   "outputs": [
    {
     "data": {
      "text/plain": [
       "AdaBoostClassifier(algorithm='SAMME.R', base_estimator=None, learning_rate=0.8,\n",
       "                   n_estimators=100, random_state=2018)"
      ]
     },
     "execution_count": 74,
     "metadata": {},
     "output_type": "execute_result"
    }
   ],
   "source": [
    "clf.fit(train_df[predictors], train_df[target].values)"
   ]
  },
  {
   "cell_type": "markdown",
   "metadata": {
    "_uuid": "0678f70c1bce4a0aca24de10b2c7130a702a3823"
   },
   "source": [
    "### Predict the target values\n",
    "\n",
    "Let's now predict the **target** values for the **valid_df** data, using predict function."
   ]
  },
  {
   "cell_type": "code",
   "execution_count": 75,
   "metadata": {
    "_uuid": "77ddd7b77838e7b83d6a24fa6d6449ae0567b2bf"
   },
   "outputs": [],
   "source": [
    "preds = clf.predict(valid_df[predictors])"
   ]
  },
  {
   "cell_type": "markdown",
   "metadata": {
    "_uuid": "4eea5368cc69c6b499aa5c527d33f13ede9e31c0"
   },
   "source": [
    "### Features importance\n",
    "\n",
    "Let's see also the features importance."
   ]
  },
  {
   "cell_type": "code",
   "execution_count": 76,
   "metadata": {
    "_uuid": "2efbe2f5f9554fa96788ad1a619fe1943ee1e6df"
   },
   "outputs": [
    {
     "data": {
      "image/png": "[encoded data removed]",
      "text/plain": [
       "<Figure size 504x288 with 1 Axes>"
      ]
     },
     "metadata": {},
     "output_type": "display_data"
    }
   ],
   "source": [
    "tmp = pd.DataFrame({'Feature': predictors, 'Feature importance': clf.feature_importances_})\n",
    "tmp = tmp.sort_values(by='Feature importance',ascending=False)\n",
    "plt.figure(figsize = (7,4))\n",
    "plt.title('Features importance',fontsize=14)\n",
    "s = sns.barplot(x='Feature',y='Feature importance',data=tmp)\n",
    "s.set_xticklabels(s.get_xticklabels(),rotation=90)\n",
    "plt.show()   "
   ]
  },
  {
   "cell_type": "markdown",
   "metadata": {
    "_uuid": "4e4a72f967d3e0d1e7051668178eb497555a16ca"
   },
   "source": [
    "### Confusion matrix\n",
    "\n",
    "Let's visualize the confusion matrix."
   ]
  },
  {
   "cell_type": "code",
   "execution_count": 77,
   "metadata": {
    "_uuid": "0adcb109549fc61381f8dcf6fd894b83f3a69809"
   },
   "outputs": [
    {
     "data": {
      "image/png": "[encoded data removed]",
      "text/plain": [
       "<Figure size 360x360 with 2 Axes>"
      ]
     },
     "metadata": {},
     "output_type": "display_data"
    }
   ],
   "source": [
    "cm = pd.crosstab(valid_df[target].values, preds, rownames=['Actual'], colnames=['Predicted'])\n",
    "fig, (ax1) = plt.subplots(ncols=1, figsize=(5,5))\n",
    "sns.heatmap(cm, \n",
    "            xticklabels=['Not Fraud', 'Fraud'],\n",
    "            yticklabels=['Not Fraud', 'Fraud'],\n",
    "            annot=True,ax=ax1,\n",
    "            linewidths=.2,linecolor=\"Darkblue\", cmap=\"Blues\")\n",
    "plt.title('Confusion Matrix', fontsize=14)\n",
    "plt.show()"
   ]
  },
  {
   "cell_type": "markdown",
   "metadata": {
    "_uuid": "29a1e7c5d5b056fc59ef0c08f8a1091ee2f6fdff"
   },
   "source": [
    "Let's calculate also the ROC-AUC.\n",
    "\n",
    "\n",
    "### Area under curve"
   ]
  },
  {
   "cell_type": "code",
   "execution_count": 78,
   "metadata": {
    "_uuid": "f95a9ced1ff6ed2257f1e21c604a2ffcf769feed"
   },
   "outputs": [
    {
     "data": {
      "text/plain": [
       "0.8332343604519027"
      ]
     },
     "execution_count": 78,
     "metadata": {},
     "output_type": "execute_result"
    }
   ],
   "source": [
    "roc_auc_score(valid_df[target].values, preds)"
   ]
  },
  {
   "cell_type": "markdown",
   "metadata": {
    "_uuid": "525a893a4f511b3fd8909f3655c9a5c20afe585c"
   },
   "source": [
    "The ROC-AUC score obtained with AdaBoostClassifier is **0.83**."
   ]
  },
  {
   "cell_type": "markdown",
   "metadata": {
    "_uuid": "719e7673307eb938cbd22422c11165e6433da036"
   },
   "source": [
    "## <a id=\"63\">CatBoostClassifier</a>\n",
    "\n",
    "\n",
    "CatBoostClassifier is a gradient boosting for decision trees algorithm with support for handling categorical data <a href='#8'>[6]</a>.\n",
    "\n",
    "### Prepare the model\n",
    "\n",
    "Let's set the parameters for the model and initialize the model."
   ]
  },
  {
   "cell_type": "code",
   "execution_count": null,
   "metadata": {
    "_uuid": "5a663cefd0b35e44bec74dda1e3ece37f430bc69"
   },
   "outputs": [],
   "source": [
    "clf = CatBoostClassifier(iterations=500,\n",
    "                             learning_rate=0.02,\n",
    "                             depth=12,\n",
    "                             eval_metric='AUC',\n",
    "                             random_seed = RANDOM_STATE,\n",
    "                             bagging_temperature = 0.2,\n",
    "                             od_type='Iter',\n",
    "                             metric_period = VERBOSE_EVAL,\n",
    "                             od_wait=100)"
   ]
  },
  {
   "cell_type": "code",
   "execution_count": null,
   "metadata": {
    "_uuid": "f571a8ac45728504d805e1b4b12e3e672a01d381"
   },
   "outputs": [],
   "source": [
    "clf.fit(train_df[predictors], train_df[target].values,verbose=True)"
   ]
  },
  {
   "cell_type": "markdown",
   "metadata": {
    "_uuid": "7fb5dfcb26fbdffb6e4526cf24bbd9a20ea2b0cf"
   },
   "source": [
    "### Predict the target values\n",
    "\n",
    "Let's now predict the **target** values for the **val_df** data, using predict function."
   ]
  },
  {
   "cell_type": "code",
   "execution_count": null,
   "metadata": {
    "_uuid": "5b1c1fbaf25f4d16c6fc3ddcf3a25a16181fea3b"
   },
   "outputs": [],
   "source": [
    "preds = clf.predict(valid_df[predictors])"
   ]
  },
  {
   "cell_type": "markdown",
   "metadata": {
    "_uuid": "f4d5e197719c2caa46451c804d616e8fd6a0d6fb"
   },
   "source": [
    "### Features importance\n",
    "\n",
    "Let's see also the features importance."
   ]
  },
  {
   "cell_type": "code",
   "execution_count": null,
   "metadata": {
    "_uuid": "afeee803fd3273651754c68619a00250e1cd524d"
   },
   "outputs": [],
   "source": [
    "tmp = pd.DataFrame({'Feature': predictors, 'Feature importance': clf.feature_importances_})\n",
    "tmp = tmp.sort_values(by='Feature importance',ascending=False)\n",
    "plt.figure(figsize = (7,4))\n",
    "plt.title('Features importance',fontsize=14)\n",
    "s = sns.barplot(x='Feature',y='Feature importance',data=tmp)\n",
    "s.set_xticklabels(s.get_xticklabels(),rotation=90)\n",
    "plt.show()   "
   ]
  },
  {
   "cell_type": "markdown",
   "metadata": {
    "_uuid": "7500dac8e4d829b2651b027dac78ea886ec95ca6"
   },
   "source": [
    "### Confusion matrix\n",
    "\n",
    "Let's visualize the confusion matrix."
   ]
  },
  {
   "cell_type": "code",
   "execution_count": null,
   "metadata": {
    "_uuid": "39ac2f75b7317e00a688d4d6872a1671e9d2da21"
   },
   "outputs": [],
   "source": [
    "cm = pd.crosstab(valid_df[target].values, preds, rownames=['Actual'], colnames=['Predicted'])\n",
    "fig, (ax1) = plt.subplots(ncols=1, figsize=(5,5))\n",
    "sns.heatmap(cm, \n",
    "            xticklabels=['Not Fraud', 'Fraud'],\n",
    "            yticklabels=['Not Fraud', 'Fraud'],\n",
    "            annot=True,ax=ax1,\n",
    "            linewidths=.2,linecolor=\"Darkblue\", cmap=\"Blues\")\n",
    "plt.title('Confusion Matrix', fontsize=14)\n",
    "plt.show()"
   ]
  },
  {
   "cell_type": "markdown",
   "metadata": {
    "_uuid": "76f9e2cec59953df1c4a5fc83333443484929dac"
   },
   "source": [
    "Let's calculate also the ROC-AUC.\n",
    "\n",
    "\n",
    "### Area under curve"
   ]
  },
  {
   "cell_type": "code",
   "execution_count": null,
   "metadata": {
    "_uuid": "701ff6a7cd11cd6556e50c9c073cbddf80555306"
   },
   "outputs": [],
   "source": [
    "roc_auc_score(valid_df[target].values, preds)"
   ]
  },
  {
   "cell_type": "markdown",
   "metadata": {
    "_uuid": "18a05c1761c673b0838dd4d4a71b2315616737e2"
   },
   "source": [
    "The ROC-AUC score obtained with CatBoostClassifier is **0.86**."
   ]
  },
  {
   "cell_type": "markdown",
   "metadata": {
    "_uuid": "39c96e378c957d251f4d7e62a4def9e71aabfd81"
   },
   "source": [
    "## <a id=\"63\">XGBoost</a>"
   ]
  },
  {
   "cell_type": "markdown",
   "metadata": {
    "_uuid": "eaad6d74ea593d3a71bedf4252ba0bb5c1617159"
   },
   "source": [
    "XGBoost is a gradient boosting algorithm <a href='#8'>[7]</a>.\n",
    "\n",
    "Let's prepare the model."
   ]
  },
  {
   "cell_type": "markdown",
   "metadata": {
    "_uuid": "fa57161424d5de2cb482848c6104b8d51901fa02"
   },
   "source": [
    "### Prepare the model\n",
    "\n",
    "We initialize the DMatrix objects for training and validation, starting from the datasets. We also set some of the parameters used for the model tuning."
   ]
  },
  {
   "cell_type": "code",
   "execution_count": null,
   "metadata": {
    "_uuid": "eeb48986db87e26413d3a5efa286d18e82c0efc6"
   },
   "outputs": [],
   "source": [
    "# Prepare the train and valid datasets\n",
    "dtrain = xgb.DMatrix(train_df[predictors], train_df[target].values)\n",
    "dvalid = xgb.DMatrix(valid_df[predictors], valid_df[target].values)\n",
    "dtest = xgb.DMatrix(test_df[predictors], test_df[target].values)\n",
    "\n",
    "#What to monitor (in this case, **train** and **valid**)\n",
    "watchlist = [(dtrain, 'train'), (dvalid, 'valid')]\n",
    "\n",
    "# Set xgboost parameters\n",
    "params = {}\n",
    "params['objective'] = 'binary:logistic'\n",
    "params['eta'] = 0.039\n",
    "params['silent'] = True\n",
    "params['max_depth'] = 2\n",
    "params['subsample'] = 0.8\n",
    "params['colsample_bytree'] = 0.9\n",
    "params['eval_metric'] = 'auc'\n",
    "params['random_state'] = RANDOM_STATE"
   ]
  },
  {
   "cell_type": "markdown",
   "metadata": {
    "_uuid": "9a6981b4ce504d3e836e19dd262c64b4b03e591a"
   },
   "source": [
    "### Train the model\n",
    "\n",
    "Let's train the model. "
   ]
  },
  {
   "cell_type": "code",
   "execution_count": null,
   "metadata": {
    "_uuid": "5d066b1791e0d2463897b8a0c797cfbc38afa846"
   },
   "outputs": [],
   "source": [
    "model = xgb.train(params, \n",
    "                dtrain, \n",
    "                MAX_ROUNDS, \n",
    "                watchlist, \n",
    "                early_stopping_rounds=EARLY_STOP, \n",
    "                maximize=True, \n",
    "                verbose_eval=VERBOSE_EVAL)"
   ]
  },
  {
   "cell_type": "markdown",
   "metadata": {
    "_uuid": "cb42148758c28251be27ce20828864b1e4df1b59"
   },
   "source": [
    "The best validation score (ROC-AUC) was **0.984**, for round **241**."
   ]
  },
  {
   "cell_type": "markdown",
   "metadata": {
    "_uuid": "ca7375264c18646c11c399fdb1aa5dfaece44bd5"
   },
   "source": [
    "### Plot variable importance"
   ]
  },
  {
   "cell_type": "code",
   "execution_count": null,
   "metadata": {
    "_uuid": "2592eeaa312ba24ead2fea4cbd7b71d4537f4a75"
   },
   "outputs": [],
   "source": [
    "fig, (ax) = plt.subplots(ncols=1, figsize=(8,5))\n",
    "xgb.plot_importance(model, height=0.8, title=\"Features importance (XGBoost)\", ax=ax, color=\"green\") \n",
    "plt.show()"
   ]
  },
  {
   "cell_type": "markdown",
   "metadata": {
    "_uuid": "eb583b48bd0ffd38cddf4ea1eb41df20b3f5d566"
   },
   "source": [
    "### Predict test set\n",
    "\n",
    "\n",
    "We used the train and validation sets for training and validation. We will use the trained model now to predict the target value for the test set."
   ]
  },
  {
   "cell_type": "code",
   "execution_count": null,
   "metadata": {
    "_uuid": "99b130c043241ecc0ea5c64df1a92940d6c458a8"
   },
   "outputs": [],
   "source": [
    "preds = model.predict(dtest)"
   ]
  },
  {
   "cell_type": "markdown",
   "metadata": {
    "_uuid": "1eca8c0e71d679a8e2743ce20cd66934f101a0ac"
   },
   "source": [
    "### Area under curve\n",
    "\n",
    "Let's calculate ROC-AUC."
   ]
  },
  {
   "cell_type": "code",
   "execution_count": null,
   "metadata": {
    "_uuid": "bb7ddd8e0f7fc14556495aaab62065e9cad7a2d3"
   },
   "outputs": [],
   "source": [
    "roc_auc_score(test_df[target].values, preds)"
   ]
  },
  {
   "cell_type": "markdown",
   "metadata": {
    "_uuid": "61683181c29747a17162ad3d0ef871949c22a4c5"
   },
   "source": [
    "The AUC score for the prediction of fresh data (test set) is **0.974**."
   ]
  },
  {
   "cell_type": "markdown",
   "metadata": {
    "_uuid": "a49d1d15412ebde99ce816eef35dbcde02549388"
   },
   "source": [
    "## <a id=\"64\">LightGBM</a>\n",
    "\n",
    "\n",
    "Let's continue with another gradient boosting algorithm, LightGBM <a href='#8'>[8]</a> <a href='#8'>[9]</a>.\n",
    "\n",
    "\n",
    "### Define model parameters\n",
    "\n",
    "Let's set the parameters for the model. We will use these parameters only for the first lgb model."
   ]
  },
  {
   "cell_type": "code",
   "execution_count": null,
   "metadata": {
    "_uuid": "17cb571126b6a176a016e7e962441a1fbefc4e1c"
   },
   "outputs": [],
   "source": [
    "params = {\n",
    "          'boosting_type': 'gbdt',\n",
    "          'objective': 'binary',\n",
    "          'metric':'auc',\n",
    "          'learning_rate': 0.05,\n",
    "          'num_leaves': 7,  # we should let it be smaller than 2^(max_depth)\n",
    "          'max_depth': 4,  # -1 means no limit\n",
    "          'min_child_samples': 100,  # Minimum number of data need in a child(min_data_in_leaf)\n",
    "          'max_bin': 100,  # Number of bucketed bin for feature values\n",
    "          'subsample': 0.9,  # Subsample ratio of the training instance.\n",
    "          'subsample_freq': 1,  # frequence of subsample, <=0 means no enable\n",
    "          'colsample_bytree': 0.7,  # Subsample ratio of columns when constructing each tree.\n",
    "          'min_child_weight': 0,  # Minimum sum of instance weight(hessian) needed in a child(leaf)\n",
    "          'min_split_gain': 0,  # lambda_l1, lambda_l2 and min_gain_to_split to regularization\n",
    "          'nthread': 8,\n",
    "          'verbose': 0,\n",
    "          'scale_pos_weight':150, # because training data is extremely unbalanced \n",
    "         }"
   ]
  },
  {
   "cell_type": "markdown",
   "metadata": {
    "_uuid": "0f28ad6e71f428ab8686ef5e12fcf18875cc34ba"
   },
   "source": [
    "### Prepare the model\n",
    "\n",
    "Let's prepare the model, creating the **Dataset**s data structures from the train and validation sets."
   ]
  },
  {
   "cell_type": "code",
   "execution_count": null,
   "metadata": {
    "_uuid": "182aad358dc1359111ff8704d25b7449c0fa5901"
   },
   "outputs": [],
   "source": [
    "dtrain = lgb.Dataset(train_df[predictors].values, \n",
    "                     label=train_df[target].values,\n",
    "                     feature_name=predictors)\n",
    "\n",
    "dvalid = lgb.Dataset(valid_df[predictors].values,\n",
    "                     label=valid_df[target].values,\n",
    "                     feature_name=predictors)"
   ]
  },
  {
   "cell_type": "markdown",
   "metadata": {
    "_uuid": "589c9f7f08f158fc2fbb77ef0a5839a90fda82de"
   },
   "source": [
    "### Run the model\n",
    "\n",
    "Let's run the model, using the **train** function."
   ]
  },
  {
   "cell_type": "code",
   "execution_count": null,
   "metadata": {
    "_uuid": "e0590673dd712c4070133451ef8b9f8f4bf07712"
   },
   "outputs": [],
   "source": [
    "evals_results = {}\n",
    "\n",
    "model = lgb.train(params, \n",
    "                  dtrain, \n",
    "                  valid_sets=[dtrain, dvalid], \n",
    "                  valid_names=['train','valid'], \n",
    "                  evals_result=evals_results, \n",
    "                  num_boost_round=MAX_ROUNDS,\n",
    "                  early_stopping_rounds=2*EARLY_STOP,\n",
    "                  verbose_eval=VERBOSE_EVAL, \n",
    "                  feval=None)\n"
   ]
  },
  {
   "cell_type": "markdown",
   "metadata": {
    "_uuid": "f90fd70986e7e55da136386d249c8dd9f7bcfba9"
   },
   "source": [
    "Best validation score  was obtained for round **85**, for which **AUC ~= 0.974**.\n",
    "\n",
    "Let's plot variable importance."
   ]
  },
  {
   "cell_type": "code",
   "execution_count": null,
   "metadata": {
    "_uuid": "cc63244fa4d424f2680d60722c6ce3343f63f162"
   },
   "outputs": [],
   "source": [
    "fig, (ax) = plt.subplots(ncols=1, figsize=(8,5))\n",
    "lgb.plot_importance(model, height=0.8, title=\"Features importance (LightGBM)\", ax=ax,color=\"red\") \n",
    "plt.show()"
   ]
  },
  {
   "cell_type": "markdown",
   "metadata": {
    "_uuid": "61f871e6e32a14c21f0722df0be376e6726222e2"
   },
   "source": [
    "Let's predict now the target for the test data.\n",
    "\n",
    "### Predict test data"
   ]
  },
  {
   "cell_type": "code",
   "execution_count": null,
   "metadata": {
    "_uuid": "76814af125071b56398f76511b1a88b7830300f2"
   },
   "outputs": [],
   "source": [
    "preds = model.predict(test_df[predictors])"
   ]
  },
  {
   "cell_type": "markdown",
   "metadata": {
    "_uuid": "e1b3afefa6f55801c55535e4a0e84d83be7d158d"
   },
   "source": [
    "### Area under curve\n",
    "\n",
    "Let's calculate the ROC-AUC score for the prediction."
   ]
  },
  {
   "cell_type": "code",
   "execution_count": null,
   "metadata": {
    "_uuid": "c95c74cecb7a9facd24e11d763728e488c364035"
   },
   "outputs": [],
   "source": [
    "roc_auc_score(test_df[target].values, preds)"
   ]
  },
  {
   "cell_type": "markdown",
   "metadata": {
    "_uuid": "6e4664a3177f437bd72f58149ad3e0b970d870d2"
   },
   "source": [
    "The ROC-AUC score obtained for the test set is **0.946**."
   ]
  },
  {
   "cell_type": "markdown",
   "metadata": {
    "_uuid": "46283d37fd7eb33b7a93447a9809f384b2fd7d13"
   },
   "source": [
    "### Training and validation using cross-validation\n",
    "\n",
    "Let's use now cross-validation. We will use cross-validation (KFolds) with 5 folds. Data is divided in 5 folds and, by rotation, we are training using 4 folds (n-1) and validate using the 5th (nth) fold.\n",
    "\n",
    "Test set is calculated as an average of the predictions "
   ]
  },
  {
   "cell_type": "code",
   "execution_count": null,
   "metadata": {
    "_uuid": "9b277ba40e30206134a6796eeaf979fc2f57274e"
   },
   "outputs": [],
   "source": [
    "kf = KFold(n_splits = NUMBER_KFOLDS, random_state = RANDOM_STATE, shuffle = True)\n",
    "\n",
    "# Create arrays and dataframes to store results\n",
    "oof_preds = np.zeros(train_df.shape[0])\n",
    "test_preds = np.zeros(test_df.shape[0])\n",
    "feature_importance_df = pd.DataFrame()\n",
    "n_fold = 0\n",
    "for train_idx, valid_idx in kf.split(train_df):\n",
    "    train_x, train_y = train_df[predictors].iloc[train_idx],train_df[target].iloc[train_idx]\n",
    "    valid_x, valid_y = train_df[predictors].iloc[valid_idx],train_df[target].iloc[valid_idx]\n",
    "    \n",
    "    evals_results = {}\n",
    "    model =  LGBMClassifier(\n",
    "                  nthread=-1,\n",
    "                  n_estimators=2000,\n",
    "                  learning_rate=0.01,\n",
    "                  num_leaves=80,\n",
    "                  colsample_bytree=0.98,\n",
    "                  subsample=0.78,\n",
    "                  reg_alpha=0.04,\n",
    "                  reg_lambda=0.073,\n",
    "                  subsample_for_bin=50,\n",
    "                  boosting_type='gbdt',\n",
    "                  is_unbalance=False,\n",
    "                  min_split_gain=0.025,\n",
    "                  min_child_weight=40,\n",
    "                  min_child_samples=510,\n",
    "                  objective='binary',\n",
    "                  metric='auc',\n",
    "                  silent=-1,\n",
    "                  verbose=-1,\n",
    "                  feval=None)\n",
    "    model.fit(train_x, train_y, eval_set=[(train_x, train_y), (valid_x, valid_y)], \n",
    "                eval_metric= 'auc', verbose= VERBOSE_EVAL, early_stopping_rounds= EARLY_STOP)\n",
    "    \n",
    "    oof_preds[valid_idx] = model.predict_proba(valid_x, num_iteration=model.best_iteration_)[:, 1]\n",
    "    test_preds += model.predict_proba(test_df[predictors], num_iteration=model.best_iteration_)[:, 1] / kf.n_splits\n",
    "    \n",
    "    fold_importance_df = pd.DataFrame()\n",
    "    fold_importance_df[\"feature\"] = predictors\n",
    "    fold_importance_df[\"importance\"] = clf.feature_importances_\n",
    "    fold_importance_df[\"fold\"] = n_fold + 1\n",
    "    \n",
    "    feature_importance_df = pd.concat([feature_importance_df, fold_importance_df], axis=0)\n",
    "    print('Fold %2d AUC : %.6f' % (n_fold + 1, roc_auc_score(valid_y, oof_preds[valid_idx])))\n",
    "    del model, train_x, train_y, valid_x, valid_y\n",
    "    gc.collect()\n",
    "    n_fold = n_fold + 1\n",
    "train_auc_score = roc_auc_score(train_df[target], oof_preds)\n",
    "print('Full AUC score %.6f' % train_auc_score)                                    "
   ]
  },
  {
   "cell_type": "markdown",
   "metadata": {
    "_uuid": "f5c6d3d5c436367802d4a5f32def281767b439ae"
   },
   "source": [
    "The AUC score for the prediction from the test data was 0.93.\n",
    "\n",
    "We prepare the test prediction, from the averaged predictions for test over the 5 folds."
   ]
  },
  {
   "cell_type": "code",
   "execution_count": null,
   "metadata": {
    "_uuid": "e2a1e8c82317fd667ba9c159456602a42599e784"
   },
   "outputs": [],
   "source": [
    "pred = test_preds"
   ]
  },
  {
   "cell_type": "markdown",
   "metadata": {
    "_uuid": "c281bff3a66a72421dd66976494080839fdead29"
   },
   "source": [
    "# <a id=\"7\">Conclusions</a>"
   ]
  },
  {
   "cell_type": "markdown",
   "metadata": {
    "_uuid": "ac803cb42c6211a6b96b1f30075b82092a50e5d2"
   },
   "source": [
    "We investigated the data, checking for data unbalancing, visualizing the features and understanding the relationship between different features. \n",
    "We then investigated two predictive models. The data was split in 3 parts, a train set, a validation set and a test set. For the first three models, we only used the train and test set.  \n",
    "\n",
    "We started with **RandomForrestClassifier**, for which we obtained an AUC scode of **0.85** when predicting the target for the test set.  \n",
    "\n",
    "We followed with an **AdaBoostClassifier** model, with lower AUC score (**0.83**) for prediction of the test set target values.    \n",
    "\n",
    "We then followed with an **CatBoostClassifier**, with the AUC score after training 500 iterations **0.86**.    \n",
    "\n",
    "We then experimented with a **XGBoost** model. In this case, se used the validation set for validation of the training model.  The best validation score obtained was   **0.984**. Then we used the model with the best training step, to predict target value from the test data; the AUC score obtained was **0.974**.\n",
    "\n",
    "We then presented the data to a **LightGBM** model. We used both train-validation split and cross-validation to evaluate the model effectiveness to predict 'Class' value, i.e. detecting if a transaction was fraudulent. With the first method we obtained values of AUC for the validation set around **0.974**. For the test set, the score obtained was **0.946**.   \n",
    "With the cross-validation, we obtained an AUC score for the test prediction of  **0.93**."
   ]
  },
  {
   "cell_type": "markdown",
   "metadata": {
    "_uuid": "04ae7944c90114df8e14e6f53f5884d72dc7a304"
   },
   "source": [
    "# <a id=\"8\">References</a>\n",
    "\n",
    "[1] Credit Card Fraud Detection Database, Anonymized credit card transactions labeled as fraudulent or genuine, https://www.kaggle.com/mlg-ulb/creditcardfraud  \n",
    "[2] Principal Component Analysis, Wikipedia Page, https://en.wikipedia.org/wiki/Principal_component_analysis  \n",
    "[3] RandomForrestClassifier, http://scikit-learn.org/stable/modules/generated/sklearn.ensemble.RandomForestClassifier.html  \n",
    "[4] ROC-AUC characteristic, https://en.wikipedia.org/wiki/Receiver_operating_characteristic#Area_under_the_curve   \n",
    "[5] AdaBoostClassifier, http://scikit-learn.org/stable/modules/generated/sklearn.ensemble.AdaBoostClassifier.html  \n",
    "[6] CatBoostClassifier, https://tech.yandex.com/catboost/doc/dg/concepts/python-reference_catboostclassifier-docpage/  \n",
    "[7] XGBoost Python API Reference, http://xgboost.readthedocs.io/en/latest/python/python_api.html  \n",
    "[8] LightGBM Python implementation, https://github.com/Microsoft/LightGBM/tree/master/python-package  \n",
    "[9] LightGBM algorithm, https://www.microsoft.com/en-us/research/wp-content/uploads/2017/11/lightgbm.pdf   \n",
    "\n"
   ]
  }
 ],
 "metadata": {
  "kernelspec": {
   "display_name": "Python 3",
   "language": "python",
   "name": "python3"
  },
  "language_info": {
   "codemirror_mode": {
    "name": "ipython",
    "version": 3
   },
   "file_extension": ".py",
   "mimetype": "text/x-python",
   "name": "python",
   "nbconvert_exporter": "python",
   "pygments_lexer": "ipython3",
   "version": "3.7.2"
  }
 },
 "nbformat": 4,
 "nbformat_minor": 1
}
