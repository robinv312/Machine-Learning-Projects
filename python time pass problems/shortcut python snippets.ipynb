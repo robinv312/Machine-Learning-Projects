{
 "cells": [
  {
   "cell_type": "markdown",
   "metadata": {},
   "source": [
    "# 1. All unique \n",
    "The following method checks whether the given list has duplicate elements. It uses the property of set() which removes duplicate elements from the list.\n"
   ]
  },
  {
   "cell_type": "code",
   "execution_count": 4,
   "metadata": {},
   "outputs": [
    {
     "name": "stdout",
     "output_type": "stream",
     "text": [
      "{1, 2, 7, 8, 9, 23}\n",
      "False\n",
      "False\n"
     ]
    }
   ],
   "source": [
    "def all_unique(lst):\n",
    "    return len(lst) == len(set(lst))\n",
    "x= [1,1,1,1,2,2,23,8,7,9]\n",
    "y = [1,2,3,4,4,5]\n",
    "print(set(x))\n",
    "print(all_unique(x))\n",
    "print(all_unique(y))"
   ]
  },
  {
   "cell_type": "markdown",
   "metadata": {},
   "source": [
    "# 2. Anagrams \n",
    "This method can be used to check if two strings are anagrams. An anagram is a word or phrase formed by rearranging the letters of a different word or phrase, typically using all the original letters exactly once.\n"
   ]
  },
  {
   "cell_type": "code",
   "execution_count": 11,
   "metadata": {},
   "outputs": [
    {
     "name": "stdout",
     "output_type": "stream",
     "text": [
      "True\n"
     ]
    }
   ],
   "source": [
    "from collections import Counter\n",
    "def anagram(first,second):\n",
    "    return Counter(first) == Counter(second)\n",
    "print(anagram(\"abcd3\",\"3dcab\"))\n",
    "    "
   ]
  },
  {
   "cell_type": "markdown",
   "metadata": {},
   "source": [
    "# 3. Memory \n",
    "This snippet can be used to check the memory usage of an object.\n"
   ]
  },
  {
   "cell_type": "code",
   "execution_count": 17,
   "metadata": {},
   "outputs": [
    {
     "name": "stdout",
     "output_type": "stream",
     "text": [
      "14\n"
     ]
    }
   ],
   "source": [
    "import sys\n",
    "varaiable  = 30\n",
    "print(sys.getsizeof(varaiable))"
   ]
  },
  {
   "cell_type": "markdown",
   "metadata": {},
   "source": [
    "# 4. Byte size\n",
    "This method returns the length of a string in bytes.\n"
   ]
  },
  {
   "cell_type": "code",
   "execution_count": 20,
   "metadata": {},
   "outputs": [
    {
     "name": "stdout",
     "output_type": "stream",
     "text": [
      "4\n",
      "11\n"
     ]
    }
   ],
   "source": [
    "def byte_size(string):\n",
    "    return(len(string.encode('utf-8')))\n",
    "print (byte_size('😀'))\n",
    "print (byte_size(\"hello world\"))\n"
   ]
  },
  {
   "cell_type": "markdown",
   "metadata": {},
   "source": [
    "# 5. Print a string N times \n",
    "This snippet can be used to print a string n times without having to use loops to do it.\n"
   ]
  },
  {
   "cell_type": "code",
   "execution_count": 24,
   "metadata": {},
   "outputs": [
    {
     "name": "stdout",
     "output_type": "stream",
     "text": [
      "hai\thai\t\n"
     ]
    }
   ],
   "source": [
    "n = 2\n",
    "string = \"hai\\t\"\n",
    "print(string * n)"
   ]
  },
  {
   "cell_type": "markdown",
   "metadata": {},
   "source": [
    "# 6. Capitalize first letters \n",
    "This snippet simply uses the method title() to capitalize first letters of every word in a string.\n"
   ]
  },
  {
   "cell_type": "code",
   "execution_count": 25,
   "metadata": {},
   "outputs": [
    {
     "name": "stdout",
     "output_type": "stream",
     "text": [
      "My Name Is Robin Varghese\n"
     ]
    }
   ],
   "source": [
    "string = \"My name is robin varghese\"\n",
    "print(string.title())"
   ]
  },
  {
   "cell_type": "markdown",
   "metadata": {},
   "source": [
    "# 7. Compact\n",
    "This method removes falsy values (False, None, 0 and “”) from a list by using filter().\n"
   ]
  },
  {
   "cell_type": "code",
   "execution_count": 27,
   "metadata": {},
   "outputs": [
    {
     "data": {
      "text/plain": [
       "[1, 2, 3, 'a', 's', 34]"
      ]
     },
     "execution_count": 27,
     "metadata": {},
     "output_type": "execute_result"
    }
   ],
   "source": [
    "def compact(lst):\n",
    "    return list(filter(None,lst))\n",
    "compact([0, 1, False, 2, '', 3, 'a', 's', 34])"
   ]
  },
  {
   "cell_type": "markdown",
   "metadata": {},
   "source": [
    "# 8. Count by\n",
    "This snippet can be used to transpose a 2D array.\n"
   ]
  },
  {
   "cell_type": "code",
   "execution_count": 46,
   "metadata": {},
   "outputs": [
    {
     "data": {
      "text/plain": [
       "array([['a', 'c', 'e'],\n",
       "       ['b', 'd', 'f']], dtype='<U1')"
      ]
     },
     "execution_count": 46,
     "metadata": {},
     "output_type": "execute_result"
    }
   ],
   "source": [
    "import numpy as np\n",
    "a = np.array([['a','b'],['c','d'],['e','f']])\n",
    "a\n",
    "a.transpose()"
   ]
  },
  {
   "cell_type": "markdown",
   "metadata": {},
   "source": [
    "# 9. Chained comparison\n",
    "You can do multiple comparisons with all kinds of operators in a single line.\n"
   ]
  },
  {
   "cell_type": "code",
   "execution_count": 76,
   "metadata": {},
   "outputs": [
    {
     "name": "stdout",
     "output_type": "stream",
     "text": [
      "True\n"
     ]
    }
   ],
   "source": [
    "a = 3\n",
    "print(2<a<8)"
   ]
  },
  {
   "cell_type": "markdown",
   "metadata": {},
   "source": [
    "# 10. Comma-separated \n",
    "This snippet can be used to turn a list of strings into a single string with each element from the list separated by commas.\n"
   ]
  },
  {
   "cell_type": "code",
   "execution_count": 77,
   "metadata": {},
   "outputs": [
    {
     "name": "stdout",
     "output_type": "stream",
     "text": [
      "my hobbies are:reading, writing, drawing, dance, music\n"
     ]
    }
   ],
   "source": [
    "hobbies =  [\"reading\",\"writing\",\"drawing\",\"dance\",\"music\"]\n",
    "print (\"my hobbies are:\" ,end = \"\")\n",
    "print(\", \".join(hobbies))"
   ]
  },
  {
   "cell_type": "code",
   "execution_count": 78,
   "metadata": {},
   "outputs": [
    {
     "name": "stdout",
     "output_type": "stream",
     "text": [
      "['i']\n"
     ]
    }
   ],
   "source": [
    "def get_vowels(string):\n",
    "    return [vowels for vowels in string if vowels in \"aeiou\"]\n",
    "print(get_vowels(\"String\"))"
   ]
  },
  {
   "cell_type": "markdown",
   "metadata": {},
   "source": [
    "# 11. Decapitalize\n",
    "This method can be used to turn the first letter of the given string into lowercase."
   ]
  },
  {
   "cell_type": "code",
   "execution_count": 80,
   "metadata": {},
   "outputs": [
    {
     "data": {
      "text/plain": [
       "'dECAPITALISE'"
      ]
     },
     "execution_count": 80,
     "metadata": {},
     "output_type": "execute_result"
    }
   ],
   "source": [
    "s = \"DECAPITALISE\"\n",
    "s[0].lower()+s[1:]"
   ]
  },
  {
   "cell_type": "markdown",
   "metadata": {},
   "source": [
    "# 12. Merge two dictionaries\n",
    "The following method can be used to merge two dictionaries.\n"
   ]
  },
  {
   "cell_type": "code",
   "execution_count": 84,
   "metadata": {},
   "outputs": [
    {
     "name": "stdout",
     "output_type": "stream",
     "text": [
      "{'x': 1, 'y': 3, 'a': 1, 'b': 3}\n"
     ]
    }
   ],
   "source": [
    "def merge_two_dicts(a,b):\n",
    "    c = a.copy()\n",
    "    c.update(b)\n",
    "    return c\n",
    "a = {'x':1,'y':3}\n",
    "b = {'a':1,'b':3}\n",
    "print(merge_two_dicts(a,b))"
   ]
  },
  {
   "cell_type": "markdown",
   "metadata": {},
   "source": [
    "#             or"
   ]
  },
  {
   "cell_type": "code",
   "execution_count": 86,
   "metadata": {},
   "outputs": [
    {
     "name": "stdout",
     "output_type": "stream",
     "text": [
      "{'x': 1, 'y': 3, 'a': 1, 'b': 3}\n"
     ]
    }
   ],
   "source": [
    "def merge_two_dicts(a,b):\n",
    "    return {**a,**b }\n",
    "a = {'x':1,'y':3}\n",
    "b = {'a':1,'b':3}\n",
    "print(merge_two_dicts(a,b))\n"
   ]
  },
  {
   "cell_type": "markdown",
   "metadata": {},
   "source": [
    "# 13. Convert two lists into a dictionary \n",
    "The following method can be used to convert two lists into a dictionary"
   ]
  },
  {
   "cell_type": "code",
   "execution_count": 91,
   "metadata": {},
   "outputs": [
    {
     "name": "stdout",
     "output_type": "stream",
     "text": [
      "{'a': 2, 'b': 3, 'c': 4}\n"
     ]
    }
   ],
   "source": [
    "def to_dictionary(keys,values):\n",
    "    return dict(zip(key,value))\n",
    "key = [\"a\", \"b\", \"c\"]\n",
    "value = [2, 3, 4]\n",
    "print(to_dictionary(key, value))\n"
   ]
  },
  {
   "cell_type": "markdown",
   "metadata": {},
   "source": [
    "# 14. Time spent\n",
    "This snippet can be used to calculate the time it takes to execute a particular code.\n"
   ]
  },
  {
   "cell_type": "code",
   "execution_count": 98,
   "metadata": {},
   "outputs": [
    {
     "name": "stdout",
     "output_type": "stream",
     "text": [
      "1585476566.2285817\n",
      "1585476566.2285817\n",
      "the differnce in timing is 0.0\n"
     ]
    }
   ],
   "source": [
    "import time\n",
    "start_time = time.time()\n",
    "print(start_time)\n",
    "a = 4\n",
    "b = 5\n",
    "sum = a+b\n",
    "end_time = time.time()\n",
    "print(end_time)\n",
    "diff = end_time-start_time\n",
    "print(\"the differnce in timing is\", diff)"
   ]
  },
  {
   "cell_type": "markdown",
   "metadata": {},
   "source": [
    "# 15. Try else \n",
    "You can have an else clause as part of a try/except block, which is executed if no exception is thrown.\n"
   ]
  },
  {
   "cell_type": "code",
   "execution_count": 99,
   "metadata": {},
   "outputs": [
    {
     "name": "stdout",
     "output_type": "stream",
     "text": [
      "no exception is raised\n"
     ]
    }
   ],
   "source": [
    "try:\n",
    "    2*5\n",
    "except TypeError:\n",
    "    print(\"an exception is raised\")\n",
    "else:\n",
    "    print(\"no exception is raised\")"
   ]
  },
  {
   "cell_type": "markdown",
   "metadata": {},
   "source": [
    "# 16. Most frequent \n",
    "This method returns the most frequent element that appears in a list.\n"
   ]
  },
  {
   "cell_type": "code",
   "execution_count": 103,
   "metadata": {},
   "outputs": [
    {
     "data": {
      "text/plain": [
       "3"
      ]
     },
     "execution_count": 103,
     "metadata": {},
     "output_type": "execute_result"
    }
   ],
   "source": [
    "def most_frequent(list):\n",
    "    return max(list, key = list.count)\n",
    "numbers = [1,2,3,3,3,3,11,1,4,6,6,7]\n",
    "most_frequent(numbers)"
   ]
  },
  {
   "cell_type": "markdown",
   "metadata": {},
   "source": [
    "# 17. Shuffle \n",
    "This snippet can be used to randomize the order of the elements in a list. Note that shuffle works in place, and returns None.\n"
   ]
  },
  {
   "cell_type": "code",
   "execution_count": 109,
   "metadata": {},
   "outputs": [
    {
     "name": "stdout",
     "output_type": "stream",
     "text": [
      "[3, 1, 2, 5, 4]\n"
     ]
    }
   ],
   "source": [
    "from random import shuffle\n",
    "foo = [1,2,3,4,5]\n",
    "shuffle(foo)\n",
    "print(foo)"
   ]
  },
  {
   "cell_type": "markdown",
   "metadata": {},
   "source": [
    "# 18. Swap values\n",
    "A really quick way for swapping two variables without having to use an additional one.\n"
   ]
  },
  {
   "cell_type": "code",
   "execution_count": 119,
   "metadata": {},
   "outputs": [
    {
     "name": "stdout",
     "output_type": "stream",
     "text": [
      "8\n",
      "-1\n"
     ]
    }
   ],
   "source": [
    "a,b = -1,8\n",
    "a,b = b,a\n",
    "print(a)\n",
    "print(b)"
   ]
  },
  {
   "cell_type": "markdown",
   "metadata": {},
   "source": [
    "# 19. Palindrome\n",
    "This method checks whether a given string is a palindrome."
   ]
  },
  {
   "cell_type": "code",
   "execution_count": 118,
   "metadata": {},
   "outputs": [
    {
     "name": "stdout",
     "output_type": "stream",
     "text": [
      "not palindeome\n"
     ]
    }
   ],
   "source": [
    "c  = \"kekwewe\"\n",
    "d = c[::-1]\n",
    "if c == d:\n",
    "    print(\"palindrome\")\n",
    "else:\n",
    "    print(\"not palindeome\")"
   ]
  },
  {
   "cell_type": "code",
   "execution_count": null,
   "metadata": {},
   "outputs": [],
   "source": []
  }
 ],
 "metadata": {
  "kernelspec": {
   "display_name": "Python 3",
   "language": "python",
   "name": "python3"
  },
  "language_info": {
   "codemirror_mode": {
    "name": "ipython",
    "version": 3
   },
   "file_extension": ".py",
   "mimetype": "text/x-python",
   "name": "python",
   "nbconvert_exporter": "python",
   "pygments_lexer": "ipython3",
   "version": "3.7.2"
  }
 },
 "nbformat": 4,
 "nbformat_minor": 2
}
