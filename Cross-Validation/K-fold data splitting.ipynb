{
 "cells": [
  {
   "cell_type": "code",
   "execution_count": 2,
   "metadata": {},
   "outputs": [],
   "source": [
    "from numpy import array\n",
    "from sklearn.model_selection import KFold"
   ]
  },
  {
   "cell_type": "code",
   "execution_count": 3,
   "metadata": {},
   "outputs": [],
   "source": [
    "data = array([0.1,0.2,0.3,0.4,0.5,0.6,0.7,0.8])"
   ]
  },
  {
   "cell_type": "code",
   "execution_count": 11,
   "metadata": {},
   "outputs": [],
   "source": [
    "kfold = KFold(6,True,1)"
   ]
  },
  {
   "cell_type": "code",
   "execution_count": 14,
   "metadata": {},
   "outputs": [
    {
     "name": "stdout",
     "output_type": "stream",
     "text": [
      "train: [0.1 0.2 0.4 0.5 0.6 0.7],test [0.3 0.8]\n",
      "train: [0.1 0.3 0.4 0.5 0.6 0.8],test [0.2 0.7]\n",
      "train: [0.2 0.3 0.4 0.5 0.6 0.7 0.8],test [0.1]\n",
      "train: [0.1 0.2 0.3 0.4 0.6 0.7 0.8],test [0.5]\n",
      "train: [0.1 0.2 0.3 0.5 0.6 0.7 0.8],test [0.4]\n",
      "train: [0.1 0.2 0.3 0.4 0.5 0.7 0.8],test [0.6]\n"
     ]
    }
   ],
   "source": [
    "for train,test in kfold.split(data):\n",
    "    print(\"train: {},test {}\" .format(data[train],data[test]))"
   ]
  },
  {
   "cell_type": "code",
   "execution_count": null,
   "metadata": {},
   "outputs": [],
   "source": []
  }
 ],
 "metadata": {
  "kernelspec": {
   "display_name": "Python 3",
   "language": "python",
   "name": "python3"
  },
  "language_info": {
   "codemirror_mode": {
    "name": "ipython",
    "version": 3
   },
   "file_extension": ".py",
   "mimetype": "text/x-python",
   "name": "python",
   "nbconvert_exporter": "python",
   "pygments_lexer": "ipython3",
   "version": "3.7.2"
  }
 },
 "nbformat": 4,
 "nbformat_minor": 2
}
