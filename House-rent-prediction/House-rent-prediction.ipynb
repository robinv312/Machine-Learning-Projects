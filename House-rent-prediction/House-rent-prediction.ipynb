{
 "cells": [
  {
   "cell_type": "markdown",
   "metadata": {},
   "source": [
    "*In this notebook, I have analyzed Airbnb data for NYC. I preprocessed data as and when required. For some columns, I created dummies so as to run regression models. I started out with OLS and improved it with Lasso regularization. I got the least RMSE with Random forest regressor. "
   ]
  },
  {
   "cell_type": "markdown",
   "metadata": {},
   "source": [
    "![](https://ichef.bbci.co.uk/news/1024/cpsprodpb/3E5D/production/_109556951_airbnb.png)"
   ]
  },
  {
   "cell_type": "code",
   "execution_count": 68,
   "metadata": {},
   "outputs": [],
   "source": [
    "from sklearn import preprocessing, metrics\n",
    "from sklearn.linear_model import LinearRegression\n",
    "from sklearn.linear_model import Lasso\n",
    "from sklearn.ensemble import RandomForestRegressor\n",
    "from sklearn.model_selection import train_test_split\n",
    "import numpy as np\n",
    "import pandas as pd\n",
    "import seaborn as sns\n",
    "import matplotlib.pyplot as plt\n",
    "sns.set(style=\"ticks\", color_codes=True)\n",
    "import statsmodels.api as sm\n",
    "from scipy import stats"
   ]
  },
  {
   "cell_type": "markdown",
   "metadata": {},
   "source": [
    "# Loading the data"
   ]
  },
  {
   "cell_type": "code",
   "execution_count": 69,
   "metadata": {},
   "outputs": [],
   "source": [
    "dataset = pd.read_csv(\"C:/Users/Robin/Desktop/Statistics/AB_NYC_2019.csv\")"
   ]
  },
  {
   "cell_type": "code",
   "execution_count": 70,
   "metadata": {},
   "outputs": [
    {
     "data": {
      "text/html": [
       "<div>\n",
       "<style scoped>\n",
       "    .dataframe tbody tr th:only-of-type {\n",
       "        vertical-align: middle;\n",
       "    }\n",
       "\n",
       "    .dataframe tbody tr th {\n",
       "        vertical-align: top;\n",
       "    }\n",
       "\n",
       "    .dataframe thead th {\n",
       "        text-align: right;\n",
       "    }\n",
       "</style>\n",
       "<table border=\"1\" class=\"dataframe\">\n",
       "  <thead>\n",
       "    <tr style=\"text-align: right;\">\n",
       "      <th></th>\n",
       "      <th>id</th>\n",
       "      <th>name</th>\n",
       "      <th>host_id</th>\n",
       "      <th>host_name</th>\n",
       "      <th>neighbourhood_group</th>\n",
       "      <th>neighbourhood</th>\n",
       "      <th>latitude</th>\n",
       "      <th>longitude</th>\n",
       "      <th>room_type</th>\n",
       "      <th>price</th>\n",
       "      <th>minimum_nights</th>\n",
       "      <th>number_of_reviews</th>\n",
       "      <th>last_review</th>\n",
       "      <th>reviews_per_month</th>\n",
       "      <th>calculated_host_listings_count</th>\n",
       "      <th>availability_365</th>\n",
       "    </tr>\n",
       "  </thead>\n",
       "  <tbody>\n",
       "    <tr>\n",
       "      <th>0</th>\n",
       "      <td>2539</td>\n",
       "      <td>Clean &amp; quiet apt home by the park</td>\n",
       "      <td>2787</td>\n",
       "      <td>John</td>\n",
       "      <td>Brooklyn</td>\n",
       "      <td>Kensington</td>\n",
       "      <td>40.64749</td>\n",
       "      <td>-73.97237</td>\n",
       "      <td>Private room</td>\n",
       "      <td>149</td>\n",
       "      <td>1</td>\n",
       "      <td>9</td>\n",
       "      <td>2018-10-19</td>\n",
       "      <td>0.21</td>\n",
       "      <td>6</td>\n",
       "      <td>365</td>\n",
       "    </tr>\n",
       "    <tr>\n",
       "      <th>1</th>\n",
       "      <td>2595</td>\n",
       "      <td>Skylit Midtown Castle</td>\n",
       "      <td>2845</td>\n",
       "      <td>Jennifer</td>\n",
       "      <td>Manhattan</td>\n",
       "      <td>Midtown</td>\n",
       "      <td>40.75362</td>\n",
       "      <td>-73.98377</td>\n",
       "      <td>Entire home/apt</td>\n",
       "      <td>225</td>\n",
       "      <td>1</td>\n",
       "      <td>45</td>\n",
       "      <td>2019-05-21</td>\n",
       "      <td>0.38</td>\n",
       "      <td>2</td>\n",
       "      <td>355</td>\n",
       "    </tr>\n",
       "    <tr>\n",
       "      <th>2</th>\n",
       "      <td>3647</td>\n",
       "      <td>THE VILLAGE OF HARLEM....NEW YORK !</td>\n",
       "      <td>4632</td>\n",
       "      <td>Elisabeth</td>\n",
       "      <td>Manhattan</td>\n",
       "      <td>Harlem</td>\n",
       "      <td>40.80902</td>\n",
       "      <td>-73.94190</td>\n",
       "      <td>Private room</td>\n",
       "      <td>150</td>\n",
       "      <td>3</td>\n",
       "      <td>0</td>\n",
       "      <td>NaN</td>\n",
       "      <td>NaN</td>\n",
       "      <td>1</td>\n",
       "      <td>365</td>\n",
       "    </tr>\n",
       "    <tr>\n",
       "      <th>3</th>\n",
       "      <td>3831</td>\n",
       "      <td>Cozy Entire Floor of Brownstone</td>\n",
       "      <td>4869</td>\n",
       "      <td>LisaRoxanne</td>\n",
       "      <td>Brooklyn</td>\n",
       "      <td>Clinton Hill</td>\n",
       "      <td>40.68514</td>\n",
       "      <td>-73.95976</td>\n",
       "      <td>Entire home/apt</td>\n",
       "      <td>89</td>\n",
       "      <td>1</td>\n",
       "      <td>270</td>\n",
       "      <td>2019-07-05</td>\n",
       "      <td>4.64</td>\n",
       "      <td>1</td>\n",
       "      <td>194</td>\n",
       "    </tr>\n",
       "    <tr>\n",
       "      <th>4</th>\n",
       "      <td>5022</td>\n",
       "      <td>Entire Apt: Spacious Studio/Loft by central park</td>\n",
       "      <td>7192</td>\n",
       "      <td>Laura</td>\n",
       "      <td>Manhattan</td>\n",
       "      <td>East Harlem</td>\n",
       "      <td>40.79851</td>\n",
       "      <td>-73.94399</td>\n",
       "      <td>Entire home/apt</td>\n",
       "      <td>80</td>\n",
       "      <td>10</td>\n",
       "      <td>9</td>\n",
       "      <td>2018-11-19</td>\n",
       "      <td>0.10</td>\n",
       "      <td>1</td>\n",
       "      <td>0</td>\n",
       "    </tr>\n",
       "    <tr>\n",
       "      <th>...</th>\n",
       "      <td>...</td>\n",
       "      <td>...</td>\n",
       "      <td>...</td>\n",
       "      <td>...</td>\n",
       "      <td>...</td>\n",
       "      <td>...</td>\n",
       "      <td>...</td>\n",
       "      <td>...</td>\n",
       "      <td>...</td>\n",
       "      <td>...</td>\n",
       "      <td>...</td>\n",
       "      <td>...</td>\n",
       "      <td>...</td>\n",
       "      <td>...</td>\n",
       "      <td>...</td>\n",
       "      <td>...</td>\n",
       "    </tr>\n",
       "    <tr>\n",
       "      <th>48890</th>\n",
       "      <td>36484665</td>\n",
       "      <td>Charming one bedroom - newly renovated rowhouse</td>\n",
       "      <td>8232441</td>\n",
       "      <td>Sabrina</td>\n",
       "      <td>Brooklyn</td>\n",
       "      <td>Bedford-Stuyvesant</td>\n",
       "      <td>40.67853</td>\n",
       "      <td>-73.94995</td>\n",
       "      <td>Private room</td>\n",
       "      <td>70</td>\n",
       "      <td>2</td>\n",
       "      <td>0</td>\n",
       "      <td>NaN</td>\n",
       "      <td>NaN</td>\n",
       "      <td>2</td>\n",
       "      <td>9</td>\n",
       "    </tr>\n",
       "    <tr>\n",
       "      <th>48891</th>\n",
       "      <td>36485057</td>\n",
       "      <td>Affordable room in Bushwick/East Williamsburg</td>\n",
       "      <td>6570630</td>\n",
       "      <td>Marisol</td>\n",
       "      <td>Brooklyn</td>\n",
       "      <td>Bushwick</td>\n",
       "      <td>40.70184</td>\n",
       "      <td>-73.93317</td>\n",
       "      <td>Private room</td>\n",
       "      <td>40</td>\n",
       "      <td>4</td>\n",
       "      <td>0</td>\n",
       "      <td>NaN</td>\n",
       "      <td>NaN</td>\n",
       "      <td>2</td>\n",
       "      <td>36</td>\n",
       "    </tr>\n",
       "    <tr>\n",
       "      <th>48892</th>\n",
       "      <td>36485431</td>\n",
       "      <td>Sunny Studio at Historical Neighborhood</td>\n",
       "      <td>23492952</td>\n",
       "      <td>Ilgar &amp; Aysel</td>\n",
       "      <td>Manhattan</td>\n",
       "      <td>Harlem</td>\n",
       "      <td>40.81475</td>\n",
       "      <td>-73.94867</td>\n",
       "      <td>Entire home/apt</td>\n",
       "      <td>115</td>\n",
       "      <td>10</td>\n",
       "      <td>0</td>\n",
       "      <td>NaN</td>\n",
       "      <td>NaN</td>\n",
       "      <td>1</td>\n",
       "      <td>27</td>\n",
       "    </tr>\n",
       "    <tr>\n",
       "      <th>48893</th>\n",
       "      <td>36485609</td>\n",
       "      <td>43rd St. Time Square-cozy single bed</td>\n",
       "      <td>30985759</td>\n",
       "      <td>Taz</td>\n",
       "      <td>Manhattan</td>\n",
       "      <td>Hell's Kitchen</td>\n",
       "      <td>40.75751</td>\n",
       "      <td>-73.99112</td>\n",
       "      <td>Shared room</td>\n",
       "      <td>55</td>\n",
       "      <td>1</td>\n",
       "      <td>0</td>\n",
       "      <td>NaN</td>\n",
       "      <td>NaN</td>\n",
       "      <td>6</td>\n",
       "      <td>2</td>\n",
       "    </tr>\n",
       "    <tr>\n",
       "      <th>48894</th>\n",
       "      <td>36487245</td>\n",
       "      <td>Trendy duplex in the very heart of Hell's Kitchen</td>\n",
       "      <td>68119814</td>\n",
       "      <td>Christophe</td>\n",
       "      <td>Manhattan</td>\n",
       "      <td>Hell's Kitchen</td>\n",
       "      <td>40.76404</td>\n",
       "      <td>-73.98933</td>\n",
       "      <td>Private room</td>\n",
       "      <td>90</td>\n",
       "      <td>7</td>\n",
       "      <td>0</td>\n",
       "      <td>NaN</td>\n",
       "      <td>NaN</td>\n",
       "      <td>1</td>\n",
       "      <td>23</td>\n",
       "    </tr>\n",
       "  </tbody>\n",
       "</table>\n",
       "<p>48895 rows × 16 columns</p>\n",
       "</div>"
      ],
      "text/plain": [
       "             id                                               name   host_id  \\\n",
       "0          2539                 Clean & quiet apt home by the park      2787   \n",
       "1          2595                              Skylit Midtown Castle      2845   \n",
       "2          3647                THE VILLAGE OF HARLEM....NEW YORK !      4632   \n",
       "3          3831                    Cozy Entire Floor of Brownstone      4869   \n",
       "4          5022   Entire Apt: Spacious Studio/Loft by central park      7192   \n",
       "...         ...                                                ...       ...   \n",
       "48890  36484665    Charming one bedroom - newly renovated rowhouse   8232441   \n",
       "48891  36485057      Affordable room in Bushwick/East Williamsburg   6570630   \n",
       "48892  36485431            Sunny Studio at Historical Neighborhood  23492952   \n",
       "48893  36485609               43rd St. Time Square-cozy single bed  30985759   \n",
       "48894  36487245  Trendy duplex in the very heart of Hell's Kitchen  68119814   \n",
       "\n",
       "           host_name neighbourhood_group       neighbourhood  latitude  \\\n",
       "0               John            Brooklyn          Kensington  40.64749   \n",
       "1           Jennifer           Manhattan             Midtown  40.75362   \n",
       "2          Elisabeth           Manhattan              Harlem  40.80902   \n",
       "3        LisaRoxanne            Brooklyn        Clinton Hill  40.68514   \n",
       "4              Laura           Manhattan         East Harlem  40.79851   \n",
       "...              ...                 ...                 ...       ...   \n",
       "48890        Sabrina            Brooklyn  Bedford-Stuyvesant  40.67853   \n",
       "48891        Marisol            Brooklyn            Bushwick  40.70184   \n",
       "48892  Ilgar & Aysel           Manhattan              Harlem  40.81475   \n",
       "48893            Taz           Manhattan      Hell's Kitchen  40.75751   \n",
       "48894     Christophe           Manhattan      Hell's Kitchen  40.76404   \n",
       "\n",
       "       longitude        room_type  price  minimum_nights  number_of_reviews  \\\n",
       "0      -73.97237     Private room    149               1                  9   \n",
       "1      -73.98377  Entire home/apt    225               1                 45   \n",
       "2      -73.94190     Private room    150               3                  0   \n",
       "3      -73.95976  Entire home/apt     89               1                270   \n",
       "4      -73.94399  Entire home/apt     80              10                  9   \n",
       "...          ...              ...    ...             ...                ...   \n",
       "48890  -73.94995     Private room     70               2                  0   \n",
       "48891  -73.93317     Private room     40               4                  0   \n",
       "48892  -73.94867  Entire home/apt    115              10                  0   \n",
       "48893  -73.99112      Shared room     55               1                  0   \n",
       "48894  -73.98933     Private room     90               7                  0   \n",
       "\n",
       "      last_review  reviews_per_month  calculated_host_listings_count  \\\n",
       "0      2018-10-19               0.21                               6   \n",
       "1      2019-05-21               0.38                               2   \n",
       "2             NaN                NaN                               1   \n",
       "3      2019-07-05               4.64                               1   \n",
       "4      2018-11-19               0.10                               1   \n",
       "...           ...                ...                             ...   \n",
       "48890         NaN                NaN                               2   \n",
       "48891         NaN                NaN                               2   \n",
       "48892         NaN                NaN                               1   \n",
       "48893         NaN                NaN                               6   \n",
       "48894         NaN                NaN                               1   \n",
       "\n",
       "       availability_365  \n",
       "0                   365  \n",
       "1                   355  \n",
       "2                   365  \n",
       "3                   194  \n",
       "4                     0  \n",
       "...                 ...  \n",
       "48890                 9  \n",
       "48891                36  \n",
       "48892                27  \n",
       "48893                 2  \n",
       "48894                23  \n",
       "\n",
       "[48895 rows x 16 columns]"
      ]
     },
     "execution_count": 70,
     "metadata": {},
     "output_type": "execute_result"
    }
   ],
   "source": [
    "dataset"
   ]
  },
  {
   "cell_type": "code",
   "execution_count": 71,
   "metadata": {},
   "outputs": [
    {
     "data": {
      "text/plain": [
       "id                                  int64\n",
       "name                               object\n",
       "host_id                             int64\n",
       "host_name                          object\n",
       "neighbourhood_group                object\n",
       "neighbourhood                      object\n",
       "latitude                          float64\n",
       "longitude                         float64\n",
       "room_type                          object\n",
       "price                               int64\n",
       "minimum_nights                      int64\n",
       "number_of_reviews                   int64\n",
       "last_review                        object\n",
       "reviews_per_month                 float64\n",
       "calculated_host_listings_count      int64\n",
       "availability_365                    int64\n",
       "dtype: object"
      ]
     },
     "execution_count": 71,
     "metadata": {},
     "output_type": "execute_result"
    }
   ],
   "source": [
    "### Check data types of all columns\n",
    "dataset.dtypes"
   ]
  },
  {
   "cell_type": "markdown",
   "metadata": {},
   "source": [
    "Checking null values.\n",
    "Since last_review and reviews per month have same null records, lets assume that that listing never got ant review"
   ]
  },
  {
   "cell_type": "code",
   "execution_count": 72,
   "metadata": {},
   "outputs": [
    {
     "data": {
      "text/plain": [
       "id                                    0\n",
       "name                                 16\n",
       "host_id                               0\n",
       "host_name                            21\n",
       "neighbourhood_group                   0\n",
       "neighbourhood                         0\n",
       "latitude                              0\n",
       "longitude                             0\n",
       "room_type                             0\n",
       "price                                 0\n",
       "minimum_nights                        0\n",
       "number_of_reviews                     0\n",
       "last_review                       10052\n",
       "reviews_per_month                 10052\n",
       "calculated_host_listings_count        0\n",
       "availability_365                      0\n",
       "dtype: int64"
      ]
     },
     "execution_count": 72,
     "metadata": {},
     "output_type": "execute_result"
    }
   ],
   "source": [
    "\n",
    "dataset.isnull().sum()"
   ]
  },
  {
   "cell_type": "markdown",
   "metadata": {},
   "source": [
    "Let's replace reviews per month Nan by zero and null name and host_name by NoName. Also, replace last review with \"Not reviewed\""
   ]
  },
  {
   "cell_type": "code",
   "execution_count": 73,
   "metadata": {},
   "outputs": [],
   "source": [
    "\n",
    "dataset.fillna({'reviews_per_month':0}, inplace=True)\n",
    "dataset.fillna({'name':\"NoName\"}, inplace=True)\n",
    "dataset.fillna({'host_name':\"NoName\"}, inplace=True)\n",
    "dataset.fillna({'last_review':\"NotReviewed\"}, inplace=True)\n"
   ]
  },
  {
   "cell_type": "markdown",
   "metadata": {},
   "source": [
    "Time to check results"
   ]
  },
  {
   "cell_type": "code",
   "execution_count": 74,
   "metadata": {},
   "outputs": [
    {
     "data": {
      "text/plain": [
       "id                                0\n",
       "name                              0\n",
       "host_id                           0\n",
       "host_name                         0\n",
       "neighbourhood_group               0\n",
       "neighbourhood                     0\n",
       "latitude                          0\n",
       "longitude                         0\n",
       "room_type                         0\n",
       "price                             0\n",
       "minimum_nights                    0\n",
       "number_of_reviews                 0\n",
       "last_review                       0\n",
       "reviews_per_month                 0\n",
       "calculated_host_listings_count    0\n",
       "availability_365                  0\n",
       "dtype: int64"
      ]
     },
     "execution_count": 74,
     "metadata": {},
     "output_type": "execute_result"
    }
   ],
   "source": [
    "\n",
    "dataset.isnull().sum()"
   ]
  },
  {
   "cell_type": "markdown",
   "metadata": {},
   "source": [
    "Looking at the price column"
   ]
  },
  {
   "cell_type": "code",
   "execution_count": 75,
   "metadata": {},
   "outputs": [
    {
     "data": {
      "text/plain": [
       "count    48895.000000\n",
       "mean       152.720687\n",
       "std        240.154170\n",
       "min          0.000000\n",
       "25%         69.000000\n",
       "50%        106.000000\n",
       "75%        175.000000\n",
       "max      10000.000000\n",
       "Name: price, dtype: float64"
      ]
     },
     "execution_count": 75,
     "metadata": {},
     "output_type": "execute_result"
    }
   ],
   "source": [
    "\n",
    "dataset[\"price\"].describe()\n"
   ]
  },
  {
   "cell_type": "markdown",
   "metadata": {},
   "source": [
    "We see that the average price is 152. Price varies between 0 to 10K"
   ]
  },
  {
   "cell_type": "code",
   "execution_count": 76,
   "metadata": {},
   "outputs": [
    {
     "data": {
      "image/png": "[encoded data removed]",
      "text/plain": [
       "<Figure size 432x288 with 1 Axes>"
      ]
     },
     "metadata": {},
     "output_type": "display_data"
    }
   ],
   "source": [
    "### See the distribution of price\n",
    "hist_price=dataset[\"price\"].hist()\n",
    "### We observe that most listings have price less than $1000"
   ]
  },
  {
   "cell_type": "code",
   "execution_count": 77,
   "metadata": {},
   "outputs": [
    {
     "data": {
      "image/png": "[encoded data removed]",
      "text/plain": [
       "<Figure size 432x288 with 1 Axes>"
      ]
     },
     "metadata": {},
     "output_type": "display_data"
    }
   ],
   "source": [
    "### Lets plot histogram for prices less than $2000\n",
    "hist_price1=dataset[\"price\"][dataset[\"price\"]<1000].hist()\n",
    "### This give a clearer picture!"
   ]
  },
  {
   "cell_type": "markdown",
   "metadata": {},
   "source": [
    "How many listings have price more than 1000?"
   ]
  },
  {
   "cell_type": "code",
   "execution_count": 78,
   "metadata": {},
   "outputs": [
    {
     "data": {
      "text/html": [
       "<div>\n",
       "<style scoped>\n",
       "    .dataframe tbody tr th:only-of-type {\n",
       "        vertical-align: middle;\n",
       "    }\n",
       "\n",
       "    .dataframe tbody tr th {\n",
       "        vertical-align: top;\n",
       "    }\n",
       "\n",
       "    .dataframe thead th {\n",
       "        text-align: right;\n",
       "    }\n",
       "</style>\n",
       "<table border=\"1\" class=\"dataframe\">\n",
       "  <thead>\n",
       "    <tr style=\"text-align: right;\">\n",
       "      <th></th>\n",
       "      <th>id</th>\n",
       "      <th>name</th>\n",
       "      <th>host_id</th>\n",
       "      <th>host_name</th>\n",
       "      <th>neighbourhood_group</th>\n",
       "      <th>neighbourhood</th>\n",
       "      <th>latitude</th>\n",
       "      <th>longitude</th>\n",
       "      <th>room_type</th>\n",
       "      <th>price</th>\n",
       "      <th>minimum_nights</th>\n",
       "      <th>number_of_reviews</th>\n",
       "      <th>last_review</th>\n",
       "      <th>reviews_per_month</th>\n",
       "      <th>calculated_host_listings_count</th>\n",
       "      <th>availability_365</th>\n",
       "    </tr>\n",
       "  </thead>\n",
       "  <tbody>\n",
       "    <tr>\n",
       "      <th>496</th>\n",
       "      <td>174966</td>\n",
       "      <td>Luxury 2Bed/2.5Bath Central Park View</td>\n",
       "      <td>836168</td>\n",
       "      <td>Henry</td>\n",
       "      <td>Manhattan</td>\n",
       "      <td>Upper West Side</td>\n",
       "      <td>40.77350</td>\n",
       "      <td>-73.98697</td>\n",
       "      <td>Entire home/apt</td>\n",
       "      <td>2000</td>\n",
       "      <td>30</td>\n",
       "      <td>30</td>\n",
       "      <td>2018-05-05</td>\n",
       "      <td>0.33</td>\n",
       "      <td>11</td>\n",
       "      <td>0</td>\n",
       "    </tr>\n",
       "    <tr>\n",
       "      <th>762</th>\n",
       "      <td>273190</td>\n",
       "      <td>6 Bedroom Landmark West Village Townhouse</td>\n",
       "      <td>605463</td>\n",
       "      <td>West Village</td>\n",
       "      <td>Manhattan</td>\n",
       "      <td>West Village</td>\n",
       "      <td>40.73301</td>\n",
       "      <td>-74.00268</td>\n",
       "      <td>Entire home/apt</td>\n",
       "      <td>1300</td>\n",
       "      <td>5</td>\n",
       "      <td>28</td>\n",
       "      <td>2018-09-25</td>\n",
       "      <td>0.31</td>\n",
       "      <td>4</td>\n",
       "      <td>297</td>\n",
       "    </tr>\n",
       "    <tr>\n",
       "      <th>946</th>\n",
       "      <td>363673</td>\n",
       "      <td>Beautiful 3 bedroom in Manhattan</td>\n",
       "      <td>256239</td>\n",
       "      <td>Tracey</td>\n",
       "      <td>Manhattan</td>\n",
       "      <td>Upper West Side</td>\n",
       "      <td>40.80142</td>\n",
       "      <td>-73.96931</td>\n",
       "      <td>Private room</td>\n",
       "      <td>3000</td>\n",
       "      <td>7</td>\n",
       "      <td>0</td>\n",
       "      <td>NotReviewed</td>\n",
       "      <td>0.00</td>\n",
       "      <td>1</td>\n",
       "      <td>365</td>\n",
       "    </tr>\n",
       "    <tr>\n",
       "      <th>1105</th>\n",
       "      <td>468613</td>\n",
       "      <td>$ (Phone number hidden by Airbnb) weeks - room f</td>\n",
       "      <td>2325861</td>\n",
       "      <td>Cynthia</td>\n",
       "      <td>Manhattan</td>\n",
       "      <td>Lower East Side</td>\n",
       "      <td>40.72152</td>\n",
       "      <td>-73.99279</td>\n",
       "      <td>Private room</td>\n",
       "      <td>1300</td>\n",
       "      <td>1</td>\n",
       "      <td>0</td>\n",
       "      <td>NotReviewed</td>\n",
       "      <td>0.00</td>\n",
       "      <td>1</td>\n",
       "      <td>0</td>\n",
       "    </tr>\n",
       "    <tr>\n",
       "      <th>1480</th>\n",
       "      <td>664047</td>\n",
       "      <td>Lux 2Bed/2.5Bath Central Park Views</td>\n",
       "      <td>836168</td>\n",
       "      <td>Henry</td>\n",
       "      <td>Manhattan</td>\n",
       "      <td>Upper West Side</td>\n",
       "      <td>40.77516</td>\n",
       "      <td>-73.98573</td>\n",
       "      <td>Entire home/apt</td>\n",
       "      <td>2000</td>\n",
       "      <td>30</td>\n",
       "      <td>59</td>\n",
       "      <td>2016-01-28</td>\n",
       "      <td>0.71</td>\n",
       "      <td>11</td>\n",
       "      <td>364</td>\n",
       "    </tr>\n",
       "    <tr>\n",
       "      <th>...</th>\n",
       "      <td>...</td>\n",
       "      <td>...</td>\n",
       "      <td>...</td>\n",
       "      <td>...</td>\n",
       "      <td>...</td>\n",
       "      <td>...</td>\n",
       "      <td>...</td>\n",
       "      <td>...</td>\n",
       "      <td>...</td>\n",
       "      <td>...</td>\n",
       "      <td>...</td>\n",
       "      <td>...</td>\n",
       "      <td>...</td>\n",
       "      <td>...</td>\n",
       "      <td>...</td>\n",
       "      <td>...</td>\n",
       "    </tr>\n",
       "    <tr>\n",
       "      <th>48080</th>\n",
       "      <td>36074198</td>\n",
       "      <td>Luxury apartment 2 min to times square</td>\n",
       "      <td>203565865</td>\n",
       "      <td>Vinícius</td>\n",
       "      <td>Manhattan</td>\n",
       "      <td>SoHo</td>\n",
       "      <td>40.72060</td>\n",
       "      <td>-74.00023</td>\n",
       "      <td>Entire home/apt</td>\n",
       "      <td>1308</td>\n",
       "      <td>2</td>\n",
       "      <td>0</td>\n",
       "      <td>NotReviewed</td>\n",
       "      <td>0.00</td>\n",
       "      <td>1</td>\n",
       "      <td>179</td>\n",
       "    </tr>\n",
       "    <tr>\n",
       "      <th>48304</th>\n",
       "      <td>36189195</td>\n",
       "      <td>Next to Times Square/Javits/MSG! Amazing 1BR!</td>\n",
       "      <td>270214015</td>\n",
       "      <td>Rogelio</td>\n",
       "      <td>Manhattan</td>\n",
       "      <td>Hell's Kitchen</td>\n",
       "      <td>40.75533</td>\n",
       "      <td>-73.99866</td>\n",
       "      <td>Entire home/apt</td>\n",
       "      <td>2999</td>\n",
       "      <td>30</td>\n",
       "      <td>0</td>\n",
       "      <td>NotReviewed</td>\n",
       "      <td>0.00</td>\n",
       "      <td>1</td>\n",
       "      <td>222</td>\n",
       "    </tr>\n",
       "    <tr>\n",
       "      <th>48305</th>\n",
       "      <td>36189257</td>\n",
       "      <td>2BR Near Museum Mile! Upper East Side!</td>\n",
       "      <td>272166348</td>\n",
       "      <td>Mary Rotsen</td>\n",
       "      <td>Manhattan</td>\n",
       "      <td>Upper East Side</td>\n",
       "      <td>40.78132</td>\n",
       "      <td>-73.95262</td>\n",
       "      <td>Entire home/apt</td>\n",
       "      <td>1999</td>\n",
       "      <td>30</td>\n",
       "      <td>0</td>\n",
       "      <td>NotReviewed</td>\n",
       "      <td>0.00</td>\n",
       "      <td>1</td>\n",
       "      <td>270</td>\n",
       "    </tr>\n",
       "    <tr>\n",
       "      <th>48523</th>\n",
       "      <td>36308562</td>\n",
       "      <td>Tasteful &amp; Trendy Brooklyn Brownstone, near Train</td>\n",
       "      <td>217732163</td>\n",
       "      <td>Sandy</td>\n",
       "      <td>Brooklyn</td>\n",
       "      <td>Bedford-Stuyvesant</td>\n",
       "      <td>40.68767</td>\n",
       "      <td>-73.95805</td>\n",
       "      <td>Entire home/apt</td>\n",
       "      <td>1369</td>\n",
       "      <td>1</td>\n",
       "      <td>0</td>\n",
       "      <td>NotReviewed</td>\n",
       "      <td>0.00</td>\n",
       "      <td>1</td>\n",
       "      <td>349</td>\n",
       "    </tr>\n",
       "    <tr>\n",
       "      <th>48535</th>\n",
       "      <td>36311055</td>\n",
       "      <td>Stunning &amp; Stylish Brooklyn Luxury, near Train</td>\n",
       "      <td>245712163</td>\n",
       "      <td>Urvashi</td>\n",
       "      <td>Brooklyn</td>\n",
       "      <td>Bedford-Stuyvesant</td>\n",
       "      <td>40.68245</td>\n",
       "      <td>-73.93417</td>\n",
       "      <td>Entire home/apt</td>\n",
       "      <td>1749</td>\n",
       "      <td>1</td>\n",
       "      <td>0</td>\n",
       "      <td>NotReviewed</td>\n",
       "      <td>0.00</td>\n",
       "      <td>1</td>\n",
       "      <td>303</td>\n",
       "    </tr>\n",
       "  </tbody>\n",
       "</table>\n",
       "<p>239 rows × 16 columns</p>\n",
       "</div>"
      ],
      "text/plain": [
       "             id                                               name    host_id  \\\n",
       "496      174966              Luxury 2Bed/2.5Bath Central Park View     836168   \n",
       "762      273190          6 Bedroom Landmark West Village Townhouse     605463   \n",
       "946      363673                   Beautiful 3 bedroom in Manhattan     256239   \n",
       "1105     468613   $ (Phone number hidden by Airbnb) weeks - room f    2325861   \n",
       "1480     664047                Lux 2Bed/2.5Bath Central Park Views     836168   \n",
       "...         ...                                                ...        ...   \n",
       "48080  36074198             Luxury apartment 2 min to times square  203565865   \n",
       "48304  36189195      Next to Times Square/Javits/MSG! Amazing 1BR!  270214015   \n",
       "48305  36189257             2BR Near Museum Mile! Upper East Side!  272166348   \n",
       "48523  36308562  Tasteful & Trendy Brooklyn Brownstone, near Train  217732163   \n",
       "48535  36311055     Stunning & Stylish Brooklyn Luxury, near Train  245712163   \n",
       "\n",
       "          host_name neighbourhood_group       neighbourhood  latitude  \\\n",
       "496           Henry           Manhattan     Upper West Side  40.77350   \n",
       "762    West Village           Manhattan        West Village  40.73301   \n",
       "946          Tracey           Manhattan     Upper West Side  40.80142   \n",
       "1105        Cynthia           Manhattan     Lower East Side  40.72152   \n",
       "1480          Henry           Manhattan     Upper West Side  40.77516   \n",
       "...             ...                 ...                 ...       ...   \n",
       "48080      Vinícius           Manhattan                SoHo  40.72060   \n",
       "48304       Rogelio           Manhattan      Hell's Kitchen  40.75533   \n",
       "48305   Mary Rotsen           Manhattan     Upper East Side  40.78132   \n",
       "48523         Sandy            Brooklyn  Bedford-Stuyvesant  40.68767   \n",
       "48535       Urvashi            Brooklyn  Bedford-Stuyvesant  40.68245   \n",
       "\n",
       "       longitude        room_type  price  minimum_nights  number_of_reviews  \\\n",
       "496    -73.98697  Entire home/apt   2000              30                 30   \n",
       "762    -74.00268  Entire home/apt   1300               5                 28   \n",
       "946    -73.96931     Private room   3000               7                  0   \n",
       "1105   -73.99279     Private room   1300               1                  0   \n",
       "1480   -73.98573  Entire home/apt   2000              30                 59   \n",
       "...          ...              ...    ...             ...                ...   \n",
       "48080  -74.00023  Entire home/apt   1308               2                  0   \n",
       "48304  -73.99866  Entire home/apt   2999              30                  0   \n",
       "48305  -73.95262  Entire home/apt   1999              30                  0   \n",
       "48523  -73.95805  Entire home/apt   1369               1                  0   \n",
       "48535  -73.93417  Entire home/apt   1749               1                  0   \n",
       "\n",
       "       last_review  reviews_per_month  calculated_host_listings_count  \\\n",
       "496     2018-05-05               0.33                              11   \n",
       "762     2018-09-25               0.31                               4   \n",
       "946    NotReviewed               0.00                               1   \n",
       "1105   NotReviewed               0.00                               1   \n",
       "1480    2016-01-28               0.71                              11   \n",
       "...            ...                ...                             ...   \n",
       "48080  NotReviewed               0.00                               1   \n",
       "48304  NotReviewed               0.00                               1   \n",
       "48305  NotReviewed               0.00                               1   \n",
       "48523  NotReviewed               0.00                               1   \n",
       "48535  NotReviewed               0.00                               1   \n",
       "\n",
       "       availability_365  \n",
       "496                   0  \n",
       "762                 297  \n",
       "946                 365  \n",
       "1105                  0  \n",
       "1480                364  \n",
       "...                 ...  \n",
       "48080               179  \n",
       "48304               222  \n",
       "48305               270  \n",
       "48523               349  \n",
       "48535               303  \n",
       "\n",
       "[239 rows x 16 columns]"
      ]
     },
     "execution_count": 78,
     "metadata": {},
     "output_type": "execute_result"
    }
   ],
   "source": [
    "\n",
    "dataset[dataset[\"price\"]>1000]\n"
   ]
  },
  {
   "cell_type": "markdown",
   "metadata": {},
   "source": [
    "239 listings have price per day > 1000. These are either super lavish listings or there was an error during input. Nonetheless, since this records are skewing our data a lot, we will treat them as outliers and drop them."
   ]
  },
  {
   "cell_type": "code",
   "execution_count": 79,
   "metadata": {},
   "outputs": [],
   "source": [
    "dataset=dataset[dataset[\"price\"]<1000]"
   ]
  },
  {
   "cell_type": "code",
   "execution_count": 80,
   "metadata": {},
   "outputs": [
    {
     "data": {
      "image/png": "[encoded data removed]",
      "text/plain": [
       "<Figure size 432x288 with 1 Axes>"
      ]
     },
     "metadata": {},
     "output_type": "display_data"
    }
   ],
   "source": [
    "### We see a more Gaussian distribution here\n",
    "hist_price2=dataset[\"price\"][dataset[\"price\"]<250].hist()\n"
   ]
  },
  {
   "cell_type": "code",
   "execution_count": 81,
   "metadata": {},
   "outputs": [],
   "source": [
    "### We use 250 as threshold price \n",
    "dataset=dataset[dataset[\"price\"]<250]"
   ]
  },
  {
   "cell_type": "code",
   "execution_count": 82,
   "metadata": {},
   "outputs": [
    {
     "data": {
      "text/plain": [
       "count    42669.000000\n",
       "mean       107.897748\n",
       "std         53.803457\n",
       "min          0.000000\n",
       "25%         65.000000\n",
       "50%         99.000000\n",
       "75%        150.000000\n",
       "max        249.000000\n",
       "Name: price, dtype: float64"
      ]
     },
     "execution_count": 82,
     "metadata": {},
     "output_type": "execute_result"
    }
   ],
   "source": [
    "### Looking at the price column again\n",
    "dataset[\"price\"].describe()\n"
   ]
  },
  {
   "cell_type": "markdown",
   "metadata": {},
   "source": [
    "We see that the average price is 107. Price varies between 0 to 249"
   ]
  },
  {
   "cell_type": "code",
   "execution_count": 83,
   "metadata": {},
   "outputs": [
    {
     "data": {
      "text/plain": [
       "Bedford-Stuyvesant    3560\n",
       "Williamsburg          3451\n",
       "Harlem                2487\n",
       "Bushwick              2404\n",
       "Upper West Side       1570\n",
       "                      ... \n",
       "New Dorp                 1\n",
       "Rossville                1\n",
       "Neponsit                 1\n",
       "Willowbrook              1\n",
       "Richmondtown             1\n",
       "Name: neighbourhood, Length: 219, dtype: int64"
      ]
     },
     "execution_count": 83,
     "metadata": {},
     "output_type": "execute_result"
    }
   ],
   "source": [
    "###There are 221 unique neighbourhoods in NYC as per this data set. Most listings are in Williamsburg\n",
    "dataset['neighbourhood'].value_counts()"
   ]
  },
  {
   "cell_type": "code",
   "execution_count": 84,
   "metadata": {},
   "outputs": [],
   "source": [
    "### Count how many neighbourhoods appear more than 200\n",
    "dfnh =dataset.groupby(\"neighbourhood\").filter(lambda x: x['neighbourhood'].count() > 200)\n"
   ]
  },
  {
   "cell_type": "code",
   "execution_count": 85,
   "metadata": {},
   "outputs": [
    {
     "data": {
      "text/plain": [
       "36106"
      ]
     },
     "execution_count": 85,
     "metadata": {},
     "output_type": "execute_result"
    }
   ],
   "source": [
    "### Most data is covered. \n",
    "len(dfnh[\"neighbourhood\"])"
   ]
  },
  {
   "cell_type": "code",
   "execution_count": 86,
   "metadata": {},
   "outputs": [
    {
     "data": {
      "text/plain": [
       "5"
      ]
     },
     "execution_count": 86,
     "metadata": {},
     "output_type": "execute_result"
    }
   ],
   "source": [
    "### Count how many neighbourhoods appear only once\n",
    "dfnh =dataset.groupby(\"neighbourhood\").filter(lambda x: x['neighbourhood'].count() == 1)\n",
    "len(dfnh[\"neighbourhood\"])"
   ]
  },
  {
   "cell_type": "code",
   "execution_count": 87,
   "metadata": {},
   "outputs": [
    {
     "data": {
      "text/plain": [
       "Brooklyn         18581\n",
       "Manhattan        17270\n",
       "Queens            5413\n",
       "Bronx             1052\n",
       "Staten Island      353\n",
       "Name: neighbourhood_group, dtype: int64"
      ]
     },
     "execution_count": 87,
     "metadata": {},
     "output_type": "execute_result"
    }
   ],
   "source": [
    "###Lets look at neighbourhood groups\n",
    "dataset['neighbourhood_group'].value_counts()\n"
   ]
  },
  {
   "cell_type": "markdown",
   "metadata": {},
   "source": [
    "There are five major neighbourhood groups in NYC with Manhattan and Brooklyn accounting for 85% of the listings"
   ]
  },
  {
   "cell_type": "code",
   "execution_count": 88,
   "metadata": {},
   "outputs": [],
   "source": [
    "### Lets see the average listing price by neighbourhood group\n",
    "ng_price=dataset.groupby(\"neighbourhood_group\")[\"price\"].mean()"
   ]
  },
  {
   "cell_type": "code",
   "execution_count": 89,
   "metadata": {},
   "outputs": [
    {
     "data": {
      "text/plain": [
       "neighbourhood_group\n",
       "Bronx             73.796578\n",
       "Brooklyn          98.068134\n",
       "Manhattan        128.670990\n",
       "Queens            83.639941\n",
       "Staten Island     82.606232\n",
       "Name: price, dtype: float64"
      ]
     },
     "execution_count": 89,
     "metadata": {},
     "output_type": "execute_result"
    }
   ],
   "source": [
    "### Manhattan is most expensive and Bronx is the least expensive place to live\n",
    "ng_price"
   ]
  },
  {
   "cell_type": "code",
   "execution_count": 90,
   "metadata": {},
   "outputs": [],
   "source": [
    "### Lets see the distributuion of price and neighbourhood group. \n",
    "# plott=sns.catplot(x=\"neighbourhood_group\",y=\"price\",hue=\"room_type\", kind=\"swarm\", data=dataset)\n",
    "# plott\n"
   ]
  },
  {
   "cell_type": "markdown",
   "metadata": {},
   "source": [
    "Here we can note that Brooklyn and Manhattan tend to have more listings with price>150.\n",
    "We also note thar most listings above price>100 are entire home type followed by private room and shared room which is the cheapest."
   ]
  },
  {
   "cell_type": "code",
   "execution_count": 91,
   "metadata": {},
   "outputs": [
    {
     "data": {
      "text/plain": [
       "<pandas.core.groupby.generic.DataFrameGroupBy object at 0x00000222C88BB9B0>"
      ]
     },
     "execution_count": 91,
     "metadata": {},
     "output_type": "execute_result"
    }
   ],
   "source": [
    "### Checking if there are duplicate host_ids and whats is the maximum number of listings per host_id\n",
    "df = dataset.groupby([\"host_id\"])\n",
    "# max(df.size())\n",
    "df"
   ]
  },
  {
   "cell_type": "code",
   "execution_count": 92,
   "metadata": {},
   "outputs": [
    {
     "data": {
      "text/plain": [
       "1    28391\n",
       "2     2993\n",
       "3      844\n",
       "4      302\n",
       "5      151\n",
       "dtype: int64"
      ]
     },
     "execution_count": 92,
     "metadata": {},
     "output_type": "execute_result"
    }
   ],
   "source": [
    "## Here we can see that 32K host_ids are unique appearing only once whereas some host_ids appear as much as 238 times\n",
    "df.size().value_counts().head()"
   ]
  },
  {
   "cell_type": "code",
   "execution_count": 93,
   "metadata": {},
   "outputs": [
    {
     "data": {
      "text/plain": [
       "45     1\n",
       "30     1\n",
       "238    1\n",
       "16     1\n",
       "87     1\n",
       "dtype: int64"
      ]
     },
     "execution_count": 93,
     "metadata": {},
     "output_type": "execute_result"
    }
   ],
   "source": [
    "df.size().value_counts().tail()"
   ]
  },
  {
   "cell_type": "code",
   "execution_count": 94,
   "metadata": {},
   "outputs": [
    {
     "data": {
      "text/plain": [
       "219517861"
      ]
     },
     "execution_count": 94,
     "metadata": {},
     "output_type": "execute_result"
    }
   ],
   "source": [
    "### Finding the host_id with maximum listings\n",
    "host_id_counts = dataset[\"host_id\"].value_counts()\n",
    "max_host = host_id_counts.idxmax()\n",
    "max_host"
   ]
  },
  {
   "cell_type": "code",
   "execution_count": 95,
   "metadata": {},
   "outputs": [
    {
     "data": {
      "text/html": [
       "<div>\n",
       "<style scoped>\n",
       "    .dataframe tbody tr th:only-of-type {\n",
       "        vertical-align: middle;\n",
       "    }\n",
       "\n",
       "    .dataframe tbody tr th {\n",
       "        vertical-align: top;\n",
       "    }\n",
       "\n",
       "    .dataframe thead th {\n",
       "        text-align: right;\n",
       "    }\n",
       "</style>\n",
       "<table border=\"1\" class=\"dataframe\">\n",
       "  <thead>\n",
       "    <tr style=\"text-align: right;\">\n",
       "      <th></th>\n",
       "      <th>id</th>\n",
       "      <th>name</th>\n",
       "      <th>host_id</th>\n",
       "      <th>host_name</th>\n",
       "      <th>neighbourhood_group</th>\n",
       "      <th>neighbourhood</th>\n",
       "      <th>latitude</th>\n",
       "      <th>longitude</th>\n",
       "      <th>room_type</th>\n",
       "      <th>price</th>\n",
       "      <th>minimum_nights</th>\n",
       "      <th>number_of_reviews</th>\n",
       "      <th>last_review</th>\n",
       "      <th>reviews_per_month</th>\n",
       "      <th>calculated_host_listings_count</th>\n",
       "      <th>availability_365</th>\n",
       "    </tr>\n",
       "  </thead>\n",
       "  <tbody>\n",
       "    <tr>\n",
       "      <th>38294</th>\n",
       "      <td>30181945</td>\n",
       "      <td>Sonder | 180 Water | Premier 1BR + Rooftop</td>\n",
       "      <td>219517861</td>\n",
       "      <td>Sonder (NYC)</td>\n",
       "      <td>Manhattan</td>\n",
       "      <td>Financial District</td>\n",
       "      <td>40.70771</td>\n",
       "      <td>-74.00641</td>\n",
       "      <td>Entire home/apt</td>\n",
       "      <td>229</td>\n",
       "      <td>29</td>\n",
       "      <td>1</td>\n",
       "      <td>2019-05-29</td>\n",
       "      <td>0.73</td>\n",
       "      <td>327</td>\n",
       "      <td>219</td>\n",
       "    </tr>\n",
       "    <tr>\n",
       "      <th>38588</th>\n",
       "      <td>30347708</td>\n",
       "      <td>Sonder | 180 Water | Charming 1BR + Rooftop</td>\n",
       "      <td>219517861</td>\n",
       "      <td>Sonder (NYC)</td>\n",
       "      <td>Manhattan</td>\n",
       "      <td>Financial District</td>\n",
       "      <td>40.70743</td>\n",
       "      <td>-74.00443</td>\n",
       "      <td>Entire home/apt</td>\n",
       "      <td>232</td>\n",
       "      <td>29</td>\n",
       "      <td>1</td>\n",
       "      <td>2019-05-21</td>\n",
       "      <td>0.60</td>\n",
       "      <td>327</td>\n",
       "      <td>159</td>\n",
       "    </tr>\n",
       "    <tr>\n",
       "      <th>39771</th>\n",
       "      <td>30937594</td>\n",
       "      <td>Sonder | The Nash | Brilliant Studio + Rooftop</td>\n",
       "      <td>219517861</td>\n",
       "      <td>Sonder (NYC)</td>\n",
       "      <td>Manhattan</td>\n",
       "      <td>Murray Hill</td>\n",
       "      <td>40.74845</td>\n",
       "      <td>-73.97446</td>\n",
       "      <td>Entire home/apt</td>\n",
       "      <td>245</td>\n",
       "      <td>2</td>\n",
       "      <td>4</td>\n",
       "      <td>2019-06-08</td>\n",
       "      <td>0.94</td>\n",
       "      <td>327</td>\n",
       "      <td>137</td>\n",
       "    </tr>\n",
       "    <tr>\n",
       "      <th>39772</th>\n",
       "      <td>30937595</td>\n",
       "      <td>Sonder | 11th Ave | Bright 1BR + Gym</td>\n",
       "      <td>219517861</td>\n",
       "      <td>Sonder (NYC)</td>\n",
       "      <td>Manhattan</td>\n",
       "      <td>Hell's Kitchen</td>\n",
       "      <td>40.76188</td>\n",
       "      <td>-73.99616</td>\n",
       "      <td>Entire home/apt</td>\n",
       "      <td>185</td>\n",
       "      <td>29</td>\n",
       "      <td>1</td>\n",
       "      <td>2019-06-20</td>\n",
       "      <td>1.00</td>\n",
       "      <td>327</td>\n",
       "      <td>281</td>\n",
       "    </tr>\n",
       "    <tr>\n",
       "      <th>39773</th>\n",
       "      <td>30937596</td>\n",
       "      <td>Sonder | 11th Ave | Contemporary 1BR + Gym</td>\n",
       "      <td>219517861</td>\n",
       "      <td>Sonder (NYC)</td>\n",
       "      <td>Manhattan</td>\n",
       "      <td>Hell's Kitchen</td>\n",
       "      <td>40.76037</td>\n",
       "      <td>-73.99744</td>\n",
       "      <td>Entire home/apt</td>\n",
       "      <td>185</td>\n",
       "      <td>29</td>\n",
       "      <td>1</td>\n",
       "      <td>2019-06-10</td>\n",
       "      <td>1.00</td>\n",
       "      <td>327</td>\n",
       "      <td>332</td>\n",
       "    </tr>\n",
       "    <tr>\n",
       "      <th>...</th>\n",
       "      <td>...</td>\n",
       "      <td>...</td>\n",
       "      <td>...</td>\n",
       "      <td>...</td>\n",
       "      <td>...</td>\n",
       "      <td>...</td>\n",
       "      <td>...</td>\n",
       "      <td>...</td>\n",
       "      <td>...</td>\n",
       "      <td>...</td>\n",
       "      <td>...</td>\n",
       "      <td>...</td>\n",
       "      <td>...</td>\n",
       "      <td>...</td>\n",
       "      <td>...</td>\n",
       "      <td>...</td>\n",
       "    </tr>\n",
       "    <tr>\n",
       "      <th>47686</th>\n",
       "      <td>35869234</td>\n",
       "      <td>Sonder | 116 John | Classic 1BR + Gym</td>\n",
       "      <td>219517861</td>\n",
       "      <td>Sonder (NYC)</td>\n",
       "      <td>Manhattan</td>\n",
       "      <td>Financial District</td>\n",
       "      <td>40.70852</td>\n",
       "      <td>-74.00510</td>\n",
       "      <td>Entire home/apt</td>\n",
       "      <td>198</td>\n",
       "      <td>29</td>\n",
       "      <td>0</td>\n",
       "      <td>NotReviewed</td>\n",
       "      <td>0.00</td>\n",
       "      <td>327</td>\n",
       "      <td>345</td>\n",
       "    </tr>\n",
       "    <tr>\n",
       "      <th>47687</th>\n",
       "      <td>35869466</td>\n",
       "      <td>Sonder | 116 John | Classic Studio + Gym</td>\n",
       "      <td>219517861</td>\n",
       "      <td>Sonder (NYC)</td>\n",
       "      <td>Manhattan</td>\n",
       "      <td>Financial District</td>\n",
       "      <td>40.70802</td>\n",
       "      <td>-74.00642</td>\n",
       "      <td>Entire home/apt</td>\n",
       "      <td>180</td>\n",
       "      <td>29</td>\n",
       "      <td>0</td>\n",
       "      <td>NotReviewed</td>\n",
       "      <td>0.00</td>\n",
       "      <td>327</td>\n",
       "      <td>338</td>\n",
       "    </tr>\n",
       "    <tr>\n",
       "      <th>47691</th>\n",
       "      <td>35871510</td>\n",
       "      <td>Sonder | 116 John | Vibrant Studio + Fitness Room</td>\n",
       "      <td>219517861</td>\n",
       "      <td>Sonder (NYC)</td>\n",
       "      <td>Manhattan</td>\n",
       "      <td>Financial District</td>\n",
       "      <td>40.70818</td>\n",
       "      <td>-74.00631</td>\n",
       "      <td>Entire home/apt</td>\n",
       "      <td>135</td>\n",
       "      <td>29</td>\n",
       "      <td>0</td>\n",
       "      <td>NotReviewed</td>\n",
       "      <td>0.00</td>\n",
       "      <td>327</td>\n",
       "      <td>339</td>\n",
       "    </tr>\n",
       "    <tr>\n",
       "      <th>47692</th>\n",
       "      <td>35871511</td>\n",
       "      <td>Sonder | 116 John | Vibrant 1BR + Fitness Room</td>\n",
       "      <td>219517861</td>\n",
       "      <td>Sonder (NYC)</td>\n",
       "      <td>Manhattan</td>\n",
       "      <td>Financial District</td>\n",
       "      <td>40.70691</td>\n",
       "      <td>-74.00682</td>\n",
       "      <td>Entire home/apt</td>\n",
       "      <td>165</td>\n",
       "      <td>29</td>\n",
       "      <td>0</td>\n",
       "      <td>NotReviewed</td>\n",
       "      <td>0.00</td>\n",
       "      <td>327</td>\n",
       "      <td>342</td>\n",
       "    </tr>\n",
       "    <tr>\n",
       "      <th>47693</th>\n",
       "      <td>35871515</td>\n",
       "      <td>Sonder | 116 John | Stunning 1BR + Rooftop</td>\n",
       "      <td>219517861</td>\n",
       "      <td>Sonder (NYC)</td>\n",
       "      <td>Manhattan</td>\n",
       "      <td>Financial District</td>\n",
       "      <td>40.70772</td>\n",
       "      <td>-74.00673</td>\n",
       "      <td>Entire home/apt</td>\n",
       "      <td>165</td>\n",
       "      <td>29</td>\n",
       "      <td>0</td>\n",
       "      <td>NotReviewed</td>\n",
       "      <td>0.00</td>\n",
       "      <td>327</td>\n",
       "      <td>347</td>\n",
       "    </tr>\n",
       "  </tbody>\n",
       "</table>\n",
       "<p>238 rows × 16 columns</p>\n",
       "</div>"
      ],
      "text/plain": [
       "             id                                               name    host_id  \\\n",
       "38294  30181945         Sonder | 180 Water | Premier 1BR + Rooftop  219517861   \n",
       "38588  30347708        Sonder | 180 Water | Charming 1BR + Rooftop  219517861   \n",
       "39771  30937594     Sonder | The Nash | Brilliant Studio + Rooftop  219517861   \n",
       "39772  30937595               Sonder | 11th Ave | Bright 1BR + Gym  219517861   \n",
       "39773  30937596         Sonder | 11th Ave | Contemporary 1BR + Gym  219517861   \n",
       "...         ...                                                ...        ...   \n",
       "47686  35869234              Sonder | 116 John | Classic 1BR + Gym  219517861   \n",
       "47687  35869466           Sonder | 116 John | Classic Studio + Gym  219517861   \n",
       "47691  35871510  Sonder | 116 John | Vibrant Studio + Fitness Room  219517861   \n",
       "47692  35871511     Sonder | 116 John | Vibrant 1BR + Fitness Room  219517861   \n",
       "47693  35871515         Sonder | 116 John | Stunning 1BR + Rooftop  219517861   \n",
       "\n",
       "          host_name neighbourhood_group       neighbourhood  latitude  \\\n",
       "38294  Sonder (NYC)           Manhattan  Financial District  40.70771   \n",
       "38588  Sonder (NYC)           Manhattan  Financial District  40.70743   \n",
       "39771  Sonder (NYC)           Manhattan         Murray Hill  40.74845   \n",
       "39772  Sonder (NYC)           Manhattan      Hell's Kitchen  40.76188   \n",
       "39773  Sonder (NYC)           Manhattan      Hell's Kitchen  40.76037   \n",
       "...             ...                 ...                 ...       ...   \n",
       "47686  Sonder (NYC)           Manhattan  Financial District  40.70852   \n",
       "47687  Sonder (NYC)           Manhattan  Financial District  40.70802   \n",
       "47691  Sonder (NYC)           Manhattan  Financial District  40.70818   \n",
       "47692  Sonder (NYC)           Manhattan  Financial District  40.70691   \n",
       "47693  Sonder (NYC)           Manhattan  Financial District  40.70772   \n",
       "\n",
       "       longitude        room_type  price  minimum_nights  number_of_reviews  \\\n",
       "38294  -74.00641  Entire home/apt    229              29                  1   \n",
       "38588  -74.00443  Entire home/apt    232              29                  1   \n",
       "39771  -73.97446  Entire home/apt    245               2                  4   \n",
       "39772  -73.99616  Entire home/apt    185              29                  1   \n",
       "39773  -73.99744  Entire home/apt    185              29                  1   \n",
       "...          ...              ...    ...             ...                ...   \n",
       "47686  -74.00510  Entire home/apt    198              29                  0   \n",
       "47687  -74.00642  Entire home/apt    180              29                  0   \n",
       "47691  -74.00631  Entire home/apt    135              29                  0   \n",
       "47692  -74.00682  Entire home/apt    165              29                  0   \n",
       "47693  -74.00673  Entire home/apt    165              29                  0   \n",
       "\n",
       "       last_review  reviews_per_month  calculated_host_listings_count  \\\n",
       "38294   2019-05-29               0.73                             327   \n",
       "38588   2019-05-21               0.60                             327   \n",
       "39771   2019-06-08               0.94                             327   \n",
       "39772   2019-06-20               1.00                             327   \n",
       "39773   2019-06-10               1.00                             327   \n",
       "...            ...                ...                             ...   \n",
       "47686  NotReviewed               0.00                             327   \n",
       "47687  NotReviewed               0.00                             327   \n",
       "47691  NotReviewed               0.00                             327   \n",
       "47692  NotReviewed               0.00                             327   \n",
       "47693  NotReviewed               0.00                             327   \n",
       "\n",
       "       availability_365  \n",
       "38294               219  \n",
       "38588               159  \n",
       "39771               137  \n",
       "39772               281  \n",
       "39773               332  \n",
       "...                 ...  \n",
       "47686               345  \n",
       "47687               338  \n",
       "47691               339  \n",
       "47692               342  \n",
       "47693               347  \n",
       "\n",
       "[238 rows x 16 columns]"
      ]
     },
     "execution_count": 95,
     "metadata": {},
     "output_type": "execute_result"
    }
   ],
   "source": [
    "###We see that Sonder(NYC) has the max number of listings\n",
    "dataset[dataset[\"host_id\"]==219517861]"
   ]
  },
  {
   "cell_type": "markdown",
   "metadata": {},
   "source": [
    "Listing id and Host name are not useful for our analysis so I will drop them"
   ]
  },
  {
   "cell_type": "code",
   "execution_count": 96,
   "metadata": {},
   "outputs": [],
   "source": [
    "\n",
    "dataset = dataset.drop(columns = [\"id\",\"host_name\"])"
   ]
  },
  {
   "cell_type": "code",
   "execution_count": 97,
   "metadata": {},
   "outputs": [],
   "source": [
    "### Let's Analyse the listing name column\n",
    "dataset[\"name_length\"]=dataset['name'].map(str).apply(len)\n"
   ]
  },
  {
   "cell_type": "code",
   "execution_count": 98,
   "metadata": {},
   "outputs": [
    {
     "name": "stdout",
     "output_type": "stream",
     "text": [
      "179\n",
      "1\n",
      "25832\n",
      "4033\n"
     ]
    }
   ],
   "source": [
    "###Max and Min name length\n",
    "print(dataset[\"name_length\"].max())\n",
    "print(dataset[\"name_length\"].min())\n",
    "print(dataset[\"name_length\"].idxmax())\n",
    "print(dataset[\"name_length\"].idxmin())\n"
   ]
  },
  {
   "cell_type": "code",
   "execution_count": 99,
   "metadata": {},
   "outputs": [
    {
     "data": {
      "text/plain": [
       "'The printing studio bedroom with garden in Bedstuy  !!Brooklyn. Historic neighborhood close to everything ! Full kitchen bathroom BBQ and porch at your disposal. Learn to print !!'"
      ]
     },
     "execution_count": 99,
     "metadata": {},
     "output_type": "execute_result"
    }
   ],
   "source": [
    "### Max name \n",
    "dataset.at[25832, 'name']"
   ]
  },
  {
   "cell_type": "code",
   "execution_count": 100,
   "metadata": {},
   "outputs": [
    {
     "data": {
      "text/plain": [
       "'/'"
      ]
     },
     "execution_count": 100,
     "metadata": {},
     "output_type": "execute_result"
    }
   ],
   "source": [
    "###Min name\n",
    "dataset.at[4033, 'name']"
   ]
  },
  {
   "cell_type": "code",
   "execution_count": 101,
   "metadata": {},
   "outputs": [
    {
     "name": "stderr",
     "output_type": "stream",
     "text": [
      "'c' argument looks like a single numeric RGB or RGBA sequence, which should be avoided as value-mapping will have precedence in case its length matches with 'x' & 'y'.  Please use a 2-D array with a single row if you really want to specify the same RGB or RGBA value for all points.\n"
     ]
    },
    {
     "data": {
      "text/plain": [
       "<matplotlib.axes._subplots.AxesSubplot at 0x222c71fbb70>"
      ]
     },
     "execution_count": 101,
     "metadata": {},
     "output_type": "execute_result"
    },
    {
     "data": {
      "image/png": "[encoded data removed]",
      "text/plain": [
       "<Figure size 432x288 with 1 Axes>"
      ]
     },
     "metadata": {},
     "output_type": "display_data"
    }
   ],
   "source": [
    "### Let's figure if name length has an impact on how much it is noticed. We can assume higher number of reviews mean more people lived there and hence more people \"noticed\" the listing\n",
    "#dataset[\"name_length\"].corr(dataset[\"number_of_reviews\"])\n",
    "dataset.plot.scatter(x=\"name_length\", y =\"number_of_reviews\" )"
   ]
  },
  {
   "cell_type": "code",
   "execution_count": 102,
   "metadata": {},
   "outputs": [
    {
     "name": "stderr",
     "output_type": "stream",
     "text": [
      "'c' argument looks like a single numeric RGB or RGBA sequence, which should be avoided as value-mapping will have precedence in case its length matches with 'x' & 'y'.  Please use a 2-D array with a single row if you really want to specify the same RGB or RGBA value for all points.\n"
     ]
    },
    {
     "data": {
      "text/plain": [
       "<matplotlib.axes._subplots.AxesSubplot at 0x222c7795ba8>"
      ]
     },
     "execution_count": 102,
     "metadata": {},
     "output_type": "execute_result"
    },
    {
     "data": {
      "image/png": "[encoded data removed]",
      "text/plain": [
       "<Figure size 432x288 with 1 Axes>"
      ]
     },
     "metadata": {},
     "output_type": "display_data"
    }
   ],
   "source": [
    "###There is hardly any relationship there. Lets try between price and name length \n",
    "dataset[dataset[\"name_length\"]<50].plot.scatter(x=\"price\", y =\"name_length\")\n",
    "#dataset[\"name_length\"].corr(dataset[\"price\"])"
   ]
  },
  {
   "cell_type": "code",
   "execution_count": 103,
   "metadata": {},
   "outputs": [
    {
     "data": {
      "text/plain": [
       "<matplotlib.axes._subplots.AxesSubplot at 0x222c77f6278>"
      ]
     },
     "execution_count": 103,
     "metadata": {},
     "output_type": "execute_result"
    },
    {
     "data": {
      "image/png": "[encoded data removed]",
      "text/plain": [
       "<Figure size 432x288 with 1 Axes>"
      ]
     },
     "metadata": {},
     "output_type": "display_data"
    }
   ],
   "source": [
    "dataset.name_length.hist()"
   ]
  },
  {
   "cell_type": "code",
   "execution_count": 104,
   "metadata": {},
   "outputs": [
    {
     "data": {
      "text/plain": [
       "Private room       21753\n",
       "Entire home/apt    19790\n",
       "Shared room         1126\n",
       "Name: room_type, dtype: int64"
      ]
     },
     "execution_count": 104,
     "metadata": {},
     "output_type": "execute_result"
    }
   ],
   "source": [
    "### Lets look at room_type variable\n",
    "dataset['room_type'].value_counts()\n",
    "### Most listings are either Entire home or Private room"
   ]
  },
  {
   "cell_type": "code",
   "execution_count": 105,
   "metadata": {},
   "outputs": [],
   "source": [
    "### Average price per room_type\n",
    "rt_price = dataset.groupby(\"room_type\")[\"price\"].mean()"
   ]
  },
  {
   "cell_type": "code",
   "execution_count": 106,
   "metadata": {},
   "outputs": [
    {
     "data": {
      "text/plain": [
       "room_type\n",
       "Entire home/apt    144.977211\n",
       "Private room        76.802832\n",
       "Shared room         56.925400\n",
       "Name: price, dtype: float64"
      ]
     },
     "execution_count": 106,
     "metadata": {},
     "output_type": "execute_result"
    }
   ],
   "source": [
    "### Entire room has the highest price and shared room has lowest avg price which makes sense.\n",
    "rt_price"
   ]
  },
  {
   "cell_type": "code",
   "execution_count": 107,
   "metadata": {},
   "outputs": [
    {
     "data": {
      "text/plain": [
       "count    42669.000000\n",
       "mean         6.856359\n",
       "std         19.981924\n",
       "min          1.000000\n",
       "25%          1.000000\n",
       "50%          2.000000\n",
       "75%          5.000000\n",
       "max       1250.000000\n",
       "Name: minimum_nights, dtype: float64"
      ]
     },
     "execution_count": 107,
     "metadata": {},
     "output_type": "execute_result"
    }
   ],
   "source": [
    "### Analysing minimum nights\n",
    "\n",
    "dataset[\"minimum_nights\"].describe()"
   ]
  },
  {
   "cell_type": "markdown",
   "metadata": {},
   "source": [
    "Again, range is between 1 night to 1250 nights. Quite odd, lets investigate"
   ]
  },
  {
   "cell_type": "code",
   "execution_count": 108,
   "metadata": {},
   "outputs": [
    {
     "data": {
      "text/plain": [
       "<matplotlib.axes._subplots.AxesSubplot at 0x222c8588ac8>"
      ]
     },
     "execution_count": 108,
     "metadata": {},
     "output_type": "execute_result"
    },
    {
     "data": {
      "image/png": "[encoded data removed]",
      "text/plain": [
       "<Figure size 432x288 with 1 Axes>"
      ]
     },
     "metadata": {},
     "output_type": "display_data"
    }
   ],
   "source": [
    "### Analysing minimum nights\n",
    "### We see most values are between 1 to 100\n",
    "hist_mn=dataset[\"minimum_nights\"].hist()\n",
    "hist_mn"
   ]
  },
  {
   "cell_type": "code",
   "execution_count": 109,
   "metadata": {},
   "outputs": [
    {
     "data": {
      "text/plain": [
       "<matplotlib.axes._subplots.AxesSubplot at 0x222c85f9898>"
      ]
     },
     "execution_count": 109,
     "metadata": {},
     "output_type": "execute_result"
    },
    {
     "data": {
      "image/png": "[encoded data removed]",
      "text/plain": [
       "<Figure size 432x288 with 1 Axes>"
      ]
     },
     "metadata": {},
     "output_type": "display_data"
    }
   ],
   "source": [
    "### Closer look\n",
    "hist_mn1=dataset[\"minimum_nights\"][dataset[\"minimum_nights\"]<10].hist()\n",
    "hist_mn1"
   ]
  },
  {
   "cell_type": "code",
   "execution_count": 110,
   "metadata": {},
   "outputs": [
    {
     "data": {
      "text/plain": [
       "6         45\n",
       "14        90\n",
       "36        60\n",
       "81        31\n",
       "106       90\n",
       "        ... \n",
       "48312     90\n",
       "48325     60\n",
       "48368     60\n",
       "48446    365\n",
       "48752     32\n",
       "Name: minimum_nights, Length: 628, dtype: int64"
      ]
     },
     "execution_count": 110,
     "metadata": {},
     "output_type": "execute_result"
    }
   ],
   "source": [
    "dataset[\"minimum_nights\"][dataset[\"minimum_nights\"]>30]"
   ]
  },
  {
   "cell_type": "code",
   "execution_count": 111,
   "metadata": {},
   "outputs": [],
   "source": [
    "### We replace all records with min nights > 30 by 30\n",
    "dataset.loc[(dataset.minimum_nights >30),\"minimum_nights\"]=30\n"
   ]
  },
  {
   "cell_type": "code",
   "execution_count": 112,
   "metadata": {},
   "outputs": [
    {
     "data": {
      "text/plain": [
       "<matplotlib.axes._subplots.AxesSubplot at 0x222b0158518>"
      ]
     },
     "execution_count": 112,
     "metadata": {},
     "output_type": "execute_result"
    },
    {
     "data": {
      "image/png": "[encoded data removed]",
      "text/plain": [
       "<Figure size 432x288 with 1 Axes>"
      ]
     },
     "metadata": {},
     "output_type": "display_data"
    }
   ],
   "source": [
    "hist_mn2=dataset[\"minimum_nights\"][dataset[\"minimum_nights\"]<30].hist()\n",
    "hist_mn2"
   ]
  },
  {
   "cell_type": "code",
   "execution_count": 113,
   "metadata": {},
   "outputs": [
    {
     "data": {
      "text/plain": [
       "0.059554361719124295"
      ]
     },
     "execution_count": 113,
     "metadata": {},
     "output_type": "execute_result"
    }
   ],
   "source": [
    "### Does minimum_nights have impact on price?\n",
    "dataset[\"minimum_nights\"].corr(dataset[\"price\"])"
   ]
  },
  {
   "cell_type": "code",
   "execution_count": 114,
   "metadata": {},
   "outputs": [
    {
     "data": {
      "text/plain": [
       "count    42669.000000\n",
       "mean       107.622747\n",
       "std        129.731981\n",
       "min          0.000000\n",
       "25%          0.000000\n",
       "50%         37.000000\n",
       "75%        211.000000\n",
       "max        365.000000\n",
       "Name: availability_365, dtype: float64"
      ]
     },
     "execution_count": 114,
     "metadata": {},
     "output_type": "execute_result"
    }
   ],
   "source": [
    "###Finally lets analyse availability_365 column\n",
    "dataset[\"availability_365\"].describe()"
   ]
  },
  {
   "cell_type": "code",
   "execution_count": 115,
   "metadata": {},
   "outputs": [
    {
     "data": {
      "text/plain": [
       "<matplotlib.axes._subplots.AxesSubplot at 0x222af40e780>"
      ]
     },
     "execution_count": 115,
     "metadata": {},
     "output_type": "execute_result"
    },
    {
     "data": {
      "image/png": "[encoded data removed]",
      "text/plain": [
       "<Figure size 432x288 with 1 Axes>"
      ]
     },
     "metadata": {},
     "output_type": "display_data"
    }
   ],
   "source": [
    "hist_av=dataset[\"availability_365\"].hist()\n",
    "hist_av"
   ]
  },
  {
   "cell_type": "code",
   "execution_count": 116,
   "metadata": {},
   "outputs": [],
   "source": [
    "### After analysis, I have decided to drop these columns as they will not be useful in prediction\n",
    "dataset.drop([\"name\",'last_review',\"latitude\",'longitude'], axis=1, inplace=True)"
   ]
  },
  {
   "cell_type": "code",
   "execution_count": 117,
   "metadata": {},
   "outputs": [],
   "source": [
    "### Dropping host_id\n",
    "dataset.drop([\"host_id\"], axis=1, inplace=True)"
   ]
  },
  {
   "cell_type": "code",
   "execution_count": 118,
   "metadata": {},
   "outputs": [
    {
     "data": {
      "text/plain": [
       "Index(['neighbourhood_group', 'neighbourhood', 'room_type', 'price',\n",
       "       'minimum_nights', 'number_of_reviews', 'reviews_per_month',\n",
       "       'calculated_host_listings_count', 'availability_365', 'name_length'],\n",
       "      dtype='object')"
      ]
     },
     "execution_count": 118,
     "metadata": {},
     "output_type": "execute_result"
    },
    {
     "data": {
      "image/png": "[encoded data removed]",
      "text/plain": [
       "<Figure size 1080x576 with 2 Axes>"
      ]
     },
     "metadata": {},
     "output_type": "display_data"
    }
   ],
   "source": [
    "### Plotting correlation matrix \n",
    "corr = dataset.corr(method='pearson')\n",
    "plt.figure(figsize=(15,8))\n",
    "sns.heatmap(corr, annot=True)\n",
    "dataset.columns"
   ]
  },
  {
   "cell_type": "code",
   "execution_count": 119,
   "metadata": {},
   "outputs": [
    {
     "data": {
      "text/plain": [
       "neighbourhood_group                object\n",
       "neighbourhood                      object\n",
       "room_type                          object\n",
       "price                               int64\n",
       "minimum_nights                      int64\n",
       "number_of_reviews                   int64\n",
       "reviews_per_month                 float64\n",
       "calculated_host_listings_count      int64\n",
       "availability_365                    int64\n",
       "name_length                         int64\n",
       "dtype: object"
      ]
     },
     "execution_count": 119,
     "metadata": {},
     "output_type": "execute_result"
    }
   ],
   "source": [
    "### Lets check out data one more time before beginning prediction. \n",
    "###Looks good!\n",
    "dataset.dtypes"
   ]
  },
  {
   "cell_type": "markdown",
   "metadata": {},
   "source": [
    "## Let us start with basic Linear Regression to create a base line model "
   ]
  },
  {
   "cell_type": "markdown",
   "metadata": {},
   "source": [
    "Making dummies for neighbourhood group and room_type"
   ]
  },
  {
   "cell_type": "code",
   "execution_count": 120,
   "metadata": {},
   "outputs": [],
   "source": [
    "## lets try without neighbourhood column\n",
    "\n",
    "dataset_onehot1 = pd.get_dummies(dataset, columns=['neighbourhood_group',\"room_type\"], prefix = ['ng',\"rt\"],drop_first=True)\n",
    "dataset_onehot1.drop([\"neighbourhood\"], axis=1, inplace=True)\n"
   ]
  },
  {
   "cell_type": "code",
   "execution_count": 121,
   "metadata": {},
   "outputs": [
    {
     "data": {
      "text/plain": [
       "(42669, 13)"
      ]
     },
     "execution_count": 121,
     "metadata": {},
     "output_type": "execute_result"
    }
   ],
   "source": [
    "### Checking dataframe shape\n",
    "dataset_onehot1.shape"
   ]
  },
  {
   "cell_type": "code",
   "execution_count": 122,
   "metadata": {},
   "outputs": [
    {
     "data": {
      "text/html": [
       "<div>\n",
       "<style scoped>\n",
       "    .dataframe tbody tr th:only-of-type {\n",
       "        vertical-align: middle;\n",
       "    }\n",
       "\n",
       "    .dataframe tbody tr th {\n",
       "        vertical-align: top;\n",
       "    }\n",
       "\n",
       "    .dataframe thead th {\n",
       "        text-align: right;\n",
       "    }\n",
       "</style>\n",
       "<table border=\"1\" class=\"dataframe\">\n",
       "  <thead>\n",
       "    <tr style=\"text-align: right;\">\n",
       "      <th></th>\n",
       "      <th>minimum_nights</th>\n",
       "      <th>number_of_reviews</th>\n",
       "      <th>reviews_per_month</th>\n",
       "      <th>calculated_host_listings_count</th>\n",
       "      <th>availability_365</th>\n",
       "      <th>name_length</th>\n",
       "      <th>ng_Brooklyn</th>\n",
       "      <th>ng_Manhattan</th>\n",
       "      <th>ng_Queens</th>\n",
       "      <th>ng_Staten Island</th>\n",
       "      <th>rt_Private room</th>\n",
       "      <th>rt_Shared room</th>\n",
       "    </tr>\n",
       "  </thead>\n",
       "  <tbody>\n",
       "    <tr>\n",
       "      <th>0</th>\n",
       "      <td>1</td>\n",
       "      <td>9</td>\n",
       "      <td>0.21</td>\n",
       "      <td>6</td>\n",
       "      <td>365</td>\n",
       "      <td>34</td>\n",
       "      <td>1</td>\n",
       "      <td>0</td>\n",
       "      <td>0</td>\n",
       "      <td>0</td>\n",
       "      <td>1</td>\n",
       "      <td>0</td>\n",
       "    </tr>\n",
       "    <tr>\n",
       "      <th>1</th>\n",
       "      <td>1</td>\n",
       "      <td>45</td>\n",
       "      <td>0.38</td>\n",
       "      <td>2</td>\n",
       "      <td>355</td>\n",
       "      <td>21</td>\n",
       "      <td>0</td>\n",
       "      <td>1</td>\n",
       "      <td>0</td>\n",
       "      <td>0</td>\n",
       "      <td>0</td>\n",
       "      <td>0</td>\n",
       "    </tr>\n",
       "    <tr>\n",
       "      <th>2</th>\n",
       "      <td>3</td>\n",
       "      <td>0</td>\n",
       "      <td>0.00</td>\n",
       "      <td>1</td>\n",
       "      <td>365</td>\n",
       "      <td>35</td>\n",
       "      <td>0</td>\n",
       "      <td>1</td>\n",
       "      <td>0</td>\n",
       "      <td>0</td>\n",
       "      <td>1</td>\n",
       "      <td>0</td>\n",
       "    </tr>\n",
       "    <tr>\n",
       "      <th>3</th>\n",
       "      <td>1</td>\n",
       "      <td>270</td>\n",
       "      <td>4.64</td>\n",
       "      <td>1</td>\n",
       "      <td>194</td>\n",
       "      <td>31</td>\n",
       "      <td>1</td>\n",
       "      <td>0</td>\n",
       "      <td>0</td>\n",
       "      <td>0</td>\n",
       "      <td>0</td>\n",
       "      <td>0</td>\n",
       "    </tr>\n",
       "    <tr>\n",
       "      <th>4</th>\n",
       "      <td>10</td>\n",
       "      <td>9</td>\n",
       "      <td>0.10</td>\n",
       "      <td>1</td>\n",
       "      <td>0</td>\n",
       "      <td>48</td>\n",
       "      <td>0</td>\n",
       "      <td>1</td>\n",
       "      <td>0</td>\n",
       "      <td>0</td>\n",
       "      <td>0</td>\n",
       "      <td>0</td>\n",
       "    </tr>\n",
       "    <tr>\n",
       "      <th>...</th>\n",
       "      <td>...</td>\n",
       "      <td>...</td>\n",
       "      <td>...</td>\n",
       "      <td>...</td>\n",
       "      <td>...</td>\n",
       "      <td>...</td>\n",
       "      <td>...</td>\n",
       "      <td>...</td>\n",
       "      <td>...</td>\n",
       "      <td>...</td>\n",
       "      <td>...</td>\n",
       "      <td>...</td>\n",
       "    </tr>\n",
       "    <tr>\n",
       "      <th>48890</th>\n",
       "      <td>2</td>\n",
       "      <td>0</td>\n",
       "      <td>0.00</td>\n",
       "      <td>2</td>\n",
       "      <td>9</td>\n",
       "      <td>47</td>\n",
       "      <td>1</td>\n",
       "      <td>0</td>\n",
       "      <td>0</td>\n",
       "      <td>0</td>\n",
       "      <td>1</td>\n",
       "      <td>0</td>\n",
       "    </tr>\n",
       "    <tr>\n",
       "      <th>48891</th>\n",
       "      <td>4</td>\n",
       "      <td>0</td>\n",
       "      <td>0.00</td>\n",
       "      <td>2</td>\n",
       "      <td>36</td>\n",
       "      <td>45</td>\n",
       "      <td>1</td>\n",
       "      <td>0</td>\n",
       "      <td>0</td>\n",
       "      <td>0</td>\n",
       "      <td>1</td>\n",
       "      <td>0</td>\n",
       "    </tr>\n",
       "    <tr>\n",
       "      <th>48892</th>\n",
       "      <td>10</td>\n",
       "      <td>0</td>\n",
       "      <td>0.00</td>\n",
       "      <td>1</td>\n",
       "      <td>27</td>\n",
       "      <td>39</td>\n",
       "      <td>0</td>\n",
       "      <td>1</td>\n",
       "      <td>0</td>\n",
       "      <td>0</td>\n",
       "      <td>0</td>\n",
       "      <td>0</td>\n",
       "    </tr>\n",
       "    <tr>\n",
       "      <th>48893</th>\n",
       "      <td>1</td>\n",
       "      <td>0</td>\n",
       "      <td>0.00</td>\n",
       "      <td>6</td>\n",
       "      <td>2</td>\n",
       "      <td>36</td>\n",
       "      <td>0</td>\n",
       "      <td>1</td>\n",
       "      <td>0</td>\n",
       "      <td>0</td>\n",
       "      <td>0</td>\n",
       "      <td>1</td>\n",
       "    </tr>\n",
       "    <tr>\n",
       "      <th>48894</th>\n",
       "      <td>7</td>\n",
       "      <td>0</td>\n",
       "      <td>0.00</td>\n",
       "      <td>1</td>\n",
       "      <td>23</td>\n",
       "      <td>49</td>\n",
       "      <td>0</td>\n",
       "      <td>1</td>\n",
       "      <td>0</td>\n",
       "      <td>0</td>\n",
       "      <td>1</td>\n",
       "      <td>0</td>\n",
       "    </tr>\n",
       "  </tbody>\n",
       "</table>\n",
       "<p>42669 rows × 12 columns</p>\n",
       "</div>"
      ],
      "text/plain": [
       "       minimum_nights  number_of_reviews  reviews_per_month  \\\n",
       "0                   1                  9               0.21   \n",
       "1                   1                 45               0.38   \n",
       "2                   3                  0               0.00   \n",
       "3                   1                270               4.64   \n",
       "4                  10                  9               0.10   \n",
       "...               ...                ...                ...   \n",
       "48890               2                  0               0.00   \n",
       "48891               4                  0               0.00   \n",
       "48892              10                  0               0.00   \n",
       "48893               1                  0               0.00   \n",
       "48894               7                  0               0.00   \n",
       "\n",
       "       calculated_host_listings_count  availability_365  name_length  \\\n",
       "0                                   6               365           34   \n",
       "1                                   2               355           21   \n",
       "2                                   1               365           35   \n",
       "3                                   1               194           31   \n",
       "4                                   1                 0           48   \n",
       "...                               ...               ...          ...   \n",
       "48890                               2                 9           47   \n",
       "48891                               2                36           45   \n",
       "48892                               1                27           39   \n",
       "48893                               6                 2           36   \n",
       "48894                               1                23           49   \n",
       "\n",
       "       ng_Brooklyn  ng_Manhattan  ng_Queens  ng_Staten Island  \\\n",
       "0                1             0          0                 0   \n",
       "1                0             1          0                 0   \n",
       "2                0             1          0                 0   \n",
       "3                1             0          0                 0   \n",
       "4                0             1          0                 0   \n",
       "...            ...           ...        ...               ...   \n",
       "48890            1             0          0                 0   \n",
       "48891            1             0          0                 0   \n",
       "48892            0             1          0                 0   \n",
       "48893            0             1          0                 0   \n",
       "48894            0             1          0                 0   \n",
       "\n",
       "       rt_Private room  rt_Shared room  \n",
       "0                    1               0  \n",
       "1                    0               0  \n",
       "2                    1               0  \n",
       "3                    0               0  \n",
       "4                    0               0  \n",
       "...                ...             ...  \n",
       "48890                1               0  \n",
       "48891                1               0  \n",
       "48892                0               0  \n",
       "48893                0               1  \n",
       "48894                1               0  \n",
       "\n",
       "[42669 rows x 12 columns]"
      ]
     },
     "execution_count": 122,
     "metadata": {},
     "output_type": "execute_result"
    }
   ],
   "source": [
    "X1= dataset_onehot1.loc[:, dataset_onehot1.columns != 'price']\n",
    "X1"
   ]
  },
  {
   "cell_type": "code",
   "execution_count": 123,
   "metadata": {},
   "outputs": [],
   "source": [
    "Y1 = dataset_onehot1[\"price\"]\n"
   ]
  },
  {
   "cell_type": "markdown",
   "metadata": {},
   "source": [
    "### Splitting into training and testing data"
   ]
  },
  {
   "cell_type": "code",
   "execution_count": 124,
   "metadata": {},
   "outputs": [],
   "source": [
    "\n",
    "x_train1, x_test1, y_train1, y_test1 = train_test_split(X1, Y1, test_size=0.20, random_state=42)"
   ]
  },
  {
   "cell_type": "code",
   "execution_count": 125,
   "metadata": {},
   "outputs": [],
   "source": [
    "### Fitting Linear regression\n",
    "reg1 = LinearRegression().fit(x_train1, y_train1)"
   ]
  },
  {
   "cell_type": "code",
   "execution_count": 126,
   "metadata": {},
   "outputs": [
    {
     "data": {
      "text/plain": [
       "0.5033306680968378"
      ]
     },
     "execution_count": 126,
     "metadata": {},
     "output_type": "execute_result"
    }
   ],
   "source": [
    "### R squared value\n",
    "reg1.score(x_train1, y_train1)"
   ]
  },
  {
   "cell_type": "code",
   "execution_count": 62,
   "metadata": {},
   "outputs": [
    {
     "data": {
      "text/plain": [
       "array([-8.09520215e-01, -9.08803421e-03, -1.61641699e+00,  1.42434665e-01,\n",
       "        4.67863558e-02,  1.98696542e-01,  1.98040033e+01,  4.41704660e+01,\n",
       "        9.69056189e+00,  2.05907986e-01, -6.56442414e+01, -8.90902274e+01])"
      ]
     },
     "execution_count": 62,
     "metadata": {},
     "output_type": "execute_result"
    }
   ],
   "source": [
    "### Coefficients\n",
    "reg1.coef_"
   ]
  },
  {
   "cell_type": "code",
   "execution_count": 127,
   "metadata": {},
   "outputs": [],
   "source": [
    "### Predicting \n",
    "y_pred1 = reg1.predict(x_test1)"
   ]
  },
  {
   "cell_type": "code",
   "execution_count": 129,
   "metadata": {},
   "outputs": [
    {
     "data": {
      "text/html": [
       "<div>\n",
       "<style scoped>\n",
       "    .dataframe tbody tr th:only-of-type {\n",
       "        vertical-align: middle;\n",
       "    }\n",
       "\n",
       "    .dataframe tbody tr th {\n",
       "        vertical-align: top;\n",
       "    }\n",
       "\n",
       "    .dataframe thead th {\n",
       "        text-align: right;\n",
       "    }\n",
       "</style>\n",
       "<table border=\"1\" class=\"dataframe\">\n",
       "  <thead>\n",
       "    <tr style=\"text-align: right;\">\n",
       "      <th></th>\n",
       "      <th>Variable</th>\n",
       "      <th>Coefficient</th>\n",
       "    </tr>\n",
       "  </thead>\n",
       "  <tbody>\n",
       "    <tr>\n",
       "      <th>11</th>\n",
       "      <td>rt_Shared room</td>\n",
       "      <td>-89.090227</td>\n",
       "    </tr>\n",
       "    <tr>\n",
       "      <th>10</th>\n",
       "      <td>rt_Private room</td>\n",
       "      <td>-65.644241</td>\n",
       "    </tr>\n",
       "    <tr>\n",
       "      <th>2</th>\n",
       "      <td>reviews_per_month</td>\n",
       "      <td>-1.616417</td>\n",
       "    </tr>\n",
       "    <tr>\n",
       "      <th>0</th>\n",
       "      <td>minimum_nights</td>\n",
       "      <td>-0.809520</td>\n",
       "    </tr>\n",
       "    <tr>\n",
       "      <th>1</th>\n",
       "      <td>number_of_reviews</td>\n",
       "      <td>-0.009088</td>\n",
       "    </tr>\n",
       "    <tr>\n",
       "      <th>4</th>\n",
       "      <td>availability_365</td>\n",
       "      <td>0.046786</td>\n",
       "    </tr>\n",
       "    <tr>\n",
       "      <th>3</th>\n",
       "      <td>calculated_host_listings_count</td>\n",
       "      <td>0.142435</td>\n",
       "    </tr>\n",
       "    <tr>\n",
       "      <th>5</th>\n",
       "      <td>name_length</td>\n",
       "      <td>0.198697</td>\n",
       "    </tr>\n",
       "    <tr>\n",
       "      <th>9</th>\n",
       "      <td>ng_Staten Island</td>\n",
       "      <td>0.205908</td>\n",
       "    </tr>\n",
       "    <tr>\n",
       "      <th>8</th>\n",
       "      <td>ng_Queens</td>\n",
       "      <td>9.690562</td>\n",
       "    </tr>\n",
       "    <tr>\n",
       "      <th>6</th>\n",
       "      <td>ng_Brooklyn</td>\n",
       "      <td>19.804003</td>\n",
       "    </tr>\n",
       "    <tr>\n",
       "      <th>7</th>\n",
       "      <td>ng_Manhattan</td>\n",
       "      <td>44.170466</td>\n",
       "    </tr>\n",
       "  </tbody>\n",
       "</table>\n",
       "</div>"
      ],
      "text/plain": [
       "                          Variable  Coefficient\n",
       "11                  rt_Shared room   -89.090227\n",
       "10                 rt_Private room   -65.644241\n",
       "2                reviews_per_month    -1.616417\n",
       "0                   minimum_nights    -0.809520\n",
       "1                number_of_reviews    -0.009088\n",
       "4                 availability_365     0.046786\n",
       "3   calculated_host_listings_count     0.142435\n",
       "5                      name_length     0.198697\n",
       "9                 ng_Staten Island     0.205908\n",
       "8                        ng_Queens     9.690562\n",
       "6                      ng_Brooklyn    19.804003\n",
       "7                     ng_Manhattan    44.170466"
      ]
     },
     "execution_count": 129,
     "metadata": {},
     "output_type": "execute_result"
    }
   ],
   "source": [
    "Coeff1 = pd.DataFrame(columns=[\"Variable\",\"Coefficient\"])\n",
    "Coeff1[\"Variable\"]=x_train1.columns\n",
    "Coeff1[\"Coefficient\"]=reg1.coef_\n",
    "Coeff1.sort_values(\"Coefficient\")"
   ]
  },
  {
   "cell_type": "code",
   "execution_count": 130,
   "metadata": {},
   "outputs": [
    {
     "data": {
      "text/plain": [
       "37.6879854765679"
      ]
     },
     "execution_count": 130,
     "metadata": {},
     "output_type": "execute_result"
    }
   ],
   "source": [
    "### Calculate RMSE\n",
    "rmse1 = np.sqrt(metrics.mean_squared_error(y_test1, y_pred1))\n",
    "rmse1"
   ]
  },
  {
   "cell_type": "code",
   "execution_count": 131,
   "metadata": {},
   "outputs": [
    {
     "name": "stdout",
     "output_type": "stream",
     "text": [
      "                            OLS Regression Results                            \n",
      "==============================================================================\n",
      "Dep. Variable:                  price   R-squared:                       0.503\n",
      "Model:                            OLS   Adj. R-squared:                  0.503\n",
      "Method:                 Least Squares   F-statistic:                     2882.\n",
      "Date:                Mon, 10 Aug 2020   Prob (F-statistic):               0.00\n",
      "Time:                        12:59:19   Log-Likelihood:            -1.7259e+05\n",
      "No. Observations:               34135   AIC:                         3.452e+05\n",
      "Df Residuals:                   34122   BIC:                         3.453e+05\n",
      "Df Model:                          12                                         \n",
      "Covariance Type:            nonrobust                                         \n",
      "==================================================================================================\n",
      "                                     coef    std err          t      P>|t|      [0.025      0.975]\n",
      "--------------------------------------------------------------------------------------------------\n",
      "const                            109.6210      1.526     71.839      0.000     106.630     112.612\n",
      "minimum_nights                    -0.8095      0.027    -30.109      0.000      -0.862      -0.757\n",
      "number_of_reviews                 -0.0091      0.006     -1.607      0.108      -0.020       0.002\n",
      "reviews_per_month                 -1.6164      0.163     -9.906      0.000      -1.936      -1.297\n",
      "calculated_host_listings_count     0.1424      0.008     18.082      0.000       0.127       0.158\n",
      "availability_365                   0.0468      0.002     26.685      0.000       0.043       0.050\n",
      "name_length                        0.1987      0.020      9.866      0.000       0.159       0.238\n",
      "ng_Brooklyn                       19.8040      1.349     14.680      0.000      17.160      22.448\n",
      "ng_Manhattan                      44.1705      1.356     32.576      0.000      41.513      46.828\n",
      "ng_Queens                          9.6906      1.428      6.787      0.000       6.892      12.489\n",
      "ng_Staten Island                   0.2059      2.583      0.080      0.936      -4.857       5.268\n",
      "rt_Private room                  -65.6442      0.427   -153.848      0.000     -66.481     -64.808\n",
      "rt_Shared room                   -89.0902      1.315    -67.764      0.000     -91.667     -86.513\n",
      "==============================================================================\n",
      "Omnibus:                     2348.378   Durbin-Watson:                   1.999\n",
      "Prob(Omnibus):                  0.000   Jarque-Bera (JB):             3132.292\n",
      "Skew:                           0.617   Prob(JB):                         0.00\n",
      "Kurtosis:                       3.825   Cond. No.                     2.69e+03\n",
      "==============================================================================\n",
      "\n",
      "Warnings:\n",
      "[1] Standard Errors assume that the covariance matrix of the errors is correctly specified.\n",
      "[2] The condition number is large, 2.69e+03. This might indicate that there are\n",
      "strong multicollinearity or other numerical problems.\n"
     ]
    }
   ],
   "source": [
    "### Taking a closer look at the estimates\n",
    "X2 = sm.add_constant(x_train1)\n",
    "est = sm.OLS(y_train1, X2)\n",
    "est2 = est.fit()\n",
    "print(est2.summary())\n"
   ]
  },
  {
   "cell_type": "code",
   "execution_count": 132,
   "metadata": {},
   "outputs": [
    {
     "name": "stdout",
     "output_type": "stream",
     "text": [
      "                            OLS Regression Results                            \n",
      "==============================================================================\n",
      "Dep. Variable:                  price   R-squared:                       0.503\n",
      "Model:                            OLS   Adj. R-squared:                  0.503\n",
      "Method:                 Least Squares   F-statistic:                     3458.\n",
      "Date:                Mon, 10 Aug 2020   Prob (F-statistic):               0.00\n",
      "Time:                        12:59:20   Log-Likelihood:            -1.7259e+05\n",
      "No. Observations:               34135   AIC:                         3.452e+05\n",
      "Df Residuals:                   34124   BIC:                         3.453e+05\n",
      "Df Model:                          10                                         \n",
      "Covariance Type:            nonrobust                                         \n",
      "==================================================================================================\n",
      "                                     coef    std err          t      P>|t|      [0.025      0.975]\n",
      "--------------------------------------------------------------------------------------------------\n",
      "const                            109.6143      1.382     79.321      0.000     106.906     112.323\n",
      "minimum_nights                    -0.8075      0.027    -30.067      0.000      -0.860      -0.755\n",
      "reviews_per_month                 -1.7642      0.135    -13.088      0.000      -2.028      -1.500\n",
      "calculated_host_listings_count     0.1433      0.008     18.229      0.000       0.128       0.159\n",
      "availability_365                   0.0464      0.002     26.735      0.000       0.043       0.050\n",
      "name_length                        0.2009      0.020      9.997      0.000       0.161       0.240\n",
      "ng_Brooklyn                       19.6740      1.177     16.717      0.000      17.367      21.981\n",
      "ng_Manhattan                      44.0432      1.185     37.176      0.000      41.721      46.365\n",
      "ng_Queens                          9.6222      1.267      7.595      0.000       7.139      12.105\n",
      "rt_Private room                  -65.6214      0.426   -153.908      0.000     -66.457     -64.786\n",
      "rt_Shared room                   -88.9922      1.313    -67.782      0.000     -91.566     -86.419\n",
      "==============================================================================\n",
      "Omnibus:                     2356.066   Durbin-Watson:                   1.998\n",
      "Prob(Omnibus):                  0.000   Jarque-Bera (JB):             3145.650\n",
      "Skew:                           0.618   Prob(JB):                         0.00\n",
      "Kurtosis:                       3.827   Cond. No.                     1.94e+03\n",
      "==============================================================================\n",
      "\n",
      "Warnings:\n",
      "[1] Standard Errors assume that the covariance matrix of the errors is correctly specified.\n",
      "[2] The condition number is large, 1.94e+03. This might indicate that there are\n",
      "strong multicollinearity or other numerical problems.\n"
     ]
    },
    {
     "name": "stderr",
     "output_type": "stream",
     "text": [
      "C:\\Users\\Robin\\AppData\\Local\\Programs\\Python\\Python36\\lib\\site-packages\\pandas\\core\\frame.py:4164: SettingWithCopyWarning: \n",
      "A value is trying to be set on a copy of a slice from a DataFrame\n",
      "\n",
      "See the caveats in the documentation: https://pandas.pydata.org/pandas-docs/stable/user_guide/indexing.html#returning-a-view-versus-a-copy\n",
      "  errors=errors,\n"
     ]
    }
   ],
   "source": [
    "## No of reviews and ng_Staten Island is not significant and does not help our model much. Drop it\n",
    "x_train1.drop([\"number_of_reviews\",\"ng_Staten Island\"], axis=1,inplace=True)\n",
    "X2 = sm.add_constant(x_train1)\n",
    "est = sm.OLS(y_train1, X2)\n",
    "est2 = est.fit()\n",
    "print(est2.summary())\n",
    "### Does not improve our model much"
   ]
  },
  {
   "cell_type": "markdown",
   "metadata": {},
   "source": [
    "# Model Interpretation\n",
    "Now that we have the results of our model, lets try to interpret it in detail.\n",
    "1. We first look at the Adjusted R square value since this is a Multiple linear regression. It tell us that our independent variables can explain 50.3% of variations in our dependent variable, which is price.\n",
    "2. The constant or the y intercept has a value of 109.56. This means that putting all other x variables at 0, an Entire Apt/Home in Bronx will have a predicted price of 109.56. Remember when we created dummy variables we dropped one dummy from each column which we use as reference.\n",
    "3. Let's now look at the coefficients. The coefficient of ng_Manhattan is 44.09. We interpret as: Everything else being constant, an Entire Apt/ Home in Manhattan will cost 44.09 more that same in Bronx. We can similarly interpret coefficient of minimum night as: With everything else being constant, with every one unit increase in minimum number of nights, the predicted price decreases by 0.8075.\n",
    "4. The std error is nothing but sample standard deviation for each variable. the t column shows the value of t statistic which is the z score of the sample variable. Z score tells us how far a sample is from its mean. A Z score of 2 tells us that the sample is two standard deviation away from the mean.\n",
    "5. P values suggests how significant these estimates are. Considering alpha of 0.05, we can reject the Null hypothesis for all variables except number_of_reviews, and ng_Staten Island. Alpha is the degree of error we are willing to accept. we have chosen alpha as 5% which is also most commonly used.\n",
    "6. The confidence intervals show the upper bound and lower bound for the TRUE POPULATION coefficient with 95% confidence.\n",
    "\n"
   ]
  },
  {
   "cell_type": "markdown",
   "metadata": {},
   "source": [
    "### Lets try to use the neighbourhood variable. It has more than 200 distinct values. \n",
    "### Hence, when we create dummies we will have large number of variables."
   ]
  },
  {
   "cell_type": "code",
   "execution_count": 133,
   "metadata": {},
   "outputs": [],
   "source": [
    "\n",
    "dataset_onehot2 = pd.get_dummies(dataset, columns=['neighbourhood_group',\"neighbourhood\",\"room_type\"], prefix = ['ng',\"nh\",\"rt\"],drop_first=True)\n"
   ]
  },
  {
   "cell_type": "code",
   "execution_count": 134,
   "metadata": {},
   "outputs": [
    {
     "data": {
      "text/plain": [
       "(42669, 231)"
      ]
     },
     "execution_count": 134,
     "metadata": {},
     "output_type": "execute_result"
    }
   ],
   "source": [
    "dataset_onehot2.shape"
   ]
  },
  {
   "cell_type": "code",
   "execution_count": 141,
   "metadata": {},
   "outputs": [],
   "source": [
    "XL1= dataset_onehot2.loc[:, dataset_onehot2.columns != 'price']\n",
    "YL1 = dataset_onehot2[\"price\"]\n",
    "x_trainL11, x_testL11, y_trainL11, y_testL11 = train_test_split(XL1, YL1, test_size=0.20, random_state=42)"
   ]
  },
  {
   "cell_type": "markdown",
   "metadata": {},
   "source": [
    "We will use Lasso regression because it has the ability to nullify parameters that do not improve the model.\n",
    "Also, the dataset isn't large enough and hence Lasso is a good choice as it would add a little bit bias but reduce variance greatly.\n",
    "Starting with alpha=0.1\n",
    "We can use crossvalidation and check for many values for alpha to find best one, but I will save this process for the next model\n",
    "which I think will procduce better results."
   ]
  },
  {
   "cell_type": "code",
   "execution_count": 142,
   "metadata": {},
   "outputs": [
    {
     "data": {
      "text/plain": [
       "Lasso(alpha=0.01)"
      ]
     },
     "execution_count": 142,
     "metadata": {},
     "output_type": "execute_result"
    }
   ],
   "source": [
    "\n",
    "regL1 = Lasso(alpha=0.01)\n",
    "regL1.fit(x_trainL11, y_trainL11) "
   ]
  },
  {
   "cell_type": "code",
   "execution_count": 143,
   "metadata": {},
   "outputs": [
    {
     "data": {
      "text/plain": [
       "0.5672687881098055"
      ]
     },
     "execution_count": 143,
     "metadata": {},
     "output_type": "execute_result"
    }
   ],
   "source": [
    "### R squared\n",
    "### This regularised model did way better than normal linear regression\n",
    "regL1.score(x_trainL11, y_trainL11)"
   ]
  },
  {
   "cell_type": "code",
   "execution_count": 148,
   "metadata": {},
   "outputs": [
    {
     "name": "stdout",
     "output_type": "stream",
     "text": [
      "35.122928878780456\n"
     ]
    }
   ],
   "source": [
    "### RMSE\n",
    "### Smaller value than earlier\n",
    "y_predL1= regL1.predict(x_testL11)\n",
    "print(np.sqrt(metrics.mean_squared_error(y_testL11,y_predL1)))"
   ]
  },
  {
   "cell_type": "code",
   "execution_count": 145,
   "metadata": {},
   "outputs": [
    {
     "data": {
      "text/plain": [
       "array([-8.74108236e-01, -1.54617057e-02, -1.21937375e+00,  8.53509662e-02,\n",
       "        5.35827161e-02,  1.33032667e-01,  1.25894104e+01,  5.02217532e+01,\n",
       "        6.30345411e+00, -0.00000000e+00, -0.00000000e+00, -0.00000000e+00,\n",
       "        0.00000000e+00,  7.63815202e+00, -0.00000000e+00,  0.00000000e+00,\n",
       "       -5.54357765e-01,  0.00000000e+00,  0.00000000e+00, -0.00000000e+00,\n",
       "        0.00000000e+00,  0.00000000e+00,  6.14970076e-01,  0.00000000e+00,\n",
       "        0.00000000e+00,  0.00000000e+00, -9.25171095e+00, -0.00000000e+00,\n",
       "        2.15210517e+01, -1.25645271e+01,  0.00000000e+00, -0.00000000e+00,\n",
       "       -0.00000000e+00, -3.46151208e+00,  2.93815492e+01, -4.40132764e+00,\n",
       "        0.00000000e+00, -1.35292724e+00,  0.00000000e+00, -7.53591116e+00,\n",
       "        2.39801650e+01, -0.00000000e+00,  0.00000000e+00,  1.25661957e+01,\n",
       "       -6.68172734e+00,  0.00000000e+00,  0.00000000e+00,  0.00000000e+00,\n",
       "       -0.00000000e+00, -0.00000000e+00,  1.77925788e+01,  0.00000000e+00,\n",
       "        2.19739411e+01, -0.00000000e+00,  2.36120788e+00, -0.00000000e+00,\n",
       "        0.00000000e+00,  0.00000000e+00, -0.00000000e+00, -1.00691324e+01,\n",
       "        0.00000000e+00, -9.36309803e+00,  3.24240457e+01,  4.18289061e+00,\n",
       "       -0.00000000e+00, -0.00000000e+00,  2.54089178e+01, -0.00000000e+00,\n",
       "       -0.00000000e+00, -6.35982706e+00, -1.93706505e+01, -0.00000000e+00,\n",
       "       -1.06677933e+01, -0.00000000e+00, -0.00000000e+00, -0.00000000e+00,\n",
       "        0.00000000e+00, -0.00000000e+00, -0.00000000e+00,  0.00000000e+00,\n",
       "       -0.00000000e+00,  0.00000000e+00,  1.25439145e+01, -9.74644748e+00,\n",
       "        8.44196486e+00, -0.00000000e+00,  2.02917151e+00,  0.00000000e+00,\n",
       "        0.00000000e+00,  2.42860298e+01,  0.00000000e+00, -0.00000000e+00,\n",
       "       -0.00000000e+00,  2.10526598e+01,  3.26354283e+00, -0.00000000e+00,\n",
       "       -0.00000000e+00, -1.70088210e+00,  0.00000000e+00,  2.09497668e+01,\n",
       "        1.62664390e+01,  0.00000000e+00, -2.66496504e+01,  1.07339039e+01,\n",
       "        0.00000000e+00,  0.00000000e+00,  0.00000000e+00,  0.00000000e+00,\n",
       "       -0.00000000e+00, -0.00000000e+00, -0.00000000e+00, -4.02195262e+01,\n",
       "        0.00000000e+00, -0.00000000e+00, -0.00000000e+00,  0.00000000e+00,\n",
       "       -7.59662324e+00,  0.00000000e+00, -0.00000000e+00,  0.00000000e+00,\n",
       "       -1.07912900e+00,  0.00000000e+00,  0.00000000e+00,  0.00000000e+00,\n",
       "       -0.00000000e+00,  1.76495915e+01,  0.00000000e+00, -2.72090076e+00,\n",
       "       -0.00000000e+00, -1.69100140e+01,  0.00000000e+00, -0.00000000e+00,\n",
       "       -0.00000000e+00, -0.00000000e+00, -0.00000000e+00,  1.19531290e+01,\n",
       "       -8.76003400e+00, -0.00000000e+00, -2.14132561e+01,  0.00000000e+00,\n",
       "       -0.00000000e+00,  0.00000000e+00, -0.00000000e+00, -0.00000000e+00,\n",
       "       -0.00000000e+00,  9.86841871e+00,  1.14172298e+01,  0.00000000e+00,\n",
       "        0.00000000e+00, -0.00000000e+00, -0.00000000e+00, -0.00000000e+00,\n",
       "        0.00000000e+00,  6.16526418e+00,  0.00000000e+00,  0.00000000e+00,\n",
       "       -0.00000000e+00,  0.00000000e+00, -2.74320558e+00,  2.40462985e+01,\n",
       "       -0.00000000e+00,  0.00000000e+00, -4.04509726e+00,  4.31211323e+00,\n",
       "        0.00000000e+00,  0.00000000e+00,  1.57314639e+01, -2.61463507e+00,\n",
       "       -7.28727793e+00, -0.00000000e+00,  1.70573080e-01, -7.09408362e+00,\n",
       "       -0.00000000e+00, -0.00000000e+00, -5.18551549e-01,  0.00000000e+00,\n",
       "        3.66837901e+00, -1.65139034e+01,  0.00000000e+00, -2.32766344e+00,\n",
       "        0.00000000e+00,  0.00000000e+00,  0.00000000e+00, -5.49885002e+00,\n",
       "        0.00000000e+00, -0.00000000e+00,  1.42884540e+01, -0.00000000e+00,\n",
       "        0.00000000e+00, -0.00000000e+00,  1.88999557e+01,  2.42780596e+00,\n",
       "       -0.00000000e+00, -6.12939218e+00,  0.00000000e+00, -0.00000000e+00,\n",
       "       -0.00000000e+00,  4.89688416e-01, -2.51750491e+00,  1.19149026e+01,\n",
       "       -0.00000000e+00, -0.00000000e+00, -0.00000000e+00, -0.00000000e+00,\n",
       "       -0.00000000e+00,  2.12421594e+01, -2.01889270e+00, -0.00000000e+00,\n",
       "        0.00000000e+00, -4.46933223e+00, -2.67160415e+00, -0.00000000e+00,\n",
       "        3.24722848e+01, -0.00000000e+00, -3.88611567e+01, -0.00000000e+00,\n",
       "        0.00000000e+00,  1.90030321e+01, -0.00000000e+00, -0.00000000e+00,\n",
       "       -0.00000000e+00, -0.00000000e+00,  2.27856484e+01,  0.00000000e+00,\n",
       "        3.22295500e+00, -6.18423733e+00, -0.00000000e+00,  1.95573705e+00,\n",
       "       -6.16897114e+01, -8.45855686e+01])"
      ]
     },
     "execution_count": 145,
     "metadata": {},
     "output_type": "execute_result"
    }
   ],
   "source": [
    "### We can see that some parameters have zero coefficients.\n",
    "regL1.coef_"
   ]
  },
  {
   "cell_type": "code",
   "execution_count": 149,
   "metadata": {},
   "outputs": [
    {
     "data": {
      "text/html": [
       "<div>\n",
       "<style scoped>\n",
       "    .dataframe tbody tr th:only-of-type {\n",
       "        vertical-align: middle;\n",
       "    }\n",
       "\n",
       "    .dataframe tbody tr th {\n",
       "        vertical-align: top;\n",
       "    }\n",
       "\n",
       "    .dataframe thead th {\n",
       "        text-align: right;\n",
       "    }\n",
       "</style>\n",
       "<table border=\"1\" class=\"dataframe\">\n",
       "  <thead>\n",
       "    <tr style=\"text-align: right;\">\n",
       "      <th></th>\n",
       "      <th>Variable</th>\n",
       "      <th>Coefficients</th>\n",
       "    </tr>\n",
       "  </thead>\n",
       "  <tbody>\n",
       "    <tr>\n",
       "      <th>7</th>\n",
       "      <td>ng_Manhattan</td>\n",
       "      <td>50.221753</td>\n",
       "    </tr>\n",
       "    <tr>\n",
       "      <th>212</th>\n",
       "      <td>nh_Vinegar Hill</td>\n",
       "      <td>32.472285</td>\n",
       "    </tr>\n",
       "    <tr>\n",
       "      <th>62</th>\n",
       "      <td>nh_DUMBO</td>\n",
       "      <td>32.424046</td>\n",
       "    </tr>\n",
       "    <tr>\n",
       "      <th>34</th>\n",
       "      <td>nh_Brooklyn Heights</td>\n",
       "      <td>29.381549</td>\n",
       "    </tr>\n",
       "    <tr>\n",
       "      <th>66</th>\n",
       "      <td>nh_Downtown Brooklyn</td>\n",
       "      <td>25.408918</td>\n",
       "    </tr>\n",
       "    <tr>\n",
       "      <th>...</th>\n",
       "      <td>...</td>\n",
       "      <td>...</td>\n",
       "    </tr>\n",
       "    <tr>\n",
       "      <th>102</th>\n",
       "      <td>nh_Harlem</td>\n",
       "      <td>-26.649650</td>\n",
       "    </tr>\n",
       "    <tr>\n",
       "      <th>214</th>\n",
       "      <td>nh_Washington Heights</td>\n",
       "      <td>-38.861157</td>\n",
       "    </tr>\n",
       "    <tr>\n",
       "      <th>111</th>\n",
       "      <td>nh_Inwood</td>\n",
       "      <td>-40.219526</td>\n",
       "    </tr>\n",
       "    <tr>\n",
       "      <th>228</th>\n",
       "      <td>rt_Private room</td>\n",
       "      <td>-61.689711</td>\n",
       "    </tr>\n",
       "    <tr>\n",
       "      <th>229</th>\n",
       "      <td>rt_Shared room</td>\n",
       "      <td>-84.585569</td>\n",
       "    </tr>\n",
       "  </tbody>\n",
       "</table>\n",
       "<p>230 rows × 2 columns</p>\n",
       "</div>"
      ],
      "text/plain": [
       "                  Variable  Coefficients\n",
       "7             ng_Manhattan     50.221753\n",
       "212        nh_Vinegar Hill     32.472285\n",
       "62                nh_DUMBO     32.424046\n",
       "34     nh_Brooklyn Heights     29.381549\n",
       "66    nh_Downtown Brooklyn     25.408918\n",
       "..                     ...           ...\n",
       "102              nh_Harlem    -26.649650\n",
       "214  nh_Washington Heights    -38.861157\n",
       "111              nh_Inwood    -40.219526\n",
       "228        rt_Private room    -61.689711\n",
       "229         rt_Shared room    -84.585569\n",
       "\n",
       "[230 rows x 2 columns]"
      ]
     },
     "execution_count": 149,
     "metadata": {},
     "output_type": "execute_result"
    }
   ],
   "source": [
    "CoeffLS1 = pd.DataFrame(columns=[\"Variable\",\"Coefficients\"])\n",
    "CoeffLS1[\"Variable\"]=x_trainL11.columns\n",
    "CoeffLS1[\"Coefficients\"]=regL1.coef_\n",
    "CoeffLS1.sort_values(\"Coefficients\", ascending = False)"
   ]
  },
  {
   "cell_type": "code",
   "execution_count": 147,
   "metadata": {},
   "outputs": [],
   "source": [
    "### Finally, lets try Random forest regressor which I believe will give best results"
   ]
  },
  {
   "cell_type": "code",
   "execution_count": 150,
   "metadata": {},
   "outputs": [
    {
     "data": {
      "text/plain": [
       "RandomForestRegressor(n_estimators=300)"
      ]
     },
     "execution_count": 150,
     "metadata": {},
     "output_type": "execute_result"
    }
   ],
   "source": [
    "### Initially, lets build a tree without any constraints.\n",
    "regrRM = RandomForestRegressor(n_estimators=300)\n",
    "regrRM.fit(x_trainL11, y_trainL11)"
   ]
  },
  {
   "cell_type": "code",
   "execution_count": 151,
   "metadata": {},
   "outputs": [
    {
     "name": "stdout",
     "output_type": "stream",
     "text": [
      "0.9360040416111584\n",
      "34.86863903122215\n"
     ]
    }
   ],
   "source": [
    "### We get R squared value at 93.6%! There is obviously a problem of overfitting:(\n",
    "\n",
    "print(regrRM.score(x_trainL11, y_trainL11))\n",
    "y_predL1= regrRM.predict(x_testL11)\n",
    "print(np.sqrt(metrics.mean_squared_error(y_testL11,y_predL1)))"
   ]
  },
  {
   "cell_type": "code",
   "execution_count": 79,
   "metadata": {},
   "outputs": [
    {
     "data": {
      "text/plain": [
       "array([5.20080881e-02, 5.82636095e-02, 7.70269060e-02, 3.78332480e-02,\n",
       "       7.33468139e-02, 8.46246870e-02, 3.83395196e-03, 6.09470645e-02,\n",
       "       1.30446295e-03, 2.71464660e-04, 5.91559182e-07, 1.03664326e-04,\n",
       "       2.95343199e-04, 1.25932808e-03, 2.15986993e-05, 2.24238302e-04,\n",
       "       6.57938275e-04, 4.19235322e-05, 1.94435768e-05, 3.72015658e-06,\n",
       "       2.15737912e-04, 7.31436401e-05, 3.10249149e-03, 4.48099410e-04,\n",
       "       4.01469466e-05, 2.31736733e-04, 2.30094114e-04, 1.46571672e-04,\n",
       "       7.64922926e-04, 2.93510366e-04, 1.08788882e-04, 3.13377684e-04,\n",
       "       2.77649309e-04, 1.95697215e-05, 1.46092649e-03, 1.61066742e-04,\n",
       "       6.35201223e-06, 2.37062163e-03, 8.98730807e-05, 3.96464570e-04,\n",
       "       1.41094925e-03, 1.62755938e-05, 6.20139357e-05, 2.59153026e-03,\n",
       "       9.62385233e-04, 5.75722135e-05, 2.21292069e-04, 9.95256572e-05,\n",
       "       1.31794250e-05, 1.54591834e-04, 1.92554314e-03, 9.39967733e-07,\n",
       "       4.87933638e-04, 4.84687419e-05, 2.67437060e-04, 1.07002259e-04,\n",
       "       1.69771116e-04, 5.64117403e-05, 4.80324182e-05, 4.38529365e-05,\n",
       "       2.25534232e-03, 3.74615998e-04, 6.18231791e-04, 9.04304310e-04,\n",
       "       1.97424895e-05, 1.04543159e-05, 8.04370969e-04, 1.50517273e-04,\n",
       "       3.09882903e-04, 1.65356544e-03, 4.61393408e-03, 5.49931786e-05,\n",
       "       9.41423112e-04, 2.11169086e-03, 1.04887914e-05, 7.71367862e-05,\n",
       "       1.88227077e-04, 7.45245329e-04, 6.58087090e-07, 4.10789074e-06,\n",
       "       1.76464636e-05, 2.37134493e-05, 2.05243285e-03, 2.17550090e-03,\n",
       "       3.25625083e-04, 4.66166512e-04, 8.92559720e-04, 1.21426809e-04,\n",
       "       4.28158308e-04, 2.18859316e-03, 2.32614975e-04, 6.00793714e-05,\n",
       "       2.48571020e-04, 1.46790586e-03, 9.11629380e-04, 1.02212112e-05,\n",
       "       1.28508198e-05, 1.46248575e-04, 3.04222931e-04, 3.13047304e-03,\n",
       "       1.06935492e-03, 8.09355221e-05, 9.95780715e-03, 3.29572353e-03,\n",
       "       1.79074381e-04, 1.23592080e-04, 1.34553877e-05, 1.21189495e-04,\n",
       "       2.35942480e-06, 5.13503863e-07, 1.95129549e-05, 4.01911098e-03,\n",
       "       4.52072054e-04, 7.88698410e-04, 6.55710513e-05, 5.40780677e-06,\n",
       "       6.62141153e-04, 2.23364999e-04, 7.36519055e-05, 7.78809593e-05,\n",
       "       1.17909792e-03, 1.12836781e-04, 4.08521621e-05, 4.15501483e-04,\n",
       "       1.97405743e-06, 1.81554064e-03, 1.44450618e-04, 1.79638007e-03,\n",
       "       9.09866471e-05, 3.06914866e-04, 9.56148519e-05, 3.90076233e-04,\n",
       "       3.25447159e-05, 8.29902155e-05, 1.12186651e-05, 2.40282684e-03,\n",
       "       6.54939215e-04, 2.00880069e-05, 2.00767960e-03, 1.72056543e-04,\n",
       "       7.37507981e-05, 2.05710713e-04, 6.57284268e-05, 2.57353503e-05,\n",
       "       3.78269831e-05, 1.69459653e-03, 2.78091460e-04, 6.08798973e-05,\n",
       "       1.91147372e-04, 9.04701727e-06, 1.67208270e-06, 1.94599624e-05,\n",
       "       2.49711716e-04, 6.77642762e-04, 2.83185196e-05, 2.71145576e-04,\n",
       "       3.20626299e-06, 3.52130932e-05, 1.74196135e-04, 2.03358327e-03,\n",
       "       1.32487175e-04, 4.87198996e-05, 3.21056311e-05, 3.42547241e-04,\n",
       "       7.31490853e-05, 4.98662452e-05, 1.25736509e-03, 1.37513233e-03,\n",
       "       2.16129359e-04, 1.66156327e-05, 2.84725934e-04, 2.56069601e-04,\n",
       "       2.77042850e-04, 6.12194326e-07, 7.07974324e-04, 4.75071270e-05,\n",
       "       2.93242728e-04, 6.21993039e-04, 6.98236659e-05, 1.24570964e-04,\n",
       "       0.00000000e+00, 5.19089650e-05, 9.34002138e-05, 5.56229395e-04,\n",
       "       4.59959467e-05, 8.34601649e-07, 1.12081181e-03, 2.03945002e-05,\n",
       "       2.28962004e-05, 1.91920211e-04, 1.02037729e-03, 3.58696361e-04,\n",
       "       3.08309435e-06, 2.27887853e-04, 1.57770573e-04, 3.05566193e-05,\n",
       "       9.88336246e-05, 6.61748907e-04, 1.00849061e-03, 9.90389307e-04,\n",
       "       1.78525153e-05, 4.10916402e-06, 1.37809779e-04, 1.09182861e-05,\n",
       "       3.46109025e-05, 5.79621338e-04, 3.00805195e-04, 4.03445698e-06,\n",
       "       2.11254376e-05, 2.70652894e-03, 2.53964930e-03, 2.17761756e-05,\n",
       "       6.48644937e-04, 1.71861237e-04, 1.00317927e-02, 2.05844901e-05,\n",
       "       0.00000000e+00, 1.49124845e-03, 1.28133200e-05, 1.91201885e-07,\n",
       "       3.19993668e-05, 7.09575114e-05, 1.05394451e-02, 9.82099952e-05,\n",
       "       5.82395297e-04, 1.52647752e-04, 2.81268550e-05, 4.01821658e-04,\n",
       "       3.47866813e-01, 6.67895346e-02])"
      ]
     },
     "execution_count": 79,
     "metadata": {},
     "output_type": "execute_result"
    }
   ],
   "source": [
    "### Using feature importance, we can see which feature had most weight\n",
    "regrRM.feature_importances_"
   ]
  },
  {
   "cell_type": "code",
   "execution_count": 152,
   "metadata": {},
   "outputs": [
    {
     "data": {
      "text/html": [
       "<div>\n",
       "<style scoped>\n",
       "    .dataframe tbody tr th:only-of-type {\n",
       "        vertical-align: middle;\n",
       "    }\n",
       "\n",
       "    .dataframe tbody tr th {\n",
       "        vertical-align: top;\n",
       "    }\n",
       "\n",
       "    .dataframe thead th {\n",
       "        text-align: right;\n",
       "    }\n",
       "</style>\n",
       "<table border=\"1\" class=\"dataframe\">\n",
       "  <thead>\n",
       "    <tr style=\"text-align: right;\">\n",
       "      <th></th>\n",
       "      <th>Variable</th>\n",
       "      <th>FeatureImportance</th>\n",
       "    </tr>\n",
       "  </thead>\n",
       "  <tbody>\n",
       "    <tr>\n",
       "      <th>228</th>\n",
       "      <td>rt_Private room</td>\n",
       "      <td>3.487289e-01</td>\n",
       "    </tr>\n",
       "    <tr>\n",
       "      <th>5</th>\n",
       "      <td>name_length</td>\n",
       "      <td>8.473575e-02</td>\n",
       "    </tr>\n",
       "    <tr>\n",
       "      <th>2</th>\n",
       "      <td>reviews_per_month</td>\n",
       "      <td>7.706900e-02</td>\n",
       "    </tr>\n",
       "    <tr>\n",
       "      <th>4</th>\n",
       "      <td>availability_365</td>\n",
       "      <td>7.310952e-02</td>\n",
       "    </tr>\n",
       "    <tr>\n",
       "      <th>229</th>\n",
       "      <td>rt_Shared room</td>\n",
       "      <td>6.696248e-02</td>\n",
       "    </tr>\n",
       "    <tr>\n",
       "      <th>...</th>\n",
       "      <td>...</td>\n",
       "      <td>...</td>\n",
       "    </tr>\n",
       "    <tr>\n",
       "      <th>78</th>\n",
       "      <td>nh_Eltingville</td>\n",
       "      <td>6.044042e-07</td>\n",
       "    </tr>\n",
       "    <tr>\n",
       "      <th>173</th>\n",
       "      <td>nh_Richmondtown</td>\n",
       "      <td>5.545758e-07</td>\n",
       "    </tr>\n",
       "    <tr>\n",
       "      <th>219</th>\n",
       "      <td>nh_Westerleigh</td>\n",
       "      <td>2.600622e-07</td>\n",
       "    </tr>\n",
       "    <tr>\n",
       "      <th>180</th>\n",
       "      <td>nh_Rossville</td>\n",
       "      <td>0.000000e+00</td>\n",
       "    </tr>\n",
       "    <tr>\n",
       "      <th>216</th>\n",
       "      <td>nh_West Farms</td>\n",
       "      <td>0.000000e+00</td>\n",
       "    </tr>\n",
       "  </tbody>\n",
       "</table>\n",
       "<p>230 rows × 2 columns</p>\n",
       "</div>"
      ],
      "text/plain": [
       "              Variable  FeatureImportance\n",
       "228    rt_Private room       3.487289e-01\n",
       "5          name_length       8.473575e-02\n",
       "2    reviews_per_month       7.706900e-02\n",
       "4     availability_365       7.310952e-02\n",
       "229     rt_Shared room       6.696248e-02\n",
       "..                 ...                ...\n",
       "78      nh_Eltingville       6.044042e-07\n",
       "173    nh_Richmondtown       5.545758e-07\n",
       "219     nh_Westerleigh       2.600622e-07\n",
       "180       nh_Rossville       0.000000e+00\n",
       "216      nh_West Farms       0.000000e+00\n",
       "\n",
       "[230 rows x 2 columns]"
      ]
     },
     "execution_count": 152,
     "metadata": {},
     "output_type": "execute_result"
    }
   ],
   "source": [
    "CoeffRM1 = pd.DataFrame(columns=[\"Variable\",\"FeatureImportance\"])\n",
    "CoeffRM1[\"Variable\"]=x_trainL11.columns\n",
    "CoeffRM1[\"FeatureImportance\"]=regrRM.feature_importances_\n",
    "CoeffRM1.sort_values(\"FeatureImportance\", ascending = False)"
   ]
  },
  {
   "cell_type": "code",
   "execution_count": 153,
   "metadata": {},
   "outputs": [
    {
     "data": {
      "text/plain": [
       "{'bootstrap': True,\n",
       " 'ccp_alpha': 0.0,\n",
       " 'criterion': 'mse',\n",
       " 'max_depth': None,\n",
       " 'max_features': 'auto',\n",
       " 'max_leaf_nodes': None,\n",
       " 'max_samples': None,\n",
       " 'min_impurity_decrease': 0.0,\n",
       " 'min_impurity_split': None,\n",
       " 'min_samples_leaf': 1,\n",
       " 'min_samples_split': 2,\n",
       " 'min_weight_fraction_leaf': 0.0,\n",
       " 'n_estimators': 300,\n",
       " 'n_jobs': None,\n",
       " 'oob_score': False,\n",
       " 'random_state': None,\n",
       " 'verbose': 0,\n",
       " 'warm_start': False}"
      ]
     },
     "execution_count": 153,
     "metadata": {},
     "output_type": "execute_result"
    }
   ],
   "source": [
    "regrRM.get_params()"
   ]
  },
  {
   "cell_type": "markdown",
   "metadata": {},
   "source": [
    "### Lets see what we can do to prevent overfitting\n",
    "1. We will set max depth to 50. This ensures that branching stops after 50th branching, otherwise each sample may have its branch and overfit.\n",
    "2. We will use min_samples_split as 5. The default value is 2. This means that each internal node will split as long as it has a minimum of two sample. We dont want that!\n",
    "3. We will use min_samples_leaf as 4. The default is 1. This means that a node is considered leaf node if it has just one sample. This can cause severe overfitting!"
   ]
  },
  {
   "cell_type": "code",
   "execution_count": 154,
   "metadata": {},
   "outputs": [
    {
     "data": {
      "text/plain": [
       "RandomForestRegressor(max_depth=50, min_samples_leaf=4, min_samples_split=5,\n",
       "                      n_estimators=200)"
      ]
     },
     "execution_count": 154,
     "metadata": {},
     "output_type": "execute_result"
    }
   ],
   "source": [
    "\n",
    "regrRM2 = RandomForestRegressor(n_estimators=200, max_depth = 50, min_samples_split = 5,min_samples_leaf =4)\n",
    "regrRM2.fit(x_trainL11, y_trainL11)"
   ]
  },
  {
   "cell_type": "code",
   "execution_count": 157,
   "metadata": {},
   "outputs": [
    {
     "name": "stdout",
     "output_type": "stream",
     "text": [
      "0.797484940133534\n",
      "34.42122695302166\n"
     ]
    }
   ],
   "source": [
    "### We get a smaller value for R squared\n",
    "print(regrRM2.score(x_trainL11, y_trainL11))\n",
    "y_predL1= regrRM2.predict(x_testL11)\n",
    "print(np.sqrt(metrics.mean_squared_error(y_testL11,y_predL1)))"
   ]
  },
  {
   "cell_type": "code",
   "execution_count": 156,
   "metadata": {},
   "outputs": [
    {
     "data": {
      "text/html": [
       "<div>\n",
       "<style scoped>\n",
       "    .dataframe tbody tr th:only-of-type {\n",
       "        vertical-align: middle;\n",
       "    }\n",
       "\n",
       "    .dataframe tbody tr th {\n",
       "        vertical-align: top;\n",
       "    }\n",
       "\n",
       "    .dataframe thead th {\n",
       "        text-align: right;\n",
       "    }\n",
       "</style>\n",
       "<table border=\"1\" class=\"dataframe\">\n",
       "  <thead>\n",
       "    <tr style=\"text-align: right;\">\n",
       "      <th></th>\n",
       "      <th>Variable</th>\n",
       "      <th>FeatureImportance</th>\n",
       "    </tr>\n",
       "  </thead>\n",
       "  <tbody>\n",
       "    <tr>\n",
       "      <th>228</th>\n",
       "      <td>rt_Private room</td>\n",
       "      <td>0.424279</td>\n",
       "    </tr>\n",
       "    <tr>\n",
       "      <th>229</th>\n",
       "      <td>rt_Shared room</td>\n",
       "      <td>0.081036</td>\n",
       "    </tr>\n",
       "    <tr>\n",
       "      <th>7</th>\n",
       "      <td>ng_Manhattan</td>\n",
       "      <td>0.074088</td>\n",
       "    </tr>\n",
       "    <tr>\n",
       "      <th>4</th>\n",
       "      <td>availability_365</td>\n",
       "      <td>0.065326</td>\n",
       "    </tr>\n",
       "    <tr>\n",
       "      <th>5</th>\n",
       "      <td>name_length</td>\n",
       "      <td>0.062659</td>\n",
       "    </tr>\n",
       "    <tr>\n",
       "      <th>...</th>\n",
       "      <td>...</td>\n",
       "      <td>...</td>\n",
       "    </tr>\n",
       "    <tr>\n",
       "      <th>161</th>\n",
       "      <td>nh_Pelham Bay</td>\n",
       "      <td>0.000000</td>\n",
       "    </tr>\n",
       "    <tr>\n",
       "      <th>105</th>\n",
       "      <td>nh_Hollis</td>\n",
       "      <td>0.000000</td>\n",
       "    </tr>\n",
       "    <tr>\n",
       "      <th>106</th>\n",
       "      <td>nh_Holliswood</td>\n",
       "      <td>0.000000</td>\n",
       "    </tr>\n",
       "    <tr>\n",
       "      <th>157</th>\n",
       "      <td>nh_Olinville</td>\n",
       "      <td>0.000000</td>\n",
       "    </tr>\n",
       "    <tr>\n",
       "      <th>115</th>\n",
       "      <td>nh_Jamaica Hills</td>\n",
       "      <td>0.000000</td>\n",
       "    </tr>\n",
       "  </tbody>\n",
       "</table>\n",
       "<p>230 rows × 2 columns</p>\n",
       "</div>"
      ],
      "text/plain": [
       "             Variable  FeatureImportance\n",
       "228   rt_Private room           0.424279\n",
       "229    rt_Shared room           0.081036\n",
       "7        ng_Manhattan           0.074088\n",
       "4    availability_365           0.065326\n",
       "5         name_length           0.062659\n",
       "..                ...                ...\n",
       "161     nh_Pelham Bay           0.000000\n",
       "105         nh_Hollis           0.000000\n",
       "106     nh_Holliswood           0.000000\n",
       "157      nh_Olinville           0.000000\n",
       "115  nh_Jamaica Hills           0.000000\n",
       "\n",
       "[230 rows x 2 columns]"
      ]
     },
     "execution_count": 156,
     "metadata": {},
     "output_type": "execute_result"
    }
   ],
   "source": [
    "CoeffRM2 = pd.DataFrame(columns=[\"Variable\",\"FeatureImportance\"])\n",
    "CoeffRM2[\"Variable\"]=x_trainL11.columns\n",
    "CoeffRM2[\"FeatureImportance\"]=regrRM2.feature_importances_\n",
    "CoeffRM2.sort_values(\"FeatureImportance\", ascending = False)"
   ]
  },
  {
   "cell_type": "markdown",
   "metadata": {},
   "source": [
    "## CrossValidation"
   ]
  },
  {
   "cell_type": "code",
   "execution_count": 85,
   "metadata": {},
   "outputs": [],
   "source": [
    "### To find best values for the RF parameters, let us use cross validation\n",
    "from sklearn.model_selection import RandomizedSearchCV\n",
    "\n",
    "n_estimators = [int(x) for x in np.linspace(start = 200, stop = 1000, num = 5)]\n",
    "max_features = ['auto', 'sqrt']\n",
    "max_depth = [int(x) for x in np.linspace(10, 110, num = 6)]\n",
    "max_depth.append(None)\n",
    "min_samples_split = [2, 5, 10]\n",
    "min_samples_leaf = [1, 2, 4]\n",
    "bootstrap = [True, False]\n",
    "# Create the random grid\n",
    "rm_grid = {'n_estimators': n_estimators,\n",
    "               'max_features': max_features,\n",
    "               'max_depth': max_depth,\n",
    "               'min_samples_split': min_samples_split,\n",
    "               'min_samples_leaf': min_samples_leaf,\n",
    "               'bootstrap': bootstrap}"
   ]
  },
  {
   "cell_type": "code",
   "execution_count": 86,
   "metadata": {},
   "outputs": [
    {
     "name": "stdout",
     "output_type": "stream",
     "text": [
      "{'n_estimators': [200, 400, 600, 800, 1000], 'max_features': ['auto', 'sqrt'], 'max_depth': [10, 30, 50, 70, 90, 110, None], 'min_samples_split': [2, 5, 10], 'min_samples_leaf': [1, 2, 4], 'bootstrap': [True, False]}\n"
     ]
    }
   ],
   "source": [
    "print(rm_grid)"
   ]
  },
  {
   "cell_type": "code",
   "execution_count": 87,
   "metadata": {},
   "outputs": [],
   "source": [
    "import time"
   ]
  },
  {
   "cell_type": "code",
   "execution_count": 88,
   "metadata": {},
   "outputs": [
    {
     "name": "stdout",
     "output_type": "stream",
     "text": [
      "Fitting 3 folds for each of 180 candidates, totalling 540 fits\n"
     ]
    },
    {
     "name": "stderr",
     "output_type": "stream",
     "text": [
      "[Parallel(n_jobs=-1)]: Using backend LokyBackend with 4 concurrent workers.\n",
      "/opt/conda/lib/python3.7/site-packages/joblib/externals/loky/process_executor.py:706: UserWarning: A worker stopped while some jobs were given to the executor. This can be caused by a too short worker timeout or by a memory leak.\n",
      "  \"timeout or by a memory leak.\", UserWarning\n",
      "[Parallel(n_jobs=-1)]: Done  33 tasks      | elapsed: 23.2min\n",
      "[Parallel(n_jobs=-1)]: Done 154 tasks      | elapsed: 90.0min\n",
      "[Parallel(n_jobs=-1)]: Done 357 tasks      | elapsed: 219.1min\n",
      "[Parallel(n_jobs=-1)]: Done 540 out of 540 | elapsed: 360.3min finished\n"
     ]
    }
   ],
   "source": [
    "# Use the random grid to search for best hyperparameters\n",
    "t1 = time.time()\n",
    "rf2 = RandomForestRegressor()\n",
    "# Random search of parameters, using 3 fold cross validation, \n",
    "rf2_random = RandomizedSearchCV(estimator = rf2, param_distributions = rm_grid, n_iter = 180, cv = 3, verbose=2, random_state=42, n_jobs = -1)\n",
    "# Fit the random search model\n",
    "rf2_random.fit(x_trainL11, y_trainL11)\n",
    "t2 =time.time()"
   ]
  },
  {
   "cell_type": "code",
   "execution_count": 89,
   "metadata": {},
   "outputs": [
    {
     "data": {
      "text/plain": [
       "360.83651783466337"
      ]
     },
     "execution_count": 89,
     "metadata": {},
     "output_type": "execute_result"
    }
   ],
   "source": [
    "### Time taken\n",
    "(t2-t1)/60\n"
   ]
  },
  {
   "cell_type": "code",
   "execution_count": 90,
   "metadata": {},
   "outputs": [
    {
     "data": {
      "text/plain": [
       "{'n_estimators': 400,\n",
       " 'min_samples_split': 10,\n",
       " 'min_samples_leaf': 1,\n",
       " 'max_features': 'sqrt',\n",
       " 'max_depth': 110,\n",
       " 'bootstrap': True}"
      ]
     },
     "execution_count": 90,
     "metadata": {},
     "output_type": "execute_result"
    }
   ],
   "source": [
    "### Here we can see Best parameters for the best model\n",
    "rf2_random.best_params_"
   ]
  },
  {
   "cell_type": "code",
   "execution_count": 91,
   "metadata": {},
   "outputs": [
    {
     "data": {
      "text/plain": [
       "0.7785858161950951"
      ]
     },
     "execution_count": 91,
     "metadata": {},
     "output_type": "execute_result"
    }
   ],
   "source": [
    "### Final R squared value\n",
    "rf2_random.score(x_trainL11, y_trainL11)"
   ]
  },
  {
   "cell_type": "code",
   "execution_count": 92,
   "metadata": {},
   "outputs": [
    {
     "name": "stdout",
     "output_type": "stream",
     "text": [
      "34.05098593042094\n"
     ]
    }
   ],
   "source": [
    "### We finally have the least RMSE among all model!\n",
    "y_predL1= rf2_random.predict(x_testL11)\n",
    "print(np.sqrt(metrics.mean_squared_error(y_testL11,y_predL1)))"
   ]
  },
  {
   "cell_type": "code",
   "execution_count": 96,
   "metadata": {},
   "outputs": [],
   "source": [
    "### Finally lets compare all models\n",
    "### Including models from my previous project with pyspark\n",
    "rmsedt = {\"Model\":[\"RF1_Sprk\",\"RF2_Sprk\",\"RF3_Sprk\",\"LR\",\"L1\",\"RFR\"],\"RMSE\":[71.55745125705758,65.7207885074504\n",
    ",62.51297007998151,37.68939882420686,35.12428625156702,34.05098593042094]}\n",
    "rmsedf = pd.DataFrame(rmsedt)\n",
    "rsqdt = {\"Model\":[\"LR\",\"L1\",\"RFR\"],\"RSquared\":[50.3,56.7,77.8]}\n",
    "rsqdt = pd.DataFrame(rsqdt)"
   ]
  },
  {
   "cell_type": "code",
   "execution_count": 97,
   "metadata": {},
   "outputs": [
    {
     "data": {
      "image/png": "[encoded data removed]",
      "text/plain": [
       "<Figure size 360x360 with 1 Axes>"
      ]
     },
     "metadata": {},
     "output_type": "display_data"
    }
   ],
   "source": [
    "sns.catplot(x=\"Model\", y=\"RMSE\", linestyles=[\"-\"],\n",
    "            kind=\"point\", data=rmsedf);"
   ]
  },
  {
   "cell_type": "code",
   "execution_count": 98,
   "metadata": {},
   "outputs": [
    {
     "data": {
      "image/png": "[encoded data removed]",
      "text/plain": [
       "<Figure size 360x360 with 1 Axes>"
      ]
     },
     "metadata": {},
     "output_type": "display_data"
    }
   ],
   "source": [
    "sns.catplot(x=\"Model\", y=\"RSquared\", linestyles=[\"--\"], color =\"green\", kind=\"point\", data=rsqdt);"
   ]
  },
  {
   "cell_type": "code",
   "execution_count": null,
   "metadata": {},
   "outputs": [],
   "source": []
  }
 ],
 "metadata": {
  "kernelspec": {
   "display_name": "Python 3",
   "language": "python",
   "name": "python3"
  },
  "language_info": {
   "codemirror_mode": {
    "name": "ipython",
    "version": 3
   },
   "file_extension": ".py",
   "mimetype": "text/x-python",
   "name": "python",
   "nbconvert_exporter": "python",
   "pygments_lexer": "ipython3",
   "version": "3.6.5"
  }
 },
 "nbformat": 4,
 "nbformat_minor": 4
}
