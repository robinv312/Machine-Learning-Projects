{
 "cells": [
  {
   "cell_type": "code",
   "execution_count": 2,
   "metadata": {},
   "outputs": [],
   "source": [
    "from tensorflow.keras.layers import Input, Lambda, Dense, Flatten,Conv2D,MaxPooling2D\n",
    "from tensorflow.keras.models import Model\n",
    "from tensorflow.keras.applications.vgg19 import VGG19\n",
    "from tensorflow.keras.applications.resnet50 import preprocess_input\n",
    "from tensorflow.keras.preprocessing import image\n",
    "from tensorflow.keras.preprocessing.image import ImageDataGenerator,load_img\n",
    "from tensorflow.keras.models import Sequential\n",
    "import numpy as np\n",
    "from glob import glob\n",
    "import matplotlib.pyplot as plt"
   ]
  },
  {
   "cell_type": "code",
   "execution_count": 3,
   "metadata": {},
   "outputs": [],
   "source": [
    "# re-size all the images to this\n",
    "IMAGE_SIZE = [224, 224]\n",
    "\n",
    "train_path = 'E:/Dataset/Train'\n",
    "valid_path = 'E:/Dataset/Test'"
   ]
  },
  {
   "cell_type": "code",
   "execution_count": 4,
   "metadata": {},
   "outputs": [],
   "source": [
    "# Import the Vgg 16 library as shown below and add preprocessing layer to the front of VGG\n",
    "# Here we will be using imagenet weights\n",
    "\n",
    "mobilnet = VGG19(input_shape=IMAGE_SIZE + [3], weights='imagenet', include_top=False)"
   ]
  },
  {
   "cell_type": "code",
   "execution_count": 5,
   "metadata": {},
   "outputs": [],
   "source": [
    "# don't train existing weights\n",
    "for layer in mobilnet.layers:\n",
    "    layer.trainable = False"
   ]
  },
  {
   "cell_type": "code",
   "execution_count": 6,
   "metadata": {},
   "outputs": [],
   "source": [
    "# useful for getting number of output classes\n",
    "folders = glob('E:/Dataset/Train/*')"
   ]
  },
  {
   "cell_type": "code",
   "execution_count": 7,
   "metadata": {},
   "outputs": [
    {
     "data": {
      "text/plain": [
       "['E:/Dataset/Train\\\\Parasite', 'E:/Dataset/Train\\\\Uninfected']"
      ]
     },
     "execution_count": 7,
     "metadata": {},
     "output_type": "execute_result"
    }
   ],
   "source": [
    "folders"
   ]
  },
  {
   "cell_type": "code",
   "execution_count": 8,
   "metadata": {},
   "outputs": [],
   "source": [
    "# our layers - you can add more if you want\n",
    "x = Flatten()(mobilnet.output)"
   ]
  },
  {
   "cell_type": "code",
   "execution_count": 9,
   "metadata": {},
   "outputs": [],
   "source": [
    "prediction = Dense(len(folders), activation='softmax')(x)\n",
    "\n",
    "# create a model object\n",
    "model = Model(inputs=mobilnet.input, outputs=prediction)"
   ]
  },
  {
   "cell_type": "code",
   "execution_count": 10,
   "metadata": {},
   "outputs": [
    {
     "name": "stdout",
     "output_type": "stream",
     "text": [
      "Model: \"model\"\n",
      "_________________________________________________________________\n",
      "Layer (type)                 Output Shape              Param #   \n",
      "=================================================================\n",
      "input_1 (InputLayer)         [(None, 224, 224, 3)]     0         \n",
      "_________________________________________________________________\n",
      "block1_conv1 (Conv2D)        (None, 224, 224, 64)      1792      \n",
      "_________________________________________________________________\n",
      "block1_conv2 (Conv2D)        (None, 224, 224, 64)      36928     \n",
      "_________________________________________________________________\n",
      "block1_pool (MaxPooling2D)   (None, 112, 112, 64)      0         \n",
      "_________________________________________________________________\n",
      "block2_conv1 (Conv2D)        (None, 112, 112, 128)     73856     \n",
      "_________________________________________________________________\n",
      "block2_conv2 (Conv2D)        (None, 112, 112, 128)     147584    \n",
      "_________________________________________________________________\n",
      "block2_pool (MaxPooling2D)   (None, 56, 56, 128)       0         \n",
      "_________________________________________________________________\n",
      "block3_conv1 (Conv2D)        (None, 56, 56, 256)       295168    \n",
      "_________________________________________________________________\n",
      "block3_conv2 (Conv2D)        (None, 56, 56, 256)       590080    \n",
      "_________________________________________________________________\n",
      "block3_conv3 (Conv2D)        (None, 56, 56, 256)       590080    \n",
      "_________________________________________________________________\n",
      "block3_conv4 (Conv2D)        (None, 56, 56, 256)       590080    \n",
      "_________________________________________________________________\n",
      "block3_pool (MaxPooling2D)   (None, 28, 28, 256)       0         \n",
      "_________________________________________________________________\n",
      "block4_conv1 (Conv2D)        (None, 28, 28, 512)       1180160   \n",
      "_________________________________________________________________\n",
      "block4_conv2 (Conv2D)        (None, 28, 28, 512)       2359808   \n",
      "_________________________________________________________________\n",
      "block4_conv3 (Conv2D)        (None, 28, 28, 512)       2359808   \n",
      "_________________________________________________________________\n",
      "block4_conv4 (Conv2D)        (None, 28, 28, 512)       2359808   \n",
      "_________________________________________________________________\n",
      "block4_pool (MaxPooling2D)   (None, 14, 14, 512)       0         \n",
      "_________________________________________________________________\n",
      "block5_conv1 (Conv2D)        (None, 14, 14, 512)       2359808   \n",
      "_________________________________________________________________\n",
      "block5_conv2 (Conv2D)        (None, 14, 14, 512)       2359808   \n",
      "_________________________________________________________________\n",
      "block5_conv3 (Conv2D)        (None, 14, 14, 512)       2359808   \n",
      "_________________________________________________________________\n",
      "block5_conv4 (Conv2D)        (None, 14, 14, 512)       2359808   \n",
      "_________________________________________________________________\n",
      "block5_pool (MaxPooling2D)   (None, 7, 7, 512)         0         \n",
      "_________________________________________________________________\n",
      "flatten (Flatten)            (None, 25088)             0         \n",
      "_________________________________________________________________\n",
      "dense (Dense)                (None, 2)                 50178     \n",
      "=================================================================\n",
      "Total params: 20,074,562\n",
      "Trainable params: 50,178\n",
      "Non-trainable params: 20,024,384\n",
      "_________________________________________________________________\n"
     ]
    }
   ],
   "source": [
    "\n",
    "# view the structure of the model\n",
    "model.summary()"
   ]
  },
  {
   "cell_type": "code",
   "execution_count": 11,
   "metadata": {},
   "outputs": [],
   "source": [
    "\n",
    "from tensorflow.keras.layers import MaxPooling2D"
   ]
  },
  {
   "cell_type": "code",
   "execution_count": 12,
   "metadata": {},
   "outputs": [
    {
     "name": "stdout",
     "output_type": "stream",
     "text": [
      "Model: \"sequential\"\n",
      "_________________________________________________________________\n",
      "Layer (type)                 Output Shape              Param #   \n",
      "=================================================================\n",
      "conv2d (Conv2D)              (None, 224, 224, 16)      208       \n",
      "_________________________________________________________________\n",
      "max_pooling2d (MaxPooling2D) (None, 112, 112, 16)      0         \n",
      "_________________________________________________________________\n",
      "conv2d_1 (Conv2D)            (None, 112, 112, 32)      2080      \n",
      "_________________________________________________________________\n",
      "max_pooling2d_1 (MaxPooling2 (None, 56, 56, 32)        0         \n",
      "_________________________________________________________________\n",
      "conv2d_2 (Conv2D)            (None, 56, 56, 64)        8256      \n",
      "_________________________________________________________________\n",
      "max_pooling2d_2 (MaxPooling2 (None, 28, 28, 64)        0         \n",
      "_________________________________________________________________\n",
      "flatten_1 (Flatten)          (None, 50176)             0         \n",
      "_________________________________________________________________\n",
      "dense_1 (Dense)              (None, 500)               25088500  \n",
      "_________________________________________________________________\n",
      "dense_2 (Dense)              (None, 2)                 1002      \n",
      "=================================================================\n",
      "Total params: 25,100,046\n",
      "Trainable params: 25,100,046\n",
      "Non-trainable params: 0\n",
      "_________________________________________________________________\n"
     ]
    }
   ],
   "source": [
    "### Create Model from scratch using CNN\n",
    "model=Sequential()\n",
    "model.add(Conv2D(filters=16,kernel_size=2,padding=\"same\",activation=\"relu\",input_shape=(224,224,3)))\n",
    "model.add(MaxPooling2D(pool_size=2))\n",
    "model.add(Conv2D(filters=32,kernel_size=2,padding=\"same\",activation =\"relu\"))\n",
    "model.add(MaxPooling2D(pool_size=2))\n",
    "model.add(Conv2D(filters=64,kernel_size=2,padding=\"same\",activation=\"relu\"))\n",
    "model.add(MaxPooling2D(pool_size=2))\n",
    "model.add(Flatten())\n",
    "model.add(Dense(500,activation=\"relu\"))\n",
    "model.add(Dense(2,activation=\"softmax\"))\n",
    "model.summary()"
   ]
  },
  {
   "cell_type": "code",
   "execution_count": 13,
   "metadata": {},
   "outputs": [],
   "source": [
    "# tell the model what cost and optimization method to use\n",
    "model.compile(\n",
    "  loss='categorical_crossentropy',\n",
    "  optimizer='adam',\n",
    "  metrics=['accuracy']\n",
    ")"
   ]
  },
  {
   "cell_type": "code",
   "execution_count": 14,
   "metadata": {},
   "outputs": [],
   "source": [
    "\n",
    "# Use the Image Data Generator to import the images from the dataset\n",
    "from tensorflow.keras.preprocessing.image import ImageDataGenerator\n",
    "\n",
    "train_datagen = ImageDataGenerator(rescale = 1./255,\n",
    "                                   shear_range = 0.2,\n",
    "                                   zoom_range = 0.2,\n",
    "                                   horizontal_flip = True)\n",
    "\n",
    "test_datagen = ImageDataGenerator(rescale = 1./255)"
   ]
  },
  {
   "cell_type": "code",
   "execution_count": 15,
   "metadata": {},
   "outputs": [
    {
     "name": "stdout",
     "output_type": "stream",
     "text": [
      "Found 416 images belonging to 2 classes.\n"
     ]
    }
   ],
   "source": [
    "\n",
    "# Make sure you provide the same target size as initialied for the image size\n",
    "training_set = train_datagen.flow_from_directory('E:/Dataset/Train',\n",
    "                                                 target_size = (224, 224),\n",
    "                                                 batch_size = 32,\n",
    "                                                 class_mode = 'categorical')"
   ]
  },
  {
   "cell_type": "code",
   "execution_count": 16,
   "metadata": {},
   "outputs": [
    {
     "data": {
      "text/plain": [
       "<keras_preprocessing.image.directory_iterator.DirectoryIterator at 0x1ea047289b0>"
      ]
     },
     "execution_count": 16,
     "metadata": {},
     "output_type": "execute_result"
    }
   ],
   "source": [
    "\n",
    "training_set"
   ]
  },
  {
   "cell_type": "code",
   "execution_count": 17,
   "metadata": {},
   "outputs": [
    {
     "name": "stdout",
     "output_type": "stream",
     "text": [
      "Found 134 images belonging to 2 classes.\n"
     ]
    }
   ],
   "source": [
    "\n",
    "test_set = test_datagen.flow_from_directory('E:/Dataset/Test',\n",
    "                                            target_size = (224, 224),\n",
    "                                            batch_size = 32,\n",
    "                                            class_mode = 'categorical')"
   ]
  },
  {
   "cell_type": "code",
   "execution_count": 18,
   "metadata": {},
   "outputs": [
    {
     "name": "stdout",
     "output_type": "stream",
     "text": [
      "Epoch 1/50\n",
      "13/13 [==============================] - 25s 2s/step - loss: 1.5884 - accuracy: 0.5096 - val_loss: 0.7208 - val_accuracy: 0.3433\n",
      "Epoch 2/50\n",
      "13/13 [==============================] - 16s 1s/step - loss: 0.6939 - accuracy: 0.5312 - val_loss: 0.6691 - val_accuracy: 0.6791\n",
      "Epoch 3/50\n",
      "13/13 [==============================] - 23s 2s/step - loss: 0.6813 - accuracy: 0.5577 - val_loss: 0.6893 - val_accuracy: 0.5672\n",
      "Epoch 4/50\n",
      "13/13 [==============================] - 19s 1s/step - loss: 0.6683 - accuracy: 0.6082 - val_loss: 0.7326 - val_accuracy: 0.3507\n",
      "Epoch 5/50\n",
      "13/13 [==============================] - 22s 2s/step - loss: 0.6202 - accuracy: 0.7236 - val_loss: 0.7132 - val_accuracy: 0.4179\n",
      "Epoch 6/50\n",
      "13/13 [==============================] - 16s 1s/step - loss: 0.5397 - accuracy: 0.7668 - val_loss: 1.0666 - val_accuracy: 0.3582\n",
      "Epoch 7/50\n",
      "13/13 [==============================] - 18s 1s/step - loss: 0.4472 - accuracy: 0.7788 - val_loss: 0.8883 - val_accuracy: 0.4030\n",
      "Epoch 8/50\n",
      "13/13 [==============================] - 21s 2s/step - loss: 0.3878 - accuracy: 0.8053 - val_loss: 0.8746 - val_accuracy: 0.4701\n",
      "Epoch 9/50\n",
      "13/13 [==============================] - 21s 2s/step - loss: 0.3847 - accuracy: 0.8293 - val_loss: 0.6812 - val_accuracy: 0.5448\n",
      "Epoch 10/50\n",
      "13/13 [==============================] - 21s 2s/step - loss: 0.3219 - accuracy: 0.8582 - val_loss: 0.7659 - val_accuracy: 0.5075\n",
      "Epoch 11/50\n",
      "13/13 [==============================] - 18s 1s/step - loss: 0.3493 - accuracy: 0.8510 - val_loss: 1.0913 - val_accuracy: 0.5149\n",
      "Epoch 12/50\n",
      "13/13 [==============================] - 20s 2s/step - loss: 0.2990 - accuracy: 0.8966 - val_loss: 0.6539 - val_accuracy: 0.6045\n",
      "Epoch 13/50\n",
      "13/13 [==============================] - 20s 2s/step - loss: 0.2335 - accuracy: 0.9183 - val_loss: 0.5095 - val_accuracy: 0.7239\n",
      "Epoch 14/50\n",
      "13/13 [==============================] - 21s 2s/step - loss: 0.2005 - accuracy: 0.9207 - val_loss: 0.5528 - val_accuracy: 0.7015\n",
      "Epoch 15/50\n",
      "13/13 [==============================] - 21s 2s/step - loss: 0.2283 - accuracy: 0.9207 - val_loss: 0.4672 - val_accuracy: 0.7537\n",
      "Epoch 16/50\n",
      "13/13 [==============================] - 16s 1s/step - loss: 0.1850 - accuracy: 0.9351 - val_loss: 0.4558 - val_accuracy: 0.7687\n",
      "Epoch 17/50\n",
      "13/13 [==============================] - 14s 1s/step - loss: 0.1501 - accuracy: 0.9423 - val_loss: 0.3932 - val_accuracy: 0.7910\n",
      "Epoch 18/50\n",
      "13/13 [==============================] - 15s 1s/step - loss: 0.1560 - accuracy: 0.9495 - val_loss: 0.5578 - val_accuracy: 0.7910\n",
      "Epoch 19/50\n",
      "13/13 [==============================] - 16s 1s/step - loss: 0.1482 - accuracy: 0.9495 - val_loss: 0.3892 - val_accuracy: 0.8209\n",
      "Epoch 20/50\n",
      "13/13 [==============================] - 16s 1s/step - loss: 0.1190 - accuracy: 0.9591 - val_loss: 0.2623 - val_accuracy: 0.8955\n",
      "Epoch 21/50\n",
      "13/13 [==============================] - 15s 1s/step - loss: 0.1026 - accuracy: 0.9663 - val_loss: 0.4085 - val_accuracy: 0.7910\n",
      "Epoch 22/50\n",
      "13/13 [==============================] - 17s 1s/step - loss: 0.0963 - accuracy: 0.9688 - val_loss: 0.2214 - val_accuracy: 0.8955\n",
      "Epoch 23/50\n",
      "13/13 [==============================] - 16s 1s/step - loss: 0.0755 - accuracy: 0.9856 - val_loss: 0.2908 - val_accuracy: 0.8806\n",
      "Epoch 24/50\n",
      "13/13 [==============================] - 16s 1s/step - loss: 0.0643 - accuracy: 0.9832 - val_loss: 0.4782 - val_accuracy: 0.8507\n",
      "Epoch 25/50\n",
      "13/13 [==============================] - 17s 1s/step - loss: 0.0830 - accuracy: 0.9688 - val_loss: 0.2619 - val_accuracy: 0.9030\n",
      "Epoch 26/50\n",
      "13/13 [==============================] - 17s 1s/step - loss: 0.0644 - accuracy: 0.9760 - val_loss: 0.2064 - val_accuracy: 0.9104\n",
      "Epoch 27/50\n",
      "13/13 [==============================] - 16s 1s/step - loss: 0.0508 - accuracy: 0.9832 - val_loss: 0.4653 - val_accuracy: 0.8433\n",
      "Epoch 28/50\n",
      "13/13 [==============================] - 15s 1s/step - loss: 0.0909 - accuracy: 0.9663 - val_loss: 0.2607 - val_accuracy: 0.8657\n",
      "Epoch 29/50\n",
      "13/13 [==============================] - 15s 1s/step - loss: 0.0631 - accuracy: 0.9856 - val_loss: 0.2954 - val_accuracy: 0.8657\n",
      "Epoch 30/50\n",
      "13/13 [==============================] - 15s 1s/step - loss: 0.0543 - accuracy: 0.9784 - val_loss: 0.3372 - val_accuracy: 0.8881\n",
      "Epoch 31/50\n",
      "13/13 [==============================] - 17s 1s/step - loss: 0.0588 - accuracy: 0.9856 - val_loss: 0.3867 - val_accuracy: 0.8881\n",
      "Epoch 32/50\n",
      "13/13 [==============================] - 15s 1s/step - loss: 0.0409 - accuracy: 0.9880 - val_loss: 0.1962 - val_accuracy: 0.9328\n",
      "Epoch 33/50\n",
      "13/13 [==============================] - 15s 1s/step - loss: 0.0386 - accuracy: 0.9904 - val_loss: 0.1365 - val_accuracy: 0.9478\n",
      "Epoch 34/50\n",
      "13/13 [==============================] - 16s 1s/step - loss: 0.0502 - accuracy: 0.9880 - val_loss: 0.4423 - val_accuracy: 0.8433\n",
      "Epoch 35/50\n",
      "13/13 [==============================] - 17s 1s/step - loss: 0.1076 - accuracy: 0.9567 - val_loss: 0.2134 - val_accuracy: 0.8881\n",
      "Epoch 36/50\n",
      "13/13 [==============================] - 16s 1s/step - loss: 0.0589 - accuracy: 0.9784 - val_loss: 0.3340 - val_accuracy: 0.9104\n",
      "Epoch 37/50\n",
      "13/13 [==============================] - 16s 1s/step - loss: 0.0610 - accuracy: 0.9760 - val_loss: 0.3212 - val_accuracy: 0.9104\n",
      "Epoch 38/50\n",
      "13/13 [==============================] - 18s 1s/step - loss: 0.0683 - accuracy: 0.9904 - val_loss: 0.2102 - val_accuracy: 0.9104\n",
      "Epoch 39/50\n",
      "13/13 [==============================] - 19s 1s/step - loss: 0.0467 - accuracy: 0.9880 - val_loss: 0.1291 - val_accuracy: 0.9478\n",
      "Epoch 40/50\n",
      "13/13 [==============================] - 16s 1s/step - loss: 0.0553 - accuracy: 0.9832 - val_loss: 0.1557 - val_accuracy: 0.9328\n",
      "Epoch 41/50\n",
      "13/13 [==============================] - 16s 1s/step - loss: 0.0369 - accuracy: 0.9928 - val_loss: 0.1683 - val_accuracy: 0.9179\n",
      "Epoch 42/50\n",
      "13/13 [==============================] - 16s 1s/step - loss: 0.0184 - accuracy: 0.9952 - val_loss: 0.1990 - val_accuracy: 0.9403\n",
      "Epoch 43/50\n",
      "13/13 [==============================] - 18s 1s/step - loss: 0.0192 - accuracy: 0.9952 - val_loss: 0.3727 - val_accuracy: 0.8955\n",
      "Epoch 44/50\n",
      "13/13 [==============================] - 16s 1s/step - loss: 0.0191 - accuracy: 0.9928 - val_loss: 0.1721 - val_accuracy: 0.9179\n",
      "Epoch 45/50\n",
      "13/13 [==============================] - 15s 1s/step - loss: 0.0462 - accuracy: 0.9928 - val_loss: 0.1793 - val_accuracy: 0.9328\n",
      "Epoch 46/50\n",
      "13/13 [==============================] - 17s 1s/step - loss: 0.0399 - accuracy: 0.9904 - val_loss: 0.2351 - val_accuracy: 0.9328\n",
      "Epoch 47/50\n",
      "13/13 [==============================] - 17s 1s/step - loss: 0.0346 - accuracy: 0.9928 - val_loss: 0.3485 - val_accuracy: 0.9179\n",
      "Epoch 48/50\n",
      "13/13 [==============================] - 16s 1s/step - loss: 0.0358 - accuracy: 0.9952 - val_loss: 0.3504 - val_accuracy: 0.8731\n",
      "Epoch 49/50\n",
      "13/13 [==============================] - 16s 1s/step - loss: 0.0403 - accuracy: 0.9928 - val_loss: 0.1623 - val_accuracy: 0.9328\n",
      "Epoch 50/50\n",
      "13/13 [==============================] - 16s 1s/step - loss: 0.0239 - accuracy: 0.9880 - val_loss: 0.4173 - val_accuracy: 0.8806\n"
     ]
    }
   ],
   "source": [
    "\n",
    "# fit the model\n",
    "# Run the cell. It will take some time to execute\n",
    "r = model.fit_generator(\n",
    "  training_set,\n",
    "  validation_data=test_set,\n",
    "  epochs=50,\n",
    "  steps_per_epoch=len(training_set),\n",
    "  validation_steps=len(test_set)\n",
    ")"
   ]
  },
  {
   "cell_type": "code",
   "execution_count": 19,
   "metadata": {},
   "outputs": [
    {
     "data": {
      "image/png": "[encoded data removed]",
      "text/plain": [
       "<Figure size 432x288 with 1 Axes>"
      ]
     },
     "metadata": {
      "needs_background": "light"
     },
     "output_type": "display_data"
    },
    {
     "data": {
      "image/png": "[encoded data removed]",
      "text/plain": [
       "<Figure size 432x288 with 1 Axes>"
      ]
     },
     "metadata": {
      "needs_background": "light"
     },
     "output_type": "display_data"
    },
    {
     "data": {
      "text/plain": [
       "<Figure size 432x288 with 0 Axes>"
      ]
     },
     "metadata": {},
     "output_type": "display_data"
    }
   ],
   "source": [
    "\n",
    "# plot the loss\n",
    "plt.plot(r.history['loss'], label='train loss')\n",
    "plt.plot(r.history['val_loss'], label='val loss')\n",
    "plt.legend()\n",
    "plt.show()\n",
    "plt.savefig('LossVal_loss')\n",
    "\n",
    "# plot the accuracy\n",
    "plt.plot(r.history['accuracy'], label='train acc')\n",
    "plt.plot(r.history['val_accuracy'], label='val acc')\n",
    "plt.legend()\n",
    "plt.show()\n",
    "plt.savefig('AccVal_acc')"
   ]
  },
  {
   "cell_type": "code",
   "execution_count": 20,
   "metadata": {},
   "outputs": [],
   "source": [
    "\n",
    "# save it as a h5 file\n",
    "\n",
    "\n",
    "from tensorflow.keras.models import load_model\n",
    "\n",
    "model.save('model_vgg19.h5')"
   ]
  },
  {
   "cell_type": "code",
   "execution_count": 21,
   "metadata": {},
   "outputs": [],
   "source": [
    "\n",
    "y_pred = model.predict(test_set)"
   ]
  },
  {
   "cell_type": "code",
   "execution_count": 22,
   "metadata": {},
   "outputs": [
    {
     "data": {
      "text/plain": [
       "array([[2.02557724e-02, 9.79744196e-01],\n",
       "       [9.99913216e-01, 8.67295821e-05],\n",
       "       [1.29488492e-02, 9.87051129e-01],\n",
       "       [9.99974012e-01, 2.60410870e-05],\n",
       "       [2.43490795e-03, 9.97565150e-01],\n",
       "       [6.13422573e-01, 3.86577398e-01],\n",
       "       [1.99543335e-03, 9.98004615e-01],\n",
       "       [8.57651699e-04, 9.99142289e-01],\n",
       "       [3.01548699e-03, 9.96984541e-01],\n",
       "       [4.29877788e-02, 9.57012177e-01],\n",
       "       [7.36778427e-04, 9.99263227e-01],\n",
       "       [9.99970794e-01, 2.91889137e-05],\n",
       "       [7.73644214e-03, 9.92263556e-01],\n",
       "       [9.44785297e-01, 5.52147068e-02],\n",
       "       [9.76000726e-01, 2.39992440e-02],\n",
       "       [1.00000000e+00, 4.88520058e-11],\n",
       "       [2.59137736e-03, 9.97408569e-01],\n",
       "       [1.00436127e-02, 9.89956379e-01],\n",
       "       [3.72753158e-04, 9.99627233e-01],\n",
       "       [9.99999285e-01, 6.98682641e-07],\n",
       "       [9.99869347e-01, 1.30677698e-04],\n",
       "       [3.25933039e-01, 6.74066961e-01],\n",
       "       [9.99999285e-01, 7.51762741e-07],\n",
       "       [4.39571701e-02, 9.56042886e-01],\n",
       "       [9.99927998e-01, 7.19470700e-05],\n",
       "       [8.44592694e-03, 9.91554081e-01],\n",
       "       [1.60711468e-03, 9.98392880e-01],\n",
       "       [9.99999881e-01, 1.16524056e-07],\n",
       "       [1.90720195e-03, 9.98092830e-01],\n",
       "       [9.99946833e-01, 5.32111007e-05],\n",
       "       [7.08191481e-04, 9.99291778e-01],\n",
       "       [4.43712994e-03, 9.95562911e-01],\n",
       "       [9.97331142e-01, 2.66886014e-03],\n",
       "       [7.84754986e-04, 9.99215245e-01],\n",
       "       [9.99960661e-01, 3.92779511e-05],\n",
       "       [1.00000000e+00, 3.39127560e-16],\n",
       "       [2.13505682e-02, 9.78649437e-01],\n",
       "       [1.01786654e-03, 9.98982131e-01],\n",
       "       [9.89408374e-01, 1.05916401e-02],\n",
       "       [9.99624848e-01, 3.75073287e-04],\n",
       "       [9.86988306e-01, 1.30116688e-02],\n",
       "       [9.97701585e-01, 2.29844544e-03],\n",
       "       [6.77898817e-04, 9.99322176e-01],\n",
       "       [9.99976754e-01, 2.32033362e-05],\n",
       "       [1.59764400e-04, 9.99840260e-01],\n",
       "       [4.55199828e-04, 9.99544799e-01],\n",
       "       [1.93660802e-04, 9.99806345e-01],\n",
       "       [2.60471628e-04, 9.99739468e-01],\n",
       "       [1.54875796e-02, 9.84512448e-01],\n",
       "       [9.86541390e-01, 1.34585397e-02],\n",
       "       [9.97775853e-01, 2.22411985e-03],\n",
       "       [6.76149316e-03, 9.93238449e-01],\n",
       "       [8.59052001e-04, 9.99140978e-01],\n",
       "       [4.49984707e-03, 9.95500147e-01],\n",
       "       [5.23526641e-03, 9.94764686e-01],\n",
       "       [9.98367250e-01, 1.63278589e-03],\n",
       "       [9.99268115e-01, 7.31845328e-04],\n",
       "       [9.99999404e-01, 5.54766245e-07],\n",
       "       [2.17362583e-04, 9.99782622e-01],\n",
       "       [9.01023450e-04, 9.99099016e-01],\n",
       "       [9.95921016e-01, 4.07892233e-03],\n",
       "       [3.10616172e-03, 9.96893764e-01],\n",
       "       [9.95757401e-01, 4.24257200e-03],\n",
       "       [4.36124027e-01, 5.63875973e-01],\n",
       "       [9.99999881e-01, 1.08940171e-07],\n",
       "       [1.00000000e+00, 6.10314466e-10],\n",
       "       [9.99427438e-01, 5.72617282e-04],\n",
       "       [9.96397734e-01, 3.60228657e-03],\n",
       "       [9.99947906e-01, 5.20629583e-05],\n",
       "       [9.99938250e-01, 6.17253681e-05],\n",
       "       [9.99902964e-01, 9.70622641e-05],\n",
       "       [9.99995828e-01, 4.14990973e-06],\n",
       "       [1.38327785e-04, 9.99861598e-01],\n",
       "       [2.17206836e-01, 7.82793164e-01],\n",
       "       [9.99971986e-01, 2.80646091e-05],\n",
       "       [9.99999881e-01, 1.35916125e-07],\n",
       "       [4.58032221e-01, 5.41967809e-01],\n",
       "       [9.07824317e-04, 9.99092221e-01],\n",
       "       [4.12788987e-02, 9.58721042e-01],\n",
       "       [9.99099255e-01, 9.00732412e-04],\n",
       "       [5.06502867e-04, 9.99493480e-01],\n",
       "       [1.77674158e-03, 9.98223245e-01],\n",
       "       [1.84961911e-02, 9.81503844e-01],\n",
       "       [2.08896329e-03, 9.97911036e-01],\n",
       "       [1.20643782e-03, 9.98793483e-01],\n",
       "       [9.99725401e-01, 2.74565391e-04],\n",
       "       [9.99950409e-01, 4.96377943e-05],\n",
       "       [8.79764673e-04, 9.99120295e-01],\n",
       "       [9.99774635e-01, 2.25412907e-04],\n",
       "       [9.98218000e-01, 1.78201904e-03],\n",
       "       [9.94446039e-01, 5.55389700e-03],\n",
       "       [9.98733103e-01, 1.26688532e-03],\n",
       "       [9.99969602e-01, 3.04022142e-05],\n",
       "       [9.99675274e-01, 3.24720546e-04],\n",
       "       [2.82407063e-03, 9.97175932e-01],\n",
       "       [9.99600828e-01, 3.99190089e-04],\n",
       "       [9.99913931e-01, 8.61192384e-05],\n",
       "       [9.99492526e-01, 5.07417659e-04],\n",
       "       [9.97986078e-01, 2.01385911e-03],\n",
       "       [9.98917103e-01, 1.08295260e-03],\n",
       "       [9.99863982e-01, 1.35975642e-04],\n",
       "       [9.94761527e-01, 5.23848133e-03],\n",
       "       [9.97358978e-01, 2.64097191e-03],\n",
       "       [9.99362171e-01, 6.37854740e-04],\n",
       "       [4.00188118e-01, 5.99811912e-01],\n",
       "       [9.99978065e-01, 2.19485901e-05],\n",
       "       [1.57765578e-03, 9.98422384e-01],\n",
       "       [3.24590504e-03, 9.96754110e-01],\n",
       "       [2.59531289e-02, 9.74046946e-01],\n",
       "       [2.89688003e-03, 9.97103155e-01],\n",
       "       [9.99515772e-01, 4.84191842e-04],\n",
       "       [9.24553536e-03, 9.90754485e-01],\n",
       "       [1.55895844e-01, 8.44104111e-01],\n",
       "       [9.62857068e-01, 3.71429138e-02],\n",
       "       [2.81900470e-03, 9.97181058e-01],\n",
       "       [1.00000000e+00, 2.34115810e-10],\n",
       "       [9.98594224e-01, 1.40573888e-03],\n",
       "       [9.96356010e-01, 3.64406151e-03],\n",
       "       [9.99858260e-01, 1.41686833e-04],\n",
       "       [9.99736249e-01, 2.63731927e-04],\n",
       "       [6.19267285e-01, 3.80732745e-01],\n",
       "       [4.44590725e-04, 9.99555409e-01],\n",
       "       [9.99992013e-01, 7.94972766e-06],\n",
       "       [9.99998927e-01, 1.03779826e-06],\n",
       "       [1.00000000e+00, 5.07627184e-14],\n",
       "       [4.79353650e-04, 9.99520659e-01],\n",
       "       [9.99995708e-01, 4.31168473e-06],\n",
       "       [1.00000000e+00, 5.37140211e-12],\n",
       "       [9.01754102e-05, 9.99909759e-01],\n",
       "       [9.99888301e-01, 1.11675545e-04],\n",
       "       [9.97631669e-01, 2.36827461e-03],\n",
       "       [9.99943972e-01, 5.60545996e-05],\n",
       "       [1.00000000e+00, 1.37886431e-08],\n",
       "       [9.97278631e-01, 2.72139558e-03]], dtype=float32)"
      ]
     },
     "execution_count": 22,
     "metadata": {},
     "output_type": "execute_result"
    }
   ],
   "source": [
    "\n",
    "y_pred"
   ]
  },
  {
   "cell_type": "code",
   "execution_count": 23,
   "metadata": {},
   "outputs": [],
   "source": [
    "\n",
    "import numpy as np\n",
    "y_pred = np.argmax(y_pred, axis=1)"
   ]
  },
  {
   "cell_type": "code",
   "execution_count": 24,
   "metadata": {},
   "outputs": [
    {
     "data": {
      "text/plain": [
       "array([1, 0, 1, 0, 1, 0, 1, 1, 1, 1, 1, 0, 1, 0, 0, 0, 1, 1, 1, 0, 0, 1,\n",
       "       0, 1, 0, 1, 1, 0, 1, 0, 1, 1, 0, 1, 0, 0, 1, 1, 0, 0, 0, 0, 1, 0,\n",
       "       1, 1, 1, 1, 1, 0, 0, 1, 1, 1, 1, 0, 0, 0, 1, 1, 0, 1, 0, 1, 0, 0,\n",
       "       0, 0, 0, 0, 0, 0, 1, 1, 0, 0, 1, 1, 1, 0, 1, 1, 1, 1, 1, 0, 0, 1,\n",
       "       0, 0, 0, 0, 0, 0, 1, 0, 0, 0, 0, 0, 0, 0, 0, 0, 1, 0, 1, 1, 1, 1,\n",
       "       0, 1, 1, 0, 1, 0, 0, 0, 0, 0, 0, 1, 0, 0, 0, 1, 0, 0, 1, 0, 0, 0,\n",
       "       0, 0], dtype=int64)"
      ]
     },
     "execution_count": 24,
     "metadata": {},
     "output_type": "execute_result"
    }
   ],
   "source": [
    "y_pred"
   ]
  },
  {
   "cell_type": "code",
   "execution_count": 38,
   "metadata": {},
   "outputs": [],
   "source": [
    "from tensorflow.keras.models import load_model\n",
    "from tensorflow.keras.preprocessing import image"
   ]
  },
  {
   "cell_type": "code",
   "execution_count": 39,
   "metadata": {},
   "outputs": [],
   "source": [
    "model=load_model('model_vgg19.h5')"
   ]
  },
  {
   "cell_type": "code",
   "execution_count": 58,
   "metadata": {},
   "outputs": [],
   "source": [
    "img=image.load_img('E:/Dataset/Test/Uninfected/3.png',target_size=(224,224))"
   ]
  },
  {
   "cell_type": "code",
   "execution_count": 59,
   "metadata": {},
   "outputs": [
    {
     "data": {
      "text/plain": [
       "array([[[0., 0., 0.],\n",
       "        [0., 0., 0.],\n",
       "        [0., 0., 0.],\n",
       "        ...,\n",
       "        [0., 0., 0.],\n",
       "        [0., 0., 0.],\n",
       "        [0., 0., 0.]],\n",
       "\n",
       "       [[0., 0., 0.],\n",
       "        [0., 0., 0.],\n",
       "        [0., 0., 0.],\n",
       "        ...,\n",
       "        [0., 0., 0.],\n",
       "        [0., 0., 0.],\n",
       "        [0., 0., 0.]],\n",
       "\n",
       "       [[0., 0., 0.],\n",
       "        [0., 0., 0.],\n",
       "        [0., 0., 0.],\n",
       "        ...,\n",
       "        [0., 0., 0.],\n",
       "        [0., 0., 0.],\n",
       "        [0., 0., 0.]],\n",
       "\n",
       "       ...,\n",
       "\n",
       "       [[0., 0., 0.],\n",
       "        [0., 0., 0.],\n",
       "        [0., 0., 0.],\n",
       "        ...,\n",
       "        [0., 0., 0.],\n",
       "        [0., 0., 0.],\n",
       "        [0., 0., 0.]],\n",
       "\n",
       "       [[0., 0., 0.],\n",
       "        [0., 0., 0.],\n",
       "        [0., 0., 0.],\n",
       "        ...,\n",
       "        [0., 0., 0.],\n",
       "        [0., 0., 0.],\n",
       "        [0., 0., 0.]],\n",
       "\n",
       "       [[0., 0., 0.],\n",
       "        [0., 0., 0.],\n",
       "        [0., 0., 0.],\n",
       "        ...,\n",
       "        [0., 0., 0.],\n",
       "        [0., 0., 0.],\n",
       "        [0., 0., 0.]]], dtype=float32)"
      ]
     },
     "execution_count": 59,
     "metadata": {},
     "output_type": "execute_result"
    }
   ],
   "source": [
    "\n",
    "x=image.img_to_array(img)\n",
    "x"
   ]
  },
  {
   "cell_type": "code",
   "execution_count": 60,
   "metadata": {},
   "outputs": [
    {
     "data": {
      "text/plain": [
       "(224, 224, 3)"
      ]
     },
     "execution_count": 60,
     "metadata": {},
     "output_type": "execute_result"
    }
   ],
   "source": [
    "\n",
    "x.shape"
   ]
  },
  {
   "cell_type": "code",
   "execution_count": 61,
   "metadata": {},
   "outputs": [],
   "source": [
    "\n",
    "x=x/255"
   ]
  },
  {
   "cell_type": "code",
   "execution_count": 62,
   "metadata": {},
   "outputs": [
    {
     "data": {
      "text/plain": [
       "(1, 224, 224, 3)"
      ]
     },
     "execution_count": 62,
     "metadata": {},
     "output_type": "execute_result"
    }
   ],
   "source": [
    "x=np.expand_dims(x,axis=0)\n",
    "img_data=preprocess_input(x)\n",
    "img_data.shape"
   ]
  },
  {
   "cell_type": "code",
   "execution_count": 63,
   "metadata": {},
   "outputs": [
    {
     "data": {
      "text/plain": [
       "array([[1., 0.]], dtype=float32)"
      ]
     },
     "execution_count": 63,
     "metadata": {},
     "output_type": "execute_result"
    }
   ],
   "source": [
    "\n",
    "model.predict(img_data)"
   ]
  },
  {
   "cell_type": "code",
   "execution_count": 67,
   "metadata": {},
   "outputs": [],
   "source": [
    "\n",
    "a=np.argmax(model.predict(img_data), axis=1)\n"
   ]
  },
  {
   "cell_type": "code",
   "execution_count": 68,
   "metadata": {},
   "outputs": [
    {
     "name": "stdout",
     "output_type": "stream",
     "text": [
      "Infected\n"
     ]
    }
   ],
   "source": [
    "if(a==1):\n",
    "    print(\"Uninfected\")\n",
    "else:\n",
    "    print(\"Infected\")"
   ]
  },
  {
   "cell_type": "code",
   "execution_count": null,
   "metadata": {},
   "outputs": [],
   "source": []
  },
  {
   "cell_type": "code",
   "execution_count": null,
   "metadata": {},
   "outputs": [],
   "source": []
  },
  {
   "cell_type": "code",
   "execution_count": null,
   "metadata": {},
   "outputs": [],
   "source": []
  }
 ],
 "metadata": {
  "kernelspec": {
   "display_name": "Python 3",
   "language": "python",
   "name": "python3"
  },
  "language_info": {
   "codemirror_mode": {
    "name": "ipython",
    "version": 3
   },
   "file_extension": ".py",
   "mimetype": "text/x-python",
   "name": "python",
   "nbconvert_exporter": "python",
   "pygments_lexer": "ipython3",
   "version": "3.6.5"
  }
 },
 "nbformat": 4,
 "nbformat_minor": 4
}
