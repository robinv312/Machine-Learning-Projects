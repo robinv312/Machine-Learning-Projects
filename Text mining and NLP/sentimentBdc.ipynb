{
 "cells": [
  {
   "cell_type": "code",
   "execution_count": 1,
   "metadata": {},
   "outputs": [],
   "source": [
    "import pandas as pd\n",
    "from sklearn.model_selection import train_test_split\n",
    "from sklearn.feature_extraction.text import CountVectorizer\n",
    "from sklearn.linear_model import LogisticRegression\n",
    "from sklearn import metrics\n",
    "from nltk.stem.snowball import SnowballStemmer\n",
    "from sklearn.metrics import confusion_matrix\n",
    "import nltk"
   ]
  },
  {
   "cell_type": "code",
   "execution_count": 3,
   "metadata": {},
   "outputs": [
    {
     "name": "stderr",
     "output_type": "stream",
     "text": [
      "[nltk_data] Downloading package stopwords to\n",
      "[nltk_data]     C:\\Users\\Robin\\AppData\\Roaming\\nltk_data...\n",
      "[nltk_data]   Package stopwords is already up-to-date!\n"
     ]
    }
   ],
   "source": [
    "from nltk.corpus import stopwords\n",
    "nltk.download('stopwords')\n",
    "stop = stopwords.words('english')"
   ]
  },
  {
   "cell_type": "code",
   "execution_count": 4,
   "metadata": {},
   "outputs": [],
   "source": [
    "from nltk.stem import PorterStemmer\n",
    "from nltk.tokenize import sent_tokenize, word_tokenize\n",
    "\n",
    "ps = PorterStemmer()"
   ]
  },
  {
   "cell_type": "code",
   "execution_count": 5,
   "metadata": {},
   "outputs": [
    {
     "data": {
      "text/html": [
       "<div>\n",
       "<style scoped>\n",
       "    .dataframe tbody tr th:only-of-type {\n",
       "        vertical-align: middle;\n",
       "    }\n",
       "\n",
       "    .dataframe tbody tr th {\n",
       "        vertical-align: top;\n",
       "    }\n",
       "\n",
       "    .dataframe thead th {\n",
       "        text-align: right;\n",
       "    }\n",
       "</style>\n",
       "<table border=\"1\" class=\"dataframe\">\n",
       "  <thead>\n",
       "    <tr style=\"text-align: right;\">\n",
       "      <th></th>\n",
       "      <th>business_id</th>\n",
       "      <th>date</th>\n",
       "      <th>review_id</th>\n",
       "      <th>stars</th>\n",
       "      <th>text</th>\n",
       "      <th>type</th>\n",
       "      <th>user_id</th>\n",
       "      <th>cool</th>\n",
       "      <th>useful</th>\n",
       "      <th>funny</th>\n",
       "    </tr>\n",
       "  </thead>\n",
       "  <tbody>\n",
       "    <tr>\n",
       "      <th>0</th>\n",
       "      <td>9yKzy9PApeiPPOUJEtnvkg</td>\n",
       "      <td>2011-01-26</td>\n",
       "      <td>fWKvX83p0-ka4JS3dc6E5A</td>\n",
       "      <td>5</td>\n",
       "      <td>My wife took me here on my birthday for breakf...</td>\n",
       "      <td>review</td>\n",
       "      <td>rLtl8ZkDX5vH5nAx9C3q5Q</td>\n",
       "      <td>2</td>\n",
       "      <td>5</td>\n",
       "      <td>0</td>\n",
       "    </tr>\n",
       "    <tr>\n",
       "      <th>1</th>\n",
       "      <td>ZRJwVLyzEJq1VAihDhYiow</td>\n",
       "      <td>2011-07-27</td>\n",
       "      <td>IjZ33sJrzXqU-0X6U8NwyA</td>\n",
       "      <td>5</td>\n",
       "      <td>I have no idea why some people give bad review...</td>\n",
       "      <td>review</td>\n",
       "      <td>0a2KyEL0d3Yb1V6aivbIuQ</td>\n",
       "      <td>0</td>\n",
       "      <td>0</td>\n",
       "      <td>0</td>\n",
       "    </tr>\n",
       "    <tr>\n",
       "      <th>2</th>\n",
       "      <td>6oRAC4uyJCsJl1X0WZpVSA</td>\n",
       "      <td>2012-06-14</td>\n",
       "      <td>IESLBzqUCLdSzSqm0eCSxQ</td>\n",
       "      <td>4</td>\n",
       "      <td>love the gyro plate. Rice is so good and I als...</td>\n",
       "      <td>review</td>\n",
       "      <td>0hT2KtfLiobPvh6cDC8JQg</td>\n",
       "      <td>0</td>\n",
       "      <td>1</td>\n",
       "      <td>0</td>\n",
       "    </tr>\n",
       "    <tr>\n",
       "      <th>3</th>\n",
       "      <td>_1QQZuf4zZOyFCvXc0o6Vg</td>\n",
       "      <td>2010-05-27</td>\n",
       "      <td>G-WvGaISbqqaMHlNnByodA</td>\n",
       "      <td>5</td>\n",
       "      <td>Rosie, Dakota, and I LOVE Chaparral Dog Park!!...</td>\n",
       "      <td>review</td>\n",
       "      <td>uZetl9T0NcROGOyFfughhg</td>\n",
       "      <td>1</td>\n",
       "      <td>2</td>\n",
       "      <td>0</td>\n",
       "    </tr>\n",
       "    <tr>\n",
       "      <th>4</th>\n",
       "      <td>6ozycU1RpktNG2-1BroVtw</td>\n",
       "      <td>2012-01-05</td>\n",
       "      <td>1uJFq2r5QfJG_6ExMRCaGw</td>\n",
       "      <td>5</td>\n",
       "      <td>General Manager Scott Petello is a good egg!!!...</td>\n",
       "      <td>review</td>\n",
       "      <td>vYmM4KTsC8ZfQBg-j5MWkw</td>\n",
       "      <td>0</td>\n",
       "      <td>0</td>\n",
       "      <td>0</td>\n",
       "    </tr>\n",
       "  </tbody>\n",
       "</table>\n",
       "</div>"
      ],
      "text/plain": [
       "              business_id        date               review_id  stars  \\\n",
       "0  9yKzy9PApeiPPOUJEtnvkg  2011-01-26  fWKvX83p0-ka4JS3dc6E5A      5   \n",
       "1  ZRJwVLyzEJq1VAihDhYiow  2011-07-27  IjZ33sJrzXqU-0X6U8NwyA      5   \n",
       "2  6oRAC4uyJCsJl1X0WZpVSA  2012-06-14  IESLBzqUCLdSzSqm0eCSxQ      4   \n",
       "3  _1QQZuf4zZOyFCvXc0o6Vg  2010-05-27  G-WvGaISbqqaMHlNnByodA      5   \n",
       "4  6ozycU1RpktNG2-1BroVtw  2012-01-05  1uJFq2r5QfJG_6ExMRCaGw      5   \n",
       "\n",
       "                                                text    type  \\\n",
       "0  My wife took me here on my birthday for breakf...  review   \n",
       "1  I have no idea why some people give bad review...  review   \n",
       "2  love the gyro plate. Rice is so good and I als...  review   \n",
       "3  Rosie, Dakota, and I LOVE Chaparral Dog Park!!...  review   \n",
       "4  General Manager Scott Petello is a good egg!!!...  review   \n",
       "\n",
       "                  user_id  cool  useful  funny  \n",
       "0  rLtl8ZkDX5vH5nAx9C3q5Q     2       5      0  \n",
       "1  0a2KyEL0d3Yb1V6aivbIuQ     0       0      0  \n",
       "2  0hT2KtfLiobPvh6cDC8JQg     0       1      0  \n",
       "3  uZetl9T0NcROGOyFfughhg     1       2      0  \n",
       "4  vYmM4KTsC8ZfQBg-j5MWkw     0       0      0  "
      ]
     },
     "execution_count": 5,
     "metadata": {},
     "output_type": "execute_result"
    }
   ],
   "source": [
    "yelp = pd.read_csv(r\"C:\\Users\\Robin\\Desktop\\Statistics\\yelp.csv\",encoding = \"ISO-8859-1\")\n",
    "\n",
    "yelp.head()"
   ]
  },
  {
   "cell_type": "code",
   "execution_count": 6,
   "metadata": {},
   "outputs": [
    {
     "data": {
      "text/html": [
       "<div>\n",
       "<style scoped>\n",
       "    .dataframe tbody tr th:only-of-type {\n",
       "        vertical-align: middle;\n",
       "    }\n",
       "\n",
       "    .dataframe tbody tr th {\n",
       "        vertical-align: top;\n",
       "    }\n",
       "\n",
       "    .dataframe thead th {\n",
       "        text-align: right;\n",
       "    }\n",
       "</style>\n",
       "<table border=\"1\" class=\"dataframe\">\n",
       "  <thead>\n",
       "    <tr style=\"text-align: right;\">\n",
       "      <th></th>\n",
       "      <th>business_id</th>\n",
       "      <th>date</th>\n",
       "      <th>review_id</th>\n",
       "      <th>stars</th>\n",
       "      <th>text</th>\n",
       "      <th>type</th>\n",
       "      <th>user_id</th>\n",
       "      <th>cool</th>\n",
       "      <th>useful</th>\n",
       "      <th>funny</th>\n",
       "    </tr>\n",
       "  </thead>\n",
       "  <tbody>\n",
       "    <tr>\n",
       "      <th>0</th>\n",
       "      <td>9yKzy9PApeiPPOUJEtnvkg</td>\n",
       "      <td>2011-01-26</td>\n",
       "      <td>fWKvX83p0-ka4JS3dc6E5A</td>\n",
       "      <td>5</td>\n",
       "      <td>My wife took me here on my birthday for breakf...</td>\n",
       "      <td>review</td>\n",
       "      <td>rLtl8ZkDX5vH5nAx9C3q5Q</td>\n",
       "      <td>2</td>\n",
       "      <td>5</td>\n",
       "      <td>0</td>\n",
       "    </tr>\n",
       "    <tr>\n",
       "      <th>1</th>\n",
       "      <td>ZRJwVLyzEJq1VAihDhYiow</td>\n",
       "      <td>2011-07-27</td>\n",
       "      <td>IjZ33sJrzXqU-0X6U8NwyA</td>\n",
       "      <td>5</td>\n",
       "      <td>I have no idea why some people give bad review...</td>\n",
       "      <td>review</td>\n",
       "      <td>0a2KyEL0d3Yb1V6aivbIuQ</td>\n",
       "      <td>0</td>\n",
       "      <td>0</td>\n",
       "      <td>0</td>\n",
       "    </tr>\n",
       "    <tr>\n",
       "      <th>3</th>\n",
       "      <td>_1QQZuf4zZOyFCvXc0o6Vg</td>\n",
       "      <td>2010-05-27</td>\n",
       "      <td>G-WvGaISbqqaMHlNnByodA</td>\n",
       "      <td>5</td>\n",
       "      <td>Rosie, Dakota, and I LOVE Chaparral Dog Park!!...</td>\n",
       "      <td>review</td>\n",
       "      <td>uZetl9T0NcROGOyFfughhg</td>\n",
       "      <td>1</td>\n",
       "      <td>2</td>\n",
       "      <td>0</td>\n",
       "    </tr>\n",
       "    <tr>\n",
       "      <th>4</th>\n",
       "      <td>6ozycU1RpktNG2-1BroVtw</td>\n",
       "      <td>2012-01-05</td>\n",
       "      <td>1uJFq2r5QfJG_6ExMRCaGw</td>\n",
       "      <td>5</td>\n",
       "      <td>General Manager Scott Petello is a good egg!!!...</td>\n",
       "      <td>review</td>\n",
       "      <td>vYmM4KTsC8ZfQBg-j5MWkw</td>\n",
       "      <td>0</td>\n",
       "      <td>0</td>\n",
       "      <td>0</td>\n",
       "    </tr>\n",
       "    <tr>\n",
       "      <th>6</th>\n",
       "      <td>zp713qNhx8d9KCJJnrw1xA</td>\n",
       "      <td>2010-02-12</td>\n",
       "      <td>riFQ3vxNpP4rWLk_CSri2A</td>\n",
       "      <td>5</td>\n",
       "      <td>Drop what you're doing and drive here. After I...</td>\n",
       "      <td>review</td>\n",
       "      <td>wFweIWhv2fREZV_dYkz_1g</td>\n",
       "      <td>7</td>\n",
       "      <td>7</td>\n",
       "      <td>4</td>\n",
       "    </tr>\n",
       "  </tbody>\n",
       "</table>\n",
       "</div>"
      ],
      "text/plain": [
       "              business_id        date               review_id  stars  \\\n",
       "0  9yKzy9PApeiPPOUJEtnvkg  2011-01-26  fWKvX83p0-ka4JS3dc6E5A      5   \n",
       "1  ZRJwVLyzEJq1VAihDhYiow  2011-07-27  IjZ33sJrzXqU-0X6U8NwyA      5   \n",
       "3  _1QQZuf4zZOyFCvXc0o6Vg  2010-05-27  G-WvGaISbqqaMHlNnByodA      5   \n",
       "4  6ozycU1RpktNG2-1BroVtw  2012-01-05  1uJFq2r5QfJG_6ExMRCaGw      5   \n",
       "6  zp713qNhx8d9KCJJnrw1xA  2010-02-12  riFQ3vxNpP4rWLk_CSri2A      5   \n",
       "\n",
       "                                                text    type  \\\n",
       "0  My wife took me here on my birthday for breakf...  review   \n",
       "1  I have no idea why some people give bad review...  review   \n",
       "3  Rosie, Dakota, and I LOVE Chaparral Dog Park!!...  review   \n",
       "4  General Manager Scott Petello is a good egg!!!...  review   \n",
       "6  Drop what you're doing and drive here. After I...  review   \n",
       "\n",
       "                  user_id  cool  useful  funny  \n",
       "0  rLtl8ZkDX5vH5nAx9C3q5Q     2       5      0  \n",
       "1  0a2KyEL0d3Yb1V6aivbIuQ     0       0      0  \n",
       "3  uZetl9T0NcROGOyFfughhg     1       2      0  \n",
       "4  vYmM4KTsC8ZfQBg-j5MWkw     0       0      0  \n",
       "6  wFweIWhv2fREZV_dYkz_1g     7       7      4  "
      ]
     },
     "execution_count": 6,
     "metadata": {},
     "output_type": "execute_result"
    }
   ],
   "source": [
    "yelp_best_worst = yelp[(yelp.stars==5) | (yelp.stars==1)]\n",
    "\n",
    "yelp_best_worst.head(5)"
   ]
  },
  {
   "cell_type": "code",
   "execution_count": 7,
   "metadata": {},
   "outputs": [
    {
     "name": "stdout",
     "output_type": "stream",
     "text": [
      "0       my wife took me here on my birthday for breakf...\n",
      "1       i have no idea why some people give bad review...\n",
      "3       rosie, dakota, and i love chaparral dog park!!...\n",
      "4       general manager scott petello is a good egg!!!...\n",
      "6       drop what you're doing and drive here. after i...\n",
      "9       nobuo shows his unique talents with everything...\n",
      "10      the oldish man who owns the store is as sweet ...\n",
      "11      wonderful vietnamese sandwich shoppe. their ba...\n",
      "12      they have a limited time thing going on right ...\n",
      "17      okay this is the best place ever! i grew up sh...\n",
      "21      this place shouldn't even be reviewed - becaus...\n",
      "22      first time my friend and i went there... it wa...\n",
      "23      u can go there n check the car out. if u wanna...\n",
      "24      i love this place! i have been coming here for...\n",
      "26      i love love love this place. my boss (who is i...\n",
      "30      disclaimer: like many of you, i am a sucker fo...\n",
      "31      disgusting!  had a groupon so my daughter and ...\n",
      "32      never having dealt with a discount tire in pho...\n",
      "35      i've eaten here many times, but none as bad as...\n",
      "46      (un)fortunately for me, lux is close to my hou...\n",
      "51      fred m. pretty much said what i would say, so ...\n",
      "54      alright, i have been away from yelp for quite ...\n",
      "59      this restaurant is incredible, and has the bes...\n",
      "61      i have always been a fan of burlington's deals...\n",
      "64      another night meeting friends here.  i have to...\n",
      "65      not busy at all but took nearly 45 min to get ...\n",
      "66      this an incredible church that embraces the pr...\n",
      "67      this is our favorite breakfast place. the food...\n",
      "69      i had looked at several invitation websites al...\n",
      "71      yikes, reading other reviews i realize my bad ...\n",
      "                              ...                        \n",
      "9941    i have a fond place in my heart for this estab...\n",
      "9942    cork is an enigma.\\n\\nwhat makes it enigmatic ...\n",
      "9943    went to yogurt kingdom for the first time toni...\n",
      "9945    i find it hilarious that someone would referen...\n",
      "9947                                      love five guys!\n",
      "9951    this is a great mexican food restaurant. i eat...\n",
      "9953    \"hipster,trendy\" ????-i think not !!!! very di...\n",
      "9956    \"so jimmy, tell the class what you saw at swee...\n",
      "9957    standard mexican fare - but quite delicious.  ...\n",
      "9959    my profile says....\\n\\nmy last meal on earth: ...\n",
      "9965    treats: we tried the cookies (chocolate chip a...\n",
      "9966    i first joined 24 hr fitness about a year ago,...\n",
      "9969    leah, the trainer, at dog house training acade...\n",
      "9970    this place is super cute lunch joint.  i had t...\n",
      "9971    the staff is great, the food is great, even th...\n",
      "9973    wow!  went on a sunday around 11am - busy but ...\n",
      "9975    when i lived in phoenix, i was a regular at fe...\n",
      "9977    why did i wait so long to try this neighborhoo...\n",
      "9978    this is the place for a fabulos breakfast!! i ...\n",
      "9979    highly recommend. this is my second time here ...\n",
      "9980    5 stars for the great $5 happy hour specials. ...\n",
      "9981    we brought the entire family to giuseppe's las...\n",
      "9984    went last night to whore foods to get basics t...\n",
      "9987    the food is delicious.  the service:  discrimi...\n",
      "9989    great food and service! country food at its best!\n",
      "9990    yes i do rock the hipster joints.  i dig this ...\n",
      "9991    only 4 stars? \\n\\n(a few notes: the folks that...\n",
      "9992    i'm not normally one to jump at reviewing a ch...\n",
      "9994    let's see...what is there not to like about su...\n",
      "9999    4-5 locations.. all 4.5 star average.. i think...\n",
      "Name: text, Length: 4086, dtype: object\n"
     ]
    }
   ],
   "source": [
    "X = yelp_best_worst.text\n",
    "X.apply(lambda x: [item for item in x if item not in stop])\n",
    "\n",
    "def stem1(text1):\n",
    "    return ps.stem(text1)\n",
    "\n",
    "X=X.apply(stem1)\n",
    "print(X)"
   ]
  },
  {
   "cell_type": "code",
   "execution_count": 8,
   "metadata": {},
   "outputs": [
    {
     "name": "stdout",
     "output_type": "stream",
     "text": [
      "0       5\n",
      "1       5\n",
      "3       5\n",
      "4       5\n",
      "6       5\n",
      "9       5\n",
      "10      5\n",
      "11      5\n",
      "12      5\n",
      "17      5\n",
      "21      5\n",
      "22      5\n",
      "23      1\n",
      "24      5\n",
      "26      5\n",
      "30      5\n",
      "31      1\n",
      "32      5\n",
      "35      1\n",
      "46      5\n",
      "51      5\n",
      "54      5\n",
      "59      5\n",
      "61      1\n",
      "64      1\n",
      "65      1\n",
      "66      5\n",
      "67      5\n",
      "69      5\n",
      "71      1\n",
      "       ..\n",
      "9941    5\n",
      "9942    5\n",
      "9943    5\n",
      "9945    5\n",
      "9947    5\n",
      "9951    5\n",
      "9953    1\n",
      "9956    5\n",
      "9957    5\n",
      "9959    5\n",
      "9965    5\n",
      "9966    5\n",
      "9969    5\n",
      "9970    5\n",
      "9971    5\n",
      "9973    5\n",
      "9975    5\n",
      "9977    5\n",
      "9978    5\n",
      "9979    5\n",
      "9980    5\n",
      "9981    5\n",
      "9984    1\n",
      "9987    1\n",
      "9989    5\n",
      "9990    5\n",
      "9991    5\n",
      "9992    5\n",
      "9994    5\n",
      "9999    5\n",
      "Name: stars, Length: 4086, dtype: int64\n"
     ]
    }
   ],
   "source": [
    "y = yelp_best_worst.stars\n",
    "print(y)"
   ]
  },
  {
   "cell_type": "code",
   "execution_count": 10,
   "metadata": {},
   "outputs": [],
   "source": [
    "X_train, X_test, y_train, y_test = train_test_split(X, y, random_state=1)"
   ]
  },
  {
   "cell_type": "code",
   "execution_count": 11,
   "metadata": {},
   "outputs": [
    {
     "data": {
      "text/plain": [
       "array([[1, 0, 1, 0, 0, 1],\n",
       "       [2, 1, 0, 1, 0, 0],\n",
       "       [1, 1, 0, 1, 0, 0],\n",
       "       [1, 1, 0, 1, 1, 0]], dtype=int64)"
      ]
     },
     "execution_count": 11,
     "metadata": {},
     "output_type": "execute_result"
    }
   ],
   "source": [
    "cveg = CountVectorizer()\n",
    "\n",
    "x_example = cveg.fit_transform([\"how are you\", \"We are are fine\", \"are we fine\", \"yes we are fine\"])\n",
    "x_example.toarray()"
   ]
  },
  {
   "cell_type": "code",
   "execution_count": 12,
   "metadata": {},
   "outputs": [
    {
     "data": {
      "text/plain": [
       "['are', 'fine', 'how', 'we', 'yes', 'you']"
      ]
     },
     "execution_count": 12,
     "metadata": {},
     "output_type": "execute_result"
    }
   ],
   "source": [
    "cveg.get_feature_names()"
   ]
  },
  {
   "cell_type": "code",
   "execution_count": 13,
   "metadata": {},
   "outputs": [],
   "source": [
    "# use CountVectorizer to create document-term matrices from X_train and X_test\n",
    "vect = CountVectorizer()\n",
    "X_train_dtm = vect.fit_transform(X_train)\n",
    "X_test_dtm = vect.transform(X_test)"
   ]
  },
  {
   "cell_type": "code",
   "execution_count": 14,
   "metadata": {},
   "outputs": [],
   "source": [
    "X_train, X_test, y_train, y_test = train_test_split(X, y, test_size=0.3, random_state=1)"
   ]
  },
  {
   "cell_type": "code",
   "execution_count": 15,
   "metadata": {},
   "outputs": [],
   "source": [
    "# use CountVectorizer with text column only\n",
    "vect = CountVectorizer()\n",
    "X_train_dtm = vect.fit_transform(X_train)\n",
    "X_test_dtm = vect.transform(X_test)"
   ]
  },
  {
   "cell_type": "code",
   "execution_count": 22,
   "metadata": {},
   "outputs": [
    {
     "name": "stdout",
     "output_type": "stream",
     "text": [
      "[[0 0 0 ... 0 0 0]\n",
      " [0 0 0 ... 0 0 0]\n",
      " [0 0 0 ... 0 0 0]\n",
      " ...\n",
      " [0 0 0 ... 0 0 0]\n",
      " [0 0 0 ... 0 0 0]\n",
      " [0 0 0 ... 0 0 0]]\n"
     ]
    }
   ],
   "source": [
    "print(X_train_dtm.toarray())"
   ]
  },
  {
   "cell_type": "code",
   "execution_count": 17,
   "metadata": {},
   "outputs": [
    {
     "name": "stdout",
     "output_type": "stream",
     "text": [
      "  (0, 329)\t1\n",
      "  (0, 716)\t2\n",
      "  (0, 761)\t2\n",
      "  (0, 768)\t6\n",
      "  (0, 799)\t1\n",
      "  (0, 1023)\t1\n",
      "  (0, 1216)\t1\n",
      "  (0, 1587)\t4\n",
      "  (0, 1928)\t2\n",
      "  (0, 2215)\t1\n",
      "  (0, 2747)\t1\n",
      "  (0, 2852)\t1\n",
      "  (0, 3829)\t1\n",
      "  (0, 4076)\t1\n",
      "  (0, 4174)\t1\n",
      "  (0, 4468)\t1\n",
      "  (0, 4596)\t1\n",
      "  (0, 4810)\t1\n",
      "  (0, 5156)\t1\n",
      "  (0, 5829)\t1\n",
      "  (0, 6321)\t1\n",
      "  (0, 6770)\t1\n",
      "  (0, 6811)\t3\n",
      "  (0, 6831)\t1\n",
      "  (0, 6993)\t3\n",
      "  :\t:\n",
      "  (1225, 10114)\t2\n",
      "  (1225, 10174)\t1\n",
      "  (1225, 12068)\t2\n",
      "  (1225, 12146)\t1\n",
      "  (1225, 12322)\t1\n",
      "  (1225, 12399)\t1\n",
      "  (1225, 13028)\t1\n",
      "  (1225, 13332)\t1\n",
      "  (1225, 13395)\t1\n",
      "  (1225, 13604)\t1\n",
      "  (1225, 13827)\t1\n",
      "  (1225, 14511)\t1\n",
      "  (1225, 14622)\t2\n",
      "  (1225, 14646)\t1\n",
      "  (1225, 14686)\t1\n",
      "  (1225, 14779)\t2\n",
      "  (1225, 15366)\t1\n",
      "  (1225, 15708)\t1\n",
      "  (1225, 15830)\t3\n",
      "  (1225, 15900)\t1\n",
      "  (1225, 15946)\t1\n",
      "  (1225, 15970)\t2\n",
      "  (1225, 15991)\t1\n",
      "  (1225, 16045)\t1\n",
      "  (1225, 16121)\t1\n"
     ]
    }
   ],
   "source": [
    "print(X_test_dtm)"
   ]
  },
  {
   "cell_type": "code",
   "execution_count": 18,
   "metadata": {},
   "outputs": [
    {
     "name": "stdout",
     "output_type": "stream",
     "text": [
      "0.9216965742251223\n"
     ]
    }
   ],
   "source": [
    "# create a model use logistic regression with text column only\n",
    "logreg = LogisticRegression(C=1e9)\n",
    "logreg.fit(X_train_dtm, y_train)\n",
    "#Do the prediction\n",
    "y_pred_class = logreg.predict(X_test_dtm)\n",
    "#check the model accuracy\n",
    "print(metrics.accuracy_score(y_test, y_pred_class))"
   ]
  },
  {
   "cell_type": "code",
   "execution_count": 19,
   "metadata": {},
   "outputs": [
    {
     "data": {
      "text/plain": [
       "array([[176,  47],\n",
       "       [ 49, 954]], dtype=int64)"
      ]
     },
     "execution_count": 19,
     "metadata": {},
     "output_type": "execute_result"
    }
   ],
   "source": [
    "confusion_matrix(y_test, y_pred_class)"
   ]
  },
  {
   "cell_type": "code",
   "execution_count": 20,
   "metadata": {},
   "outputs": [
    {
     "name": "stdout",
     "output_type": "stream",
     "text": [
      "[[176  47]\n",
      " [ 49 954]]\n",
      "\n",
      "\n",
      "              precision    recall  f1-score   support\n",
      "\n",
      "           1       0.78      0.79      0.79       223\n",
      "           5       0.95      0.95      0.95      1003\n",
      "\n",
      "    accuracy                           0.92      1226\n",
      "   macro avg       0.87      0.87      0.87      1226\n",
      "weighted avg       0.92      0.92      0.92      1226\n",
      "\n"
     ]
    }
   ],
   "source": [
    "from sklearn.metrics import confusion_matrix, classification_report\n",
    "print(confusion_matrix(y_test, y_pred_class))\n",
    "print('\\n')\n",
    "print(classification_report(y_test, y_pred_class))"
   ]
  },
  {
   "cell_type": "code",
   "execution_count": null,
   "metadata": {},
   "outputs": [],
   "source": []
  }
 ],
 "metadata": {
  "kernelspec": {
   "display_name": "Python 3",
   "language": "python",
   "name": "python3"
  },
  "language_info": {
   "codemirror_mode": {
    "name": "ipython",
    "version": 3
   },
   "file_extension": ".py",
   "mimetype": "text/x-python",
   "name": "python",
   "nbconvert_exporter": "python",
   "pygments_lexer": "ipython3",
   "version": "3.7.2"
  }
 },
 "nbformat": 4,
 "nbformat_minor": 2
}
